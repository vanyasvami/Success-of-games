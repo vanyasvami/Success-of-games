{
 "cells": [
  {
   "cell_type": "markdown",
   "metadata": {},
   "source": [
    "<div  style=\"border-radius: 10px; box-shadow: 2px 2px 2px; border: 1px solid; padding: 10px \">\n",
    "\n",
    "**Иван, привет!**\n",
    "\n",
    "Меня зовут Василий Митров и я буду проверять твой проект. Предлагаю общаться на «ты». Если это неприемлемо, то дай мне знать и мы перейдем на «вы». Моя основная цель — не указать на совершенные тобою ошибки, а поделиться своим опытом и помочь тебе стать аналитиком данных.\n",
    "\n",
    "Для удобства я оставлю комментарии в отдельных ячейках Markdown с заголовком «Комментарий ревьюера». Пожалуйста, не перемещай, не изменяй и не удаляй их - так наше общение будет более продуктивным. Я буду использовать цветовую разметку:\n",
    "\n",
    "<div class=\"alert alert-danger\" style=\"border-radius: 10px; box-shadow: 2px 2px 2px; border: 1px solid; padding: 10px \">\n",
    "<b>Комментарий ревьюера</b> \n",
    "    \n",
    "✍ Так выделены самые важные замечания. Без их отработки проект не будет принят. При проверке я обращаю внимание не только на код, но и на интерпретацию и анализ результатов, а также соответствие данных техническому заданию.\n",
    "</div>\n",
    "\n",
    "<div class=\"alert alert-warning\" style=\"border-radius: 10px; box-shadow: 2px 2px 2px; border: 1px solid; padding: 10px \">\n",
    "<b>Комментарий ревьюера</b> \n",
    "    \n",
    "📝 Так выделены небольшие замечания или рекомендации. Постарайся, пожалуйста, учесть эти комментарии в этом проекте или в будущих проектах.\n",
    "</div>\n",
    "\n",
    "<div class=\"alert alert-success\" style=\"border-radius: 10px; box-shadow: 2px 2px 2px; border: 1px solid; padding: 10px \">\n",
    "<b>Комментарий ревьюера</b> \n",
    "    \n",
    "👍 Так выделены все остальные комментарии, включая рекомендации, позитивные моменты или какие-то рассуждения и пояснения.\n",
    "</div>\n",
    "\n",
    "Давай работать над проектом в диалоге: если ты что-то меняешь в проекте или отвечаешь на мои комментарии — пиши об этом. Мне будет легче отследить изменения, если ты выделишь свои комментарии:\n",
    "\n",
    "<div class=\"alert alert-info\" style=\"border-radius: 10px; box-shadow: 2px 2px 2px; border: 1px solid; padding: 10px \"> \n",
    "<b>Комментарий студента</b> \n",
    "    \n",
    "Например, вот так. Также, если есть какие-то вопросы, или что-то осталось непонятным по ревью - спрашивай в таких блоках и я постараюсь дать ответ.\n",
    "</div>\n",
    "\n",
    "---"
   ]
  },
  {
   "cell_type": "markdown",
   "metadata": {},
   "source": [
    "# Исследование игрового рынка\n",
    "\n",
    "Вы работаете в интернет-магазине «Стримчик», который продаёт по всему миру компьютерные игры. Из открытых источников доступны исторические данные о продажах игр, оценки пользователей и экспертов, жанры и платформы (например, Xbox или PlayStation). Вам нужно выявить определяющие успешность игры закономерности. Это позволит сделать ставку на потенциально популярный продукт и спланировать рекламные кампании.\n",
    "Перед вами данные до 2016 года. Представим, что сейчас декабрь 2016 г., и вы планируете кампанию на 2017-й. Нужно отработать принцип работы с данными. Неважно, прогнозируете ли вы продажи на 2017 год по данным 2016-го или же 2027-й — по данным 2026 года."
   ]
  },
  {
   "cell_type": "markdown",
   "metadata": {},
   "source": [
    "**Цель исследования** — выявление закономерностей успешности игр для планирования эффективной рекламной кампании.\n",
    "\n",
    "**Ход исследования**  \n",
    "Исследование пройдёт в пять этапов:\n",
    " 1. Обзор данных.\n",
    " 2. Предобработка данных.\n",
    " 3. Исследовательский анализ данных.\n",
    " 4. Составление портрета пользователя каждого региона.\n",
    " 5. Проверка гипотез.\n"
   ]
  },
  {
   "cell_type": "markdown",
   "metadata": {},
   "source": [
    "<div class=\"alert alert-success\" style=\"border-radius: 10px; box-shadow: 2px 2px 2px; border: 1px solid; padding: 10px \">\n",
    "<b>Комментарий ревьюера v.1</b> \n",
    "    \n",
    "👍 \n",
    "Правильно делаешь, что не убираешь описание задачи. Это поможет быстро вспомнить, о чем проект, если ты к нему вернешься спустя какое-то время.\n",
    "\n",
    "Данный блок можно расширить при помощи плана работы и описания данных. Посмотреть подробнее про вступительный блок можно в разделе \"Полезные инструкции в учебе\" блока \"Оформление проекта\".\n",
    "    \n",
    "Также советую тебе посмотреть на <a href=\"https://www.kaggle.com/notebooks/\">работы</a> профессиональных аналитиков, чтобы оценить, как более опытные коллеги оформляют и проводят исследования.   \n",
    "</div>"
   ]
  },
  {
   "cell_type": "code",
   "execution_count": 1,
   "metadata": {},
   "outputs": [],
   "source": [
    "import pandas as pd\n",
    "import matplotlib.pyplot as plt\n",
    "import numpy as np\n",
    "from scipy import stats as st"
   ]
  },
  {
   "cell_type": "markdown",
   "metadata": {},
   "source": [
    "<div class=\"alert alert-success\" style=\"border-radius: 10px; box-shadow: 2px 2px 2px; border: 1px solid; padding: 10px \">\n",
    "<b>Комментарий ревьюера v.1</b> \n",
    "    \n",
    "👍 \n",
    "Правильно, что весь импорт ты проводишь в первой ячейке работы. Так твой коллега, запускающий работу, будет в курсе используемых в ней библиотек и сможет при необходимости быстро настроить окружение.\n",
    "</div>"
   ]
  },
  {
   "cell_type": "markdown",
   "metadata": {},
   "source": [
    "# Обзор данных"
   ]
  },
  {
   "cell_type": "code",
   "execution_count": 2,
   "metadata": {},
   "outputs": [],
   "source": [
    "data = pd.read_csv('/datasets/games.csv')"
   ]
  },
  {
   "cell_type": "code",
   "execution_count": 3,
   "metadata": {},
   "outputs": [
    {
     "data": {
      "text/html": [
       "<div>\n",
       "<style scoped>\n",
       "    .dataframe tbody tr th:only-of-type {\n",
       "        vertical-align: middle;\n",
       "    }\n",
       "\n",
       "    .dataframe tbody tr th {\n",
       "        vertical-align: top;\n",
       "    }\n",
       "\n",
       "    .dataframe thead th {\n",
       "        text-align: right;\n",
       "    }\n",
       "</style>\n",
       "<table border=\"1\" class=\"dataframe\">\n",
       "  <thead>\n",
       "    <tr style=\"text-align: right;\">\n",
       "      <th></th>\n",
       "      <th>Name</th>\n",
       "      <th>Platform</th>\n",
       "      <th>Year_of_Release</th>\n",
       "      <th>Genre</th>\n",
       "      <th>NA_sales</th>\n",
       "      <th>EU_sales</th>\n",
       "      <th>JP_sales</th>\n",
       "      <th>Other_sales</th>\n",
       "      <th>Critic_Score</th>\n",
       "      <th>User_Score</th>\n",
       "      <th>Rating</th>\n",
       "    </tr>\n",
       "  </thead>\n",
       "  <tbody>\n",
       "    <tr>\n",
       "      <th>0</th>\n",
       "      <td>Wii Sports</td>\n",
       "      <td>Wii</td>\n",
       "      <td>2006.0</td>\n",
       "      <td>Sports</td>\n",
       "      <td>41.36</td>\n",
       "      <td>28.96</td>\n",
       "      <td>3.77</td>\n",
       "      <td>8.45</td>\n",
       "      <td>76.0</td>\n",
       "      <td>8</td>\n",
       "      <td>E</td>\n",
       "    </tr>\n",
       "    <tr>\n",
       "      <th>1</th>\n",
       "      <td>Super Mario Bros.</td>\n",
       "      <td>NES</td>\n",
       "      <td>1985.0</td>\n",
       "      <td>Platform</td>\n",
       "      <td>29.08</td>\n",
       "      <td>3.58</td>\n",
       "      <td>6.81</td>\n",
       "      <td>0.77</td>\n",
       "      <td>NaN</td>\n",
       "      <td>NaN</td>\n",
       "      <td>NaN</td>\n",
       "    </tr>\n",
       "    <tr>\n",
       "      <th>2</th>\n",
       "      <td>Mario Kart Wii</td>\n",
       "      <td>Wii</td>\n",
       "      <td>2008.0</td>\n",
       "      <td>Racing</td>\n",
       "      <td>15.68</td>\n",
       "      <td>12.76</td>\n",
       "      <td>3.79</td>\n",
       "      <td>3.29</td>\n",
       "      <td>82.0</td>\n",
       "      <td>8.3</td>\n",
       "      <td>E</td>\n",
       "    </tr>\n",
       "    <tr>\n",
       "      <th>3</th>\n",
       "      <td>Wii Sports Resort</td>\n",
       "      <td>Wii</td>\n",
       "      <td>2009.0</td>\n",
       "      <td>Sports</td>\n",
       "      <td>15.61</td>\n",
       "      <td>10.93</td>\n",
       "      <td>3.28</td>\n",
       "      <td>2.95</td>\n",
       "      <td>80.0</td>\n",
       "      <td>8</td>\n",
       "      <td>E</td>\n",
       "    </tr>\n",
       "    <tr>\n",
       "      <th>4</th>\n",
       "      <td>Pokemon Red/Pokemon Blue</td>\n",
       "      <td>GB</td>\n",
       "      <td>1996.0</td>\n",
       "      <td>Role-Playing</td>\n",
       "      <td>11.27</td>\n",
       "      <td>8.89</td>\n",
       "      <td>10.22</td>\n",
       "      <td>1.00</td>\n",
       "      <td>NaN</td>\n",
       "      <td>NaN</td>\n",
       "      <td>NaN</td>\n",
       "    </tr>\n",
       "    <tr>\n",
       "      <th>5</th>\n",
       "      <td>Tetris</td>\n",
       "      <td>GB</td>\n",
       "      <td>1989.0</td>\n",
       "      <td>Puzzle</td>\n",
       "      <td>23.20</td>\n",
       "      <td>2.26</td>\n",
       "      <td>4.22</td>\n",
       "      <td>0.58</td>\n",
       "      <td>NaN</td>\n",
       "      <td>NaN</td>\n",
       "      <td>NaN</td>\n",
       "    </tr>\n",
       "    <tr>\n",
       "      <th>6</th>\n",
       "      <td>New Super Mario Bros.</td>\n",
       "      <td>DS</td>\n",
       "      <td>2006.0</td>\n",
       "      <td>Platform</td>\n",
       "      <td>11.28</td>\n",
       "      <td>9.14</td>\n",
       "      <td>6.50</td>\n",
       "      <td>2.88</td>\n",
       "      <td>89.0</td>\n",
       "      <td>8.5</td>\n",
       "      <td>E</td>\n",
       "    </tr>\n",
       "    <tr>\n",
       "      <th>7</th>\n",
       "      <td>Wii Play</td>\n",
       "      <td>Wii</td>\n",
       "      <td>2006.0</td>\n",
       "      <td>Misc</td>\n",
       "      <td>13.96</td>\n",
       "      <td>9.18</td>\n",
       "      <td>2.93</td>\n",
       "      <td>2.84</td>\n",
       "      <td>58.0</td>\n",
       "      <td>6.6</td>\n",
       "      <td>E</td>\n",
       "    </tr>\n",
       "    <tr>\n",
       "      <th>8</th>\n",
       "      <td>New Super Mario Bros. Wii</td>\n",
       "      <td>Wii</td>\n",
       "      <td>2009.0</td>\n",
       "      <td>Platform</td>\n",
       "      <td>14.44</td>\n",
       "      <td>6.94</td>\n",
       "      <td>4.70</td>\n",
       "      <td>2.24</td>\n",
       "      <td>87.0</td>\n",
       "      <td>8.4</td>\n",
       "      <td>E</td>\n",
       "    </tr>\n",
       "    <tr>\n",
       "      <th>9</th>\n",
       "      <td>Duck Hunt</td>\n",
       "      <td>NES</td>\n",
       "      <td>1984.0</td>\n",
       "      <td>Shooter</td>\n",
       "      <td>26.93</td>\n",
       "      <td>0.63</td>\n",
       "      <td>0.28</td>\n",
       "      <td>0.47</td>\n",
       "      <td>NaN</td>\n",
       "      <td>NaN</td>\n",
       "      <td>NaN</td>\n",
       "    </tr>\n",
       "  </tbody>\n",
       "</table>\n",
       "</div>"
      ],
      "text/plain": [
       "                        Name Platform  Year_of_Release         Genre  \\\n",
       "0                 Wii Sports      Wii           2006.0        Sports   \n",
       "1          Super Mario Bros.      NES           1985.0      Platform   \n",
       "2             Mario Kart Wii      Wii           2008.0        Racing   \n",
       "3          Wii Sports Resort      Wii           2009.0        Sports   \n",
       "4   Pokemon Red/Pokemon Blue       GB           1996.0  Role-Playing   \n",
       "5                     Tetris       GB           1989.0        Puzzle   \n",
       "6      New Super Mario Bros.       DS           2006.0      Platform   \n",
       "7                   Wii Play      Wii           2006.0          Misc   \n",
       "8  New Super Mario Bros. Wii      Wii           2009.0      Platform   \n",
       "9                  Duck Hunt      NES           1984.0       Shooter   \n",
       "\n",
       "   NA_sales  EU_sales  JP_sales  Other_sales  Critic_Score User_Score Rating  \n",
       "0     41.36     28.96      3.77         8.45          76.0          8      E  \n",
       "1     29.08      3.58      6.81         0.77           NaN        NaN    NaN  \n",
       "2     15.68     12.76      3.79         3.29          82.0        8.3      E  \n",
       "3     15.61     10.93      3.28         2.95          80.0          8      E  \n",
       "4     11.27      8.89     10.22         1.00           NaN        NaN    NaN  \n",
       "5     23.20      2.26      4.22         0.58           NaN        NaN    NaN  \n",
       "6     11.28      9.14      6.50         2.88          89.0        8.5      E  \n",
       "7     13.96      9.18      2.93         2.84          58.0        6.6      E  \n",
       "8     14.44      6.94      4.70         2.24          87.0        8.4      E  \n",
       "9     26.93      0.63      0.28         0.47           NaN        NaN    NaN  "
      ]
     },
     "execution_count": 3,
     "metadata": {},
     "output_type": "execute_result"
    }
   ],
   "source": [
    "data.head(10)"
   ]
  },
  {
   "cell_type": "code",
   "execution_count": 4,
   "metadata": {},
   "outputs": [
    {
     "data": {
      "text/html": [
       "<div>\n",
       "<style scoped>\n",
       "    .dataframe tbody tr th:only-of-type {\n",
       "        vertical-align: middle;\n",
       "    }\n",
       "\n",
       "    .dataframe tbody tr th {\n",
       "        vertical-align: top;\n",
       "    }\n",
       "\n",
       "    .dataframe thead th {\n",
       "        text-align: right;\n",
       "    }\n",
       "</style>\n",
       "<table border=\"1\" class=\"dataframe\">\n",
       "  <thead>\n",
       "    <tr style=\"text-align: right;\">\n",
       "      <th></th>\n",
       "      <th>Name</th>\n",
       "      <th>Platform</th>\n",
       "      <th>Year_of_Release</th>\n",
       "      <th>Genre</th>\n",
       "      <th>NA_sales</th>\n",
       "      <th>EU_sales</th>\n",
       "      <th>JP_sales</th>\n",
       "      <th>Other_sales</th>\n",
       "      <th>Critic_Score</th>\n",
       "      <th>User_Score</th>\n",
       "      <th>Rating</th>\n",
       "    </tr>\n",
       "  </thead>\n",
       "  <tbody>\n",
       "    <tr>\n",
       "      <th>16705</th>\n",
       "      <td>15 Days</td>\n",
       "      <td>PC</td>\n",
       "      <td>2009.0</td>\n",
       "      <td>Adventure</td>\n",
       "      <td>0.00</td>\n",
       "      <td>0.01</td>\n",
       "      <td>0.00</td>\n",
       "      <td>0.0</td>\n",
       "      <td>63.0</td>\n",
       "      <td>5.8</td>\n",
       "      <td>NaN</td>\n",
       "    </tr>\n",
       "    <tr>\n",
       "      <th>16706</th>\n",
       "      <td>Men in Black II: Alien Escape</td>\n",
       "      <td>GC</td>\n",
       "      <td>2003.0</td>\n",
       "      <td>Shooter</td>\n",
       "      <td>0.01</td>\n",
       "      <td>0.00</td>\n",
       "      <td>0.00</td>\n",
       "      <td>0.0</td>\n",
       "      <td>NaN</td>\n",
       "      <td>tbd</td>\n",
       "      <td>T</td>\n",
       "    </tr>\n",
       "    <tr>\n",
       "      <th>16707</th>\n",
       "      <td>Aiyoku no Eustia</td>\n",
       "      <td>PSV</td>\n",
       "      <td>2014.0</td>\n",
       "      <td>Misc</td>\n",
       "      <td>0.00</td>\n",
       "      <td>0.00</td>\n",
       "      <td>0.01</td>\n",
       "      <td>0.0</td>\n",
       "      <td>NaN</td>\n",
       "      <td>NaN</td>\n",
       "      <td>NaN</td>\n",
       "    </tr>\n",
       "    <tr>\n",
       "      <th>16708</th>\n",
       "      <td>Woody Woodpecker in Crazy Castle 5</td>\n",
       "      <td>GBA</td>\n",
       "      <td>2002.0</td>\n",
       "      <td>Platform</td>\n",
       "      <td>0.01</td>\n",
       "      <td>0.00</td>\n",
       "      <td>0.00</td>\n",
       "      <td>0.0</td>\n",
       "      <td>NaN</td>\n",
       "      <td>NaN</td>\n",
       "      <td>NaN</td>\n",
       "    </tr>\n",
       "    <tr>\n",
       "      <th>16709</th>\n",
       "      <td>SCORE International Baja 1000: The Official Game</td>\n",
       "      <td>PS2</td>\n",
       "      <td>2008.0</td>\n",
       "      <td>Racing</td>\n",
       "      <td>0.00</td>\n",
       "      <td>0.00</td>\n",
       "      <td>0.00</td>\n",
       "      <td>0.0</td>\n",
       "      <td>NaN</td>\n",
       "      <td>NaN</td>\n",
       "      <td>NaN</td>\n",
       "    </tr>\n",
       "    <tr>\n",
       "      <th>16710</th>\n",
       "      <td>Samurai Warriors: Sanada Maru</td>\n",
       "      <td>PS3</td>\n",
       "      <td>2016.0</td>\n",
       "      <td>Action</td>\n",
       "      <td>0.00</td>\n",
       "      <td>0.00</td>\n",
       "      <td>0.01</td>\n",
       "      <td>0.0</td>\n",
       "      <td>NaN</td>\n",
       "      <td>NaN</td>\n",
       "      <td>NaN</td>\n",
       "    </tr>\n",
       "    <tr>\n",
       "      <th>16711</th>\n",
       "      <td>LMA Manager 2007</td>\n",
       "      <td>X360</td>\n",
       "      <td>2006.0</td>\n",
       "      <td>Sports</td>\n",
       "      <td>0.00</td>\n",
       "      <td>0.01</td>\n",
       "      <td>0.00</td>\n",
       "      <td>0.0</td>\n",
       "      <td>NaN</td>\n",
       "      <td>NaN</td>\n",
       "      <td>NaN</td>\n",
       "    </tr>\n",
       "    <tr>\n",
       "      <th>16712</th>\n",
       "      <td>Haitaka no Psychedelica</td>\n",
       "      <td>PSV</td>\n",
       "      <td>2016.0</td>\n",
       "      <td>Adventure</td>\n",
       "      <td>0.00</td>\n",
       "      <td>0.00</td>\n",
       "      <td>0.01</td>\n",
       "      <td>0.0</td>\n",
       "      <td>NaN</td>\n",
       "      <td>NaN</td>\n",
       "      <td>NaN</td>\n",
       "    </tr>\n",
       "    <tr>\n",
       "      <th>16713</th>\n",
       "      <td>Spirits &amp; Spells</td>\n",
       "      <td>GBA</td>\n",
       "      <td>2003.0</td>\n",
       "      <td>Platform</td>\n",
       "      <td>0.01</td>\n",
       "      <td>0.00</td>\n",
       "      <td>0.00</td>\n",
       "      <td>0.0</td>\n",
       "      <td>NaN</td>\n",
       "      <td>NaN</td>\n",
       "      <td>NaN</td>\n",
       "    </tr>\n",
       "    <tr>\n",
       "      <th>16714</th>\n",
       "      <td>Winning Post 8 2016</td>\n",
       "      <td>PSV</td>\n",
       "      <td>2016.0</td>\n",
       "      <td>Simulation</td>\n",
       "      <td>0.00</td>\n",
       "      <td>0.00</td>\n",
       "      <td>0.01</td>\n",
       "      <td>0.0</td>\n",
       "      <td>NaN</td>\n",
       "      <td>NaN</td>\n",
       "      <td>NaN</td>\n",
       "    </tr>\n",
       "  </tbody>\n",
       "</table>\n",
       "</div>"
      ],
      "text/plain": [
       "                                                   Name Platform  \\\n",
       "16705                                           15 Days       PC   \n",
       "16706                     Men in Black II: Alien Escape       GC   \n",
       "16707                                  Aiyoku no Eustia      PSV   \n",
       "16708                Woody Woodpecker in Crazy Castle 5      GBA   \n",
       "16709  SCORE International Baja 1000: The Official Game      PS2   \n",
       "16710                     Samurai Warriors: Sanada Maru      PS3   \n",
       "16711                                  LMA Manager 2007     X360   \n",
       "16712                           Haitaka no Psychedelica      PSV   \n",
       "16713                                  Spirits & Spells      GBA   \n",
       "16714                               Winning Post 8 2016      PSV   \n",
       "\n",
       "       Year_of_Release       Genre  NA_sales  EU_sales  JP_sales  Other_sales  \\\n",
       "16705           2009.0   Adventure      0.00      0.01      0.00          0.0   \n",
       "16706           2003.0     Shooter      0.01      0.00      0.00          0.0   \n",
       "16707           2014.0        Misc      0.00      0.00      0.01          0.0   \n",
       "16708           2002.0    Platform      0.01      0.00      0.00          0.0   \n",
       "16709           2008.0      Racing      0.00      0.00      0.00          0.0   \n",
       "16710           2016.0      Action      0.00      0.00      0.01          0.0   \n",
       "16711           2006.0      Sports      0.00      0.01      0.00          0.0   \n",
       "16712           2016.0   Adventure      0.00      0.00      0.01          0.0   \n",
       "16713           2003.0    Platform      0.01      0.00      0.00          0.0   \n",
       "16714           2016.0  Simulation      0.00      0.00      0.01          0.0   \n",
       "\n",
       "       Critic_Score User_Score Rating  \n",
       "16705          63.0        5.8    NaN  \n",
       "16706           NaN        tbd      T  \n",
       "16707           NaN        NaN    NaN  \n",
       "16708           NaN        NaN    NaN  \n",
       "16709           NaN        NaN    NaN  \n",
       "16710           NaN        NaN    NaN  \n",
       "16711           NaN        NaN    NaN  \n",
       "16712           NaN        NaN    NaN  \n",
       "16713           NaN        NaN    NaN  \n",
       "16714           NaN        NaN    NaN  "
      ]
     },
     "execution_count": 4,
     "metadata": {},
     "output_type": "execute_result"
    }
   ],
   "source": [
    "data.tail(10)"
   ]
  },
  {
   "cell_type": "code",
   "execution_count": 5,
   "metadata": {},
   "outputs": [
    {
     "name": "stdout",
     "output_type": "stream",
     "text": [
      "<class 'pandas.core.frame.DataFrame'>\n",
      "RangeIndex: 16715 entries, 0 to 16714\n",
      "Data columns (total 11 columns):\n",
      " #   Column           Non-Null Count  Dtype  \n",
      "---  ------           --------------  -----  \n",
      " 0   Name             16713 non-null  object \n",
      " 1   Platform         16715 non-null  object \n",
      " 2   Year_of_Release  16446 non-null  float64\n",
      " 3   Genre            16713 non-null  object \n",
      " 4   NA_sales         16715 non-null  float64\n",
      " 5   EU_sales         16715 non-null  float64\n",
      " 6   JP_sales         16715 non-null  float64\n",
      " 7   Other_sales      16715 non-null  float64\n",
      " 8   Critic_Score     8137 non-null   float64\n",
      " 9   User_Score       10014 non-null  object \n",
      " 10  Rating           9949 non-null   object \n",
      "dtypes: float64(6), object(5)\n",
      "memory usage: 1.4+ MB\n"
     ]
    }
   ],
   "source": [
    "data.info()"
   ]
  },
  {
   "cell_type": "markdown",
   "metadata": {},
   "source": [
    "Все названия столбцов необходимо привести к нижнему регистру.\n",
    "Изменение типов данных потребуется:  \n",
    "- Year_of_Release - на Int;\n",
    "- Critic_Score - на Int;  \n",
    "В некоторых столбцах наблюдаются строки с пропущенными значениями.  \n",
    "Решим данные проблемы на следующем этапе\n"
   ]
  },
  {
   "cell_type": "markdown",
   "metadata": {},
   "source": [
    "<div class=\"alert alert-success\" style=\"border-radius: 10px; box-shadow: 2px 2px 2px; border: 1px solid; padding: 10px \">\n",
    "<b>Комментарий ревьюера v.1</b> \n",
    "    \n",
    "👍 \n",
    "Хорошая вводная часть.\n",
    "\n",
    "Рекомендую создать универсальную функцию, которая будет принимать на вход датафрейм, а на выходе она будет выводить всего нужные характеристики, например, head, describe, info, дубликаты и т.п.\n",
    "</div>"
   ]
  },
  {
   "cell_type": "markdown",
   "metadata": {},
   "source": [
    "# Предобработка данных"
   ]
  },
  {
   "cell_type": "code",
   "execution_count": 6,
   "metadata": {},
   "outputs": [],
   "source": [
    "data.columns = data.columns.str.lower() #приводим названия столбцов к нижнему регистру"
   ]
  },
  {
   "cell_type": "code",
   "execution_count": 7,
   "metadata": {},
   "outputs": [
    {
     "name": "stdout",
     "output_type": "stream",
     "text": [
      "<class 'pandas.core.frame.DataFrame'>\n",
      "RangeIndex: 16715 entries, 0 to 16714\n",
      "Data columns (total 11 columns):\n",
      " #   Column           Non-Null Count  Dtype  \n",
      "---  ------           --------------  -----  \n",
      " 0   name             16713 non-null  object \n",
      " 1   platform         16715 non-null  object \n",
      " 2   year_of_release  16446 non-null  float64\n",
      " 3   genre            16713 non-null  object \n",
      " 4   na_sales         16715 non-null  float64\n",
      " 5   eu_sales         16715 non-null  float64\n",
      " 6   jp_sales         16715 non-null  float64\n",
      " 7   other_sales      16715 non-null  float64\n",
      " 8   critic_score     8137 non-null   float64\n",
      " 9   user_score       10014 non-null  object \n",
      " 10  rating           9949 non-null   object \n",
      "dtypes: float64(6), object(5)\n",
      "memory usage: 1.4+ MB\n"
     ]
    }
   ],
   "source": [
    "data.info()"
   ]
  },
  {
   "cell_type": "code",
   "execution_count": 8,
   "metadata": {},
   "outputs": [],
   "source": [
    "data['year_of_release'] = data['year_of_release'].astype('Int64')"
   ]
  },
  {
   "cell_type": "code",
   "execution_count": 9,
   "metadata": {},
   "outputs": [],
   "source": [
    "data['critic_score'] = data['critic_score'].astype('Int8')"
   ]
  },
  {
   "cell_type": "code",
   "execution_count": 10,
   "metadata": {},
   "outputs": [
    {
     "name": "stdout",
     "output_type": "stream",
     "text": [
      "<class 'pandas.core.frame.DataFrame'>\n",
      "RangeIndex: 16715 entries, 0 to 16714\n",
      "Data columns (total 11 columns):\n",
      " #   Column           Non-Null Count  Dtype  \n",
      "---  ------           --------------  -----  \n",
      " 0   name             16713 non-null  object \n",
      " 1   platform         16715 non-null  object \n",
      " 2   year_of_release  16446 non-null  Int64  \n",
      " 3   genre            16713 non-null  object \n",
      " 4   na_sales         16715 non-null  float64\n",
      " 5   eu_sales         16715 non-null  float64\n",
      " 6   jp_sales         16715 non-null  float64\n",
      " 7   other_sales      16715 non-null  float64\n",
      " 8   critic_score     8137 non-null   Int8   \n",
      " 9   user_score       10014 non-null  object \n",
      " 10  rating           9949 non-null   object \n",
      "dtypes: Int64(1), Int8(1), float64(4), object(5)\n",
      "memory usage: 1.3+ MB\n"
     ]
    }
   ],
   "source": [
    "data.info()"
   ]
  },
  {
   "cell_type": "code",
   "execution_count": 11,
   "metadata": {},
   "outputs": [
    {
     "data": {
      "text/html": [
       "<div>\n",
       "<style scoped>\n",
       "    .dataframe tbody tr th:only-of-type {\n",
       "        vertical-align: middle;\n",
       "    }\n",
       "\n",
       "    .dataframe tbody tr th {\n",
       "        vertical-align: top;\n",
       "    }\n",
       "\n",
       "    .dataframe thead th {\n",
       "        text-align: right;\n",
       "    }\n",
       "</style>\n",
       "<table border=\"1\" class=\"dataframe\">\n",
       "  <thead>\n",
       "    <tr style=\"text-align: right;\">\n",
       "      <th></th>\n",
       "      <th>name</th>\n",
       "      <th>platform</th>\n",
       "      <th>year_of_release</th>\n",
       "      <th>genre</th>\n",
       "      <th>na_sales</th>\n",
       "      <th>eu_sales</th>\n",
       "      <th>jp_sales</th>\n",
       "      <th>other_sales</th>\n",
       "      <th>critic_score</th>\n",
       "      <th>user_score</th>\n",
       "      <th>rating</th>\n",
       "    </tr>\n",
       "  </thead>\n",
       "  <tbody>\n",
       "    <tr>\n",
       "      <th>0</th>\n",
       "      <td>Wii Sports</td>\n",
       "      <td>Wii</td>\n",
       "      <td>2006</td>\n",
       "      <td>Sports</td>\n",
       "      <td>41.36</td>\n",
       "      <td>28.96</td>\n",
       "      <td>3.77</td>\n",
       "      <td>8.45</td>\n",
       "      <td>76</td>\n",
       "      <td>8</td>\n",
       "      <td>E</td>\n",
       "    </tr>\n",
       "    <tr>\n",
       "      <th>1</th>\n",
       "      <td>Super Mario Bros.</td>\n",
       "      <td>NES</td>\n",
       "      <td>1985</td>\n",
       "      <td>Platform</td>\n",
       "      <td>29.08</td>\n",
       "      <td>3.58</td>\n",
       "      <td>6.81</td>\n",
       "      <td>0.77</td>\n",
       "      <td>&lt;NA&gt;</td>\n",
       "      <td>NaN</td>\n",
       "      <td>NaN</td>\n",
       "    </tr>\n",
       "    <tr>\n",
       "      <th>2</th>\n",
       "      <td>Mario Kart Wii</td>\n",
       "      <td>Wii</td>\n",
       "      <td>2008</td>\n",
       "      <td>Racing</td>\n",
       "      <td>15.68</td>\n",
       "      <td>12.76</td>\n",
       "      <td>3.79</td>\n",
       "      <td>3.29</td>\n",
       "      <td>82</td>\n",
       "      <td>8.3</td>\n",
       "      <td>E</td>\n",
       "    </tr>\n",
       "    <tr>\n",
       "      <th>3</th>\n",
       "      <td>Wii Sports Resort</td>\n",
       "      <td>Wii</td>\n",
       "      <td>2009</td>\n",
       "      <td>Sports</td>\n",
       "      <td>15.61</td>\n",
       "      <td>10.93</td>\n",
       "      <td>3.28</td>\n",
       "      <td>2.95</td>\n",
       "      <td>80</td>\n",
       "      <td>8</td>\n",
       "      <td>E</td>\n",
       "    </tr>\n",
       "    <tr>\n",
       "      <th>4</th>\n",
       "      <td>Pokemon Red/Pokemon Blue</td>\n",
       "      <td>GB</td>\n",
       "      <td>1996</td>\n",
       "      <td>Role-Playing</td>\n",
       "      <td>11.27</td>\n",
       "      <td>8.89</td>\n",
       "      <td>10.22</td>\n",
       "      <td>1.00</td>\n",
       "      <td>&lt;NA&gt;</td>\n",
       "      <td>NaN</td>\n",
       "      <td>NaN</td>\n",
       "    </tr>\n",
       "  </tbody>\n",
       "</table>\n",
       "</div>"
      ],
      "text/plain": [
       "                       name platform  year_of_release         genre  na_sales  \\\n",
       "0                Wii Sports      Wii             2006        Sports     41.36   \n",
       "1         Super Mario Bros.      NES             1985      Platform     29.08   \n",
       "2            Mario Kart Wii      Wii             2008        Racing     15.68   \n",
       "3         Wii Sports Resort      Wii             2009        Sports     15.61   \n",
       "4  Pokemon Red/Pokemon Blue       GB             1996  Role-Playing     11.27   \n",
       "\n",
       "   eu_sales  jp_sales  other_sales  critic_score user_score rating  \n",
       "0     28.96      3.77         8.45            76          8      E  \n",
       "1      3.58      6.81         0.77          <NA>        NaN    NaN  \n",
       "2     12.76      3.79         3.29            82        8.3      E  \n",
       "3     10.93      3.28         2.95            80          8      E  \n",
       "4      8.89     10.22         1.00          <NA>        NaN    NaN  "
      ]
     },
     "execution_count": 11,
     "metadata": {},
     "output_type": "execute_result"
    }
   ],
   "source": [
    "data.head()"
   ]
  },
  {
   "cell_type": "markdown",
   "metadata": {},
   "source": [
    "Изменение типов данных:\n",
    "- year_of_release - на \"date\" c годом;\n",
    "- critic_score - на Int ( arrays.IntegerArray или Int);\n",
    "- user_score - на float\n",
    "Изменили типы данных для удобства работы с ними и экономии памяти компютера."
   ]
  },
  {
   "cell_type": "code",
   "execution_count": 12,
   "metadata": {},
   "outputs": [
    {
     "data": {
      "text/plain": [
       "name                  2\n",
       "platform              0\n",
       "year_of_release     269\n",
       "genre                 2\n",
       "na_sales              0\n",
       "eu_sales              0\n",
       "jp_sales              0\n",
       "other_sales           0\n",
       "critic_score       8578\n",
       "user_score         6701\n",
       "rating             6766\n",
       "dtype: int64"
      ]
     },
     "execution_count": 12,
     "metadata": {},
     "output_type": "execute_result"
    }
   ],
   "source": [
    "data.isna().sum()"
   ]
  },
  {
   "cell_type": "code",
   "execution_count": 13,
   "metadata": {},
   "outputs": [
    {
     "data": {
      "text/html": [
       "<style  type=\"text/css\" >\n",
       "#T_68fcc_row0_col0{\n",
       "            background-color:  #b40426;\n",
       "            color:  #f1f1f1;\n",
       "        }#T_68fcc_row1_col0{\n",
       "            background-color:  #ef886b;\n",
       "            color:  #000000;\n",
       "        }#T_68fcc_row2_col0{\n",
       "            background-color:  #f08b6e;\n",
       "            color:  #000000;\n",
       "        }#T_68fcc_row3_col0{\n",
       "            background-color:  #4358cb;\n",
       "            color:  #f1f1f1;\n",
       "        }#T_68fcc_row4_col0,#T_68fcc_row5_col0,#T_68fcc_row6_col0,#T_68fcc_row7_col0,#T_68fcc_row8_col0,#T_68fcc_row9_col0,#T_68fcc_row10_col0{\n",
       "            background-color:  #3b4cc0;\n",
       "            color:  #f1f1f1;\n",
       "        }</style><table id=\"T_68fcc_\" ><thead>    <tr>        <th class=\"blank level0\" ></th>        <th class=\"col_heading level0 col0\" >0</th>    </tr></thead><tbody>\n",
       "                <tr>\n",
       "                        <th id=\"T_68fcc_level0_row0\" class=\"row_heading level0 row0\" >critic_score</th>\n",
       "                        <td id=\"T_68fcc_row0_col0\" class=\"data row0 col0\" >51.300000</td>\n",
       "            </tr>\n",
       "            <tr>\n",
       "                        <th id=\"T_68fcc_level0_row1\" class=\"row_heading level0 row1\" >rating</th>\n",
       "                        <td id=\"T_68fcc_row1_col0\" class=\"data row1 col0\" >40.500000</td>\n",
       "            </tr>\n",
       "            <tr>\n",
       "                        <th id=\"T_68fcc_level0_row2\" class=\"row_heading level0 row2\" >user_score</th>\n",
       "                        <td id=\"T_68fcc_row2_col0\" class=\"data row2 col0\" >40.100000</td>\n",
       "            </tr>\n",
       "            <tr>\n",
       "                        <th id=\"T_68fcc_level0_row3\" class=\"row_heading level0 row3\" >year_of_release</th>\n",
       "                        <td id=\"T_68fcc_row3_col0\" class=\"data row3 col0\" >1.600000</td>\n",
       "            </tr>\n",
       "            <tr>\n",
       "                        <th id=\"T_68fcc_level0_row4\" class=\"row_heading level0 row4\" >name</th>\n",
       "                        <td id=\"T_68fcc_row4_col0\" class=\"data row4 col0\" >0.000000</td>\n",
       "            </tr>\n",
       "            <tr>\n",
       "                        <th id=\"T_68fcc_level0_row5\" class=\"row_heading level0 row5\" >genre</th>\n",
       "                        <td id=\"T_68fcc_row5_col0\" class=\"data row5 col0\" >0.000000</td>\n",
       "            </tr>\n",
       "            <tr>\n",
       "                        <th id=\"T_68fcc_level0_row6\" class=\"row_heading level0 row6\" >platform</th>\n",
       "                        <td id=\"T_68fcc_row6_col0\" class=\"data row6 col0\" >0.000000</td>\n",
       "            </tr>\n",
       "            <tr>\n",
       "                        <th id=\"T_68fcc_level0_row7\" class=\"row_heading level0 row7\" >na_sales</th>\n",
       "                        <td id=\"T_68fcc_row7_col0\" class=\"data row7 col0\" >0.000000</td>\n",
       "            </tr>\n",
       "            <tr>\n",
       "                        <th id=\"T_68fcc_level0_row8\" class=\"row_heading level0 row8\" >eu_sales</th>\n",
       "                        <td id=\"T_68fcc_row8_col0\" class=\"data row8 col0\" >0.000000</td>\n",
       "            </tr>\n",
       "            <tr>\n",
       "                        <th id=\"T_68fcc_level0_row9\" class=\"row_heading level0 row9\" >jp_sales</th>\n",
       "                        <td id=\"T_68fcc_row9_col0\" class=\"data row9 col0\" >0.000000</td>\n",
       "            </tr>\n",
       "            <tr>\n",
       "                        <th id=\"T_68fcc_level0_row10\" class=\"row_heading level0 row10\" >other_sales</th>\n",
       "                        <td id=\"T_68fcc_row10_col0\" class=\"data row10 col0\" >0.000000</td>\n",
       "            </tr>\n",
       "    </tbody></table>"
      ],
      "text/plain": [
       "<pandas.io.formats.style.Styler at 0x7fdd6c614130>"
      ]
     },
     "execution_count": 13,
     "metadata": {},
     "output_type": "execute_result"
    }
   ],
   "source": [
    "pd.DataFrame(round(data.isna().mean().sort_values(ascending=False)*100,1)).style.background_gradient('coolwarm')"
   ]
  },
  {
   "cell_type": "markdown",
   "metadata": {},
   "source": [
    "<div class=\"alert alert-success\" style=\"border-radius: 10px; box-shadow: 2px 2px 2px; border: 1px solid; padding: 10px \">\n",
    "<b>Комментарий ревьюера v.1</b> \n",
    "    \n",
    "👍 \n",
    "Верно, помимо абсолютных значений, также хорошо подсчитать и относительные - сразу становится ясно, какой процент данных у нас содержит ошибку.\n",
    "</div>"
   ]
  },
  {
   "cell_type": "markdown",
   "metadata": {},
   "source": [
    "- Наибольшая доля пропусков имеется у стобца 'critic_score' - следует заменить значения пропущенные значения на 0;\n",
    "- В столбце 'user_score' пропущенные значения поменяем на 0: значение 'tbd' (рейтинг не определен) поменяем на 'nan';\n",
    "- В столбце 'rating' пропущенные значения заменим на 'Unknown'.   \n",
    "- Пропущенные значения у столбцов 'name', 'year_of_release' и 'genre' проигнорируем.   \n",
    "В данных случаях причиной пропусков может являться банальное не внесение сведений в таблицу."
   ]
  },
  {
   "cell_type": "code",
   "execution_count": 14,
   "metadata": {},
   "outputs": [],
   "source": [
    "data['critic_score'] = data['critic_score'].fillna(0)"
   ]
  },
  {
   "cell_type": "code",
   "execution_count": 15,
   "metadata": {},
   "outputs": [],
   "source": [
    "data['user_score'] = data['user_score'].replace({'tbd': 'nan'})"
   ]
  },
  {
   "cell_type": "markdown",
   "metadata": {},
   "source": [
    "<div class=\"alert alert-success\" style=\"border-radius: 10px; box-shadow: 2px 2px 2px; border: 1px solid; padding: 10px \">\n",
    "<b>Комментарий ревьюера v.1</b> \n",
    "    \n",
    "👍 Верно, `tbd` означает `To Be Determined`, т.к. игра ещё не выпущена. Тут можно заменить заглушкой, а можно привести в nan\n",
    "</div>"
   ]
  },
  {
   "cell_type": "code",
   "execution_count": 16,
   "metadata": {},
   "outputs": [],
   "source": [
    "data['rating'] = data['rating'].fillna('Unknown')"
   ]
  },
  {
   "cell_type": "code",
   "execution_count": 17,
   "metadata": {},
   "outputs": [
    {
     "data": {
      "text/plain": [
       "array(['E', 'Unknown', 'M', 'T', 'E10+', 'K-A', 'AO', 'EC', 'RP'],\n",
       "      dtype=object)"
      ]
     },
     "execution_count": 17,
     "metadata": {},
     "output_type": "execute_result"
    }
   ],
   "source": [
    "data['rating'].unique()"
   ]
  },
  {
   "cell_type": "code",
   "execution_count": 18,
   "metadata": {},
   "outputs": [
    {
     "data": {
      "text/plain": [
       "array(['8', nan, '8.3', '8.5', '6.6', '8.4', '8.6', '7.7', '6.3', '7.4',\n",
       "       '8.2', '9', '7.9', '8.1', '8.7', '7.1', '3.4', '5.3', '4.8', '3.2',\n",
       "       '8.9', '6.4', '7.8', '7.5', '2.6', '7.2', '9.2', '7', '7.3', '4.3',\n",
       "       '7.6', '5.7', '5', '9.1', '6.5', 'nan', '8.8', '6.9', '9.4', '6.8',\n",
       "       '6.1', '6.7', '5.4', '4', '4.9', '4.5', '9.3', '6.2', '4.2', '6',\n",
       "       '3.7', '4.1', '5.8', '5.6', '5.5', '4.4', '4.6', '5.9', '3.9',\n",
       "       '3.1', '2.9', '5.2', '3.3', '4.7', '5.1', '3.5', '2.5', '1.9', '3',\n",
       "       '2.7', '2.2', '2', '9.5', '2.1', '3.6', '2.8', '1.8', '3.8', '0',\n",
       "       '1.6', '9.6', '2.4', '1.7', '1.1', '0.3', '1.5', '0.7', '1.2',\n",
       "       '2.3', '0.5', '1.3', '0.2', '0.6', '1.4', '0.9', '1', '9.7'],\n",
       "      dtype=object)"
      ]
     },
     "execution_count": 18,
     "metadata": {},
     "output_type": "execute_result"
    }
   ],
   "source": [
    "data ['user_score'].unique()"
   ]
  },
  {
   "cell_type": "code",
   "execution_count": 19,
   "metadata": {},
   "outputs": [],
   "source": [
    "data['user_score'] = data['user_score'].astype('float')"
   ]
  },
  {
   "cell_type": "code",
   "execution_count": 20,
   "metadata": {},
   "outputs": [],
   "source": [
    "data['user_score'] = data['user_score'].fillna(0)"
   ]
  },
  {
   "cell_type": "code",
   "execution_count": 21,
   "metadata": {},
   "outputs": [
    {
     "data": {
      "text/plain": [
       "array([8. , 0. , 8.3, 8.5, 6.6, 8.4, 8.6, 7.7, 6.3, 7.4, 8.2, 9. , 7.9,\n",
       "       8.1, 8.7, 7.1, 3.4, 5.3, 4.8, 3.2, 8.9, 6.4, 7.8, 7.5, 2.6, 7.2,\n",
       "       9.2, 7. , 7.3, 4.3, 7.6, 5.7, 5. , 9.1, 6.5, 8.8, 6.9, 9.4, 6.8,\n",
       "       6.1, 6.7, 5.4, 4. , 4.9, 4.5, 9.3, 6.2, 4.2, 6. , 3.7, 4.1, 5.8,\n",
       "       5.6, 5.5, 4.4, 4.6, 5.9, 3.9, 3.1, 2.9, 5.2, 3.3, 4.7, 5.1, 3.5,\n",
       "       2.5, 1.9, 3. , 2.7, 2.2, 2. , 9.5, 2.1, 3.6, 2.8, 1.8, 3.8, 1.6,\n",
       "       9.6, 2.4, 1.7, 1.1, 0.3, 1.5, 0.7, 1.2, 2.3, 0.5, 1.3, 0.2, 0.6,\n",
       "       1.4, 0.9, 1. , 9.7])"
      ]
     },
     "execution_count": 21,
     "metadata": {},
     "output_type": "execute_result"
    }
   ],
   "source": [
    "data ['user_score'].unique()"
   ]
  },
  {
   "cell_type": "code",
   "execution_count": 22,
   "metadata": {},
   "outputs": [],
   "source": [
    "data['total_sales'] = data['na_sales'] + data['eu_sales'] + data['jp_sales'] + data['other_sales']"
   ]
  },
  {
   "cell_type": "markdown",
   "metadata": {},
   "source": [
    "<div class=\"alert alert-success\" style=\"border-radius: 10px; box-shadow: 2px 2px 2px; border: 1px solid; padding: 10px \">\n",
    "<b>Комментарий ревьюера v.1</b> \n",
    "    \n",
    "👍 \n",
    "Отлично! Колонка с общими продажами создана. \n",
    "    \n",
    "Также, мы можем работать с набором столбцов:</font><br>\n",
    "`data = data[['na_sales','eu_sales','jp_sales', 'other_sales']].sum(axis = 1)`\n",
    "</div>"
   ]
  },
  {
   "cell_type": "code",
   "execution_count": 23,
   "metadata": {},
   "outputs": [
    {
     "data": {
      "text/html": [
       "<div>\n",
       "<style scoped>\n",
       "    .dataframe tbody tr th:only-of-type {\n",
       "        vertical-align: middle;\n",
       "    }\n",
       "\n",
       "    .dataframe tbody tr th {\n",
       "        vertical-align: top;\n",
       "    }\n",
       "\n",
       "    .dataframe thead th {\n",
       "        text-align: right;\n",
       "    }\n",
       "</style>\n",
       "<table border=\"1\" class=\"dataframe\">\n",
       "  <thead>\n",
       "    <tr style=\"text-align: right;\">\n",
       "      <th></th>\n",
       "      <th>name</th>\n",
       "      <th>platform</th>\n",
       "      <th>year_of_release</th>\n",
       "      <th>genre</th>\n",
       "      <th>na_sales</th>\n",
       "      <th>eu_sales</th>\n",
       "      <th>jp_sales</th>\n",
       "      <th>other_sales</th>\n",
       "      <th>critic_score</th>\n",
       "      <th>user_score</th>\n",
       "      <th>rating</th>\n",
       "      <th>total_sales</th>\n",
       "    </tr>\n",
       "  </thead>\n",
       "  <tbody>\n",
       "    <tr>\n",
       "      <th>0</th>\n",
       "      <td>Wii Sports</td>\n",
       "      <td>Wii</td>\n",
       "      <td>2006</td>\n",
       "      <td>Sports</td>\n",
       "      <td>41.36</td>\n",
       "      <td>28.96</td>\n",
       "      <td>3.77</td>\n",
       "      <td>8.45</td>\n",
       "      <td>76</td>\n",
       "      <td>8.0</td>\n",
       "      <td>E</td>\n",
       "      <td>82.54</td>\n",
       "    </tr>\n",
       "    <tr>\n",
       "      <th>1</th>\n",
       "      <td>Super Mario Bros.</td>\n",
       "      <td>NES</td>\n",
       "      <td>1985</td>\n",
       "      <td>Platform</td>\n",
       "      <td>29.08</td>\n",
       "      <td>3.58</td>\n",
       "      <td>6.81</td>\n",
       "      <td>0.77</td>\n",
       "      <td>0</td>\n",
       "      <td>0.0</td>\n",
       "      <td>Unknown</td>\n",
       "      <td>40.24</td>\n",
       "    </tr>\n",
       "    <tr>\n",
       "      <th>2</th>\n",
       "      <td>Mario Kart Wii</td>\n",
       "      <td>Wii</td>\n",
       "      <td>2008</td>\n",
       "      <td>Racing</td>\n",
       "      <td>15.68</td>\n",
       "      <td>12.76</td>\n",
       "      <td>3.79</td>\n",
       "      <td>3.29</td>\n",
       "      <td>82</td>\n",
       "      <td>8.3</td>\n",
       "      <td>E</td>\n",
       "      <td>35.52</td>\n",
       "    </tr>\n",
       "    <tr>\n",
       "      <th>3</th>\n",
       "      <td>Wii Sports Resort</td>\n",
       "      <td>Wii</td>\n",
       "      <td>2009</td>\n",
       "      <td>Sports</td>\n",
       "      <td>15.61</td>\n",
       "      <td>10.93</td>\n",
       "      <td>3.28</td>\n",
       "      <td>2.95</td>\n",
       "      <td>80</td>\n",
       "      <td>8.0</td>\n",
       "      <td>E</td>\n",
       "      <td>32.77</td>\n",
       "    </tr>\n",
       "    <tr>\n",
       "      <th>4</th>\n",
       "      <td>Pokemon Red/Pokemon Blue</td>\n",
       "      <td>GB</td>\n",
       "      <td>1996</td>\n",
       "      <td>Role-Playing</td>\n",
       "      <td>11.27</td>\n",
       "      <td>8.89</td>\n",
       "      <td>10.22</td>\n",
       "      <td>1.00</td>\n",
       "      <td>0</td>\n",
       "      <td>0.0</td>\n",
       "      <td>Unknown</td>\n",
       "      <td>31.38</td>\n",
       "    </tr>\n",
       "  </tbody>\n",
       "</table>\n",
       "</div>"
      ],
      "text/plain": [
       "                       name platform  year_of_release         genre  na_sales  \\\n",
       "0                Wii Sports      Wii             2006        Sports     41.36   \n",
       "1         Super Mario Bros.      NES             1985      Platform     29.08   \n",
       "2            Mario Kart Wii      Wii             2008        Racing     15.68   \n",
       "3         Wii Sports Resort      Wii             2009        Sports     15.61   \n",
       "4  Pokemon Red/Pokemon Blue       GB             1996  Role-Playing     11.27   \n",
       "\n",
       "   eu_sales  jp_sales  other_sales  critic_score  user_score   rating  \\\n",
       "0     28.96      3.77         8.45            76         8.0        E   \n",
       "1      3.58      6.81         0.77             0         0.0  Unknown   \n",
       "2     12.76      3.79         3.29            82         8.3        E   \n",
       "3     10.93      3.28         2.95            80         8.0        E   \n",
       "4      8.89     10.22         1.00             0         0.0  Unknown   \n",
       "\n",
       "   total_sales  \n",
       "0        82.54  \n",
       "1        40.24  \n",
       "2        35.52  \n",
       "3        32.77  \n",
       "4        31.38  "
      ]
     },
     "execution_count": 23,
     "metadata": {},
     "output_type": "execute_result"
    }
   ],
   "source": [
    "data.head()"
   ]
  },
  {
   "cell_type": "code",
   "execution_count": 24,
   "metadata": {},
   "outputs": [
    {
     "data": {
      "text/plain": [
       "0"
      ]
     },
     "execution_count": 24,
     "metadata": {},
     "output_type": "execute_result"
    }
   ],
   "source": [
    "data.duplicated().sum() #проверяем на количество явных дубликатов"
   ]
  },
  {
   "cell_type": "markdown",
   "metadata": {},
   "source": [
    "<div class=\"alert alert-success\" style=\"border-radius: 10px; box-shadow: 2px 2px 2px; border: 1px solid; padding: 10px \">\n",
    "<b>Комментарий ревьюера v.1</b> \n",
    "    \n",
    "👍 \n",
    "Молодец, что не забываешь про явные дубликаты.\n",
    "</div>"
   ]
  },
  {
   "cell_type": "markdown",
   "metadata": {},
   "source": [
    "<div class=\"alert alert-danger\" style=\"border-radius: 10px; box-shadow: 2px 2px 2px; border: 1px solid; padding: 10px \">\n",
    "<b>Комментарий ревьюера v.1</b> \n",
    "    \n",
    "✍ \n",
    "Но, также мы можем проверить наличие неявных дубликатов. Неявные дубликаты могут появиться в случаях, когда данные собирались из разных источников или в системе были какие-то сбои при логировании. Я пометил этот момент красным, для того, что бы мы попрактиковались в этом, также это пригодится в следующих проектах.\n",
    "    \n",
    "Сделать это можно так: мы уже привели названия столбцов к нижнему регистру, теперь проведем вот такую проверку `data[data[['name', 'platform','year_of_release']].duplicated(keep=False)]`\n",
    "    \n",
    "Попробуй, пожалуйста, реализовать и сделать заключение, есть ли неявные дубликаты и что мы можем с ними сделать :)\n",
    "</div>"
   ]
  },
  {
   "cell_type": "code",
   "execution_count": 25,
   "metadata": {},
   "outputs": [
    {
     "data": {
      "text/html": [
       "<div>\n",
       "<style scoped>\n",
       "    .dataframe tbody tr th:only-of-type {\n",
       "        vertical-align: middle;\n",
       "    }\n",
       "\n",
       "    .dataframe tbody tr th {\n",
       "        vertical-align: top;\n",
       "    }\n",
       "\n",
       "    .dataframe thead th {\n",
       "        text-align: right;\n",
       "    }\n",
       "</style>\n",
       "<table border=\"1\" class=\"dataframe\">\n",
       "  <thead>\n",
       "    <tr style=\"text-align: right;\">\n",
       "      <th></th>\n",
       "      <th>name</th>\n",
       "      <th>platform</th>\n",
       "      <th>year_of_release</th>\n",
       "      <th>genre</th>\n",
       "      <th>na_sales</th>\n",
       "      <th>eu_sales</th>\n",
       "      <th>jp_sales</th>\n",
       "      <th>other_sales</th>\n",
       "      <th>critic_score</th>\n",
       "      <th>user_score</th>\n",
       "      <th>rating</th>\n",
       "      <th>total_sales</th>\n",
       "    </tr>\n",
       "  </thead>\n",
       "  <tbody>\n",
       "    <tr>\n",
       "      <th>604</th>\n",
       "      <td>Madden NFL 13</td>\n",
       "      <td>PS3</td>\n",
       "      <td>2012</td>\n",
       "      <td>Sports</td>\n",
       "      <td>2.11</td>\n",
       "      <td>0.22</td>\n",
       "      <td>0.00</td>\n",
       "      <td>0.23</td>\n",
       "      <td>83</td>\n",
       "      <td>5.5</td>\n",
       "      <td>E</td>\n",
       "      <td>2.56</td>\n",
       "    </tr>\n",
       "    <tr>\n",
       "      <th>659</th>\n",
       "      <td>NaN</td>\n",
       "      <td>GEN</td>\n",
       "      <td>1993</td>\n",
       "      <td>NaN</td>\n",
       "      <td>1.78</td>\n",
       "      <td>0.53</td>\n",
       "      <td>0.00</td>\n",
       "      <td>0.08</td>\n",
       "      <td>0</td>\n",
       "      <td>0.0</td>\n",
       "      <td>Unknown</td>\n",
       "      <td>2.39</td>\n",
       "    </tr>\n",
       "    <tr>\n",
       "      <th>14244</th>\n",
       "      <td>NaN</td>\n",
       "      <td>GEN</td>\n",
       "      <td>1993</td>\n",
       "      <td>NaN</td>\n",
       "      <td>0.00</td>\n",
       "      <td>0.00</td>\n",
       "      <td>0.03</td>\n",
       "      <td>0.00</td>\n",
       "      <td>0</td>\n",
       "      <td>0.0</td>\n",
       "      <td>Unknown</td>\n",
       "      <td>0.03</td>\n",
       "    </tr>\n",
       "    <tr>\n",
       "      <th>16230</th>\n",
       "      <td>Madden NFL 13</td>\n",
       "      <td>PS3</td>\n",
       "      <td>2012</td>\n",
       "      <td>Sports</td>\n",
       "      <td>0.00</td>\n",
       "      <td>0.01</td>\n",
       "      <td>0.00</td>\n",
       "      <td>0.00</td>\n",
       "      <td>83</td>\n",
       "      <td>5.5</td>\n",
       "      <td>E</td>\n",
       "      <td>0.01</td>\n",
       "    </tr>\n",
       "  </tbody>\n",
       "</table>\n",
       "</div>"
      ],
      "text/plain": [
       "                name platform  year_of_release   genre  na_sales  eu_sales  \\\n",
       "604    Madden NFL 13      PS3             2012  Sports      2.11      0.22   \n",
       "659              NaN      GEN             1993     NaN      1.78      0.53   \n",
       "14244            NaN      GEN             1993     NaN      0.00      0.00   \n",
       "16230  Madden NFL 13      PS3             2012  Sports      0.00      0.01   \n",
       "\n",
       "       jp_sales  other_sales  critic_score  user_score   rating  total_sales  \n",
       "604        0.00         0.23            83         5.5        E         2.56  \n",
       "659        0.00         0.08             0         0.0  Unknown         2.39  \n",
       "14244      0.03         0.00             0         0.0  Unknown         0.03  \n",
       "16230      0.00         0.00            83         5.5        E         0.01  "
      ]
     },
     "execution_count": 25,
     "metadata": {},
     "output_type": "execute_result"
    }
   ],
   "source": [
    "data[data[['name', 'platform', 'year_of_release']].duplicated(keep=False)]"
   ]
  },
  {
   "cell_type": "markdown",
   "metadata": {},
   "source": [
    "Видим, что есть дублирующиеся значения в строках. При этом мы можем перенести недостающие данные из одной строки в другую, а саму строку удалить."
   ]
  },
  {
   "cell_type": "code",
   "execution_count": 26,
   "metadata": {},
   "outputs": [],
   "source": [
    "data.at[659, 'jp_sales'] = 0.03\n",
    "data.at[659, 'total_sales'] = 2.42\n",
    "data.at[604 , 'eu_sales'] = 0.23\n",
    "data.at[604, 'total_sales'] = 2.57"
   ]
  },
  {
   "cell_type": "code",
   "execution_count": 27,
   "metadata": {},
   "outputs": [],
   "source": [
    "data = data.drop_duplicates(subset=['name', 'platform', 'year_of_release'], keep=False).reset_index(drop=True)"
   ]
  },
  {
   "cell_type": "markdown",
   "metadata": {},
   "source": [
    "<div class=\"alert alert-success\" style=\"border-radius: 10px; box-shadow: 2px 2px 2px; border: 1px solid; padding: 10px \">\n",
    "<b>Комментарий ревьюера v.2</b> \n",
    "    \n",
    "👍 \n",
    "\n",
    "</div>"
   ]
  },
  {
   "cell_type": "markdown",
   "metadata": {},
   "source": [
    "В рамках предобработки данных:\n",
    "- изменили типы данных в некоторых столбцах для экономии памяти компьютера и удобства дальнейшей работы;\n",
    "- заменили пропущенные значения в тех столбцах, где это имело смысл;\n",
    "- добавили новый столбец с общей суммой продаж;\n",
    "- удалили неявные дубликаты;\n",
    "- привели названия столбцов к нижнему регистру."
   ]
  },
  {
   "cell_type": "markdown",
   "metadata": {},
   "source": [
    "<div class=\"alert alert-success\" style=\"border-radius: 10px; box-shadow: 2px 2px 2px; border: 1px solid; padding: 10px \">\n",
    "<b>Комментарий ревьюера v.1</b> \n",
    "    \n",
    "👍 \n",
    "Отлично! Приступим к исследовательскому анализу.\n",
    "</div>"
   ]
  },
  {
   "cell_type": "markdown",
   "metadata": {},
   "source": [
    "# Исследовательский анализ данных"
   ]
  },
  {
   "cell_type": "code",
   "execution_count": 28,
   "metadata": {},
   "outputs": [
    {
     "data": {
      "text/plain": [
       "36    1980\n",
       "34    1981\n",
       "26    1982\n",
       "37    1983\n",
       "6     1984\n",
       "1     1985\n",
       "29    1986\n",
       "35    1987\n",
       "14    1988\n",
       "5     1989\n",
       "13    1990\n",
       "33    1991\n",
       "22    1992\n",
       "24    1993\n",
       "25    1994\n",
       "32    1995\n",
       "4     1996\n",
       "23    1997\n",
       "18    1998\n",
       "8     1999\n",
       "30    2000\n",
       "16    2001\n",
       "15    2002\n",
       "28    2003\n",
       "12    2004\n",
       "7     2005\n",
       "0     2006\n",
       "9     2007\n",
       "2     2008\n",
       "3     2009\n",
       "10    2010\n",
       "17    2011\n",
       "20    2012\n",
       "11    2013\n",
       "21    2014\n",
       "19    2015\n",
       "27    2016\n",
       "31    <NA>\n",
       "dtype: Int64"
      ]
     },
     "execution_count": 28,
     "metadata": {},
     "output_type": "execute_result"
    }
   ],
   "source": [
    "sort = data['year_of_release'].unique()\n",
    "pd.Series(sort).sort_values()"
   ]
  },
  {
   "cell_type": "code",
   "execution_count": 29,
   "metadata": {},
   "outputs": [],
   "source": [
    "def categorize_year(i):\n",
    "    try:\n",
    "        if 1980 <= i <= 1988:\n",
    "            return 'до 1988 года'\n",
    "        elif 1989 <= i <= 1997:\n",
    "            return 'до 1997 года'\n",
    "        elif 1998 <= i <= 2006:\n",
    "            return 'до 2006 года'\n",
    "        elif 2007 <= i <= 2016:\n",
    "            return 'до 2016 года'\n",
    "    except:\n",
    "        pass"
   ]
  },
  {
   "cell_type": "code",
   "execution_count": 30,
   "metadata": {},
   "outputs": [],
   "source": [
    "data['year_category'] = data['year_of_release'].apply(categorize_year)"
   ]
  },
  {
   "cell_type": "code",
   "execution_count": 31,
   "metadata": {},
   "outputs": [
    {
     "data": {
      "text/html": [
       "<div>\n",
       "<style scoped>\n",
       "    .dataframe tbody tr th:only-of-type {\n",
       "        vertical-align: middle;\n",
       "    }\n",
       "\n",
       "    .dataframe tbody tr th {\n",
       "        vertical-align: top;\n",
       "    }\n",
       "\n",
       "    .dataframe thead th {\n",
       "        text-align: right;\n",
       "    }\n",
       "</style>\n",
       "<table border=\"1\" class=\"dataframe\">\n",
       "  <thead>\n",
       "    <tr style=\"text-align: right;\">\n",
       "      <th></th>\n",
       "      <th>name</th>\n",
       "      <th>platform</th>\n",
       "      <th>year_of_release</th>\n",
       "      <th>genre</th>\n",
       "      <th>na_sales</th>\n",
       "      <th>eu_sales</th>\n",
       "      <th>jp_sales</th>\n",
       "      <th>other_sales</th>\n",
       "      <th>critic_score</th>\n",
       "      <th>user_score</th>\n",
       "      <th>rating</th>\n",
       "      <th>total_sales</th>\n",
       "      <th>year_category</th>\n",
       "    </tr>\n",
       "  </thead>\n",
       "  <tbody>\n",
       "    <tr>\n",
       "      <th>0</th>\n",
       "      <td>Wii Sports</td>\n",
       "      <td>Wii</td>\n",
       "      <td>2006</td>\n",
       "      <td>Sports</td>\n",
       "      <td>41.36</td>\n",
       "      <td>28.96</td>\n",
       "      <td>3.77</td>\n",
       "      <td>8.45</td>\n",
       "      <td>76</td>\n",
       "      <td>8.0</td>\n",
       "      <td>E</td>\n",
       "      <td>82.54</td>\n",
       "      <td>до 2006 года</td>\n",
       "    </tr>\n",
       "    <tr>\n",
       "      <th>1</th>\n",
       "      <td>Super Mario Bros.</td>\n",
       "      <td>NES</td>\n",
       "      <td>1985</td>\n",
       "      <td>Platform</td>\n",
       "      <td>29.08</td>\n",
       "      <td>3.58</td>\n",
       "      <td>6.81</td>\n",
       "      <td>0.77</td>\n",
       "      <td>0</td>\n",
       "      <td>0.0</td>\n",
       "      <td>Unknown</td>\n",
       "      <td>40.24</td>\n",
       "      <td>до 1988 года</td>\n",
       "    </tr>\n",
       "    <tr>\n",
       "      <th>2</th>\n",
       "      <td>Mario Kart Wii</td>\n",
       "      <td>Wii</td>\n",
       "      <td>2008</td>\n",
       "      <td>Racing</td>\n",
       "      <td>15.68</td>\n",
       "      <td>12.76</td>\n",
       "      <td>3.79</td>\n",
       "      <td>3.29</td>\n",
       "      <td>82</td>\n",
       "      <td>8.3</td>\n",
       "      <td>E</td>\n",
       "      <td>35.52</td>\n",
       "      <td>до 2016 года</td>\n",
       "    </tr>\n",
       "    <tr>\n",
       "      <th>3</th>\n",
       "      <td>Wii Sports Resort</td>\n",
       "      <td>Wii</td>\n",
       "      <td>2009</td>\n",
       "      <td>Sports</td>\n",
       "      <td>15.61</td>\n",
       "      <td>10.93</td>\n",
       "      <td>3.28</td>\n",
       "      <td>2.95</td>\n",
       "      <td>80</td>\n",
       "      <td>8.0</td>\n",
       "      <td>E</td>\n",
       "      <td>32.77</td>\n",
       "      <td>до 2016 года</td>\n",
       "    </tr>\n",
       "    <tr>\n",
       "      <th>4</th>\n",
       "      <td>Pokemon Red/Pokemon Blue</td>\n",
       "      <td>GB</td>\n",
       "      <td>1996</td>\n",
       "      <td>Role-Playing</td>\n",
       "      <td>11.27</td>\n",
       "      <td>8.89</td>\n",
       "      <td>10.22</td>\n",
       "      <td>1.00</td>\n",
       "      <td>0</td>\n",
       "      <td>0.0</td>\n",
       "      <td>Unknown</td>\n",
       "      <td>31.38</td>\n",
       "      <td>до 1997 года</td>\n",
       "    </tr>\n",
       "  </tbody>\n",
       "</table>\n",
       "</div>"
      ],
      "text/plain": [
       "                       name platform  year_of_release         genre  na_sales  \\\n",
       "0                Wii Sports      Wii             2006        Sports     41.36   \n",
       "1         Super Mario Bros.      NES             1985      Platform     29.08   \n",
       "2            Mario Kart Wii      Wii             2008        Racing     15.68   \n",
       "3         Wii Sports Resort      Wii             2009        Sports     15.61   \n",
       "4  Pokemon Red/Pokemon Blue       GB             1996  Role-Playing     11.27   \n",
       "\n",
       "   eu_sales  jp_sales  other_sales  critic_score  user_score   rating  \\\n",
       "0     28.96      3.77         8.45            76         8.0        E   \n",
       "1      3.58      6.81         0.77             0         0.0  Unknown   \n",
       "2     12.76      3.79         3.29            82         8.3        E   \n",
       "3     10.93      3.28         2.95            80         8.0        E   \n",
       "4      8.89     10.22         1.00             0         0.0  Unknown   \n",
       "\n",
       "   total_sales year_category  \n",
       "0        82.54  до 2006 года  \n",
       "1        40.24  до 1988 года  \n",
       "2        35.52  до 2016 года  \n",
       "3        32.77  до 2016 года  \n",
       "4        31.38  до 1997 года  "
      ]
     },
     "execution_count": 31,
     "metadata": {},
     "output_type": "execute_result"
    }
   ],
   "source": [
    "data.head()"
   ]
  },
  {
   "cell_type": "code",
   "execution_count": 32,
   "metadata": {},
   "outputs": [
    {
     "data": {
      "text/plain": [
       "<AxesSubplot:title={'center':'Количество игр по годам'}, xlabel='Период', ylabel='Количество игр'>"
      ]
     },
     "execution_count": 32,
     "metadata": {},
     "output_type": "execute_result"
    },
    {
     "data": {
      "image/png": "[encoded data removed]",
      "text/plain": [
       "<Figure size 432x288 with 1 Axes>"
      ]
     },
     "metadata": {
      "needs_background": "light"
     },
     "output_type": "display_data"
    }
   ],
   "source": [
    "data.groupby(by='year_category')['year_category'].count().plot(\n",
    "    kind='bar', title = 'Количество игр по годам', ylabel = 'Количество игр', xlabel = 'Период')"
   ]
  },
  {
   "cell_type": "markdown",
   "metadata": {},
   "source": [
    "Очевидно, что данные за период до 1988 года не важны для анализа.\n",
    "С 2007 года количество игр значительно возросло. Данный период с 2007 по 2016 гг. и будет считаться наиболее значимым для анализа."
   ]
  },
  {
   "cell_type": "code",
   "execution_count": 33,
   "metadata": {},
   "outputs": [
    {
     "data": {
      "text/html": [
       "<div>\n",
       "<style scoped>\n",
       "    .dataframe tbody tr th:only-of-type {\n",
       "        vertical-align: middle;\n",
       "    }\n",
       "\n",
       "    .dataframe tbody tr th {\n",
       "        vertical-align: top;\n",
       "    }\n",
       "\n",
       "    .dataframe thead th {\n",
       "        text-align: right;\n",
       "    }\n",
       "</style>\n",
       "<table border=\"1\" class=\"dataframe\">\n",
       "  <thead>\n",
       "    <tr style=\"text-align: right;\">\n",
       "      <th></th>\n",
       "      <th>total_sales</th>\n",
       "    </tr>\n",
       "    <tr>\n",
       "      <th>platform</th>\n",
       "      <th></th>\n",
       "    </tr>\n",
       "  </thead>\n",
       "  <tbody>\n",
       "    <tr>\n",
       "      <th>PS2</th>\n",
       "      <td>1255.77</td>\n",
       "    </tr>\n",
       "    <tr>\n",
       "      <th>X360</th>\n",
       "      <td>971.42</td>\n",
       "    </tr>\n",
       "    <tr>\n",
       "      <th>PS3</th>\n",
       "      <td>937.08</td>\n",
       "    </tr>\n",
       "    <tr>\n",
       "      <th>Wii</th>\n",
       "      <td>907.51</td>\n",
       "    </tr>\n",
       "    <tr>\n",
       "      <th>DS</th>\n",
       "      <td>806.12</td>\n",
       "    </tr>\n",
       "    <tr>\n",
       "      <th>PS</th>\n",
       "      <td>730.86</td>\n",
       "    </tr>\n",
       "    <tr>\n",
       "      <th>GBA</th>\n",
       "      <td>317.85</td>\n",
       "    </tr>\n",
       "    <tr>\n",
       "      <th>PS4</th>\n",
       "      <td>314.14</td>\n",
       "    </tr>\n",
       "    <tr>\n",
       "      <th>PSP</th>\n",
       "      <td>294.05</td>\n",
       "    </tr>\n",
       "    <tr>\n",
       "      <th>PC</th>\n",
       "      <td>259.52</td>\n",
       "    </tr>\n",
       "    <tr>\n",
       "      <th>3DS</th>\n",
       "      <td>259.00</td>\n",
       "    </tr>\n",
       "    <tr>\n",
       "      <th>XB</th>\n",
       "      <td>257.74</td>\n",
       "    </tr>\n",
       "    <tr>\n",
       "      <th>GB</th>\n",
       "      <td>255.46</td>\n",
       "    </tr>\n",
       "    <tr>\n",
       "      <th>NES</th>\n",
       "      <td>251.05</td>\n",
       "    </tr>\n",
       "    <tr>\n",
       "      <th>N64</th>\n",
       "      <td>218.68</td>\n",
       "    </tr>\n",
       "    <tr>\n",
       "      <th>SNES</th>\n",
       "      <td>200.04</td>\n",
       "    </tr>\n",
       "    <tr>\n",
       "      <th>GC</th>\n",
       "      <td>198.93</td>\n",
       "    </tr>\n",
       "    <tr>\n",
       "      <th>XOne</th>\n",
       "      <td>159.32</td>\n",
       "    </tr>\n",
       "    <tr>\n",
       "      <th>2600</th>\n",
       "      <td>96.98</td>\n",
       "    </tr>\n",
       "    <tr>\n",
       "      <th>WiiU</th>\n",
       "      <td>82.19</td>\n",
       "    </tr>\n",
       "    <tr>\n",
       "      <th>PSV</th>\n",
       "      <td>54.07</td>\n",
       "    </tr>\n",
       "    <tr>\n",
       "      <th>SAT</th>\n",
       "      <td>33.59</td>\n",
       "    </tr>\n",
       "    <tr>\n",
       "      <th>GEN</th>\n",
       "      <td>28.35</td>\n",
       "    </tr>\n",
       "    <tr>\n",
       "      <th>DC</th>\n",
       "      <td>15.95</td>\n",
       "    </tr>\n",
       "    <tr>\n",
       "      <th>SCD</th>\n",
       "      <td>1.86</td>\n",
       "    </tr>\n",
       "    <tr>\n",
       "      <th>NG</th>\n",
       "      <td>1.44</td>\n",
       "    </tr>\n",
       "    <tr>\n",
       "      <th>WS</th>\n",
       "      <td>1.42</td>\n",
       "    </tr>\n",
       "    <tr>\n",
       "      <th>TG16</th>\n",
       "      <td>0.16</td>\n",
       "    </tr>\n",
       "    <tr>\n",
       "      <th>3DO</th>\n",
       "      <td>0.10</td>\n",
       "    </tr>\n",
       "    <tr>\n",
       "      <th>GG</th>\n",
       "      <td>0.04</td>\n",
       "    </tr>\n",
       "    <tr>\n",
       "      <th>PCFX</th>\n",
       "      <td>0.03</td>\n",
       "    </tr>\n",
       "  </tbody>\n",
       "</table>\n",
       "</div>"
      ],
      "text/plain": [
       "          total_sales\n",
       "platform             \n",
       "PS2           1255.77\n",
       "X360           971.42\n",
       "PS3            937.08\n",
       "Wii            907.51\n",
       "DS             806.12\n",
       "PS             730.86\n",
       "GBA            317.85\n",
       "PS4            314.14\n",
       "PSP            294.05\n",
       "PC             259.52\n",
       "3DS            259.00\n",
       "XB             257.74\n",
       "GB             255.46\n",
       "NES            251.05\n",
       "N64            218.68\n",
       "SNES           200.04\n",
       "GC             198.93\n",
       "XOne           159.32\n",
       "2600            96.98\n",
       "WiiU            82.19\n",
       "PSV             54.07\n",
       "SAT             33.59\n",
       "GEN             28.35\n",
       "DC              15.95\n",
       "SCD              1.86\n",
       "NG               1.44\n",
       "WS               1.42\n",
       "TG16             0.16\n",
       "3DO              0.10\n",
       "GG               0.04\n",
       "PCFX             0.03"
      ]
     },
     "execution_count": 33,
     "metadata": {},
     "output_type": "execute_result"
    }
   ],
   "source": [
    "data_pivot = data.pivot_table(index = 'platform',\n",
    "values = 'total_sales', aggfunc = 'sum').sort_values(by= 'total_sales', ascending=False)\n",
    "data_pivot"
   ]
  },
  {
   "cell_type": "code",
   "execution_count": 34,
   "metadata": {},
   "outputs": [],
   "source": [
    "top_10_plat = data_pivot.query('total_sales > 259.00')"
   ]
  },
  {
   "cell_type": "code",
   "execution_count": 35,
   "metadata": {},
   "outputs": [
    {
     "data": {
      "text/plain": [
       "<AxesSubplot:title={'center':'Количество продаж топ 10 платформ'}, xlabel='Количество продаж', ylabel='Платформа'>"
      ]
     },
     "execution_count": 35,
     "metadata": {},
     "output_type": "execute_result"
    },
    {
     "data": {
      "image/png": "[encoded data removed]",
      "text/plain": [
       "<Figure size 432x288 with 1 Axes>"
      ]
     },
     "metadata": {
      "needs_background": "light"
     },
     "output_type": "display_data"
    }
   ],
   "source": [
    "top_10_plat.plot(kind='bar',title = 'Количество продаж топ 10 платформ', ylabel = 'Платформа', xlabel = 'Количество продаж')"
   ]
  },
  {
   "cell_type": "markdown",
   "metadata": {},
   "source": [
    "В топ 3 по продажам за весь рассматриваемый период (1988-2016) входят PS2, Xbox360 и PS3 "
   ]
  },
  {
   "cell_type": "code",
   "execution_count": 36,
   "metadata": {},
   "outputs": [
    {
     "data": {
      "text/plain": [
       "<AxesSubplot:title={'center':'Количество продаж на PS2 по годам'}, xlabel='Период', ylabel='Количество продаж'>"
      ]
     },
     "execution_count": 36,
     "metadata": {},
     "output_type": "execute_result"
    },
    {
     "data": {
      "image/png": "[encoded data removed]",
      "text/plain": [
       "<Figure size 432x288 with 1 Axes>"
      ]
     },
     "metadata": {
      "needs_background": "light"
     },
     "output_type": "display_data"
    }
   ],
   "source": [
    "data[data['platform'] == 'PS2'].groupby(by='year_of_release')['year_of_release'].count().plot(\n",
    "    kind='bar',\n",
    "    title = 'Количество продаж на PS2 по годам',\n",
    "    ylabel = 'Количество продаж',\n",
    "    xlabel = 'Период'\n",
    ")"
   ]
  },
  {
   "cell_type": "markdown",
   "metadata": {},
   "source": [
    "Пик продаж выпал на 2002 год, когда платформа только вышла ны рынок. В тот период у нее не было явных и сильных конкурентов, поэтому даже в топе 10 она занимает первое место по объему продаж. Важно отметить, что в 2003 году хоть и был небольшой спад по объемам продаж, но с 2003 по 2006 год уровень был более менее стабилен. Другими словами, игнорируя спад в 2003 по сравнению с 2002, который можно вполне логично объяснить падением ажиотажа и стабилизацией спроса, с 2001 по 2006 (6 лет) наблюдалась положительная динамика показателя объем продаж.\n",
    "При этом уже в 2009 году наблюдается резкий спад продаж и ближе к 2011 показатель близится к 0."
   ]
  },
  {
   "cell_type": "code",
   "execution_count": 37,
   "metadata": {},
   "outputs": [
    {
     "data": {
      "text/plain": [
       "<AxesSubplot:title={'center':'Количество продаж на X360 по годам'}, xlabel='Период', ylabel='Количество продаж'>"
      ]
     },
     "execution_count": 37,
     "metadata": {},
     "output_type": "execute_result"
    },
    {
     "data": {
      "image/png": "[encoded data removed]",
      "text/plain": [
       "<Figure size 432x288 with 1 Axes>"
      ]
     },
     "metadata": {
      "needs_background": "light"
     },
     "output_type": "display_data"
    }
   ],
   "source": [
    "data[data['platform'] == 'X360'].groupby(by='year_of_release')['year_of_release'].count().plot(\n",
    "    kind='bar',\n",
    "    title = 'Количество продаж на X360 по годам',\n",
    "    ylabel = 'Количество продаж',\n",
    "    xlabel = 'Период'\n",
    ")"
   ]
  },
  {
   "cell_type": "markdown",
   "metadata": {},
   "source": [
    "Пик продаж наблюдается в 2011 году. При этом положительную динамику можно отследить с 2006 по 2011 годы, т.е 6 лет наблюдался рост объемов продаж данной платформы. Но уже с 2012 показатели значительно снизились и тренд изменился в противоположную сторону."
   ]
  },
  {
   "cell_type": "code",
   "execution_count": 38,
   "metadata": {},
   "outputs": [
    {
     "data": {
      "text/plain": [
       "<AxesSubplot:title={'center':'Количество продаж на PS3 по годам'}, xlabel='Период', ylabel='Количество продаж'>"
      ]
     },
     "execution_count": 38,
     "metadata": {},
     "output_type": "execute_result"
    },
    {
     "data": {
      "image/png": "[encoded data removed]",
      "text/plain": [
       "<Figure size 432x288 with 1 Axes>"
      ]
     },
     "metadata": {
      "needs_background": "light"
     },
     "output_type": "display_data"
    }
   ],
   "source": [
    "data[data['platform'] == 'PS3'].groupby(by='year_of_release')['year_of_release'].count().plot(\n",
    "    kind='bar',\n",
    "    title = 'Количество продаж на PS3 по годам',\n",
    "    ylabel = 'Количество продаж',\n",
    "    xlabel = 'Период'\n",
    ")"
   ]
  },
  {
   "cell_type": "markdown",
   "metadata": {},
   "source": [
    "Здесь также можно наблюдать положительную динамику с 2007 по 2011 (5 лет) с пиком в 2011 году и отрицательную, начиная с 2012 по 2016 год."
   ]
  },
  {
   "cell_type": "code",
   "execution_count": 39,
   "metadata": {},
   "outputs": [
    {
     "data": {
      "text/plain": [
       "<AxesSubplot:title={'center':'Количество продаж на Wii по годам'}, xlabel='Период', ylabel='Количество продаж'>"
      ]
     },
     "execution_count": 39,
     "metadata": {},
     "output_type": "execute_result"
    },
    {
     "data": {
      "image/png": "[encoded data removed]",
      "text/plain": [
       "<Figure size 432x288 with 1 Axes>"
      ]
     },
     "metadata": {
      "needs_background": "light"
     },
     "output_type": "display_data"
    }
   ],
   "source": [
    "data[data['platform'] == 'Wii'].groupby(by='year_of_release')['year_of_release'].count().plot(\n",
    "    kind='bar',\n",
    "    title = 'Количество продаж на Wii по годам',\n",
    "    ylabel = 'Количество продаж',\n",
    "    xlabel = 'Период'\n",
    ")"
   ]
  },
  {
   "cell_type": "markdown",
   "metadata": {},
   "source": [
    "Положительная динамика с 2007 по 2009 гг. (3 года)"
   ]
  },
  {
   "cell_type": "code",
   "execution_count": 40,
   "metadata": {},
   "outputs": [
    {
     "data": {
      "text/plain": [
       "<AxesSubplot:title={'center':'Количество продаж на DS по годам'}, xlabel='Период', ylabel='Количество продаж'>"
      ]
     },
     "execution_count": 40,
     "metadata": {},
     "output_type": "execute_result"
    },
    {
     "data": {
      "image/png": "[encoded data removed]",
      "text/plain": [
       "<Figure size 432x288 with 1 Axes>"
      ]
     },
     "metadata": {
      "needs_background": "light"
     },
     "output_type": "display_data"
    }
   ],
   "source": [
    "data[data['platform'] == 'DS'].groupby(by='year_of_release')['year_of_release'].count().plot(\n",
    "    kind='bar',\n",
    "    title = 'Количество продаж на DS по годам',\n",
    "    ylabel = 'Количество продаж',\n",
    "    xlabel = 'Период'\n",
    ")"
   ]
  },
  {
   "cell_type": "markdown",
   "metadata": {},
   "source": [
    "Положительная динамика с 2005 по 2008 гг (4 года)"
   ]
  },
  {
   "cell_type": "markdown",
   "metadata": {},
   "source": [
    "<div class=\"alert alert-warning\" style=\"border-radius: 10px; box-shadow: 2px 2px 2px; border: 1px solid; padding: 10px \">\n",
    "<b>Комментарий ревьюера v.1</b> \n",
    "    \n",
    "📝 \n",
    "Стоит обратить внимание на платформу DS. Там всего 2 точки: 1985 и 2004. Вряд ли игры не продавались 20 лет. Возможно это ошибка, так как в 1985 году этой платформы еще не существовало. Визуализация помогает не только определять закономерности, но еще и находить ошибки.\n",
    "</div>"
   ]
  },
  {
   "cell_type": "code",
   "execution_count": 41,
   "metadata": {},
   "outputs": [
    {
     "data": {
      "text/plain": [
       "<AxesSubplot:title={'center':'Количество продаж на PS по годам'}, xlabel='Период', ylabel='Количество продаж'>"
      ]
     },
     "execution_count": 41,
     "metadata": {},
     "output_type": "execute_result"
    },
    {
     "data": {
      "image/png": "[encoded data removed]",
      "text/plain": [
       "<Figure size 432x288 with 1 Axes>"
      ]
     },
     "metadata": {
      "needs_background": "light"
     },
     "output_type": "display_data"
    }
   ],
   "source": [
    "data[data['platform'] == 'PS'].groupby(by='year_of_release')['year_of_release'].count().plot(\n",
    "    kind='bar',\n",
    "    title = 'Количество продаж на PS по годам',\n",
    "    ylabel = 'Количество продаж',\n",
    "    xlabel = 'Период'\n",
    ")"
   ]
  },
  {
   "cell_type": "markdown",
   "metadata": {},
   "source": [
    "1995-1998 гг. (4 года) положительная динамика"
   ]
  },
  {
   "cell_type": "code",
   "execution_count": 42,
   "metadata": {},
   "outputs": [
    {
     "data": {
      "text/plain": [
       "<AxesSubplot:title={'center':'Количество продаж на GBA по годам'}, xlabel='Период', ylabel='Количество продаж'>"
      ]
     },
     "execution_count": 42,
     "metadata": {},
     "output_type": "execute_result"
    },
    {
     "data": {
      "image/png": "[encoded data removed]",
      "text/plain": [
       "<Figure size 432x288 with 1 Axes>"
      ]
     },
     "metadata": {
      "needs_background": "light"
     },
     "output_type": "display_data"
    }
   ],
   "source": [
    "data[data['platform'] == 'GBA'].groupby(by='year_of_release')['year_of_release'].count().plot(\n",
    "    kind='bar',\n",
    "    title = 'Количество продаж на GBA по годам',\n",
    "    ylabel = 'Количество продаж',\n",
    "    xlabel = 'Период'\n",
    ")"
   ]
  },
  {
   "cell_type": "markdown",
   "metadata": {},
   "source": [
    "Здесь наблюдаются разные тенденции. Показатель то растет, то падает. Очевидно, что с 2002 по 2005 сумма продаж не падала ниже 125 млн."
   ]
  },
  {
   "cell_type": "code",
   "execution_count": 43,
   "metadata": {},
   "outputs": [
    {
     "data": {
      "text/plain": [
       "<AxesSubplot:title={'center':'Количество продаж на PS4 по годам'}, xlabel='Период', ylabel='Количество продаж'>"
      ]
     },
     "execution_count": 43,
     "metadata": {},
     "output_type": "execute_result"
    },
    {
     "data": {
      "image/png": "[encoded data removed]",
      "text/plain": [
       "<Figure size 432x288 with 1 Axes>"
      ]
     },
     "metadata": {
      "needs_background": "light"
     },
     "output_type": "display_data"
    }
   ],
   "source": [
    "data[data['platform'] == 'PS4'].groupby(by='year_of_release')['year_of_release'].count().plot(\n",
    "    kind='bar',\n",
    "    title = 'Количество продаж на PS4 по годам',\n",
    "    ylabel = 'Количество продаж',\n",
    "    xlabel = 'Период'\n",
    ")"
   ]
  },
  {
   "cell_type": "markdown",
   "metadata": {},
   "source": [
    "Наблюдается только положительная динамика. С учетом популярности предшественников модели можно прогнозировать еще год-два стабильного роста."
   ]
  },
  {
   "cell_type": "code",
   "execution_count": 44,
   "metadata": {},
   "outputs": [
    {
     "data": {
      "text/plain": [
       "<AxesSubplot:title={'center':'Количество продаж на PSP по годам'}, xlabel='Период', ylabel='Количество продаж'>"
      ]
     },
     "execution_count": 44,
     "metadata": {},
     "output_type": "execute_result"
    },
    {
     "data": {
      "image/png": "[encoded data removed]",
      "text/plain": [
       "<Figure size 432x288 with 1 Axes>"
      ]
     },
     "metadata": {
      "needs_background": "light"
     },
     "output_type": "display_data"
    }
   ],
   "source": [
    "data[data['platform'] == 'PSP'].groupby(by='year_of_release')['year_of_release'].count().plot(\n",
    "    kind='bar',\n",
    "    title = 'Количество продаж на PSP по годам',\n",
    "    ylabel = 'Количество продаж',\n",
    "    xlabel = 'Период'\n",
    ")"
   ]
  },
  {
   "cell_type": "markdown",
   "metadata": {},
   "source": [
    "Здесь интересная тенденция, т.к. нет разбивки по конкретным моделям, которые выходили в разные годы. Очевидно, что популярность PSP держалась с 2005 по 2012 год (8 лет)."
   ]
  },
  {
   "cell_type": "code",
   "execution_count": 45,
   "metadata": {},
   "outputs": [
    {
     "data": {
      "text/plain": [
       "<AxesSubplot:title={'center':'Количество продаж на PC по годам'}, xlabel='Период', ylabel='Количество продаж'>"
      ]
     },
     "execution_count": 45,
     "metadata": {},
     "output_type": "execute_result"
    },
    {
     "data": {
      "image/png": "[encoded data removed]",
      "text/plain": [
       "<Figure size 432x288 with 1 Axes>"
      ]
     },
     "metadata": {
      "needs_background": "light"
     },
     "output_type": "display_data"
    }
   ],
   "source": [
    "data[data['platform'] == 'PC'].groupby(by='year_of_release')['year_of_release'].count().plot(\n",
    "    kind='bar',\n",
    "    title = 'Количество продаж на PC по годам',\n",
    "    ylabel = 'Количество продаж',\n",
    "    xlabel = 'Период'\n",
    ")"
   ]
  },
  {
   "cell_type": "markdown",
   "metadata": {},
   "source": [
    "Персональные компьютеры - самый серьезный конкурент игровым приставкам. Для них не требуется выпускать полностью обновленные модели, достаточно лишь обновлять некоторые комплектующие в зависимости от необходимых характеристик для тех или иных задач. Таким образом, у пользователей есть выбор: купить польностью готовую приставку без дополнительных затрат или обновить свой старый компьютер.  \n",
    "Положительная динамика по графику: с 2001 по 2011 (11 лет), потом резкое падение с 2012 по 2013 и снова положительная динамика с 2014 по 2016 (3 года)"
   ]
  },
  {
   "cell_type": "code",
   "execution_count": 46,
   "metadata": {},
   "outputs": [],
   "source": [
    "actual_data = data.query('year_of_release >= 2012')"
   ]
  },
  {
   "cell_type": "markdown",
   "metadata": {},
   "source": [
    "**Актуальным периодом будем считать период с 2012 по 2016 гг.**"
   ]
  },
  {
   "cell_type": "markdown",
   "metadata": {},
   "source": [
    "<div class=\"alert alert-danger\" style=\"border-radius: 10px; box-shadow: 2px 2px 2px; border: 1px solid; padding: 10px \">\n",
    "<b>Комментарий ревьюера v.1</b> \n",
    "    \n",
    "✍ \n",
    "Для целей прогнозирования продаж на следующий год даже в традиционных бизнесах редко берут данные более чем за 2-3 года. А в такой динамично меняющейся индустрии, как компьютерные игры и вовсе не стоит брать слишком большой временной интервал - иначе обязательно захватим уже отжившие тренды. Но и очень короткий период не подходит для прогнозирования, так что надо выбирать золотую середину (но не менее 2-х полных лет и не более 5 лет). Так, как все расчеты ниже необходимо использовать с актуальным периодом, то не забудь, пожалуйста перепроверить их и выводы после корректировки.\n",
    "</div>"
   ]
  },
  {
   "cell_type": "markdown",
   "metadata": {},
   "source": [
    "<div class=\"alert alert-success\" style=\"border-radius: 10px; box-shadow: 2px 2px 2px; border: 1px solid; padding: 10px \">\n",
    "<b>Комментарий ревьюера v.2</b> \n",
    "    \n",
    "👍 \n",
    "\n",
    "</div>"
   ]
  },
  {
   "cell_type": "code",
   "execution_count": 47,
   "metadata": {},
   "outputs": [
    {
     "data": {
      "text/plain": [
       "<AxesSubplot:title={'center':'Количество продаж на платформах за актульный период'}, xlabel='Период', ylabel='Количество продаж'>"
      ]
     },
     "execution_count": 47,
     "metadata": {},
     "output_type": "execute_result"
    },
    {
     "data": {
      "image/png": "[encoded data removed]",
      "text/plain": [
       "<Figure size 1080x360 with 1 Axes>"
      ]
     },
     "metadata": {
      "needs_background": "light"
     },
     "output_type": "display_data"
    }
   ],
   "source": [
    "actual_data.pivot_table(index='year_of_release', columns='platform', values='total_sales', aggfunc='sum').plot(\n",
    "    figsize=(15,5),\n",
    "    title = 'Количество продаж на платформах за актульный период',\n",
    "    ylabel = 'Количество продаж',\n",
    "    xlabel = 'Период'\n",
    ")"
   ]
  },
  {
   "cell_type": "markdown",
   "metadata": {},
   "source": [
    "По графику видно, что за рассматриваемый период популярность большинства платформ снижается или равна нулю. Исключение составляют PS4 и XOne, которые еще имеют потенциальные возможности для роста, но и для которых это, очевидно, вопрос времени."
   ]
  },
  {
   "cell_type": "code",
   "execution_count": 48,
   "metadata": {},
   "outputs": [
    {
     "data": {
      "text/plain": [
       "<AxesSubplot:>"
      ]
     },
     "execution_count": 48,
     "metadata": {},
     "output_type": "execute_result"
    },
    {
     "data": {
      "image/png": "[encoded data removed]",
      "text/plain": [
       "<Figure size 432x288 with 1 Axes>"
      ]
     },
     "metadata": {
      "needs_background": "light"
     },
     "output_type": "display_data"
    }
   ],
   "source": [
    "actual_data.pivot_table(index='name', columns='platform', values='total_sales', aggfunc='sum').plot(\n",
    "    kind='box', \n",
    "    ylim = (0, 2))"
   ]
  },
  {
   "cell_type": "markdown",
   "metadata": {},
   "source": [
    "Ориентируясь на график выше, к платформам с потенциальными возможностями роста можно добавить XOne, прямой конкурент PS4 (их медианы совпадают, а также XOne относительно новая платформа как и PS4)."
   ]
  },
  {
   "cell_type": "markdown",
   "metadata": {},
   "source": [
    "<div class=\"alert alert-danger\" style=\"border-radius: 10px; box-shadow: 2px 2px 2px; border: 1px solid; padding: 10px \">\n",
    "<b>Комментарий ревьюера v.1</b> \n",
    "    \n",
    "✍ \n",
    "Немного не так. Нам не нужно диаграмму размаха строить по сводной таблице, которая агрегирует данные. Нам необходимо отразить продажи по каждой проданной игре каждой платформы.\n",
    "   \n",
    "</div>"
   ]
  },
  {
   "cell_type": "code",
   "execution_count": 49,
   "metadata": {},
   "outputs": [
    {
     "data": {
      "text/plain": [
       "Text(0.5, 1.0, 'Общие продажи игр по платформам')"
      ]
     },
     "execution_count": 49,
     "metadata": {},
     "output_type": "execute_result"
    },
    {
     "data": {
      "image/png": "[encoded data removed]",
      "text/plain": [
       "<Figure size 432x288 with 1 Axes>"
      ]
     },
     "metadata": {
      "needs_background": "light"
     },
     "output_type": "display_data"
    }
   ],
   "source": [
    "grouped_data = actual_data.groupby('platform')['total_sales'].apply(list)\n",
    "plt.boxplot(grouped_data, labels=grouped_data.index)\n",
    "plt.ylim (0,2)\n",
    "plt.xlabel('Платформа')\n",
    "plt.ylabel('Общие продажи')\n",
    "plt.title('Общие продажи игр по платформам')"
   ]
  },
  {
   "cell_type": "markdown",
   "metadata": {},
   "source": [
    "График выше показывает, что лидерами по продажам за рассматриваемый период являются PS3, PS4, Wii, X360, XOne. При этом наиболее перспективными остаются PS4 и XOne, медианные значения у которых совпадают."
   ]
  },
  {
   "cell_type": "markdown",
   "metadata": {},
   "source": [
    "<div class=\"alert alert-success\" style=\"border-radius: 10px; box-shadow: 2px 2px 2px; border: 1px solid; padding: 10px \">\n",
    "<b>Комментарий ревьюера v.2</b> \n",
    "    \n",
    "👍 \n",
    "Верно\n",
    "</div>"
   ]
  },
  {
   "cell_type": "markdown",
   "metadata": {},
   "source": [
    "**На мой взгляд одной из наиболее популярных платфом за 2016 год является PS4**  \n",
    "Проверим степень взаимосвязи между отзывами пользователей/критиков и общими продажами данной платформы"
   ]
  },
  {
   "cell_type": "code",
   "execution_count": 50,
   "metadata": {},
   "outputs": [
    {
     "data": {
      "image/png": "[encoded data removed]",
      "text/plain": [
       "<Figure size 432x288 with 1 Axes>"
      ]
     },
     "metadata": {
      "needs_background": "light"
     },
     "output_type": "display_data"
    }
   ],
   "source": [
    "PS4 = actual_data.query('platform == \"PS4\"')\n",
    "\n",
    "user_score_filter = (PS4['user_score'] >= PS4['user_score'].quantile(0.01))\n",
    "critic_score_filter = (PS4['critic_score'] != 0)\n",
    "\n",
    "filtered_PS4 = PS4[user_score_filter & critic_score_filter]\n",
    "\n",
    "plt.scatter(filtered_PS4['user_score'], filtered_PS4['critic_score'])\n",
    "plt.xlabel('Оценка пользователей')\n",
    "plt.ylabel('Оценка критиков')\n",
    "plt.title('Зависимость оценок пользователей и критиков (PS4)')\n",
    "plt.show()"
   ]
  },
  {
   "cell_type": "markdown",
   "metadata": {},
   "source": [
    "На графике взаимосвязь между оценками критиков и пользователей наблюдается"
   ]
  },
  {
   "cell_type": "code",
   "execution_count": 51,
   "metadata": {},
   "outputs": [
    {
     "data": {
      "text/html": [
       "<div>\n",
       "<style scoped>\n",
       "    .dataframe tbody tr th:only-of-type {\n",
       "        vertical-align: middle;\n",
       "    }\n",
       "\n",
       "    .dataframe tbody tr th {\n",
       "        vertical-align: top;\n",
       "    }\n",
       "\n",
       "    .dataframe thead th {\n",
       "        text-align: right;\n",
       "    }\n",
       "</style>\n",
       "<table border=\"1\" class=\"dataframe\">\n",
       "  <thead>\n",
       "    <tr style=\"text-align: right;\">\n",
       "      <th></th>\n",
       "      <th>critic_score</th>\n",
       "      <th>user_score</th>\n",
       "      <th>total_sales</th>\n",
       "    </tr>\n",
       "  </thead>\n",
       "  <tbody>\n",
       "    <tr>\n",
       "      <th>critic_score</th>\n",
       "      <td>1.00000</td>\n",
       "      <td>0.900850</td>\n",
       "      <td>0.227550</td>\n",
       "    </tr>\n",
       "    <tr>\n",
       "      <th>user_score</th>\n",
       "      <td>0.90085</td>\n",
       "      <td>1.000000</td>\n",
       "      <td>0.113116</td>\n",
       "    </tr>\n",
       "    <tr>\n",
       "      <th>total_sales</th>\n",
       "      <td>0.22755</td>\n",
       "      <td>0.113116</td>\n",
       "      <td>1.000000</td>\n",
       "    </tr>\n",
       "  </tbody>\n",
       "</table>\n",
       "</div>"
      ],
      "text/plain": [
       "              critic_score  user_score  total_sales\n",
       "critic_score       1.00000    0.900850     0.227550\n",
       "user_score         0.90085    1.000000     0.113116\n",
       "total_sales        0.22755    0.113116     1.000000"
      ]
     },
     "execution_count": 51,
     "metadata": {},
     "output_type": "execute_result"
    }
   ],
   "source": [
    "PS4 = actual_data.query('platform == \"PS4\"')\n",
    "PS4 = PS4[['critic_score','user_score','total_sales']]\n",
    "PS4.corr()"
   ]
  },
  {
   "cell_type": "markdown",
   "metadata": {},
   "source": [
    "PS4:\n",
    "- взаимосвязь между общими продажами и оценками критиков достаточно слабая;\n",
    "- взаимосвязь между общими продажами и оценками пользователей достаточно слабая (еще ниже);\n",
    "- взаимосвязь между оценками критиков и оценками пользователей очень сильная."
   ]
  },
  {
   "cell_type": "code",
   "execution_count": 52,
   "metadata": {},
   "outputs": [
    {
     "data": {
      "image/png": "[encoded data removed]",
      "text/plain": [
       "<Figure size 432x288 with 1 Axes>"
      ]
     },
     "metadata": {
      "needs_background": "light"
     },
     "output_type": "display_data"
    }
   ],
   "source": [
    "PS3 = actual_data.query('platform == \"PS3\"')\n",
    "\n",
    "user_score_filter = (PS3['user_score'] >= PS3['user_score'].quantile(0.01))\n",
    "critic_score_filter = (PS3['critic_score'] != 0)\n",
    "\n",
    "filtered_PS3 = PS3[user_score_filter & critic_score_filter]\n",
    "\n",
    "plt.scatter(filtered_PS3['user_score'], filtered_PS3['critic_score'])\n",
    "plt.xlabel('Оценка пользователей')\n",
    "plt.ylabel('Оценка критиков')\n",
    "plt.title('Зависимость оценок пользователей и критиков (PS3)')\n",
    "plt.show()"
   ]
  },
  {
   "cell_type": "markdown",
   "metadata": {},
   "source": [
    "<div class=\"alert alert-danger\" style=\"border-radius: 10px; box-shadow: 2px 2px 2px; border: 1px solid; padding: 10px \">\n",
    "<b>Комментарий ревьюера v.2</b> \n",
    "    \n",
    "✍ \n",
    "Обрати внимание на выбросы из-за заглушки. Здесь нам обязательно нужен фильтр, дабы выбросы не искажали результаты. То же касается и остальных графиков.\n",
    "</div>"
   ]
  },
  {
   "cell_type": "markdown",
   "metadata": {},
   "source": [
    "<div class=\"alert alert-success\" style=\"border-radius: 10px; box-shadow: 2px 2px 2px; border: 1px solid; padding: 10px \">\n",
    "<b>Комментарий ревьюера v.3</b> \n",
    "    \n",
    "👍 \n",
    "\n",
    "</div>"
   ]
  },
  {
   "cell_type": "markdown",
   "metadata": {},
   "source": [
    "На графике взаимосвязь между оценками критиков и пользователей для PS3 наблюдается"
   ]
  },
  {
   "cell_type": "code",
   "execution_count": 53,
   "metadata": {},
   "outputs": [
    {
     "data": {
      "text/html": [
       "<div>\n",
       "<style scoped>\n",
       "    .dataframe tbody tr th:only-of-type {\n",
       "        vertical-align: middle;\n",
       "    }\n",
       "\n",
       "    .dataframe tbody tr th {\n",
       "        vertical-align: top;\n",
       "    }\n",
       "\n",
       "    .dataframe thead th {\n",
       "        text-align: right;\n",
       "    }\n",
       "</style>\n",
       "<table border=\"1\" class=\"dataframe\">\n",
       "  <thead>\n",
       "    <tr style=\"text-align: right;\">\n",
       "      <th></th>\n",
       "      <th>critic_score</th>\n",
       "      <th>user_score</th>\n",
       "      <th>total_sales</th>\n",
       "    </tr>\n",
       "  </thead>\n",
       "  <tbody>\n",
       "    <tr>\n",
       "      <th>critic_score</th>\n",
       "      <td>1.000000</td>\n",
       "      <td>0.760999</td>\n",
       "      <td>0.298035</td>\n",
       "    </tr>\n",
       "    <tr>\n",
       "      <th>user_score</th>\n",
       "      <td>0.760999</td>\n",
       "      <td>1.000000</td>\n",
       "      <td>0.213173</td>\n",
       "    </tr>\n",
       "    <tr>\n",
       "      <th>total_sales</th>\n",
       "      <td>0.298035</td>\n",
       "      <td>0.213173</td>\n",
       "      <td>1.000000</td>\n",
       "    </tr>\n",
       "  </tbody>\n",
       "</table>\n",
       "</div>"
      ],
      "text/plain": [
       "              critic_score  user_score  total_sales\n",
       "critic_score      1.000000    0.760999     0.298035\n",
       "user_score        0.760999    1.000000     0.213173\n",
       "total_sales       0.298035    0.213173     1.000000"
      ]
     },
     "execution_count": 53,
     "metadata": {},
     "output_type": "execute_result"
    }
   ],
   "source": [
    "PS3 = actual_data.query('platform == \"PS3\"')\n",
    "PS3 = PS3[['critic_score','user_score','total_sales']]\n",
    "PS3.corr()"
   ]
  },
  {
   "cell_type": "markdown",
   "metadata": {},
   "source": [
    "PS3:\n",
    "- взаимосвязь между общими продажами и оценками критиков слабая;\n",
    "- взаимосвязь между общими продажами и оценками пользователей достаточно слабая (еще ниже);\n",
    "- взаимосвязь между оценками критиков и оценками пользователей сильная."
   ]
  },
  {
   "cell_type": "code",
   "execution_count": 54,
   "metadata": {},
   "outputs": [
    {
     "data": {
      "image/png": "[encoded data removed]",
      "text/plain": [
       "<Figure size 432x288 with 1 Axes>"
      ]
     },
     "metadata": {
      "needs_background": "light"
     },
     "output_type": "display_data"
    }
   ],
   "source": [
    "XOne = actual_data.query('platform == \"XOne\"')\n",
    "\n",
    "user_score_filter = (XOne['user_score'] >= XOne['user_score'].quantile(0.01))\n",
    "critic_score_filter = (XOne['critic_score'] != 0)\n",
    "\n",
    "filtered_XOne = XOne[user_score_filter & critic_score_filter]\n",
    "\n",
    "plt.scatter(filtered_XOne['user_score'], filtered_XOne['critic_score'])\n",
    "plt.xlabel('Оценка пользователей')\n",
    "plt.ylabel('Оценка критиков')\n",
    "plt.title('Зависимость оценок пользователей и критиков (XOne)')\n",
    "plt.show()"
   ]
  },
  {
   "cell_type": "markdown",
   "metadata": {},
   "source": [
    "На графике взаимосвязь между оценками критиков и пользователей для XOne наблюдается, но не такая явная как для той же PS3"
   ]
  },
  {
   "cell_type": "code",
   "execution_count": 55,
   "metadata": {},
   "outputs": [
    {
     "data": {
      "text/html": [
       "<div>\n",
       "<style scoped>\n",
       "    .dataframe tbody tr th:only-of-type {\n",
       "        vertical-align: middle;\n",
       "    }\n",
       "\n",
       "    .dataframe tbody tr th {\n",
       "        vertical-align: top;\n",
       "    }\n",
       "\n",
       "    .dataframe thead th {\n",
       "        text-align: right;\n",
       "    }\n",
       "</style>\n",
       "<table border=\"1\" class=\"dataframe\">\n",
       "  <thead>\n",
       "    <tr style=\"text-align: right;\">\n",
       "      <th></th>\n",
       "      <th>critic_score</th>\n",
       "      <th>user_score</th>\n",
       "      <th>total_sales</th>\n",
       "    </tr>\n",
       "  </thead>\n",
       "  <tbody>\n",
       "    <tr>\n",
       "      <th>critic_score</th>\n",
       "      <td>1.000000</td>\n",
       "      <td>0.774153</td>\n",
       "      <td>0.274839</td>\n",
       "    </tr>\n",
       "    <tr>\n",
       "      <th>user_score</th>\n",
       "      <td>0.774153</td>\n",
       "      <td>1.000000</td>\n",
       "      <td>0.116563</td>\n",
       "    </tr>\n",
       "    <tr>\n",
       "      <th>total_sales</th>\n",
       "      <td>0.274839</td>\n",
       "      <td>0.116563</td>\n",
       "      <td>1.000000</td>\n",
       "    </tr>\n",
       "  </tbody>\n",
       "</table>\n",
       "</div>"
      ],
      "text/plain": [
       "              critic_score  user_score  total_sales\n",
       "critic_score      1.000000    0.774153     0.274839\n",
       "user_score        0.774153    1.000000     0.116563\n",
       "total_sales       0.274839    0.116563     1.000000"
      ]
     },
     "execution_count": 55,
     "metadata": {},
     "output_type": "execute_result"
    }
   ],
   "source": [
    "XOne = actual_data.query('platform == \"XOne\"')\n",
    "XOne = XOne[['critic_score','user_score','total_sales']]\n",
    "XOne.corr()"
   ]
  },
  {
   "cell_type": "markdown",
   "metadata": {},
   "source": [
    "XOne:\n",
    "- взаимосвязь между общими продажами и оценками критиков достаточно слабая;\n",
    "- взаимосвязь между общими продажами и оценками пользователей достаточно слабая (еще ниже);\n",
    "- взаимосвязь между оценками критиков и оценками пользователей сильная."
   ]
  },
  {
   "cell_type": "code",
   "execution_count": 56,
   "metadata": {},
   "outputs": [
    {
     "data": {
      "image/png": "[encoded data removed]",
      "text/plain": [
       "<Figure size 432x288 with 1 Axes>"
      ]
     },
     "metadata": {
      "needs_background": "light"
     },
     "output_type": "display_data"
    }
   ],
   "source": [
    "X360 = actual_data.query('platform == \"X360\"')\n",
    "\n",
    "user_score_filter = (X360['user_score'] >= X360['user_score'].quantile(0.01))\n",
    "critic_score_filter = (X360['critic_score'] != 0)\n",
    "\n",
    "filtered_X360 = X360[user_score_filter & critic_score_filter]\n",
    "\n",
    "plt.scatter(filtered_X360['user_score'], filtered_X360['critic_score'])\n",
    "plt.xlabel('Оценка пользователей')\n",
    "plt.ylabel('Оценка критиков')\n",
    "plt.title('Зависимость оценок пользователей и критиков (X360)')\n",
    "plt.show()"
   ]
  },
  {
   "cell_type": "markdown",
   "metadata": {},
   "source": [
    "На графике взаимосвязь между оценками критиков и пользователей для X360 наблюдается"
   ]
  },
  {
   "cell_type": "code",
   "execution_count": 57,
   "metadata": {},
   "outputs": [
    {
     "data": {
      "text/html": [
       "<div>\n",
       "<style scoped>\n",
       "    .dataframe tbody tr th:only-of-type {\n",
       "        vertical-align: middle;\n",
       "    }\n",
       "\n",
       "    .dataframe tbody tr th {\n",
       "        vertical-align: top;\n",
       "    }\n",
       "\n",
       "    .dataframe thead th {\n",
       "        text-align: right;\n",
       "    }\n",
       "</style>\n",
       "<table border=\"1\" class=\"dataframe\">\n",
       "  <thead>\n",
       "    <tr style=\"text-align: right;\">\n",
       "      <th></th>\n",
       "      <th>critic_score</th>\n",
       "      <th>user_score</th>\n",
       "      <th>total_sales</th>\n",
       "    </tr>\n",
       "  </thead>\n",
       "  <tbody>\n",
       "    <tr>\n",
       "      <th>critic_score</th>\n",
       "      <td>1.000000</td>\n",
       "      <td>0.641286</td>\n",
       "      <td>0.262028</td>\n",
       "    </tr>\n",
       "    <tr>\n",
       "      <th>user_score</th>\n",
       "      <td>0.641286</td>\n",
       "      <td>1.000000</td>\n",
       "      <td>0.099743</td>\n",
       "    </tr>\n",
       "    <tr>\n",
       "      <th>total_sales</th>\n",
       "      <td>0.262028</td>\n",
       "      <td>0.099743</td>\n",
       "      <td>1.000000</td>\n",
       "    </tr>\n",
       "  </tbody>\n",
       "</table>\n",
       "</div>"
      ],
      "text/plain": [
       "              critic_score  user_score  total_sales\n",
       "critic_score      1.000000    0.641286     0.262028\n",
       "user_score        0.641286    1.000000     0.099743\n",
       "total_sales       0.262028    0.099743     1.000000"
      ]
     },
     "execution_count": 57,
     "metadata": {},
     "output_type": "execute_result"
    }
   ],
   "source": [
    "X360 = actual_data.query('platform == \"X360\"')\n",
    "X360 = X360[['critic_score','user_score','total_sales']]\n",
    "X360.corr()"
   ]
  },
  {
   "cell_type": "markdown",
   "metadata": {},
   "source": [
    "X360:\n",
    "- взаимосвязь между общими продажами и оценками критиков достаточно слабая;\n",
    "- взаимосвязь между общими продажами и оценками пользователей достаточно слабая (еще ниже);\n",
    "- взаимосвязь между оценками критиков и оценками пользователей средняя."
   ]
  },
  {
   "cell_type": "code",
   "execution_count": 58,
   "metadata": {},
   "outputs": [
    {
     "data": {
      "image/png": "[encoded data removed]",
      "text/plain": [
       "<Figure size 432x288 with 1 Axes>"
      ]
     },
     "metadata": {
      "needs_background": "light"
     },
     "output_type": "display_data"
    }
   ],
   "source": [
    "Wii = actual_data.query('platform == \"Wii\"')\n",
    "\n",
    "user_score_filter = (Wii['user_score'] >= Wii['user_score'].quantile(0.01))\n",
    "critic_score_filter = (Wii['critic_score'] != 0)\n",
    "\n",
    "filtered_Wii = Wii[user_score_filter & critic_score_filter]\n",
    "\n",
    "plt.scatter(filtered_Wii['user_score'], filtered_Wii['critic_score'])\n",
    "plt.xlabel('Оценка пользователей')\n",
    "plt.ylabel('Оценка критиков')\n",
    "plt.title('Зависимость оценок пользователей и критиков (Wii)')\n",
    "plt.show()"
   ]
  },
  {
   "cell_type": "markdown",
   "metadata": {},
   "source": [
    "Наблюдается слабая взаимосвязь"
   ]
  },
  {
   "cell_type": "code",
   "execution_count": 59,
   "metadata": {},
   "outputs": [
    {
     "data": {
      "text/html": [
       "<div>\n",
       "<style scoped>\n",
       "    .dataframe tbody tr th:only-of-type {\n",
       "        vertical-align: middle;\n",
       "    }\n",
       "\n",
       "    .dataframe tbody tr th {\n",
       "        vertical-align: top;\n",
       "    }\n",
       "\n",
       "    .dataframe thead th {\n",
       "        text-align: right;\n",
       "    }\n",
       "</style>\n",
       "<table border=\"1\" class=\"dataframe\">\n",
       "  <thead>\n",
       "    <tr style=\"text-align: right;\">\n",
       "      <th></th>\n",
       "      <th>critic_score</th>\n",
       "      <th>user_score</th>\n",
       "      <th>total_sales</th>\n",
       "    </tr>\n",
       "  </thead>\n",
       "  <tbody>\n",
       "    <tr>\n",
       "      <th>critic_score</th>\n",
       "      <td>1.000000</td>\n",
       "      <td>0.559341</td>\n",
       "      <td>0.538121</td>\n",
       "    </tr>\n",
       "    <tr>\n",
       "      <th>user_score</th>\n",
       "      <td>0.559341</td>\n",
       "      <td>1.000000</td>\n",
       "      <td>0.616800</td>\n",
       "    </tr>\n",
       "    <tr>\n",
       "      <th>total_sales</th>\n",
       "      <td>0.538121</td>\n",
       "      <td>0.616800</td>\n",
       "      <td>1.000000</td>\n",
       "    </tr>\n",
       "  </tbody>\n",
       "</table>\n",
       "</div>"
      ],
      "text/plain": [
       "              critic_score  user_score  total_sales\n",
       "critic_score      1.000000    0.559341     0.538121\n",
       "user_score        0.559341    1.000000     0.616800\n",
       "total_sales       0.538121    0.616800     1.000000"
      ]
     },
     "execution_count": 59,
     "metadata": {},
     "output_type": "execute_result"
    }
   ],
   "source": [
    "Wii = actual_data.query('platform == \"Wii\"')\n",
    "Wii = Wii[['critic_score','user_score','total_sales']]\n",
    "Wii.corr()"
   ]
  },
  {
   "cell_type": "markdown",
   "metadata": {},
   "source": [
    "Wii:\n",
    "- взаимосвязь между общими продажами и оценками критиков средняя;\n",
    "- взаимосвязь между общими продажами и оценками пользователей средняя (еще выше);\n",
    "- взаимосвязь между оценками критиков и оценками пользователей средняя."
   ]
  },
  {
   "cell_type": "markdown",
   "metadata": {},
   "source": [
    "Можно сделать выводы для большинства плафторм:\n",
    "- взаимосвязь между оценкой пользователей и оценкой критиков значительно высокая;\n",
    "- взаимосвязь между общими продажами и оценками критиков или пользователей слабая."
   ]
  },
  {
   "cell_type": "markdown",
   "metadata": {},
   "source": [
    "<div class=\"alert alert-danger\" style=\"border-radius: 10px; box-shadow: 2px 2px 2px; border: 1px solid; padding: 10px \">\n",
    "<b>Комментарий ревьюера v.1</b> \n",
    "    \n",
    "✍ \n",
    "В задании нас просят: <b>Соотнесите выводы с продажами игр на других платформах.</b> Предполагается, что мы построим диаграммы рассеяния, а не только посчитаем корреляции, и для других платформ. Выводы, сделанные на основе расчетов по нескольким платформам выглядят \"весомей\" и убедительней. Все платформы не надо, но хотя бы штук пять. И можно сделать циклом.</font>\n",
    "</div>"
   ]
  },
  {
   "cell_type": "markdown",
   "metadata": {},
   "source": [
    "Соотнесите выводы с продажами игр на других платформах.\n",
    "Посмотрите на общее распределение игр по жанрам. Что можно сказать о самых прибыльных жанрах? Выделяются ли жанры с высокими и низкими продажами?"
   ]
  },
  {
   "cell_type": "code",
   "execution_count": 60,
   "metadata": {},
   "outputs": [
    {
     "data": {
      "text/plain": [
       "<AxesSubplot:title={'center':'Количество продаж во всех жанрах'}, xlabel='Жанр', ylabel='Количество продаж'>"
      ]
     },
     "execution_count": 60,
     "metadata": {},
     "output_type": "execute_result"
    },
    {
     "data": {
      "image/png": "[encoded data removed]",
      "text/plain": [
       "<Figure size 432x288 with 1 Axes>"
      ]
     },
     "metadata": {
      "needs_background": "light"
     },
     "output_type": "display_data"
    }
   ],
   "source": [
    "actual_data.pivot_table(index='genre', values='total_sales', aggfunc='sum').sort_values(\n",
    "    by='total_sales', ascending=False).plot(\n",
    "    kind='bar',\n",
    "     title = 'Количество продаж во всех жанрах',\n",
    "    ylabel = 'Количество продаж',\n",
    "    xlabel = 'Жанр'\n",
    ")"
   ]
  },
  {
   "cell_type": "markdown",
   "metadata": {},
   "source": [
    "- Самыми прибыльными жанрами являются: Action, Shooter, Sports;\n",
    "- Самыми прибыльным является жанр Action, наименее прибыльным - жанры Strategy и Puzzle."
   ]
  },
  {
   "cell_type": "markdown",
   "metadata": {},
   "source": [
    "<div class=\"alert alert-danger\" style=\"border-radius: 10px; box-shadow: 2px 2px 2px; border: 1px solid; padding: 10px \">\n",
    "<b>Комментарий ревьюера v.1</b> \n",
    "    \n",
    "✍ \n",
    "Общие продажи - плохая метрика для поиска наиболее прибыльного жанра. За высокими показателями общих продаж может скрываться множество мелких игр с низкими продажами. Или 2-3 звезды и куча провалов. Лучше найти жанр, где игры стабильно приносят высокий доход - для этого стоит рассмотреть средние или медианные продажи. Лучше всего нам это покажет boxplot.\n",
    "</div>"
   ]
  },
  {
   "cell_type": "code",
   "execution_count": 61,
   "metadata": {},
   "outputs": [
    {
     "data": {
      "image/png": "[encoded data removed]",
      "text/plain": [
       "<Figure size 432x288 with 1 Axes>"
      ]
     },
     "metadata": {
      "needs_background": "light"
     },
     "output_type": "display_data"
    }
   ],
   "source": [
    "grouped_data_1 = actual_data.groupby('genre')['total_sales'].apply(list)\n",
    "labels = grouped_data_1.index.tolist() #создаем список меток оси x (labels), используя grouped_data.index.tolist(),\n",
    "                                    # а также создаем список данных для графика (data_list), используя grouped_data.tolist()\n",
    "data_list = grouped_data_1.tolist()\n",
    "plt.boxplot(data_list, labels=labels)\n",
    "plt.xlim (0,13)\n",
    "plt.xticks(rotation=45) \n",
    "plt.ylim (0,2)\n",
    "plt.xlabel('Жанр')\n",
    "plt.ylabel('Глобальные продажи')\n",
    "plt.title('Глобальные продажи игр по жанрам')\n",
    "plt.show()"
   ]
  },
  {
   "cell_type": "markdown",
   "metadata": {},
   "source": [
    "Рассматривая медианные значения можно сделать вывод: **cамыми стабильно прибыльными жанрами являются Platform, Shooter, Sports.**"
   ]
  },
  {
   "cell_type": "markdown",
   "metadata": {},
   "source": [
    "<div class=\"alert alert-danger\" style=\"border-radius: 10px; box-shadow: 2px 2px 2px; border: 1px solid; padding: 10px \">\n",
    "<b>Комментарий ревьюера v.2</b> \n",
    "    \n",
    "✍ \n",
    "Верно, но при расчетах нам необходим актуальный период.\n",
    "</div>"
   ]
  },
  {
   "cell_type": "markdown",
   "metadata": {},
   "source": [
    "<div class=\"alert alert-success\" style=\"border-radius: 10px; box-shadow: 2px 2px 2px; border: 1px solid; padding: 10px \">\n",
    "<b>Комментарий ревьюера v.3</b> \n",
    "    \n",
    "👍 \n",
    "\n",
    "</div>"
   ]
  },
  {
   "cell_type": "markdown",
   "metadata": {},
   "source": [
    "**Общий вывод в рамках исследовательского анализа:**\n",
    "- период с 2007 по 2016 гг. является наиболее значимым для анализа, при этом актуальным будет считаться период с 2012 по 2016 гг.;\n",
    "- в топ 3 по продажам за весь рассматриваемый период входят PS2, Xbox360 и PS3;\n",
    "- у большинства игровых приставок срок \"популярности\", т.е роста продаж составляет 5-6 лет, при этом у ПК срок гораздо выше и динамика изменения продаж более стабильная;\n",
    "- в рамках исследуемого периода платформами с наибольшим потенциалом роста продаж являются PS4 и Xone;\n",
    "- оценка пользователей для большинства топовых платформ сильно зависит от оценки критиков;\n",
    "- общая стоимость имеет слабую связь с оценкой критиков и более меньшую с оценками пользователей;  \n",
    "Если брать общие продажи как основную метрику:\n",
    "- самыми прибыльными жанрами являются: Action, Shooter, Sports;\n",
    "- самыми прибыльным является жанр Action, наименее прибыльным - жанры Strategy и Puzzle;  \n",
    "Если брать медианные значения общих продаж как основную метрику:\n",
    "- cамыми стабильно прибыльными жанрами являются Platform, Shooter, Sports."
   ]
  },
  {
   "cell_type": "markdown",
   "metadata": {},
   "source": [
    "<div class=\"alert alert-success\" style=\"border-radius: 10px; box-shadow: 2px 2px 2px; border: 1px solid; padding: 10px \">\n",
    "<b>Комментарий ревьюера v.1</b> \n",
    "    \n",
    "👍 \n",
    "Молодец, что не забываешь писать промежуточные выводы и сохраняешь стркутуру проекта.\n",
    "</div>"
   ]
  },
  {
   "cell_type": "markdown",
   "metadata": {},
   "source": [
    "# Портрет пользователя каждого региона"
   ]
  },
  {
   "cell_type": "code",
   "execution_count": 62,
   "metadata": {},
   "outputs": [
    {
     "data": {
      "text/html": [
       "<div>\n",
       "<style scoped>\n",
       "    .dataframe tbody tr th:only-of-type {\n",
       "        vertical-align: middle;\n",
       "    }\n",
       "\n",
       "    .dataframe tbody tr th {\n",
       "        vertical-align: top;\n",
       "    }\n",
       "\n",
       "    .dataframe thead th {\n",
       "        text-align: right;\n",
       "    }\n",
       "</style>\n",
       "<table border=\"1\" class=\"dataframe\">\n",
       "  <thead>\n",
       "    <tr style=\"text-align: right;\">\n",
       "      <th></th>\n",
       "      <th>na_sales</th>\n",
       "    </tr>\n",
       "    <tr>\n",
       "      <th>platform</th>\n",
       "      <th></th>\n",
       "    </tr>\n",
       "  </thead>\n",
       "  <tbody>\n",
       "    <tr>\n",
       "      <th>X360</th>\n",
       "      <td>140.05</td>\n",
       "    </tr>\n",
       "    <tr>\n",
       "      <th>PS4</th>\n",
       "      <td>108.74</td>\n",
       "    </tr>\n",
       "    <tr>\n",
       "      <th>PS3</th>\n",
       "      <td>101.27</td>\n",
       "    </tr>\n",
       "    <tr>\n",
       "      <th>XOne</th>\n",
       "      <td>93.12</td>\n",
       "    </tr>\n",
       "    <tr>\n",
       "      <th>3DS</th>\n",
       "      <td>55.31</td>\n",
       "    </tr>\n",
       "    <tr>\n",
       "      <th>WiiU</th>\n",
       "      <td>38.10</td>\n",
       "    </tr>\n",
       "    <tr>\n",
       "      <th>PC</th>\n",
       "      <td>19.12</td>\n",
       "    </tr>\n",
       "    <tr>\n",
       "      <th>Wii</th>\n",
       "      <td>17.45</td>\n",
       "    </tr>\n",
       "    <tr>\n",
       "      <th>PSV</th>\n",
       "      <td>10.98</td>\n",
       "    </tr>\n",
       "    <tr>\n",
       "      <th>DS</th>\n",
       "      <td>4.59</td>\n",
       "    </tr>\n",
       "    <tr>\n",
       "      <th>PSP</th>\n",
       "      <td>0.13</td>\n",
       "    </tr>\n",
       "  </tbody>\n",
       "</table>\n",
       "</div>"
      ],
      "text/plain": [
       "          na_sales\n",
       "platform          \n",
       "X360        140.05\n",
       "PS4         108.74\n",
       "PS3         101.27\n",
       "XOne         93.12\n",
       "3DS          55.31\n",
       "WiiU         38.10\n",
       "PC           19.12\n",
       "Wii          17.45\n",
       "PSV          10.98\n",
       "DS            4.59\n",
       "PSP           0.13"
      ]
     },
     "execution_count": 62,
     "metadata": {},
     "output_type": "execute_result"
    }
   ],
   "source": [
    "actual_data.pivot_table(index='platform', values='na_sales', aggfunc='sum').sort_values(\n",
    "    by='na_sales', ascending=False)"
   ]
  },
  {
   "cell_type": "code",
   "execution_count": 63,
   "metadata": {},
   "outputs": [
    {
     "data": {
      "text/plain": [
       "<AxesSubplot:title={'center':'Количество продаж по платформам в Северной Америке'}, xlabel='Платформа', ylabel='Количество продаж'>"
      ]
     },
     "execution_count": 63,
     "metadata": {},
     "output_type": "execute_result"
    },
    {
     "data": {
      "image/png": "[encoded data removed]",
      "text/plain": [
       "<Figure size 432x288 with 1 Axes>"
      ]
     },
     "metadata": {
      "needs_background": "light"
     },
     "output_type": "display_data"
    }
   ],
   "source": [
    "actual_data.pivot_table(index='platform', values='na_sales', aggfunc='sum').sort_values(\n",
    "    by='na_sales', ascending=False).plot(\n",
    "    kind='bar',\n",
    "     title = 'Количество продаж по платформам в Северной Америке',\n",
    "    ylabel = 'Количество продаж',\n",
    "    xlabel = 'Платформа'\n",
    ")"
   ]
  },
  {
   "cell_type": "markdown",
   "metadata": {},
   "source": [
    "В Северной Америке в топ-5 платформ входят: X360 (американская платформа), WII, PS3, Xone, PS4.  \n",
    "Сумма продаж WII, PS3, Xone, PS4 больше продаж X360 почти на 93,5%."
   ]
  },
  {
   "cell_type": "code",
   "execution_count": 64,
   "metadata": {},
   "outputs": [
    {
     "data": {
      "text/html": [
       "<div>\n",
       "<style scoped>\n",
       "    .dataframe tbody tr th:only-of-type {\n",
       "        vertical-align: middle;\n",
       "    }\n",
       "\n",
       "    .dataframe tbody tr th {\n",
       "        vertical-align: top;\n",
       "    }\n",
       "\n",
       "    .dataframe thead th {\n",
       "        text-align: right;\n",
       "    }\n",
       "</style>\n",
       "<table border=\"1\" class=\"dataframe\">\n",
       "  <thead>\n",
       "    <tr style=\"text-align: right;\">\n",
       "      <th></th>\n",
       "      <th>eu_sales</th>\n",
       "    </tr>\n",
       "    <tr>\n",
       "      <th>platform</th>\n",
       "      <th></th>\n",
       "    </tr>\n",
       "  </thead>\n",
       "  <tbody>\n",
       "    <tr>\n",
       "      <th>PS4</th>\n",
       "      <td>141.09</td>\n",
       "    </tr>\n",
       "    <tr>\n",
       "      <th>PS3</th>\n",
       "      <td>106.63</td>\n",
       "    </tr>\n",
       "    <tr>\n",
       "      <th>X360</th>\n",
       "      <td>74.52</td>\n",
       "    </tr>\n",
       "    <tr>\n",
       "      <th>XOne</th>\n",
       "      <td>51.59</td>\n",
       "    </tr>\n",
       "    <tr>\n",
       "      <th>3DS</th>\n",
       "      <td>42.64</td>\n",
       "    </tr>\n",
       "    <tr>\n",
       "      <th>PC</th>\n",
       "      <td>37.76</td>\n",
       "    </tr>\n",
       "    <tr>\n",
       "      <th>WiiU</th>\n",
       "      <td>25.13</td>\n",
       "    </tr>\n",
       "    <tr>\n",
       "      <th>Wii</th>\n",
       "      <td>11.92</td>\n",
       "    </tr>\n",
       "    <tr>\n",
       "      <th>PSV</th>\n",
       "      <td>11.36</td>\n",
       "    </tr>\n",
       "    <tr>\n",
       "      <th>DS</th>\n",
       "      <td>3.53</td>\n",
       "    </tr>\n",
       "    <tr>\n",
       "      <th>PSP</th>\n",
       "      <td>0.42</td>\n",
       "    </tr>\n",
       "  </tbody>\n",
       "</table>\n",
       "</div>"
      ],
      "text/plain": [
       "          eu_sales\n",
       "platform          \n",
       "PS4         141.09\n",
       "PS3         106.63\n",
       "X360         74.52\n",
       "XOne         51.59\n",
       "3DS          42.64\n",
       "PC           37.76\n",
       "WiiU         25.13\n",
       "Wii          11.92\n",
       "PSV          11.36\n",
       "DS            3.53\n",
       "PSP           0.42"
      ]
     },
     "execution_count": 64,
     "metadata": {},
     "output_type": "execute_result"
    }
   ],
   "source": [
    "actual_data.pivot_table(index='platform', values='eu_sales', aggfunc='sum').sort_values(\n",
    "    by='eu_sales', ascending=False)"
   ]
  },
  {
   "cell_type": "code",
   "execution_count": 65,
   "metadata": {},
   "outputs": [
    {
     "data": {
      "text/plain": [
       "<AxesSubplot:title={'center':'Количество продаж по платформам в Европе'}, xlabel='Платформа', ylabel='Количество продаж'>"
      ]
     },
     "execution_count": 65,
     "metadata": {},
     "output_type": "execute_result"
    },
    {
     "data": {
      "image/png": "[encoded data removed]",
      "text/plain": [
       "<Figure size 432x288 with 1 Axes>"
      ]
     },
     "metadata": {
      "needs_background": "light"
     },
     "output_type": "display_data"
    }
   ],
   "source": [
    "actual_data.pivot_table(index='platform', values='eu_sales', aggfunc='sum').sort_values(\n",
    "    by='eu_sales', ascending=False).plot(\n",
    "    kind='bar',\n",
    "     title = 'Количество продаж по платформам в Европе',\n",
    "    ylabel = 'Количество продаж',\n",
    "    xlabel = 'Платформа'\n",
    ")"
   ]
  },
  {
   "cell_type": "markdown",
   "metadata": {},
   "source": [
    "В Европе в топ-5 платформ входят: PS4, PS3, X360, XOne, 3DS.  \n",
    "Сумма продаж S3, X360, XOne, 3DS больше продаж PS4 почти в 3 раза."
   ]
  },
  {
   "cell_type": "code",
   "execution_count": 66,
   "metadata": {},
   "outputs": [
    {
     "data": {
      "text/html": [
       "<div>\n",
       "<style scoped>\n",
       "    .dataframe tbody tr th:only-of-type {\n",
       "        vertical-align: middle;\n",
       "    }\n",
       "\n",
       "    .dataframe tbody tr th {\n",
       "        vertical-align: top;\n",
       "    }\n",
       "\n",
       "    .dataframe thead th {\n",
       "        text-align: right;\n",
       "    }\n",
       "</style>\n",
       "<table border=\"1\" class=\"dataframe\">\n",
       "  <thead>\n",
       "    <tr style=\"text-align: right;\">\n",
       "      <th></th>\n",
       "      <th>jp_sales</th>\n",
       "    </tr>\n",
       "    <tr>\n",
       "      <th>platform</th>\n",
       "      <th></th>\n",
       "    </tr>\n",
       "  </thead>\n",
       "  <tbody>\n",
       "    <tr>\n",
       "      <th>3DS</th>\n",
       "      <td>87.79</td>\n",
       "    </tr>\n",
       "    <tr>\n",
       "      <th>PS3</th>\n",
       "      <td>35.29</td>\n",
       "    </tr>\n",
       "    <tr>\n",
       "      <th>PSV</th>\n",
       "      <td>21.04</td>\n",
       "    </tr>\n",
       "    <tr>\n",
       "      <th>PS4</th>\n",
       "      <td>15.96</td>\n",
       "    </tr>\n",
       "    <tr>\n",
       "      <th>WiiU</th>\n",
       "      <td>13.01</td>\n",
       "    </tr>\n",
       "    <tr>\n",
       "      <th>PSP</th>\n",
       "      <td>10.47</td>\n",
       "    </tr>\n",
       "    <tr>\n",
       "      <th>DS</th>\n",
       "      <td>3.72</td>\n",
       "    </tr>\n",
       "    <tr>\n",
       "      <th>Wii</th>\n",
       "      <td>3.39</td>\n",
       "    </tr>\n",
       "    <tr>\n",
       "      <th>X360</th>\n",
       "      <td>1.57</td>\n",
       "    </tr>\n",
       "    <tr>\n",
       "      <th>XOne</th>\n",
       "      <td>0.34</td>\n",
       "    </tr>\n",
       "    <tr>\n",
       "      <th>PC</th>\n",
       "      <td>0.00</td>\n",
       "    </tr>\n",
       "  </tbody>\n",
       "</table>\n",
       "</div>"
      ],
      "text/plain": [
       "          jp_sales\n",
       "platform          \n",
       "3DS          87.79\n",
       "PS3          35.29\n",
       "PSV          21.04\n",
       "PS4          15.96\n",
       "WiiU         13.01\n",
       "PSP          10.47\n",
       "DS            3.72\n",
       "Wii           3.39\n",
       "X360          1.57\n",
       "XOne          0.34\n",
       "PC            0.00"
      ]
     },
     "execution_count": 66,
     "metadata": {},
     "output_type": "execute_result"
    }
   ],
   "source": [
    "actual_data.pivot_table(index='platform', values='jp_sales', aggfunc='sum').sort_values(\n",
    "    by='jp_sales', ascending=False)"
   ]
  },
  {
   "cell_type": "code",
   "execution_count": 67,
   "metadata": {},
   "outputs": [
    {
     "data": {
      "text/plain": [
       "<AxesSubplot:title={'center':'Количество продаж по платформам в Японии'}, xlabel='Платформа', ylabel='Количество продаж'>"
      ]
     },
     "execution_count": 67,
     "metadata": {},
     "output_type": "execute_result"
    },
    {
     "data": {
      "image/png": "[encoded data removed]",
      "text/plain": [
       "<Figure size 432x288 with 1 Axes>"
      ]
     },
     "metadata": {
      "needs_background": "light"
     },
     "output_type": "display_data"
    }
   ],
   "source": [
    "actual_data.pivot_table(index='platform', values='jp_sales', aggfunc='sum').sort_values(\n",
    "    by='jp_sales', ascending=False).plot(\n",
    "    kind='bar',\n",
    "     title = 'Количество продаж по платформам в Японии',\n",
    "    ylabel = 'Количество продаж',\n",
    "    xlabel = 'Платформа'\n",
    ")"
   ]
  },
  {
   "cell_type": "markdown",
   "metadata": {},
   "source": [
    "В Японии в топ-5 платформ входят: 3DS, PS3, PSV, PS4, WIIU \n",
    "В Японии пользуются в основном платформами отечественного производства, учитывая при этом такое разнообразие игровых приставок в этой стране."
   ]
  },
  {
   "cell_type": "markdown",
   "metadata": {},
   "source": [
    "<div class=\"alert alert-warning\" style=\"border-radius: 10px; box-shadow: 2px 2px 2px; border: 1px solid; padding: 10px \">\n",
    "<b>Комментарий ревьюера v.1</b> \n",
    "    \n",
    "📝 \n",
    "Исходя из расчетов выводы верны, но послен корректироски актуального периода данные могут поменяться.\n",
    "</div>"
   ]
  },
  {
   "cell_type": "code",
   "execution_count": 68,
   "metadata": {},
   "outputs": [
    {
     "data": {
      "text/plain": [
       "<AxesSubplot:title={'center':'Количество продаж по платформам в Северной Америке'}, xlabel='Жанр', ylabel='Количество продаж'>"
      ]
     },
     "execution_count": 68,
     "metadata": {},
     "output_type": "execute_result"
    },
    {
     "data": {
      "image/png": "[encoded data removed]",
      "text/plain": [
       "<Figure size 432x288 with 1 Axes>"
      ]
     },
     "metadata": {
      "needs_background": "light"
     },
     "output_type": "display_data"
    }
   ],
   "source": [
    "actual_data.pivot_table(index='genre', values='na_sales', aggfunc='sum').sort_values(\n",
    "    by='na_sales', ascending=False).plot(\n",
    "    kind='bar',\n",
    "     title = 'Количество продаж по платформам в Северной Америке',\n",
    "    ylabel = 'Количество продаж',\n",
    "    xlabel = 'Жанр'\n",
    ")"
   ]
  },
  {
   "cell_type": "markdown",
   "metadata": {},
   "source": [
    "В Америке топ-5 популярных жанров: Action, Shooter, Sports, Misc, Role_Playing"
   ]
  },
  {
   "cell_type": "code",
   "execution_count": 69,
   "metadata": {},
   "outputs": [
    {
     "data": {
      "text/plain": [
       "<AxesSubplot:title={'center':'Количество продаж по платформам в Европе'}, xlabel='Жанр', ylabel='Количество продаж'>"
      ]
     },
     "execution_count": 69,
     "metadata": {},
     "output_type": "execute_result"
    },
    {
     "data": {
      "image/png": "[encoded data removed]",
      "text/plain": [
       "<Figure size 432x288 with 1 Axes>"
      ]
     },
     "metadata": {
      "needs_background": "light"
     },
     "output_type": "display_data"
    }
   ],
   "source": [
    "actual_data.pivot_table(index='genre', values='eu_sales', aggfunc='sum').sort_values(\n",
    "    by='eu_sales', ascending=False).plot(\n",
    "    kind='bar',\n",
    "     title = 'Количество продаж по платформам в Европе',\n",
    "    ylabel = 'Количество продаж',\n",
    "    xlabel = 'Жанр'\n",
    ")"
   ]
  },
  {
   "cell_type": "markdown",
   "metadata": {},
   "source": [
    "В Европе топ-5 популярных жанров: Action, Shooter, Sports, Racing, Role-Playing"
   ]
  },
  {
   "cell_type": "code",
   "execution_count": 70,
   "metadata": {},
   "outputs": [
    {
     "data": {
      "text/plain": [
       "<AxesSubplot:title={'center':'Количество продаж по платформам в Японии'}, xlabel='Жанр', ylabel='Количество продаж'>"
      ]
     },
     "execution_count": 70,
     "metadata": {},
     "output_type": "execute_result"
    },
    {
     "data": {
      "image/png": "[encoded data removed]",
      "text/plain": [
       "<Figure size 432x288 with 1 Axes>"
      ]
     },
     "metadata": {
      "needs_background": "light"
     },
     "output_type": "display_data"
    }
   ],
   "source": [
    "actual_data.pivot_table(index='genre', values='jp_sales', aggfunc='sum').sort_values(\n",
    "    by='jp_sales', ascending=False).plot(\n",
    "    kind='bar',\n",
    "     title = 'Количество продаж по платформам в Японии',\n",
    "    ylabel = 'Количество продаж',\n",
    "    xlabel = 'Жанр'\n",
    ")"
   ]
  },
  {
   "cell_type": "markdown",
   "metadata": {},
   "source": [
    "В Японии топ-5 популярных жанров: Role_playing, Action, Misc, Simulation, Fighting"
   ]
  },
  {
   "cell_type": "markdown",
   "metadata": {},
   "source": [
    "По жанрам можно сделать вывод: в Америке и Европе наиболее популяреные жанры практически совпадают, при этом в Японии на первом месте стоит Role-playing, а шутер гораздо ниже по популярности. Можно предположить, что здесь наблюдается разница в менталитетах и вкусовых предпочтениях разных культур."
   ]
  },
  {
   "cell_type": "markdown",
   "metadata": {},
   "source": [
    "<div class=\"alert alert-success\" style=\"border-radius: 10px; box-shadow: 2px 2px 2px; border: 1px solid; padding: 10px \">\n",
    "<b>Комментарий ревьюера v.1</b> \n",
    "    \n",
    "👍 \n",
    "Согласен, NA и EU во многом схожи, в то время, как Япония более самобытна.\n",
    "</div>"
   ]
  },
  {
   "cell_type": "code",
   "execution_count": 71,
   "metadata": {},
   "outputs": [
    {
     "data": {
      "text/plain": [
       "<AxesSubplot:title={'center':'Продажи в регионах в зависимости от рейтинга'}, xlabel='Рейтинг', ylabel='Количество продаж'>"
      ]
     },
     "execution_count": 71,
     "metadata": {},
     "output_type": "execute_result"
    },
    {
     "data": {
      "image/png": "[encoded data removed]",
      "text/plain": [
       "<Figure size 432x288 with 1 Axes>"
      ]
     },
     "metadata": {
      "needs_background": "light"
     },
     "output_type": "display_data"
    }
   ],
   "source": [
    "actual_data.pivot_table(index='rating', values = ['na_sales', 'eu_sales', 'jp_sales'], aggfunc = 'sum').plot(\n",
    "    kind='bar',\n",
    "    title = 'Продажи в регионах в зависимости от рейтинга',\n",
    "    ylabel = 'Количество продаж',\n",
    "    xlabel = 'Рейтинг'\n",
    ")"
   ]
  },
  {
   "cell_type": "markdown",
   "metadata": {},
   "source": [
    "По графику выше видно, что рейтинг ESRB влияет на объем продажтолько в регионе Северной Америки и Европе, при этом продажи в Японии значительно выше у игр без рейтинга."
   ]
  },
  {
   "cell_type": "markdown",
   "metadata": {},
   "source": [
    "<div class=\"alert alert-danger\" style=\"border-radius: 10px; box-shadow: 2px 2px 2px; border: 1px solid; padding: 10px \">\n",
    "<b>Комментарий ревьюера v.1</b> \n",
    "    \n",
    "✍ \n",
    "Мы при предобработке данных не поставили заглушку на пропуски в рейтинге ESRB. И игры без рейтинга оказываются полностью исключенными из анализа. Но продажи именно этих игр могут указать на ключевое различие в регионах.\n",
    "\n",
    "А проблема у нас в том, что если посмотреть в инете, что из себя представляет рейтинг ESRB, то окажется, что он предназначен для маркировки игр для США и Канады. И логично, что для других регионов он не заполняется. Наша задача смотреть шире на исходный датасет, так как за цифрами находятся реальные бизнес-процессы. И мы должны это учитывать при предобработке данных. Для этого лучше поставить заглушку и вывести ее при анализе, например `Unknown`.\n",
    "</div>"
   ]
  },
  {
   "cell_type": "markdown",
   "metadata": {},
   "source": [
    "<div class=\"alert alert-success\" style=\"border-radius: 10px; box-shadow: 2px 2px 2px; border: 1px solid; padding: 10px \">\n",
    "<b>Комментарий ревьюера v.2</b> \n",
    "    \n",
    "👍 \n",
    "Верно\n",
    "</div>"
   ]
  },
  {
   "cell_type": "markdown",
   "metadata": {},
   "source": [
    "**Общий вывод:**\n",
    "- В Северной Америке в топ-5 платформ входят: X360 (американская платформа), WII, PS3, Xone, PS4.  \n",
    "Сумма продаж WII, PS3, Xone, PS4 больше продаж X360 почти на 93,5%.\n",
    "- В Европе в топ-5 платформ входят: PS4, PS3, X360, XOne, 3DS.  \n",
    "Сумма продаж S3, X360, XOne, 3DS больше продаж PS4 почти в 3 раза.\n",
    "- В Японии в топ-5 платформ входят: 3DS, PS3, PSV, PS4, WIIU.\n",
    "В Японии пользуются в основном платформами отечественного производства, учитывая при этом такое разнообразие игровых приставок в этой стране.\n",
    "- По жанрам можно сделать вывод: в Америке и Европе наиболее популяреные жанры практически совпадают , при этом в Японии на первом месте стоит Role-playing, а шутеры значительно уступают по популярности. Можно предположить, что здесь наблюдается разница в менталитетах и вкусовых предпочтениях разных культур.\n",
    "- По графику выше видно, что рейтинг ESRB влияет на объем продаж в зависимости от региона: Северная Америка или Европа, в Японии от данного рейтинга продажи не зависят."
   ]
  },
  {
   "cell_type": "markdown",
   "metadata": {},
   "source": [
    "# Проверка гипотез"
   ]
  },
  {
   "cell_type": "markdown",
   "metadata": {},
   "source": [
    "Т.к. нет оснований полагать, что разброс будет сильно отличаться, не будем использовать дополнительный параметр equal_var=False.  \n",
    "Проверяем двустороннюю гипотезу (используем аргумент 'two-sided')"
   ]
  },
  {
   "cell_type": "markdown",
   "metadata": {},
   "source": [
    "H_0: Средний пользовательский рейтинг платформы Xbox One =  Средний пользовательский рейтинг платформы PC\n",
    "\n",
    "H_1: Средний пользовательский рейтинг платформы Xbox One != Средний пользовательский рейтинг платформы PC\n",
    "\n",
    "alpha = 0.05"
   ]
  },
  {
   "cell_type": "markdown",
   "metadata": {},
   "source": [
    "<div class=\"alert alert-success\" style=\"border-radius: 10px; box-shadow: 2px 2px 2px; border: 1px solid; padding: 10px \">\n",
    "<b>Комментарий ревьюера v.1</b> \n",
    "    \n",
    "👍 \n",
    "Гипотезы сформулированы верно.\n",
    "</div>"
   ]
  },
  {
   "cell_type": "code",
   "execution_count": 72,
   "metadata": {},
   "outputs": [
    {
     "name": "stdout",
     "output_type": "stream",
     "text": [
      "p-значение: 0.5535080500643661\n",
      "Не получилось отвергнуть нулевую гипотезу\n"
     ]
    }
   ],
   "source": [
    "Xone = actual_data[(actual_data['platform'] == 'XOne') & (actual_data['user_score'] > 0)]['user_score']\n",
    "PC = actual_data[(actual_data['platform'] == 'PC') & (actual_data['user_score'] > 0)]['user_score']\n",
    "\n",
    "alpha = 0.05\n",
    "results = st.ttest_ind(Xone, PC)\n",
    "\n",
    "print('p-значение:', results.pvalue)\n",
    "\n",
    "if results.pvalue < alpha:\n",
    "    print('Отвергаем нулевую гипотезу')\n",
    "else:\n",
    "    print('Не получилось отвергнуть нулевую гипотезу') "
   ]
  },
  {
   "cell_type": "markdown",
   "metadata": {},
   "source": [
    "<div class=\"alert alert-danger\" style=\"border-radius: 10px; box-shadow: 2px 2px 2px; border: 1px solid; padding: 10px \">\n",
    "<b>Комментарий ревьюера v.1</b> \n",
    "    \n",
    "✍ \n",
    "Тест проведен корректно, но не по корректному актуальному периоду, а прогноз мы строим именно по нему. А также pvalue должен быть меньше alpha. Прошу тебя перечитать теорию.\n",
    "</div>"
   ]
  },
  {
   "cell_type": "markdown",
   "metadata": {},
   "source": [
    "<div class=\"alert alert-success\" style=\"border-radius: 10px; box-shadow: 2px 2px 2px; border: 1px solid; padding: 10px \">\n",
    "<b>Комментарий ревьюера v.2</b> \n",
    "    \n",
    "👍 \n",
    "Верно\n",
    "</div>"
   ]
  },
  {
   "cell_type": "markdown",
   "metadata": {},
   "source": [
    "H_0: Средний пользовательский рейтинг жанра Action =  Средний пользовательский рейтинг жанра Sport\n",
    "\n",
    "H_1: Средний пользовательский рейтинг жанра Action !=  Средний пользовательский рейтинг жанра Sport\n",
    "\n",
    "alpha = 0.05"
   ]
  },
  {
   "cell_type": "markdown",
   "metadata": {},
   "source": [
    "<div class=\"alert alert-danger\" style=\"border-radius: 10px; box-shadow: 2px 2px 2px; border: 1px solid; padding: 10px \">\n",
    "<b>Комментарий ревьюера v.1</b> \n",
    "    \n",
    "✍ \n",
    "Нулевая гипотеза всегда формулируется так, чтобы использовать знак **равенства**. Другими словами, чтобы все данные лежали в районе изначально предполагаемого значения.\n",
    "</div>"
   ]
  },
  {
   "cell_type": "markdown",
   "metadata": {},
   "source": [
    "<div class=\"alert alert-success\" style=\"border-radius: 10px; box-shadow: 2px 2px 2px; border: 1px solid; padding: 10px \">\n",
    "<b>Комментарий ревьюера v.2</b> \n",
    "    \n",
    "👍 \n",
    "\n",
    "</div>"
   ]
  },
  {
   "cell_type": "code",
   "execution_count": 73,
   "metadata": {},
   "outputs": [
    {
     "name": "stdout",
     "output_type": "stream",
     "text": [
      "p-значение: 6.211971243854251e-26\n",
      "Отвергаем нулевую гипотезу\n"
     ]
    }
   ],
   "source": [
    "Action = actual_data[(actual_data['genre'] == 'Action') & (actual_data['user_score'] > 0)]['user_score']\n",
    "Sports = actual_data[(actual_data['genre'] == 'Sports') & (actual_data['user_score'] > 0)]['user_score']\n",
    "\n",
    "alpha = 0.05\n",
    "results = st.ttest_ind(Action, Sports)\n",
    "\n",
    "print('p-значение:', results.pvalue)\n",
    "\n",
    "if results.pvalue < alpha:\n",
    "    print('Отвергаем нулевую гипотезу')\n",
    "else:\n",
    "    print('Не получилось отвергнуть нулевую гипотезуу') "
   ]
  },
  {
   "cell_type": "markdown",
   "metadata": {},
   "source": [
    "<div class=\"alert alert-danger\" style=\"border-radius: 10px; box-shadow: 2px 2px 2px; border: 1px solid; padding: 10px \">\n",
    "<b>Комментарий ревьюера v.1</b> \n",
    "    \n",
    "✍ \n",
    "Аналогично про актуальный период, и про pvalue\n",
    "</div>"
   ]
  },
  {
   "cell_type": "markdown",
   "metadata": {},
   "source": [
    "<div class=\"alert alert-success\" style=\"border-radius: 10px; box-shadow: 2px 2px 2px; border: 1px solid; padding: 10px \">\n",
    "<b>Комментарий ревьюера v.2</b> \n",
    "    \n",
    "👍 \n",
    "\n",
    "</div>"
   ]
  },
  {
   "cell_type": "markdown",
   "metadata": {},
   "source": [
    "Проверка гипотез показала:\n",
    "- Средние пользовательские рейтинги платформ Xbox One и PC одинаковые - гипотезу не отвергаем;\n",
    "- Средние пользовательские рейтинги жанров Action (англ. «действие», экшен-игры) и Sports (англ. «спортивные соревнования») разные - гипотезу не отвергаем."
   ]
  },
  {
   "cell_type": "markdown",
   "metadata": {},
   "source": [
    "<div class=\"alert alert-success\" style=\"border-radius: 10px; box-shadow: 2px 2px 2px; border: 1px solid; padding: 10px \">\n",
    "<b>Комментарий ревьюера v.1</b> \n",
    "    \n",
    "👍 \n",
    "* Правильно, что для тестирования гипотез использован двусторонний t-тест Стьюдента.\n",
    "\n",
    "* Хорошо, что использован параметр отфильтровывющий пропуски. \n",
    "</div>"
   ]
  },
  {
   "cell_type": "markdown",
   "metadata": {},
   "source": [
    "<div class=\"alert alert-warning\" style=\"border-radius: 10px; box-shadow: 2px 2px 2px; border: 1px solid; padding: 10px \">\n",
    "<b>Комментарий ревьюера v.1</b> \n",
    "    \n",
    "📝 \n",
    "Также можно вывести не только pvalue, но еще и средние значения выборок, которые мы изучаем. Это позволит нам проверить не ошиблись ли мы, если они расходятся с тестом Стьюдента.\n",
    "</div>"
   ]
  },
  {
   "cell_type": "markdown",
   "metadata": {},
   "source": [
    "# Общий вывод"
   ]
  },
  {
   "cell_type": "markdown",
   "metadata": {},
   "source": [
    "## Предобработка данных\n",
    "*В рамках предобработки данных были произведены следующие операции*: \n",
    "- изменили типы данных в некоторых столбцах для экономии памяти компьютера и удобства дальнейшей работы;\n",
    "- заменили пропущенные значения в тех столбцах, где это имело смысл;\n",
    "- добавили новый столбец с общей суммой продаж;\n",
    "- отработали дубликаты;\n",
    "- привели названия столбцов к нижнему регистру.  \n",
    "## Проведение исследовательского анализа данных\n",
    "- период с 2007 по 2016 гг. является наиболее значимым для анализа, при этом актуальным будет считаться период с 2012 по 2016 гг.;\n",
    "- в топ 3 по продажам за весь рассматриваемый период входят PS2, Xbox360 и PS3;\n",
    "- у большинства игровых приставок срок \"популярности\", т.е роста продаж составляет 5-6 лет, при этом у ПК срок гораздо выше и динамика изменения продаж более стабильная;\n",
    "- в рамках исследуемого периода платформами с наибольшим потенциалом роста продаж являются PS4 и Xone;\n",
    "- оценка пользователей для большинства топовых платформ сильно зависит от оценки критиков;\n",
    "- общая стоимость имеет слабую связь с оценкой критиков и более меньшую с оценками пользователей;  \n",
    "Если брать общие продажи как основную метрику:\n",
    "- самыми прибыльными жанрами являются: Action, Shooter, Sports;\n",
    "- самыми прибыльным является жанр Action, наименее прибыльным - жанры Strategy и Puzzle;  \n",
    "Если брать медианные значения общих продаж как основную метрику:\n",
    "- cамыми стабильно прибыльными жанрами являются Platform, Shooter, Sports.\n",
    "\n",
    "## Составление портрета пользователя каждого региона\n",
    "- В Северной Америке в топ-5 платформ входят: X360 (американская платформа), WII, PS3, Xone, PS4.  \n",
    "Сумма продаж WII, PS3, Xone, PS4 больше продаж X360 почти на 93,5%.\n",
    "- В Европе в топ-5 платформ входят: PS4, PS3, X360, XOne, 3DS.  \n",
    "Сумма продаж S3, X360, XOne, 3DS больше продаж PS4 почти в 3 раза.\n",
    "- В Японии в топ-5 платформ входят: 3DS, PS3, PSV, PS4, WIIU.\n",
    "В Японии пользуются в основном платформами отечественного производства, учитывая при этом такое разнообразие игровых приставок в этой стране.\n",
    "- По жанрам можно сделать вывод: в Америке и Европе наиболее популяреные жанры практически совпадают , при этом в Японии на первом месте стоит Role-playing, а шутеры значительно уступают по популярности. Можно предположить, что здесь наблюдается разница в менталитетах и вкусовых предпочтениях разных культур.\n",
    "- По графику выше видно, что рейтинг ESRB влияет на объем продаж в зависимости от региона: Северная Америка или Европа, в Японии от данного рейтинга продажи не зависят.  \n",
    "## Проверка гипотез\n",
    "- Средние пользовательские рейтинги платформ Xbox One и PC одинаковые - гипотезу не отвергаем;\n",
    "- Средние пользовательские рейтинги жанров Action (англ. «действие», экшен-игры) и Sports (англ. «спортивные соревнования») разные - гипотезу не отвергаем."
   ]
  },
  {
   "cell_type": "markdown",
   "metadata": {},
   "source": [
    "<div class=\"alert alert-success\" style=\"border-radius: 10px; box-shadow: 2px 2px 2px; border: 1px solid; padding: 10px \">\n",
    "<b>Комментарий ревьюера v.1</b> \n",
    "    \n",
    "👍 \n",
    "Выводы понятны и логичны, а самое главное подкреплены выявленными фактами. Но не забудь все перепроверить послп корректировок.\n",
    "    \n",
    "Ты очень серьезно подходишь к визуализации.\n",
    "\n",
    "Вот пара ссылок на полезные источники:https://habr.com/ru/company/otus/blog/540526/, https://pythonru.com/biblioteki/seaborn-plot\n",
    "</div>"
   ]
  },
  {
   "cell_type": "markdown",
   "metadata": {},
   "source": [
    "<div style=\"border:solid indigo 3px; padding: 20px\">\n",
    "<div class=\"alert alert-success\">\n",
    "<b>Обратная связь v.1</b> \n",
    "    \n",
    "👋  \n",
    "Иван, замечательная работа, ты мыслишь нестандартно, это отличный навык, который у тебя уже есть, ты последователен и вдумчив. Твою работу очень интересно читать и проверять.  Я оставил несколько обязательных поправок для тебя и после этого буду готов сразу принять проект. \n",
    "\n",
    "Удачи в доработках, жду!  "
   ]
  },
  {
   "cell_type": "markdown",
   "metadata": {},
   "source": [
    "<div style=\"border:solid blue 3px; padding: 20px\">\n",
    "<div class=\"alert alert-success\">\n",
    "<b>Обратная связь v.2</b> \n",
    "    \n",
    "👋 \n",
    "Иван, спасибо, что прислал работу на повторное ревью. По проекту осталось несколько моментов, которые требуют твоего внимания. Их ты найдешь под `Комментарий ревьюера v.2`.\n",
    "    \n",
    "Удачи в доработках, жду!"
   ]
  },
  {
   "cell_type": "markdown",
   "metadata": {},
   "source": [
    "<div style=\"border:solid indigo 3px; padding: 20px\">\n",
    "<div class=\"alert alert-success\">\n",
    "<b>Обратная связь v.3</b> \n",
    "    \n",
    "👋 \n",
    "      \n",
    "Иван, спасибо тебе за исправления критических моментов, а также спасибо за хорошую работу.\n",
    "    \n",
    "Поздравляю с успешным завершением проекта 🥳 🎉\n",
    "    \n",
    "И желаю успехов в новых работах 😊"
   ]
  }
 ],
 "metadata": {
  "ExecuteTimeLog": [
   {
    "duration": 1279,
    "start_time": "2023-07-03T08:54:30.773Z"
   },
   {
    "duration": 107,
    "start_time": "2023-07-03T08:54:32.054Z"
   },
   {
    "duration": 132,
    "start_time": "2023-07-03T08:54:41.953Z"
   },
   {
    "duration": 80,
    "start_time": "2023-07-03T08:54:49.677Z"
   },
   {
    "duration": 3,
    "start_time": "2023-07-03T08:58:45.300Z"
   },
   {
    "duration": 113,
    "start_time": "2023-07-03T08:58:45.306Z"
   },
   {
    "duration": 14,
    "start_time": "2023-07-03T08:58:45.421Z"
   },
   {
    "duration": 15,
    "start_time": "2023-07-03T08:59:51.299Z"
   },
   {
    "duration": 122,
    "start_time": "2023-07-03T09:09:21.558Z"
   },
   {
    "duration": 3,
    "start_time": "2023-07-03T09:35:14.022Z"
   },
   {
    "duration": 18,
    "start_time": "2023-07-03T09:35:30.277Z"
   },
   {
    "duration": 4,
    "start_time": "2023-07-03T09:36:58.788Z"
   },
   {
    "duration": 1856,
    "start_time": "2023-07-03T09:39:11.738Z"
   },
   {
    "duration": 6,
    "start_time": "2023-07-03T09:39:24.779Z"
   },
   {
    "duration": 15,
    "start_time": "2023-07-03T09:40:12.679Z"
   },
   {
    "duration": 16,
    "start_time": "2023-07-03T09:40:44.658Z"
   },
   {
    "duration": 16,
    "start_time": "2023-07-03T09:40:54.879Z"
   },
   {
    "duration": 17,
    "start_time": "2023-07-03T09:42:29.780Z"
   },
   {
    "duration": 29,
    "start_time": "2023-07-03T09:44:35.607Z"
   },
   {
    "duration": 5,
    "start_time": "2023-07-03T09:45:06.971Z"
   },
   {
    "duration": 20,
    "start_time": "2023-07-03T09:45:24.543Z"
   },
   {
    "duration": 14,
    "start_time": "2023-07-03T09:47:31.513Z"
   },
   {
    "duration": 4,
    "start_time": "2023-07-03T09:47:32.422Z"
   },
   {
    "duration": 14,
    "start_time": "2023-07-03T09:47:33.115Z"
   },
   {
    "duration": 15,
    "start_time": "2023-07-03T09:47:55.771Z"
   },
   {
    "duration": 3,
    "start_time": "2023-07-03T09:48:11.294Z"
   },
   {
    "duration": 50,
    "start_time": "2023-07-03T09:48:11.313Z"
   },
   {
    "duration": 14,
    "start_time": "2023-07-03T09:48:11.365Z"
   },
   {
    "duration": 23,
    "start_time": "2023-07-03T09:48:11.381Z"
   },
   {
    "duration": 14,
    "start_time": "2023-07-03T09:48:11.406Z"
   },
   {
    "duration": 3,
    "start_time": "2023-07-03T09:48:11.422Z"
   },
   {
    "duration": 18,
    "start_time": "2023-07-03T09:48:11.426Z"
   },
   {
    "duration": 7,
    "start_time": "2023-07-03T09:48:11.445Z"
   },
   {
    "duration": 5,
    "start_time": "2023-07-03T09:48:11.453Z"
   },
   {
    "duration": 17,
    "start_time": "2023-07-03T09:48:11.460Z"
   },
   {
    "duration": 5,
    "start_time": "2023-07-03T09:48:59.350Z"
   },
   {
    "duration": 4,
    "start_time": "2023-07-03T09:49:00.080Z"
   },
   {
    "duration": 13,
    "start_time": "2023-07-03T09:49:00.648Z"
   },
   {
    "duration": 4,
    "start_time": "2023-07-03T09:49:16.283Z"
   },
   {
    "duration": 13,
    "start_time": "2023-07-03T09:49:24.420Z"
   },
   {
    "duration": 15,
    "start_time": "2023-07-03T09:49:40.902Z"
   },
   {
    "duration": 5,
    "start_time": "2023-07-03T09:49:53.763Z"
   },
   {
    "duration": 4,
    "start_time": "2023-07-03T09:49:54.214Z"
   },
   {
    "duration": 19,
    "start_time": "2023-07-03T09:49:54.793Z"
   },
   {
    "duration": 14,
    "start_time": "2023-07-03T09:52:03.663Z"
   },
   {
    "duration": 3,
    "start_time": "2023-07-03T09:52:04.407Z"
   },
   {
    "duration": 17,
    "start_time": "2023-07-03T09:52:05.396Z"
   },
   {
    "duration": 22,
    "start_time": "2023-07-03T09:52:16.542Z"
   },
   {
    "duration": 15,
    "start_time": "2023-07-03T09:58:06.563Z"
   },
   {
    "duration": 24,
    "start_time": "2023-07-03T09:59:40.013Z"
   },
   {
    "duration": 16,
    "start_time": "2023-07-03T09:59:52.710Z"
   },
   {
    "duration": 11,
    "start_time": "2023-07-03T10:29:17.219Z"
   },
   {
    "duration": 16,
    "start_time": "2023-07-03T10:29:29.649Z"
   },
   {
    "duration": 65,
    "start_time": "2023-07-03T10:29:47.598Z"
   },
   {
    "duration": 23,
    "start_time": "2023-07-03T10:46:18.817Z"
   },
   {
    "duration": 24,
    "start_time": "2023-07-03T10:48:46.450Z"
   },
   {
    "duration": 5,
    "start_time": "2023-07-03T10:48:56.384Z"
   },
   {
    "duration": 8,
    "start_time": "2023-07-03T10:49:51.041Z"
   },
   {
    "duration": 140,
    "start_time": "2023-07-03T10:52:55.376Z"
   },
   {
    "duration": 87,
    "start_time": "2023-07-03T10:53:06.201Z"
   },
   {
    "duration": 140,
    "start_time": "2023-07-03T10:53:18.244Z"
   },
   {
    "duration": 17,
    "start_time": "2023-07-03T10:53:44.036Z"
   },
   {
    "duration": 6,
    "start_time": "2023-07-03T10:53:53.618Z"
   },
   {
    "duration": 1263,
    "start_time": "2023-07-03T17:29:55.575Z"
   },
   {
    "duration": 199,
    "start_time": "2023-07-03T17:29:56.840Z"
   },
   {
    "duration": 20,
    "start_time": "2023-07-03T17:29:57.041Z"
   },
   {
    "duration": 18,
    "start_time": "2023-07-03T17:29:57.063Z"
   },
   {
    "duration": 16,
    "start_time": "2023-07-03T17:29:57.083Z"
   },
   {
    "duration": 5,
    "start_time": "2023-07-03T17:29:57.101Z"
   },
   {
    "duration": 16,
    "start_time": "2023-07-03T17:29:57.108Z"
   },
   {
    "duration": 7,
    "start_time": "2023-07-03T17:29:57.126Z"
   },
   {
    "duration": 12,
    "start_time": "2023-07-03T17:29:57.134Z"
   },
   {
    "duration": 30,
    "start_time": "2023-07-03T17:29:57.148Z"
   },
   {
    "duration": 15,
    "start_time": "2023-07-03T17:29:57.180Z"
   },
   {
    "duration": 20,
    "start_time": "2023-07-03T17:29:57.196Z"
   },
   {
    "duration": 72,
    "start_time": "2023-07-03T17:29:57.217Z"
   },
   {
    "duration": 8,
    "start_time": "2023-07-03T17:29:57.291Z"
   },
   {
    "duration": 11,
    "start_time": "2023-07-03T17:29:57.300Z"
   },
   {
    "duration": 6,
    "start_time": "2023-07-03T17:30:28.642Z"
   },
   {
    "duration": 8,
    "start_time": "2023-07-03T17:31:39.561Z"
   },
   {
    "duration": 5,
    "start_time": "2023-07-03T17:31:40.619Z"
   },
   {
    "duration": 5,
    "start_time": "2023-07-03T17:31:59.319Z"
   },
   {
    "duration": 5,
    "start_time": "2023-07-03T17:32:00.118Z"
   },
   {
    "duration": 122,
    "start_time": "2023-07-03T17:33:50.239Z"
   },
   {
    "duration": 6,
    "start_time": "2023-07-03T17:38:53.874Z"
   },
   {
    "duration": 16,
    "start_time": "2023-07-03T17:39:02.814Z"
   },
   {
    "duration": 5,
    "start_time": "2023-07-03T17:39:55.817Z"
   },
   {
    "duration": 5,
    "start_time": "2023-07-03T17:39:57.135Z"
   },
   {
    "duration": 5,
    "start_time": "2023-07-03T17:39:57.967Z"
   },
   {
    "duration": 5,
    "start_time": "2023-07-03T17:39:58.732Z"
   },
   {
    "duration": 17,
    "start_time": "2023-07-03T17:39:59.741Z"
   },
   {
    "duration": 3,
    "start_time": "2023-07-03T17:41:06.308Z"
   },
   {
    "duration": 53,
    "start_time": "2023-07-03T17:41:06.336Z"
   },
   {
    "duration": 14,
    "start_time": "2023-07-03T17:41:06.391Z"
   },
   {
    "duration": 23,
    "start_time": "2023-07-03T17:41:06.407Z"
   },
   {
    "duration": 18,
    "start_time": "2023-07-03T17:41:06.432Z"
   },
   {
    "duration": 16,
    "start_time": "2023-07-03T17:41:06.452Z"
   },
   {
    "duration": 15,
    "start_time": "2023-07-03T17:41:06.469Z"
   },
   {
    "duration": 7,
    "start_time": "2023-07-03T17:41:06.485Z"
   },
   {
    "duration": 10,
    "start_time": "2023-07-03T17:41:06.493Z"
   },
   {
    "duration": 15,
    "start_time": "2023-07-03T17:41:06.504Z"
   },
   {
    "duration": 13,
    "start_time": "2023-07-03T17:41:06.520Z"
   },
   {
    "duration": 9,
    "start_time": "2023-07-03T17:41:06.534Z"
   },
   {
    "duration": 14,
    "start_time": "2023-07-03T17:41:06.569Z"
   },
   {
    "duration": 14,
    "start_time": "2023-07-03T17:41:06.585Z"
   },
   {
    "duration": 7,
    "start_time": "2023-07-03T17:41:06.601Z"
   },
   {
    "duration": 7,
    "start_time": "2023-07-03T17:41:06.609Z"
   },
   {
    "duration": 12,
    "start_time": "2023-07-03T17:41:06.617Z"
   },
   {
    "duration": 17,
    "start_time": "2023-07-03T17:41:06.631Z"
   },
   {
    "duration": 45,
    "start_time": "2023-07-03T17:43:44.615Z"
   },
   {
    "duration": 52,
    "start_time": "2023-07-03T17:44:11.099Z"
   },
   {
    "duration": 3,
    "start_time": "2023-07-03T17:44:40.261Z"
   },
   {
    "duration": 50,
    "start_time": "2023-07-03T17:44:40.273Z"
   },
   {
    "duration": 15,
    "start_time": "2023-07-03T17:44:40.325Z"
   },
   {
    "duration": 16,
    "start_time": "2023-07-03T17:44:40.341Z"
   },
   {
    "duration": 14,
    "start_time": "2023-07-03T17:44:40.359Z"
   },
   {
    "duration": 3,
    "start_time": "2023-07-03T17:44:40.374Z"
   },
   {
    "duration": 13,
    "start_time": "2023-07-03T17:44:40.378Z"
   },
   {
    "duration": 6,
    "start_time": "2023-07-03T17:44:40.392Z"
   },
   {
    "duration": 4,
    "start_time": "2023-07-03T17:44:40.399Z"
   },
   {
    "duration": 13,
    "start_time": "2023-07-03T17:44:40.404Z"
   },
   {
    "duration": 12,
    "start_time": "2023-07-03T17:44:40.419Z"
   },
   {
    "duration": 39,
    "start_time": "2023-07-03T17:44:40.432Z"
   },
   {
    "duration": 13,
    "start_time": "2023-07-03T17:44:40.473Z"
   },
   {
    "duration": 5,
    "start_time": "2023-07-03T17:44:40.487Z"
   },
   {
    "duration": 5,
    "start_time": "2023-07-03T17:44:40.493Z"
   },
   {
    "duration": 11,
    "start_time": "2023-07-03T17:44:40.499Z"
   },
   {
    "duration": 6,
    "start_time": "2023-07-03T17:44:40.511Z"
   },
   {
    "duration": 14,
    "start_time": "2023-07-03T17:44:40.518Z"
   },
   {
    "duration": 72,
    "start_time": "2023-07-03T17:44:40.533Z"
   },
   {
    "duration": 3,
    "start_time": "2023-07-03T17:45:04.694Z"
   },
   {
    "duration": 57,
    "start_time": "2023-07-03T17:45:04.699Z"
   },
   {
    "duration": 16,
    "start_time": "2023-07-03T17:45:04.758Z"
   },
   {
    "duration": 34,
    "start_time": "2023-07-03T17:45:04.776Z"
   },
   {
    "duration": 14,
    "start_time": "2023-07-03T17:45:04.812Z"
   },
   {
    "duration": 4,
    "start_time": "2023-07-03T17:45:04.827Z"
   },
   {
    "duration": 22,
    "start_time": "2023-07-03T17:45:04.833Z"
   },
   {
    "duration": 11,
    "start_time": "2023-07-03T17:45:04.857Z"
   },
   {
    "duration": 4,
    "start_time": "2023-07-03T17:45:04.870Z"
   },
   {
    "duration": 13,
    "start_time": "2023-07-03T17:45:04.876Z"
   },
   {
    "duration": 13,
    "start_time": "2023-07-03T17:45:04.891Z"
   },
   {
    "duration": 9,
    "start_time": "2023-07-03T17:45:04.905Z"
   },
   {
    "duration": 14,
    "start_time": "2023-07-03T17:45:04.915Z"
   },
   {
    "duration": 38,
    "start_time": "2023-07-03T17:45:04.932Z"
   },
   {
    "duration": 14,
    "start_time": "2023-07-03T17:45:04.972Z"
   },
   {
    "duration": 0,
    "start_time": "2023-07-03T17:45:04.987Z"
   },
   {
    "duration": 0,
    "start_time": "2023-07-03T17:45:04.988Z"
   },
   {
    "duration": 0,
    "start_time": "2023-07-03T17:45:04.989Z"
   },
   {
    "duration": 0,
    "start_time": "2023-07-03T17:45:04.990Z"
   },
   {
    "duration": 3,
    "start_time": "2023-07-03T17:46:47.504Z"
   },
   {
    "duration": 59,
    "start_time": "2023-07-03T17:46:47.509Z"
   },
   {
    "duration": 16,
    "start_time": "2023-07-03T17:46:47.569Z"
   },
   {
    "duration": 17,
    "start_time": "2023-07-03T17:46:47.587Z"
   },
   {
    "duration": 15,
    "start_time": "2023-07-03T17:46:47.606Z"
   },
   {
    "duration": 3,
    "start_time": "2023-07-03T17:46:47.623Z"
   },
   {
    "duration": 41,
    "start_time": "2023-07-03T17:46:47.627Z"
   },
   {
    "duration": 9,
    "start_time": "2023-07-03T17:46:47.670Z"
   },
   {
    "duration": 5,
    "start_time": "2023-07-03T17:46:47.683Z"
   },
   {
    "duration": 25,
    "start_time": "2023-07-03T17:46:47.690Z"
   },
   {
    "duration": 16,
    "start_time": "2023-07-03T17:46:47.717Z"
   },
   {
    "duration": 16,
    "start_time": "2023-07-03T17:46:47.768Z"
   },
   {
    "duration": 22,
    "start_time": "2023-07-03T17:46:47.787Z"
   },
   {
    "duration": 8,
    "start_time": "2023-07-03T17:46:47.811Z"
   },
   {
    "duration": 22,
    "start_time": "2023-07-03T17:46:47.821Z"
   },
   {
    "duration": 23,
    "start_time": "2023-07-03T17:46:47.846Z"
   },
   {
    "duration": 9,
    "start_time": "2023-07-03T17:46:47.871Z"
   },
   {
    "duration": 19,
    "start_time": "2023-07-03T17:46:47.882Z"
   },
   {
    "duration": 78,
    "start_time": "2023-07-03T17:46:47.904Z"
   },
   {
    "duration": 1078,
    "start_time": "2023-07-03T17:48:04.632Z"
   },
   {
    "duration": 54,
    "start_time": "2023-07-03T17:48:05.712Z"
   },
   {
    "duration": 22,
    "start_time": "2023-07-03T17:48:05.768Z"
   },
   {
    "duration": 17,
    "start_time": "2023-07-03T17:48:05.792Z"
   },
   {
    "duration": 20,
    "start_time": "2023-07-03T17:48:05.812Z"
   },
   {
    "duration": 4,
    "start_time": "2023-07-03T17:48:05.833Z"
   },
   {
    "duration": 42,
    "start_time": "2023-07-03T17:48:05.838Z"
   },
   {
    "duration": 9,
    "start_time": "2023-07-03T17:48:05.882Z"
   },
   {
    "duration": 4,
    "start_time": "2023-07-03T17:48:05.893Z"
   },
   {
    "duration": 14,
    "start_time": "2023-07-03T17:48:05.899Z"
   },
   {
    "duration": 13,
    "start_time": "2023-07-03T17:48:05.914Z"
   },
   {
    "duration": 40,
    "start_time": "2023-07-03T17:48:05.929Z"
   },
   {
    "duration": 53,
    "start_time": "2023-07-03T17:48:05.971Z"
   },
   {
    "duration": 6,
    "start_time": "2023-07-03T17:48:06.027Z"
   },
   {
    "duration": 5,
    "start_time": "2023-07-03T17:48:06.035Z"
   },
   {
    "duration": 32,
    "start_time": "2023-07-03T17:48:06.041Z"
   },
   {
    "duration": 9,
    "start_time": "2023-07-03T17:48:06.074Z"
   },
   {
    "duration": 46,
    "start_time": "2023-07-03T17:48:06.085Z"
   },
   {
    "duration": 4,
    "start_time": "2023-07-03T17:49:10.024Z"
   },
   {
    "duration": 5,
    "start_time": "2023-07-03T17:49:12.744Z"
   },
   {
    "duration": 7,
    "start_time": "2023-07-03T17:49:14.143Z"
   },
   {
    "duration": 4,
    "start_time": "2023-07-03T17:49:31.019Z"
   },
   {
    "duration": 42,
    "start_time": "2023-07-03T17:49:31.910Z"
   },
   {
    "duration": 5,
    "start_time": "2023-07-03T17:50:09.411Z"
   },
   {
    "duration": 4,
    "start_time": "2023-07-03T17:50:10.546Z"
   },
   {
    "duration": 4,
    "start_time": "2023-07-03T17:50:21.472Z"
   },
   {
    "duration": 19,
    "start_time": "2023-07-03T17:50:34.076Z"
   },
   {
    "duration": 5,
    "start_time": "2023-07-03T17:51:46.733Z"
   },
   {
    "duration": 4,
    "start_time": "2023-07-03T17:51:50.406Z"
   },
   {
    "duration": 14,
    "start_time": "2023-07-03T17:51:51.196Z"
   },
   {
    "duration": 5,
    "start_time": "2023-07-03T17:52:38.410Z"
   },
   {
    "duration": 5,
    "start_time": "2023-07-03T17:55:58.334Z"
   },
   {
    "duration": 6,
    "start_time": "2023-07-03T17:55:59.989Z"
   },
   {
    "duration": 1172,
    "start_time": "2023-07-03T17:56:11.648Z"
   },
   {
    "duration": 57,
    "start_time": "2023-07-03T17:56:12.822Z"
   },
   {
    "duration": 24,
    "start_time": "2023-07-03T17:56:12.882Z"
   },
   {
    "duration": 15,
    "start_time": "2023-07-03T17:56:12.909Z"
   },
   {
    "duration": 20,
    "start_time": "2023-07-03T17:56:12.926Z"
   },
   {
    "duration": 20,
    "start_time": "2023-07-03T17:56:12.948Z"
   },
   {
    "duration": 17,
    "start_time": "2023-07-03T17:56:12.970Z"
   },
   {
    "duration": 9,
    "start_time": "2023-07-03T17:56:12.989Z"
   },
   {
    "duration": 8,
    "start_time": "2023-07-03T17:56:13.000Z"
   },
   {
    "duration": 16,
    "start_time": "2023-07-03T17:56:13.011Z"
   },
   {
    "duration": 46,
    "start_time": "2023-07-03T17:56:13.029Z"
   },
   {
    "duration": 17,
    "start_time": "2023-07-03T17:56:13.078Z"
   },
   {
    "duration": 62,
    "start_time": "2023-07-03T17:56:13.097Z"
   },
   {
    "duration": 14,
    "start_time": "2023-07-03T17:56:13.161Z"
   },
   {
    "duration": 46,
    "start_time": "2023-07-03T17:56:13.177Z"
   },
   {
    "duration": 30,
    "start_time": "2023-07-03T17:56:13.225Z"
   },
   {
    "duration": 11,
    "start_time": "2023-07-03T17:56:13.257Z"
   },
   {
    "duration": 12,
    "start_time": "2023-07-03T17:56:13.270Z"
   },
   {
    "duration": 14,
    "start_time": "2023-07-03T17:56:13.284Z"
   },
   {
    "duration": 25,
    "start_time": "2023-07-03T17:56:13.301Z"
   },
   {
    "duration": 61,
    "start_time": "2023-07-03T17:56:13.328Z"
   },
   {
    "duration": 6,
    "start_time": "2023-07-03T17:56:24.849Z"
   },
   {
    "duration": 4,
    "start_time": "2023-07-03T17:56:25.611Z"
   },
   {
    "duration": 3,
    "start_time": "2023-07-03T17:56:33.433Z"
   },
   {
    "duration": 69,
    "start_time": "2023-07-03T17:56:33.439Z"
   },
   {
    "duration": 14,
    "start_time": "2023-07-03T17:56:33.510Z"
   },
   {
    "duration": 35,
    "start_time": "2023-07-03T17:56:33.526Z"
   },
   {
    "duration": 42,
    "start_time": "2023-07-03T17:56:33.563Z"
   },
   {
    "duration": 12,
    "start_time": "2023-07-03T17:56:33.607Z"
   },
   {
    "duration": 18,
    "start_time": "2023-07-03T17:56:33.620Z"
   },
   {
    "duration": 6,
    "start_time": "2023-07-03T17:56:33.639Z"
   },
   {
    "duration": 3,
    "start_time": "2023-07-03T17:56:33.647Z"
   },
   {
    "duration": 16,
    "start_time": "2023-07-03T17:56:33.651Z"
   },
   {
    "duration": 23,
    "start_time": "2023-07-03T17:56:33.669Z"
   },
   {
    "duration": 9,
    "start_time": "2023-07-03T17:56:33.693Z"
   },
   {
    "duration": 14,
    "start_time": "2023-07-03T17:56:33.703Z"
   },
   {
    "duration": 3,
    "start_time": "2023-07-03T17:56:33.719Z"
   },
   {
    "duration": 7,
    "start_time": "2023-07-03T17:56:33.723Z"
   },
   {
    "duration": 6,
    "start_time": "2023-07-03T17:56:33.731Z"
   },
   {
    "duration": 6,
    "start_time": "2023-07-03T17:56:33.769Z"
   },
   {
    "duration": 8,
    "start_time": "2023-07-03T17:56:33.777Z"
   },
   {
    "duration": 5,
    "start_time": "2023-07-03T17:56:33.787Z"
   },
   {
    "duration": 14,
    "start_time": "2023-07-03T17:56:33.793Z"
   },
   {
    "duration": 81,
    "start_time": "2023-07-03T17:56:33.809Z"
   },
   {
    "duration": 6,
    "start_time": "2023-07-03T18:00:35.648Z"
   },
   {
    "duration": 118,
    "start_time": "2023-07-03T18:00:47.840Z"
   },
   {
    "duration": 5,
    "start_time": "2023-07-03T18:00:56.689Z"
   },
   {
    "duration": 14,
    "start_time": "2023-07-03T18:04:53.394Z"
   },
   {
    "duration": 12,
    "start_time": "2023-07-03T18:05:24.395Z"
   },
   {
    "duration": 3,
    "start_time": "2023-07-03T18:06:44.936Z"
   },
   {
    "duration": 9,
    "start_time": "2023-07-03T18:07:02.655Z"
   },
   {
    "duration": 4,
    "start_time": "2023-07-03T18:09:18.905Z"
   },
   {
    "duration": 10,
    "start_time": "2023-07-03T18:09:19.873Z"
   },
   {
    "duration": 22,
    "start_time": "2023-07-03T18:09:20.588Z"
   },
   {
    "duration": 19,
    "start_time": "2023-07-03T18:09:25.787Z"
   },
   {
    "duration": 4,
    "start_time": "2023-07-03T18:09:40.250Z"
   },
   {
    "duration": 3,
    "start_time": "2023-07-03T18:09:41.140Z"
   },
   {
    "duration": 13,
    "start_time": "2023-07-03T18:09:41.836Z"
   },
   {
    "duration": 13,
    "start_time": "2023-07-03T18:09:42.646Z"
   },
   {
    "duration": 4,
    "start_time": "2023-07-03T18:10:35.357Z"
   },
   {
    "duration": 3,
    "start_time": "2023-07-03T18:10:36.048Z"
   },
   {
    "duration": 30,
    "start_time": "2023-07-03T18:10:36.467Z"
   },
   {
    "duration": 13,
    "start_time": "2023-07-03T18:10:37.709Z"
   },
   {
    "duration": 3,
    "start_time": "2023-07-03T18:10:41.811Z"
   },
   {
    "duration": 106,
    "start_time": "2023-07-03T18:10:41.816Z"
   },
   {
    "duration": 15,
    "start_time": "2023-07-03T18:10:41.924Z"
   },
   {
    "duration": 58,
    "start_time": "2023-07-03T18:10:41.941Z"
   },
   {
    "duration": 28,
    "start_time": "2023-07-03T18:10:42.000Z"
   },
   {
    "duration": 3,
    "start_time": "2023-07-03T18:10:42.030Z"
   },
   {
    "duration": 13,
    "start_time": "2023-07-03T18:10:42.035Z"
   },
   {
    "duration": 3,
    "start_time": "2023-07-03T18:10:42.050Z"
   },
   {
    "duration": 6,
    "start_time": "2023-07-03T18:10:42.055Z"
   },
   {
    "duration": 31,
    "start_time": "2023-07-03T18:10:42.063Z"
   },
   {
    "duration": 14,
    "start_time": "2023-07-03T18:10:42.096Z"
   },
   {
    "duration": 16,
    "start_time": "2023-07-03T18:10:42.111Z"
   },
   {
    "duration": 16,
    "start_time": "2023-07-03T18:10:42.128Z"
   },
   {
    "duration": 4,
    "start_time": "2023-07-03T18:10:42.145Z"
   },
   {
    "duration": 7,
    "start_time": "2023-07-03T18:10:42.151Z"
   },
   {
    "duration": 19,
    "start_time": "2023-07-03T18:10:42.159Z"
   },
   {
    "duration": 16,
    "start_time": "2023-07-03T18:10:42.180Z"
   },
   {
    "duration": 5,
    "start_time": "2023-07-03T18:10:42.198Z"
   },
   {
    "duration": 12,
    "start_time": "2023-07-03T18:10:42.205Z"
   },
   {
    "duration": 13,
    "start_time": "2023-07-03T18:10:42.219Z"
   },
   {
    "duration": 17,
    "start_time": "2023-07-03T18:10:42.233Z"
   },
   {
    "duration": 4,
    "start_time": "2023-07-03T18:10:42.251Z"
   },
   {
    "duration": 33,
    "start_time": "2023-07-03T18:10:42.257Z"
   },
   {
    "duration": 32,
    "start_time": "2023-07-03T18:12:05.161Z"
   },
   {
    "duration": 513,
    "start_time": "2023-07-03T18:12:13.007Z"
   },
   {
    "duration": 6,
    "start_time": "2023-07-03T18:13:06.698Z"
   },
   {
    "duration": 14,
    "start_time": "2023-07-03T18:13:08.445Z"
   },
   {
    "duration": 19,
    "start_time": "2023-07-03T18:13:13.686Z"
   },
   {
    "duration": 1134,
    "start_time": "2023-07-03T18:13:25.299Z"
   },
   {
    "duration": 65,
    "start_time": "2023-07-03T18:13:26.435Z"
   },
   {
    "duration": 20,
    "start_time": "2023-07-03T18:13:26.502Z"
   },
   {
    "duration": 14,
    "start_time": "2023-07-03T18:13:26.523Z"
   },
   {
    "duration": 34,
    "start_time": "2023-07-03T18:13:26.539Z"
   },
   {
    "duration": 6,
    "start_time": "2023-07-03T18:13:26.577Z"
   },
   {
    "duration": 15,
    "start_time": "2023-07-03T18:13:26.591Z"
   },
   {
    "duration": 4,
    "start_time": "2023-07-03T18:13:26.608Z"
   },
   {
    "duration": 5,
    "start_time": "2023-07-03T18:13:26.613Z"
   },
   {
    "duration": 117,
    "start_time": "2023-07-03T18:13:26.619Z"
   },
   {
    "duration": 0,
    "start_time": "2023-07-03T18:13:26.739Z"
   },
   {
    "duration": 0,
    "start_time": "2023-07-03T18:13:26.740Z"
   },
   {
    "duration": 0,
    "start_time": "2023-07-03T18:13:26.741Z"
   },
   {
    "duration": 0,
    "start_time": "2023-07-03T18:13:26.742Z"
   },
   {
    "duration": 0,
    "start_time": "2023-07-03T18:13:26.743Z"
   },
   {
    "duration": 0,
    "start_time": "2023-07-03T18:13:26.744Z"
   },
   {
    "duration": 0,
    "start_time": "2023-07-03T18:13:26.745Z"
   },
   {
    "duration": 0,
    "start_time": "2023-07-03T18:13:26.746Z"
   },
   {
    "duration": 0,
    "start_time": "2023-07-03T18:13:26.747Z"
   },
   {
    "duration": 0,
    "start_time": "2023-07-03T18:13:26.748Z"
   },
   {
    "duration": 0,
    "start_time": "2023-07-03T18:13:26.749Z"
   },
   {
    "duration": 0,
    "start_time": "2023-07-03T18:13:26.750Z"
   },
   {
    "duration": 0,
    "start_time": "2023-07-03T18:13:26.750Z"
   },
   {
    "duration": 0,
    "start_time": "2023-07-03T18:13:26.751Z"
   },
   {
    "duration": 3,
    "start_time": "2023-07-03T18:13:49.197Z"
   },
   {
    "duration": 63,
    "start_time": "2023-07-03T18:13:49.203Z"
   },
   {
    "duration": 22,
    "start_time": "2023-07-03T18:13:49.268Z"
   },
   {
    "duration": 19,
    "start_time": "2023-07-03T18:13:49.292Z"
   },
   {
    "duration": 16,
    "start_time": "2023-07-03T18:13:49.313Z"
   },
   {
    "duration": 3,
    "start_time": "2023-07-03T18:13:49.331Z"
   },
   {
    "duration": 49,
    "start_time": "2023-07-03T18:13:49.336Z"
   },
   {
    "duration": 5,
    "start_time": "2023-07-03T18:13:49.394Z"
   },
   {
    "duration": 5,
    "start_time": "2023-07-03T18:13:49.401Z"
   },
   {
    "duration": 17,
    "start_time": "2023-07-03T18:13:49.408Z"
   },
   {
    "duration": 13,
    "start_time": "2023-07-03T18:13:49.426Z"
   },
   {
    "duration": 23,
    "start_time": "2023-07-03T18:13:49.441Z"
   },
   {
    "duration": 77,
    "start_time": "2023-07-03T18:13:49.466Z"
   },
   {
    "duration": 4,
    "start_time": "2023-07-03T18:13:49.544Z"
   },
   {
    "duration": 7,
    "start_time": "2023-07-03T18:13:49.550Z"
   },
   {
    "duration": 20,
    "start_time": "2023-07-03T18:13:49.558Z"
   },
   {
    "duration": 8,
    "start_time": "2023-07-03T18:13:49.583Z"
   },
   {
    "duration": 10,
    "start_time": "2023-07-03T18:13:49.594Z"
   },
   {
    "duration": 5,
    "start_time": "2023-07-03T18:13:49.606Z"
   },
   {
    "duration": 17,
    "start_time": "2023-07-03T18:13:49.612Z"
   },
   {
    "duration": 40,
    "start_time": "2023-07-03T18:13:49.630Z"
   },
   {
    "duration": 10,
    "start_time": "2023-07-03T18:13:49.675Z"
   },
   {
    "duration": 16,
    "start_time": "2023-07-03T18:13:49.696Z"
   },
   {
    "duration": 5,
    "start_time": "2023-07-03T18:14:42.560Z"
   },
   {
    "duration": 10,
    "start_time": "2023-07-03T18:15:20.594Z"
   },
   {
    "duration": 3,
    "start_time": "2023-07-03T18:15:26.599Z"
   },
   {
    "duration": 59,
    "start_time": "2023-07-03T18:15:26.603Z"
   },
   {
    "duration": 21,
    "start_time": "2023-07-03T18:15:26.664Z"
   },
   {
    "duration": 26,
    "start_time": "2023-07-03T18:15:26.687Z"
   },
   {
    "duration": 25,
    "start_time": "2023-07-03T18:15:26.715Z"
   },
   {
    "duration": 4,
    "start_time": "2023-07-03T18:15:26.742Z"
   },
   {
    "duration": 48,
    "start_time": "2023-07-03T18:15:26.748Z"
   },
   {
    "duration": 7,
    "start_time": "2023-07-03T18:15:26.798Z"
   },
   {
    "duration": 25,
    "start_time": "2023-07-03T18:15:26.807Z"
   },
   {
    "duration": 25,
    "start_time": "2023-07-03T18:15:26.834Z"
   },
   {
    "duration": 38,
    "start_time": "2023-07-03T18:15:26.861Z"
   },
   {
    "duration": 13,
    "start_time": "2023-07-03T18:15:26.901Z"
   },
   {
    "duration": 26,
    "start_time": "2023-07-03T18:15:26.915Z"
   },
   {
    "duration": 3,
    "start_time": "2023-07-03T18:15:26.942Z"
   },
   {
    "duration": 7,
    "start_time": "2023-07-03T18:15:26.947Z"
   },
   {
    "duration": 32,
    "start_time": "2023-07-03T18:15:26.956Z"
   },
   {
    "duration": 8,
    "start_time": "2023-07-03T18:15:26.991Z"
   },
   {
    "duration": 24,
    "start_time": "2023-07-03T18:15:27.001Z"
   },
   {
    "duration": 16,
    "start_time": "2023-07-03T18:15:27.027Z"
   },
   {
    "duration": 64,
    "start_time": "2023-07-03T18:15:27.044Z"
   },
   {
    "duration": 43,
    "start_time": "2023-07-03T18:15:27.110Z"
   },
   {
    "duration": 56,
    "start_time": "2023-07-03T18:15:27.155Z"
   },
   {
    "duration": 35,
    "start_time": "2023-07-03T18:15:27.212Z"
   },
   {
    "duration": 57,
    "start_time": "2023-07-03T18:15:27.249Z"
   },
   {
    "duration": 9,
    "start_time": "2023-07-03T18:16:44.500Z"
   },
   {
    "duration": 9,
    "start_time": "2023-07-03T18:16:59.895Z"
   },
   {
    "duration": 6,
    "start_time": "2023-07-03T18:17:59.457Z"
   },
   {
    "duration": 8,
    "start_time": "2023-07-03T18:18:30.323Z"
   },
   {
    "duration": 2,
    "start_time": "2023-07-03T18:18:51.060Z"
   },
   {
    "duration": 62,
    "start_time": "2023-07-03T18:18:51.066Z"
   },
   {
    "duration": 15,
    "start_time": "2023-07-03T18:18:51.130Z"
   },
   {
    "duration": 22,
    "start_time": "2023-07-03T18:18:51.147Z"
   },
   {
    "duration": 23,
    "start_time": "2023-07-03T18:18:51.172Z"
   },
   {
    "duration": 9,
    "start_time": "2023-07-03T18:18:51.197Z"
   },
   {
    "duration": 33,
    "start_time": "2023-07-03T18:18:51.209Z"
   },
   {
    "duration": 12,
    "start_time": "2023-07-03T18:18:51.243Z"
   },
   {
    "duration": 24,
    "start_time": "2023-07-03T18:18:51.257Z"
   },
   {
    "duration": 22,
    "start_time": "2023-07-03T18:18:51.289Z"
   },
   {
    "duration": 18,
    "start_time": "2023-07-03T18:18:51.314Z"
   },
   {
    "duration": 16,
    "start_time": "2023-07-03T18:18:51.333Z"
   },
   {
    "duration": 14,
    "start_time": "2023-07-03T18:18:51.351Z"
   },
   {
    "duration": 17,
    "start_time": "2023-07-03T18:18:51.366Z"
   },
   {
    "duration": 15,
    "start_time": "2023-07-03T18:18:51.388Z"
   },
   {
    "duration": 7,
    "start_time": "2023-07-03T18:18:51.405Z"
   },
   {
    "duration": 18,
    "start_time": "2023-07-03T18:18:51.414Z"
   },
   {
    "duration": 10,
    "start_time": "2023-07-03T18:18:51.433Z"
   },
   {
    "duration": 17,
    "start_time": "2023-07-03T18:18:51.445Z"
   },
   {
    "duration": 12,
    "start_time": "2023-07-03T18:18:51.464Z"
   },
   {
    "duration": 25,
    "start_time": "2023-07-03T18:18:51.481Z"
   },
   {
    "duration": 19,
    "start_time": "2023-07-03T18:18:51.508Z"
   },
   {
    "duration": 5,
    "start_time": "2023-07-03T18:18:51.528Z"
   },
   {
    "duration": 12,
    "start_time": "2023-07-03T18:18:51.534Z"
   },
   {
    "duration": 7,
    "start_time": "2023-07-03T18:19:45.196Z"
   },
   {
    "duration": 6,
    "start_time": "2023-07-03T18:25:28.387Z"
   },
   {
    "duration": 10,
    "start_time": "2023-07-03T18:26:22.192Z"
   },
   {
    "duration": 17,
    "start_time": "2023-07-03T18:26:30.020Z"
   },
   {
    "duration": 10,
    "start_time": "2023-07-03T18:29:51.946Z"
   },
   {
    "duration": 10,
    "start_time": "2023-07-03T18:30:15.189Z"
   },
   {
    "duration": 154,
    "start_time": "2023-07-03T18:30:21.889Z"
   },
   {
    "duration": 13,
    "start_time": "2023-07-03T19:27:35.467Z"
   },
   {
    "duration": 9,
    "start_time": "2023-07-03T19:28:42.039Z"
   },
   {
    "duration": 9,
    "start_time": "2023-07-03T19:28:52.810Z"
   },
   {
    "duration": 9,
    "start_time": "2023-07-03T19:29:42.999Z"
   },
   {
    "duration": 10,
    "start_time": "2023-07-03T19:29:45.584Z"
   },
   {
    "duration": 9,
    "start_time": "2023-07-03T19:30:31.112Z"
   },
   {
    "duration": 8,
    "start_time": "2023-07-03T19:30:31.815Z"
   },
   {
    "duration": 356,
    "start_time": "2023-07-03T19:32:49.052Z"
   },
   {
    "duration": 359,
    "start_time": "2023-07-03T19:34:01.647Z"
   },
   {
    "duration": 15,
    "start_time": "2023-07-03T19:35:27.649Z"
   },
   {
    "duration": 11,
    "start_time": "2023-07-03T19:39:09.048Z"
   },
   {
    "duration": 18,
    "start_time": "2023-07-03T19:39:56.283Z"
   },
   {
    "duration": 3,
    "start_time": "2023-07-03T19:40:04.528Z"
   },
   {
    "duration": 3,
    "start_time": "2023-07-03T19:40:09.295Z"
   },
   {
    "duration": 17,
    "start_time": "2023-07-03T19:43:12.255Z"
   },
   {
    "duration": 9,
    "start_time": "2023-07-03T19:44:18.122Z"
   },
   {
    "duration": 14,
    "start_time": "2023-07-03T19:46:15.181Z"
   },
   {
    "duration": 12,
    "start_time": "2023-07-03T19:46:40.298Z"
   },
   {
    "duration": 21,
    "start_time": "2023-07-03T19:49:28.290Z"
   },
   {
    "duration": 114,
    "start_time": "2023-07-03T19:49:58.365Z"
   },
   {
    "duration": 4,
    "start_time": "2023-07-03T19:50:15.483Z"
   },
   {
    "duration": 123,
    "start_time": "2023-07-03T19:50:47.793Z"
   },
   {
    "duration": 8,
    "start_time": "2023-07-03T19:50:59.891Z"
   },
   {
    "duration": 151,
    "start_time": "2023-07-03T19:51:07.230Z"
   },
   {
    "duration": 10,
    "start_time": "2023-07-03T19:51:35.163Z"
   },
   {
    "duration": 9,
    "start_time": "2023-07-03T19:57:38.684Z"
   },
   {
    "duration": 14,
    "start_time": "2023-07-03T19:58:09.814Z"
   },
   {
    "duration": 11,
    "start_time": "2023-07-03T19:58:33.277Z"
   },
   {
    "duration": 9,
    "start_time": "2023-07-03T19:59:06.242Z"
   },
   {
    "duration": 14,
    "start_time": "2023-07-03T19:59:26.979Z"
   },
   {
    "duration": 3,
    "start_time": "2023-07-03T20:00:05.587Z"
   },
   {
    "duration": 65,
    "start_time": "2023-07-03T20:00:05.592Z"
   },
   {
    "duration": 21,
    "start_time": "2023-07-03T20:00:05.659Z"
   },
   {
    "duration": 21,
    "start_time": "2023-07-03T20:00:05.682Z"
   },
   {
    "duration": 122,
    "start_time": "2023-07-03T20:00:05.705Z"
   },
   {
    "duration": 4,
    "start_time": "2023-07-03T20:00:05.828Z"
   },
   {
    "duration": 31,
    "start_time": "2023-07-03T20:00:05.833Z"
   },
   {
    "duration": 10,
    "start_time": "2023-07-03T20:00:05.866Z"
   },
   {
    "duration": 47,
    "start_time": "2023-07-03T20:00:05.878Z"
   },
   {
    "duration": 31,
    "start_time": "2023-07-03T20:00:05.927Z"
   },
   {
    "duration": 31,
    "start_time": "2023-07-03T20:00:05.962Z"
   },
   {
    "duration": 33,
    "start_time": "2023-07-03T20:00:05.994Z"
   },
   {
    "duration": 34,
    "start_time": "2023-07-03T20:00:06.029Z"
   },
   {
    "duration": 15,
    "start_time": "2023-07-03T20:00:06.064Z"
   },
   {
    "duration": 19,
    "start_time": "2023-07-03T20:00:06.082Z"
   },
   {
    "duration": 46,
    "start_time": "2023-07-03T20:00:06.103Z"
   },
   {
    "duration": 18,
    "start_time": "2023-07-03T20:00:06.150Z"
   },
   {
    "duration": 34,
    "start_time": "2023-07-03T20:00:06.171Z"
   },
   {
    "duration": 24,
    "start_time": "2023-07-03T20:00:06.207Z"
   },
   {
    "duration": 29,
    "start_time": "2023-07-03T20:00:06.232Z"
   },
   {
    "duration": 30,
    "start_time": "2023-07-03T20:00:06.262Z"
   },
   {
    "duration": 37,
    "start_time": "2023-07-03T20:00:06.293Z"
   },
   {
    "duration": 7,
    "start_time": "2023-07-03T20:00:06.331Z"
   },
   {
    "duration": 16,
    "start_time": "2023-07-03T20:00:06.339Z"
   },
   {
    "duration": 18,
    "start_time": "2023-07-03T20:00:06.356Z"
   },
   {
    "duration": 26,
    "start_time": "2023-07-03T20:00:06.376Z"
   },
   {
    "duration": 133,
    "start_time": "2023-07-03T20:00:06.403Z"
   },
   {
    "duration": 14,
    "start_time": "2023-07-03T20:00:06.537Z"
   },
   {
    "duration": 21,
    "start_time": "2023-07-03T20:00:06.554Z"
   },
   {
    "duration": 172,
    "start_time": "2023-07-03T20:00:06.578Z"
   },
   {
    "duration": 10,
    "start_time": "2023-07-03T20:00:06.751Z"
   },
   {
    "duration": 18,
    "start_time": "2023-07-03T20:00:06.768Z"
   },
   {
    "duration": 10,
    "start_time": "2023-07-03T20:01:52.558Z"
   },
   {
    "duration": 14,
    "start_time": "2023-07-03T20:01:56.067Z"
   },
   {
    "duration": 19,
    "start_time": "2023-07-03T20:02:35.136Z"
   },
   {
    "duration": 22,
    "start_time": "2023-07-03T20:03:15.780Z"
   },
   {
    "duration": 27,
    "start_time": "2023-07-03T20:03:30.133Z"
   },
   {
    "duration": 158,
    "start_time": "2023-07-03T20:25:26.815Z"
   },
   {
    "duration": 150,
    "start_time": "2023-07-03T20:25:46.111Z"
   },
   {
    "duration": 15,
    "start_time": "2023-07-03T20:29:35.268Z"
   },
   {
    "duration": 50,
    "start_time": "2023-07-03T20:29:43.516Z"
   },
   {
    "duration": 20,
    "start_time": "2023-07-03T20:30:51.133Z"
   },
   {
    "duration": 20,
    "start_time": "2023-07-03T20:31:08.388Z"
   },
   {
    "duration": 20,
    "start_time": "2023-07-03T20:31:13.552Z"
   },
   {
    "duration": 60,
    "start_time": "2023-07-03T20:31:38.952Z"
   },
   {
    "duration": 25,
    "start_time": "2023-07-03T20:32:11.176Z"
   },
   {
    "duration": 41,
    "start_time": "2023-07-03T20:32:32.930Z"
   },
   {
    "duration": 29,
    "start_time": "2023-07-03T20:34:20.985Z"
   },
   {
    "duration": 31,
    "start_time": "2023-07-03T20:35:02.285Z"
   },
   {
    "duration": 13,
    "start_time": "2023-07-03T20:36:02.859Z"
   },
   {
    "duration": 15,
    "start_time": "2023-07-03T20:36:19.718Z"
   },
   {
    "duration": 6,
    "start_time": "2023-07-03T20:36:38.116Z"
   },
   {
    "duration": 3,
    "start_time": "2023-07-03T20:36:55.860Z"
   },
   {
    "duration": 18,
    "start_time": "2023-07-03T20:37:07.381Z"
   },
   {
    "duration": 13,
    "start_time": "2023-07-03T20:38:44.517Z"
   },
   {
    "duration": 17,
    "start_time": "2023-07-03T20:38:52.295Z"
   },
   {
    "duration": 20,
    "start_time": "2023-07-03T20:39:10.090Z"
   },
   {
    "duration": 5,
    "start_time": "2023-07-03T20:41:29.131Z"
   },
   {
    "duration": 5,
    "start_time": "2023-07-03T20:41:57.019Z"
   },
   {
    "duration": 1796,
    "start_time": "2023-07-03T20:44:15.856Z"
   },
   {
    "duration": 1790,
    "start_time": "2023-07-03T20:44:27.849Z"
   },
   {
    "duration": 1758,
    "start_time": "2023-07-03T20:44:51.340Z"
   },
   {
    "duration": 20,
    "start_time": "2023-07-03T20:45:55.179Z"
   },
   {
    "duration": 14,
    "start_time": "2023-07-03T20:46:08.154Z"
   },
   {
    "duration": 21,
    "start_time": "2023-07-03T20:46:20.164Z"
   },
   {
    "duration": 2451,
    "start_time": "2023-07-03T20:47:03.516Z"
   },
   {
    "duration": 10,
    "start_time": "2023-07-03T20:47:31.937Z"
   },
   {
    "duration": 4,
    "start_time": "2023-07-03T20:47:32.992Z"
   },
   {
    "duration": 161,
    "start_time": "2023-07-03T20:47:33.262Z"
   },
   {
    "duration": 15,
    "start_time": "2023-07-03T20:48:37.268Z"
   },
   {
    "duration": 350,
    "start_time": "2023-07-03T20:57:45.005Z"
   },
   {
    "duration": 12,
    "start_time": "2023-07-03T20:57:49.017Z"
   },
   {
    "duration": 11,
    "start_time": "2023-07-03T20:58:35.922Z"
   },
   {
    "duration": 20,
    "start_time": "2023-07-03T20:58:44.071Z"
   },
   {
    "duration": 49,
    "start_time": "2023-07-03T20:58:59.574Z"
   },
   {
    "duration": 28,
    "start_time": "2023-07-03T20:59:37.088Z"
   },
   {
    "duration": 13,
    "start_time": "2023-07-03T21:00:56.902Z"
   },
   {
    "duration": 21,
    "start_time": "2023-07-03T21:02:22.096Z"
   },
   {
    "duration": 17,
    "start_time": "2023-07-03T21:02:34.008Z"
   },
   {
    "duration": 17,
    "start_time": "2023-07-03T21:03:22.418Z"
   },
   {
    "duration": 4,
    "start_time": "2023-07-03T21:06:50.476Z"
   },
   {
    "duration": 289,
    "start_time": "2023-07-03T21:07:08.679Z"
   },
   {
    "duration": 301,
    "start_time": "2023-07-03T21:07:23.367Z"
   },
   {
    "duration": 2,
    "start_time": "2023-07-03T21:08:00.825Z"
   },
   {
    "duration": 87,
    "start_time": "2023-07-03T21:08:00.833Z"
   },
   {
    "duration": 14,
    "start_time": "2023-07-03T21:08:00.922Z"
   },
   {
    "duration": 33,
    "start_time": "2023-07-03T21:08:00.937Z"
   },
   {
    "duration": 25,
    "start_time": "2023-07-03T21:08:00.972Z"
   },
   {
    "duration": 35,
    "start_time": "2023-07-03T21:08:00.998Z"
   },
   {
    "duration": 37,
    "start_time": "2023-07-03T21:08:01.035Z"
   },
   {
    "duration": 24,
    "start_time": "2023-07-03T21:08:01.074Z"
   },
   {
    "duration": 31,
    "start_time": "2023-07-03T21:08:01.100Z"
   },
   {
    "duration": 34,
    "start_time": "2023-07-03T21:08:01.133Z"
   },
   {
    "duration": 38,
    "start_time": "2023-07-03T21:08:01.169Z"
   },
   {
    "duration": 32,
    "start_time": "2023-07-03T21:08:01.208Z"
   },
   {
    "duration": 63,
    "start_time": "2023-07-03T21:08:01.242Z"
   },
   {
    "duration": 10,
    "start_time": "2023-07-03T21:08:01.307Z"
   },
   {
    "duration": 34,
    "start_time": "2023-07-03T21:08:01.319Z"
   },
   {
    "duration": 40,
    "start_time": "2023-07-03T21:08:01.354Z"
   },
   {
    "duration": 33,
    "start_time": "2023-07-03T21:08:01.396Z"
   },
   {
    "duration": 44,
    "start_time": "2023-07-03T21:08:01.431Z"
   },
   {
    "duration": 46,
    "start_time": "2023-07-03T21:08:01.476Z"
   },
   {
    "duration": 55,
    "start_time": "2023-07-03T21:08:01.523Z"
   },
   {
    "duration": 167,
    "start_time": "2023-07-03T21:08:01.579Z"
   },
   {
    "duration": 133,
    "start_time": "2023-07-03T21:08:01.748Z"
   },
   {
    "duration": 66,
    "start_time": "2023-07-03T21:08:01.883Z"
   },
   {
    "duration": 43,
    "start_time": "2023-07-03T21:08:01.950Z"
   },
   {
    "duration": 62,
    "start_time": "2023-07-03T21:08:01.995Z"
   },
   {
    "duration": 32,
    "start_time": "2023-07-03T21:08:02.059Z"
   },
   {
    "duration": 141,
    "start_time": "2023-07-03T21:08:02.093Z"
   },
   {
    "duration": 16,
    "start_time": "2023-07-03T21:08:02.236Z"
   },
   {
    "duration": 99,
    "start_time": "2023-07-03T21:08:02.255Z"
   },
   {
    "duration": 222,
    "start_time": "2023-07-03T21:08:02.355Z"
   },
   {
    "duration": 14,
    "start_time": "2023-07-03T21:14:20.686Z"
   },
   {
    "duration": 116,
    "start_time": "2023-07-03T21:15:54.168Z"
   },
   {
    "duration": 59,
    "start_time": "2023-07-03T21:16:00.694Z"
   },
   {
    "duration": 4,
    "start_time": "2023-07-03T21:18:43.864Z"
   },
   {
    "duration": 48,
    "start_time": "2023-07-03T21:18:56.107Z"
   },
   {
    "duration": 16,
    "start_time": "2023-07-03T21:19:40.115Z"
   },
   {
    "duration": 5,
    "start_time": "2023-07-03T21:19:41.287Z"
   },
   {
    "duration": 4,
    "start_time": "2023-07-03T21:20:31.298Z"
   },
   {
    "duration": 4,
    "start_time": "2023-07-03T21:21:20.263Z"
   },
   {
    "duration": 2,
    "start_time": "2023-07-03T21:22:01.147Z"
   },
   {
    "duration": 4,
    "start_time": "2023-07-03T21:22:31.980Z"
   },
   {
    "duration": 8,
    "start_time": "2023-07-03T21:22:51.895Z"
   },
   {
    "duration": 9,
    "start_time": "2023-07-03T21:23:10.119Z"
   },
   {
    "duration": 3,
    "start_time": "2023-07-03T21:23:28.975Z"
   },
   {
    "duration": 11,
    "start_time": "2023-07-03T21:23:52.572Z"
   },
   {
    "duration": 46,
    "start_time": "2023-07-03T21:24:29.584Z"
   },
   {
    "duration": 46,
    "start_time": "2023-07-03T21:24:43.668Z"
   },
   {
    "duration": 3,
    "start_time": "2023-07-03T21:24:56.588Z"
   },
   {
    "duration": 65,
    "start_time": "2023-07-03T21:24:56.593Z"
   },
   {
    "duration": 14,
    "start_time": "2023-07-03T21:24:56.660Z"
   },
   {
    "duration": 16,
    "start_time": "2023-07-03T21:24:56.676Z"
   },
   {
    "duration": 18,
    "start_time": "2023-07-03T21:24:56.694Z"
   },
   {
    "duration": 3,
    "start_time": "2023-07-03T21:24:56.714Z"
   },
   {
    "duration": 14,
    "start_time": "2023-07-03T21:24:56.719Z"
   },
   {
    "duration": 3,
    "start_time": "2023-07-03T21:24:56.735Z"
   },
   {
    "duration": 33,
    "start_time": "2023-07-03T21:24:56.741Z"
   },
   {
    "duration": 32,
    "start_time": "2023-07-03T21:24:56.775Z"
   },
   {
    "duration": 13,
    "start_time": "2023-07-03T21:24:56.809Z"
   },
   {
    "duration": 13,
    "start_time": "2023-07-03T21:24:56.823Z"
   },
   {
    "duration": 15,
    "start_time": "2023-07-03T21:24:56.838Z"
   },
   {
    "duration": 13,
    "start_time": "2023-07-03T21:24:56.855Z"
   },
   {
    "duration": 5,
    "start_time": "2023-07-03T21:24:56.870Z"
   },
   {
    "duration": 16,
    "start_time": "2023-07-03T21:24:56.877Z"
   },
   {
    "duration": 10,
    "start_time": "2023-07-03T21:24:56.894Z"
   },
   {
    "duration": 24,
    "start_time": "2023-07-03T21:24:56.906Z"
   },
   {
    "duration": 38,
    "start_time": "2023-07-03T21:24:56.931Z"
   },
   {
    "duration": 21,
    "start_time": "2023-07-03T21:24:56.970Z"
   },
   {
    "duration": 19,
    "start_time": "2023-07-03T21:24:56.992Z"
   },
   {
    "duration": 23,
    "start_time": "2023-07-03T21:24:57.012Z"
   },
   {
    "duration": 7,
    "start_time": "2023-07-03T21:24:57.037Z"
   },
   {
    "duration": 25,
    "start_time": "2023-07-03T21:24:57.047Z"
   },
   {
    "duration": 18,
    "start_time": "2023-07-03T21:24:57.074Z"
   },
   {
    "duration": 17,
    "start_time": "2023-07-03T21:24:57.093Z"
   },
   {
    "duration": 126,
    "start_time": "2023-07-03T21:24:57.112Z"
   },
   {
    "duration": 17,
    "start_time": "2023-07-03T21:24:57.240Z"
   },
   {
    "duration": 9,
    "start_time": "2023-07-03T21:24:57.259Z"
   },
   {
    "duration": 171,
    "start_time": "2023-07-03T21:24:57.270Z"
   },
   {
    "duration": 25,
    "start_time": "2023-07-03T21:24:57.443Z"
   },
   {
    "duration": 3,
    "start_time": "2023-07-03T21:24:57.470Z"
   },
   {
    "duration": 6,
    "start_time": "2023-07-03T21:24:57.474Z"
   },
   {
    "duration": 44,
    "start_time": "2023-07-03T21:24:57.481Z"
   },
   {
    "duration": 6,
    "start_time": "2023-07-03T21:24:57.527Z"
   },
   {
    "duration": 60,
    "start_time": "2023-07-03T21:24:57.534Z"
   },
   {
    "duration": 32,
    "start_time": "2023-07-03T21:26:05.817Z"
   },
   {
    "duration": 1263,
    "start_time": "2023-07-04T08:29:56.273Z"
   },
   {
    "duration": 188,
    "start_time": "2023-07-04T08:29:57.538Z"
   },
   {
    "duration": 20,
    "start_time": "2023-07-04T08:29:57.728Z"
   },
   {
    "duration": 14,
    "start_time": "2023-07-04T08:29:57.750Z"
   },
   {
    "duration": 17,
    "start_time": "2023-07-04T08:29:57.766Z"
   },
   {
    "duration": 3,
    "start_time": "2023-07-04T08:29:57.784Z"
   },
   {
    "duration": 14,
    "start_time": "2023-07-04T08:29:57.789Z"
   },
   {
    "duration": 4,
    "start_time": "2023-07-04T08:29:57.804Z"
   },
   {
    "duration": 4,
    "start_time": "2023-07-04T08:29:57.809Z"
   },
   {
    "duration": 12,
    "start_time": "2023-07-04T08:29:57.815Z"
   },
   {
    "duration": 12,
    "start_time": "2023-07-04T08:29:57.829Z"
   },
   {
    "duration": 32,
    "start_time": "2023-07-04T08:29:57.842Z"
   },
   {
    "duration": 50,
    "start_time": "2023-07-04T08:29:57.876Z"
   },
   {
    "duration": 3,
    "start_time": "2023-07-04T08:29:57.927Z"
   },
   {
    "duration": 7,
    "start_time": "2023-07-04T08:29:57.932Z"
   },
   {
    "duration": 6,
    "start_time": "2023-07-04T08:29:57.940Z"
   },
   {
    "duration": 5,
    "start_time": "2023-07-04T08:29:57.969Z"
   },
   {
    "duration": 4,
    "start_time": "2023-07-04T08:29:57.976Z"
   },
   {
    "duration": 6,
    "start_time": "2023-07-04T08:29:57.982Z"
   },
   {
    "duration": 10,
    "start_time": "2023-07-04T08:29:57.990Z"
   },
   {
    "duration": 21,
    "start_time": "2023-07-04T08:29:58.001Z"
   },
   {
    "duration": 16,
    "start_time": "2023-07-04T08:29:58.024Z"
   },
   {
    "duration": 29,
    "start_time": "2023-07-04T08:29:58.042Z"
   },
   {
    "duration": 6,
    "start_time": "2023-07-04T08:29:58.073Z"
   },
   {
    "duration": 9,
    "start_time": "2023-07-04T08:29:58.080Z"
   },
   {
    "duration": 14,
    "start_time": "2023-07-04T08:29:58.090Z"
   },
   {
    "duration": 141,
    "start_time": "2023-07-04T08:29:58.105Z"
   },
   {
    "duration": 23,
    "start_time": "2023-07-04T08:29:58.250Z"
   },
   {
    "duration": 4,
    "start_time": "2023-07-04T08:29:58.274Z"
   },
   {
    "duration": 168,
    "start_time": "2023-07-04T08:29:58.280Z"
   },
   {
    "duration": 23,
    "start_time": "2023-07-04T08:29:58.450Z"
   },
   {
    "duration": 4,
    "start_time": "2023-07-04T08:29:58.475Z"
   },
   {
    "duration": 5,
    "start_time": "2023-07-04T08:29:58.480Z"
   },
   {
    "duration": 6,
    "start_time": "2023-07-04T08:29:58.487Z"
   },
   {
    "duration": 5,
    "start_time": "2023-07-04T08:29:58.494Z"
   },
   {
    "duration": 45,
    "start_time": "2023-07-04T08:29:58.500Z"
   },
   {
    "duration": 124,
    "start_time": "2023-07-04T08:33:06.243Z"
   },
   {
    "duration": 44,
    "start_time": "2023-07-04T08:33:07.115Z"
   },
   {
    "duration": 3,
    "start_time": "2023-07-04T08:33:14.315Z"
   },
   {
    "duration": 70,
    "start_time": "2023-07-04T08:33:14.320Z"
   },
   {
    "duration": 27,
    "start_time": "2023-07-04T08:33:14.393Z"
   },
   {
    "duration": 47,
    "start_time": "2023-07-04T08:33:14.423Z"
   },
   {
    "duration": 25,
    "start_time": "2023-07-04T08:33:14.473Z"
   },
   {
    "duration": 3,
    "start_time": "2023-07-04T08:33:14.499Z"
   },
   {
    "duration": 17,
    "start_time": "2023-07-04T08:33:14.504Z"
   },
   {
    "duration": 4,
    "start_time": "2023-07-04T08:33:14.523Z"
   },
   {
    "duration": 5,
    "start_time": "2023-07-04T08:33:14.528Z"
   },
   {
    "duration": 46,
    "start_time": "2023-07-04T08:33:14.534Z"
   },
   {
    "duration": 12,
    "start_time": "2023-07-04T08:33:14.583Z"
   },
   {
    "duration": 10,
    "start_time": "2023-07-04T08:33:14.597Z"
   },
   {
    "duration": 14,
    "start_time": "2023-07-04T08:33:14.608Z"
   },
   {
    "duration": 3,
    "start_time": "2023-07-04T08:33:14.624Z"
   },
   {
    "duration": 5,
    "start_time": "2023-07-04T08:33:14.629Z"
   },
   {
    "duration": 5,
    "start_time": "2023-07-04T08:33:14.668Z"
   },
   {
    "duration": 5,
    "start_time": "2023-07-04T08:33:14.675Z"
   },
   {
    "duration": 4,
    "start_time": "2023-07-04T08:33:14.682Z"
   },
   {
    "duration": 15,
    "start_time": "2023-07-04T08:33:14.688Z"
   },
   {
    "duration": 5,
    "start_time": "2023-07-04T08:33:14.706Z"
   },
   {
    "duration": 21,
    "start_time": "2023-07-04T08:33:14.713Z"
   },
   {
    "duration": 39,
    "start_time": "2023-07-04T08:33:14.736Z"
   },
   {
    "duration": 7,
    "start_time": "2023-07-04T08:33:14.776Z"
   },
   {
    "duration": 7,
    "start_time": "2023-07-04T08:33:14.784Z"
   },
   {
    "duration": 9,
    "start_time": "2023-07-04T08:33:14.793Z"
   },
   {
    "duration": 20,
    "start_time": "2023-07-04T08:33:14.804Z"
   },
   {
    "duration": 135,
    "start_time": "2023-07-04T08:33:14.825Z"
   },
   {
    "duration": 16,
    "start_time": "2023-07-04T08:33:14.968Z"
   },
   {
    "duration": 3,
    "start_time": "2023-07-04T08:33:14.987Z"
   },
   {
    "duration": 187,
    "start_time": "2023-07-04T08:33:14.992Z"
   },
   {
    "duration": 14,
    "start_time": "2023-07-04T08:33:15.181Z"
   },
   {
    "duration": 26,
    "start_time": "2023-07-04T08:33:15.196Z"
   },
   {
    "duration": 16,
    "start_time": "2023-07-04T08:33:15.224Z"
   },
   {
    "duration": 49,
    "start_time": "2023-07-04T08:33:15.242Z"
   },
   {
    "duration": 3,
    "start_time": "2023-07-04T08:39:28.405Z"
   },
   {
    "duration": 3,
    "start_time": "2023-07-04T08:40:09.663Z"
   },
   {
    "duration": 12,
    "start_time": "2023-07-04T08:40:20.926Z"
   },
   {
    "duration": 5,
    "start_time": "2023-07-04T08:40:30.723Z"
   },
   {
    "duration": 7,
    "start_time": "2023-07-04T08:41:17.884Z"
   },
   {
    "duration": 246,
    "start_time": "2023-07-04T08:41:50.958Z"
   },
   {
    "duration": 123,
    "start_time": "2023-07-04T08:42:19.320Z"
   },
   {
    "duration": 237,
    "start_time": "2023-07-04T08:42:55.720Z"
   },
   {
    "duration": 232,
    "start_time": "2023-07-04T08:44:56.484Z"
   },
   {
    "duration": 351,
    "start_time": "2023-07-04T08:45:37.003Z"
   },
   {
    "duration": 204,
    "start_time": "2023-07-04T08:45:45.429Z"
   },
   {
    "duration": 125,
    "start_time": "2023-07-04T08:54:49.940Z"
   },
   {
    "duration": 114,
    "start_time": "2023-07-04T08:54:56.830Z"
   },
   {
    "duration": 229,
    "start_time": "2023-07-04T08:55:03.951Z"
   },
   {
    "duration": 5,
    "start_time": "2023-07-04T08:55:36.366Z"
   },
   {
    "duration": 187,
    "start_time": "2023-07-04T08:55:37.344Z"
   },
   {
    "duration": 123,
    "start_time": "2023-07-04T08:55:44.212Z"
   },
   {
    "duration": 133,
    "start_time": "2023-07-04T08:55:50.618Z"
   },
   {
    "duration": 180,
    "start_time": "2023-07-04T08:55:51.372Z"
   },
   {
    "duration": 118,
    "start_time": "2023-07-04T08:56:00.508Z"
   },
   {
    "duration": 201,
    "start_time": "2023-07-04T08:56:01.091Z"
   },
   {
    "duration": 123,
    "start_time": "2023-07-04T08:56:12.804Z"
   },
   {
    "duration": 187,
    "start_time": "2023-07-04T08:56:13.150Z"
   },
   {
    "duration": 2,
    "start_time": "2023-07-04T08:56:55.510Z"
   },
   {
    "duration": 56,
    "start_time": "2023-07-04T08:56:55.517Z"
   },
   {
    "duration": 15,
    "start_time": "2023-07-04T08:56:55.576Z"
   },
   {
    "duration": 17,
    "start_time": "2023-07-04T08:56:55.593Z"
   },
   {
    "duration": 14,
    "start_time": "2023-07-04T08:56:55.612Z"
   },
   {
    "duration": 3,
    "start_time": "2023-07-04T08:56:55.628Z"
   },
   {
    "duration": 43,
    "start_time": "2023-07-04T08:56:55.632Z"
   },
   {
    "duration": 4,
    "start_time": "2023-07-04T08:56:55.677Z"
   },
   {
    "duration": 7,
    "start_time": "2023-07-04T08:56:55.682Z"
   },
   {
    "duration": 15,
    "start_time": "2023-07-04T08:56:55.690Z"
   },
   {
    "duration": 14,
    "start_time": "2023-07-04T08:56:55.707Z"
   },
   {
    "duration": 18,
    "start_time": "2023-07-04T08:56:55.722Z"
   },
   {
    "duration": 42,
    "start_time": "2023-07-04T08:56:55.741Z"
   },
   {
    "duration": 3,
    "start_time": "2023-07-04T08:56:55.785Z"
   },
   {
    "duration": 7,
    "start_time": "2023-07-04T08:56:55.791Z"
   },
   {
    "duration": 6,
    "start_time": "2023-07-04T08:56:55.800Z"
   },
   {
    "duration": 8,
    "start_time": "2023-07-04T08:56:55.808Z"
   },
   {
    "duration": 10,
    "start_time": "2023-07-04T08:56:55.818Z"
   },
   {
    "duration": 42,
    "start_time": "2023-07-04T08:56:55.830Z"
   },
   {
    "duration": 27,
    "start_time": "2023-07-04T08:56:55.874Z"
   },
   {
    "duration": 27,
    "start_time": "2023-07-04T08:56:55.903Z"
   },
   {
    "duration": 38,
    "start_time": "2023-07-04T08:56:55.934Z"
   },
   {
    "duration": 7,
    "start_time": "2023-07-04T08:56:55.973Z"
   },
   {
    "duration": 5,
    "start_time": "2023-07-04T08:56:55.981Z"
   },
   {
    "duration": 11,
    "start_time": "2023-07-04T08:56:55.987Z"
   },
   {
    "duration": 16,
    "start_time": "2023-07-04T08:56:55.999Z"
   },
   {
    "duration": 154,
    "start_time": "2023-07-04T08:56:56.016Z"
   },
   {
    "duration": 16,
    "start_time": "2023-07-04T08:56:56.172Z"
   },
   {
    "duration": 4,
    "start_time": "2023-07-04T08:56:56.190Z"
   },
   {
    "duration": 189,
    "start_time": "2023-07-04T08:56:56.195Z"
   },
   {
    "duration": 16,
    "start_time": "2023-07-04T08:56:56.386Z"
   },
   {
    "duration": 4,
    "start_time": "2023-07-04T08:56:56.404Z"
   },
   {
    "duration": 5,
    "start_time": "2023-07-04T08:56:56.410Z"
   },
   {
    "duration": 5,
    "start_time": "2023-07-04T08:56:56.416Z"
   },
   {
    "duration": 5,
    "start_time": "2023-07-04T08:56:56.422Z"
   },
   {
    "duration": 5,
    "start_time": "2023-07-04T08:56:56.429Z"
   },
   {
    "duration": 36,
    "start_time": "2023-07-04T08:56:56.436Z"
   },
   {
    "duration": 3,
    "start_time": "2023-07-04T08:57:23.890Z"
   },
   {
    "duration": 11,
    "start_time": "2023-07-04T08:57:24.843Z"
   },
   {
    "duration": 4,
    "start_time": "2023-07-04T09:02:53.607Z"
   },
   {
    "duration": 24,
    "start_time": "2023-07-04T09:03:01.245Z"
   },
   {
    "duration": 2,
    "start_time": "2023-07-04T09:07:56.955Z"
   },
   {
    "duration": 51,
    "start_time": "2023-07-04T09:07:56.963Z"
   },
   {
    "duration": 14,
    "start_time": "2023-07-04T09:07:57.015Z"
   },
   {
    "duration": 16,
    "start_time": "2023-07-04T09:07:57.031Z"
   },
   {
    "duration": 15,
    "start_time": "2023-07-04T09:07:57.049Z"
   },
   {
    "duration": 4,
    "start_time": "2023-07-04T09:07:57.067Z"
   },
   {
    "duration": 15,
    "start_time": "2023-07-04T09:07:57.072Z"
   },
   {
    "duration": 4,
    "start_time": "2023-07-04T09:07:57.088Z"
   },
   {
    "duration": 4,
    "start_time": "2023-07-04T09:07:57.093Z"
   },
   {
    "duration": 20,
    "start_time": "2023-07-04T09:07:57.099Z"
   },
   {
    "duration": 12,
    "start_time": "2023-07-04T09:07:57.121Z"
   },
   {
    "duration": 8,
    "start_time": "2023-07-04T09:07:57.135Z"
   },
   {
    "duration": 14,
    "start_time": "2023-07-04T09:07:57.168Z"
   },
   {
    "duration": 3,
    "start_time": "2023-07-04T09:07:57.184Z"
   },
   {
    "duration": 5,
    "start_time": "2023-07-04T09:07:57.188Z"
   },
   {
    "duration": 6,
    "start_time": "2023-07-04T09:07:57.195Z"
   },
   {
    "duration": 9,
    "start_time": "2023-07-04T09:07:57.202Z"
   },
   {
    "duration": 4,
    "start_time": "2023-07-04T09:07:57.212Z"
   },
   {
    "duration": 7,
    "start_time": "2023-07-04T09:07:57.218Z"
   },
   {
    "duration": 42,
    "start_time": "2023-07-04T09:07:57.227Z"
   },
   {
    "duration": 15,
    "start_time": "2023-07-04T09:07:57.271Z"
   },
   {
    "duration": 16,
    "start_time": "2023-07-04T09:07:57.288Z"
   },
   {
    "duration": 7,
    "start_time": "2023-07-04T09:07:57.306Z"
   },
   {
    "duration": 3,
    "start_time": "2023-07-04T09:07:57.316Z"
   },
   {
    "duration": 11,
    "start_time": "2023-07-04T09:07:57.320Z"
   },
   {
    "duration": 40,
    "start_time": "2023-07-04T09:07:57.332Z"
   },
   {
    "duration": 117,
    "start_time": "2023-07-04T09:07:57.374Z"
   },
   {
    "duration": 16,
    "start_time": "2023-07-04T09:07:57.493Z"
   },
   {
    "duration": 4,
    "start_time": "2023-07-04T09:07:57.510Z"
   },
   {
    "duration": 252,
    "start_time": "2023-07-04T09:07:57.516Z"
   },
   {
    "duration": 13,
    "start_time": "2023-07-04T09:07:57.769Z"
   },
   {
    "duration": 3,
    "start_time": "2023-07-04T09:07:57.783Z"
   },
   {
    "duration": 6,
    "start_time": "2023-07-04T09:07:57.787Z"
   },
   {
    "duration": 4,
    "start_time": "2023-07-04T09:07:57.794Z"
   },
   {
    "duration": 6,
    "start_time": "2023-07-04T09:07:57.799Z"
   },
   {
    "duration": 5,
    "start_time": "2023-07-04T09:07:57.806Z"
   },
   {
    "duration": 6,
    "start_time": "2023-07-04T09:07:57.812Z"
   },
   {
    "duration": 27,
    "start_time": "2023-07-04T09:07:57.819Z"
   },
   {
    "duration": 3,
    "start_time": "2023-07-04T09:08:36.763Z"
   },
   {
    "duration": 22,
    "start_time": "2023-07-04T09:08:38.117Z"
   },
   {
    "duration": 21,
    "start_time": "2023-07-04T09:08:52.253Z"
   },
   {
    "duration": 128,
    "start_time": "2023-07-04T09:11:52.260Z"
   },
   {
    "duration": 148,
    "start_time": "2023-07-04T09:12:07.921Z"
   },
   {
    "duration": 159,
    "start_time": "2023-07-04T09:12:56.652Z"
   },
   {
    "duration": 152,
    "start_time": "2023-07-04T09:13:39.503Z"
   },
   {
    "duration": 136,
    "start_time": "2023-07-04T09:14:27.075Z"
   },
   {
    "duration": 896,
    "start_time": "2023-07-04T09:15:29.530Z"
   },
   {
    "duration": 1137,
    "start_time": "2023-07-04T09:15:51.614Z"
   },
   {
    "duration": 3,
    "start_time": "2023-07-04T09:16:00.600Z"
   },
   {
    "duration": 95,
    "start_time": "2023-07-04T09:16:00.605Z"
   },
   {
    "duration": 15,
    "start_time": "2023-07-04T09:16:00.702Z"
   },
   {
    "duration": 68,
    "start_time": "2023-07-04T09:16:00.718Z"
   },
   {
    "duration": 34,
    "start_time": "2023-07-04T09:16:00.788Z"
   },
   {
    "duration": 41,
    "start_time": "2023-07-04T09:16:00.823Z"
   },
   {
    "duration": 37,
    "start_time": "2023-07-04T09:16:00.866Z"
   },
   {
    "duration": 14,
    "start_time": "2023-07-04T09:16:00.905Z"
   },
   {
    "duration": 31,
    "start_time": "2023-07-04T09:16:00.921Z"
   },
   {
    "duration": 24,
    "start_time": "2023-07-04T09:16:00.954Z"
   },
   {
    "duration": 24,
    "start_time": "2023-07-04T09:16:00.982Z"
   },
   {
    "duration": 31,
    "start_time": "2023-07-04T09:16:01.007Z"
   },
   {
    "duration": 52,
    "start_time": "2023-07-04T09:16:01.039Z"
   },
   {
    "duration": 34,
    "start_time": "2023-07-04T09:16:01.093Z"
   },
   {
    "duration": 41,
    "start_time": "2023-07-04T09:16:01.129Z"
   },
   {
    "duration": 28,
    "start_time": "2023-07-04T09:16:01.171Z"
   },
   {
    "duration": 33,
    "start_time": "2023-07-04T09:16:01.200Z"
   },
   {
    "duration": 50,
    "start_time": "2023-07-04T09:16:01.235Z"
   },
   {
    "duration": 52,
    "start_time": "2023-07-04T09:16:01.286Z"
   },
   {
    "duration": 48,
    "start_time": "2023-07-04T09:16:01.339Z"
   },
   {
    "duration": 56,
    "start_time": "2023-07-04T09:16:01.388Z"
   },
   {
    "duration": 47,
    "start_time": "2023-07-04T09:16:01.445Z"
   },
   {
    "duration": 17,
    "start_time": "2023-07-04T09:16:01.494Z"
   },
   {
    "duration": 25,
    "start_time": "2023-07-04T09:16:01.513Z"
   },
   {
    "duration": 67,
    "start_time": "2023-07-04T09:16:01.540Z"
   },
   {
    "duration": 34,
    "start_time": "2023-07-04T09:16:01.608Z"
   },
   {
    "duration": 161,
    "start_time": "2023-07-04T09:16:01.643Z"
   },
   {
    "duration": 19,
    "start_time": "2023-07-04T09:16:01.805Z"
   },
   {
    "duration": 6,
    "start_time": "2023-07-04T09:16:01.827Z"
   },
   {
    "duration": 189,
    "start_time": "2023-07-04T09:16:01.834Z"
   },
   {
    "duration": 156,
    "start_time": "2023-07-04T09:16:02.024Z"
   },
   {
    "duration": 217,
    "start_time": "2023-07-04T09:16:02.182Z"
   },
   {
    "duration": 147,
    "start_time": "2023-07-04T09:16:02.401Z"
   },
   {
    "duration": 23,
    "start_time": "2023-07-04T09:16:02.550Z"
   },
   {
    "duration": 7,
    "start_time": "2023-07-04T09:16:02.575Z"
   },
   {
    "duration": 10,
    "start_time": "2023-07-04T09:16:02.583Z"
   },
   {
    "duration": 6,
    "start_time": "2023-07-04T09:16:02.595Z"
   },
   {
    "duration": 15,
    "start_time": "2023-07-04T09:16:02.602Z"
   },
   {
    "duration": 22,
    "start_time": "2023-07-04T09:16:02.618Z"
   },
   {
    "duration": 24,
    "start_time": "2023-07-04T09:16:02.642Z"
   },
   {
    "duration": 0,
    "start_time": "2023-07-04T09:16:02.668Z"
   },
   {
    "duration": 162,
    "start_time": "2023-07-04T09:31:57.180Z"
   },
   {
    "duration": 147,
    "start_time": "2023-07-04T09:32:24.783Z"
   },
   {
    "duration": 444,
    "start_time": "2023-07-04T09:33:14.518Z"
   },
   {
    "duration": 324,
    "start_time": "2023-07-04T09:33:45.414Z"
   },
   {
    "duration": 145,
    "start_time": "2023-07-04T09:34:26.443Z"
   },
   {
    "duration": 129,
    "start_time": "2023-07-04T09:34:59.907Z"
   },
   {
    "duration": 166,
    "start_time": "2023-07-04T09:35:22.721Z"
   },
   {
    "duration": 255,
    "start_time": "2023-07-04T09:36:02.264Z"
   },
   {
    "duration": 113,
    "start_time": "2023-07-04T09:39:38.537Z"
   },
   {
    "duration": 118,
    "start_time": "2023-07-04T09:41:52.690Z"
   },
   {
    "duration": 7,
    "start_time": "2023-07-04T10:13:15.851Z"
   },
   {
    "duration": 29,
    "start_time": "2023-07-04T10:14:28.576Z"
   },
   {
    "duration": 467,
    "start_time": "2023-07-04T10:16:57.418Z"
   },
   {
    "duration": 115,
    "start_time": "2023-07-04T10:18:12.279Z"
   },
   {
    "duration": 383,
    "start_time": "2023-07-04T10:19:17.059Z"
   },
   {
    "duration": 4,
    "start_time": "2023-07-04T10:23:19.584Z"
   },
   {
    "duration": 61,
    "start_time": "2023-07-04T10:23:19.592Z"
   },
   {
    "duration": 22,
    "start_time": "2023-07-04T10:23:19.655Z"
   },
   {
    "duration": 22,
    "start_time": "2023-07-04T10:23:19.678Z"
   },
   {
    "duration": 18,
    "start_time": "2023-07-04T10:23:19.702Z"
   },
   {
    "duration": 3,
    "start_time": "2023-07-04T10:23:19.722Z"
   },
   {
    "duration": 41,
    "start_time": "2023-07-04T10:23:19.727Z"
   },
   {
    "duration": 5,
    "start_time": "2023-07-04T10:23:19.771Z"
   },
   {
    "duration": 9,
    "start_time": "2023-07-04T10:23:19.778Z"
   },
   {
    "duration": 15,
    "start_time": "2023-07-04T10:23:19.789Z"
   },
   {
    "duration": 15,
    "start_time": "2023-07-04T10:23:19.807Z"
   },
   {
    "duration": 20,
    "start_time": "2023-07-04T10:23:19.823Z"
   },
   {
    "duration": 20,
    "start_time": "2023-07-04T10:23:19.868Z"
   },
   {
    "duration": 9,
    "start_time": "2023-07-04T10:23:19.890Z"
   },
   {
    "duration": 6,
    "start_time": "2023-07-04T10:23:19.900Z"
   },
   {
    "duration": 6,
    "start_time": "2023-07-04T10:23:19.908Z"
   },
   {
    "duration": 8,
    "start_time": "2023-07-04T10:23:19.916Z"
   },
   {
    "duration": 6,
    "start_time": "2023-07-04T10:23:19.925Z"
   },
   {
    "duration": 37,
    "start_time": "2023-07-04T10:23:19.932Z"
   },
   {
    "duration": 6,
    "start_time": "2023-07-04T10:23:19.976Z"
   },
   {
    "duration": 25,
    "start_time": "2023-07-04T10:23:19.984Z"
   },
   {
    "duration": 40,
    "start_time": "2023-07-04T10:23:20.010Z"
   },
   {
    "duration": 14,
    "start_time": "2023-07-04T10:23:20.052Z"
   },
   {
    "duration": 16,
    "start_time": "2023-07-04T10:23:20.068Z"
   },
   {
    "duration": 21,
    "start_time": "2023-07-04T10:23:20.086Z"
   },
   {
    "duration": 50,
    "start_time": "2023-07-04T10:23:20.109Z"
   },
   {
    "duration": 146,
    "start_time": "2023-07-04T10:23:20.161Z"
   },
   {
    "duration": 18,
    "start_time": "2023-07-04T10:23:20.308Z"
   },
   {
    "duration": 12,
    "start_time": "2023-07-04T10:23:20.330Z"
   },
   {
    "duration": 184,
    "start_time": "2023-07-04T10:23:20.344Z"
   },
   {
    "duration": 179,
    "start_time": "2023-07-04T10:23:20.530Z"
   },
   {
    "duration": 199,
    "start_time": "2023-07-04T10:23:20.711Z"
   },
   {
    "duration": 191,
    "start_time": "2023-07-04T10:23:20.913Z"
   },
   {
    "duration": 180,
    "start_time": "2023-07-04T10:23:21.106Z"
   },
   {
    "duration": 176,
    "start_time": "2023-07-04T10:23:21.287Z"
   },
   {
    "duration": 184,
    "start_time": "2023-07-04T10:23:21.467Z"
   },
   {
    "duration": 201,
    "start_time": "2023-07-04T10:23:21.653Z"
   },
   {
    "duration": 292,
    "start_time": "2023-07-04T10:23:21.855Z"
   },
   {
    "duration": 204,
    "start_time": "2023-07-04T10:23:22.150Z"
   },
   {
    "duration": 277,
    "start_time": "2023-07-04T10:23:22.355Z"
   },
   {
    "duration": 7,
    "start_time": "2023-07-04T10:23:22.633Z"
   },
   {
    "duration": 43,
    "start_time": "2023-07-04T10:23:22.642Z"
   },
   {
    "duration": 23,
    "start_time": "2023-07-04T10:23:46.605Z"
   },
   {
    "duration": 27,
    "start_time": "2023-07-04T10:23:52.635Z"
   },
   {
    "duration": 25,
    "start_time": "2023-07-04T10:23:58.179Z"
   },
   {
    "duration": 23,
    "start_time": "2023-07-04T10:24:03.346Z"
   },
   {
    "duration": 15,
    "start_time": "2023-07-04T10:25:04.949Z"
   },
   {
    "duration": 1153,
    "start_time": "2023-07-04T10:25:26.475Z"
   },
   {
    "duration": 53,
    "start_time": "2023-07-04T10:25:27.630Z"
   },
   {
    "duration": 22,
    "start_time": "2023-07-04T10:25:27.685Z"
   },
   {
    "duration": 20,
    "start_time": "2023-07-04T10:25:27.709Z"
   },
   {
    "duration": 15,
    "start_time": "2023-07-04T10:25:27.731Z"
   },
   {
    "duration": 2,
    "start_time": "2023-07-04T10:25:27.748Z"
   },
   {
    "duration": 33,
    "start_time": "2023-07-04T10:25:27.752Z"
   },
   {
    "duration": 8,
    "start_time": "2023-07-04T10:25:27.787Z"
   },
   {
    "duration": 12,
    "start_time": "2023-07-04T10:25:27.797Z"
   },
   {
    "duration": 25,
    "start_time": "2023-07-04T10:25:27.811Z"
   },
   {
    "duration": 13,
    "start_time": "2023-07-04T10:25:27.837Z"
   },
   {
    "duration": 22,
    "start_time": "2023-07-04T10:25:27.852Z"
   },
   {
    "duration": 59,
    "start_time": "2023-07-04T10:25:27.876Z"
   },
   {
    "duration": 4,
    "start_time": "2023-07-04T10:25:27.936Z"
   },
   {
    "duration": 9,
    "start_time": "2023-07-04T10:25:27.941Z"
   },
   {
    "duration": 6,
    "start_time": "2023-07-04T10:25:27.951Z"
   },
   {
    "duration": 13,
    "start_time": "2023-07-04T10:25:27.959Z"
   },
   {
    "duration": 8,
    "start_time": "2023-07-04T10:25:27.974Z"
   },
   {
    "duration": 6,
    "start_time": "2023-07-04T10:25:27.984Z"
   },
   {
    "duration": 12,
    "start_time": "2023-07-04T10:25:27.992Z"
   },
   {
    "duration": 23,
    "start_time": "2023-07-04T10:25:28.006Z"
   },
   {
    "duration": 17,
    "start_time": "2023-07-04T10:25:28.030Z"
   },
   {
    "duration": 19,
    "start_time": "2023-07-04T10:25:28.049Z"
   },
   {
    "duration": 3,
    "start_time": "2023-07-04T10:25:28.070Z"
   },
   {
    "duration": 13,
    "start_time": "2023-07-04T10:25:28.074Z"
   },
   {
    "duration": 14,
    "start_time": "2023-07-04T10:25:28.089Z"
   },
   {
    "duration": 148,
    "start_time": "2023-07-04T10:25:28.104Z"
   },
   {
    "duration": 27,
    "start_time": "2023-07-04T10:25:28.255Z"
   },
   {
    "duration": 5,
    "start_time": "2023-07-04T10:25:28.284Z"
   },
   {
    "duration": 169,
    "start_time": "2023-07-04T10:25:28.291Z"
   },
   {
    "duration": 157,
    "start_time": "2023-07-04T10:25:28.467Z"
   },
   {
    "duration": 166,
    "start_time": "2023-07-04T10:25:28.625Z"
   },
   {
    "duration": 152,
    "start_time": "2023-07-04T10:25:28.793Z"
   },
   {
    "duration": 166,
    "start_time": "2023-07-04T10:25:28.947Z"
   },
   {
    "duration": 162,
    "start_time": "2023-07-04T10:25:29.114Z"
   },
   {
    "duration": 155,
    "start_time": "2023-07-04T10:25:29.278Z"
   },
   {
    "duration": 220,
    "start_time": "2023-07-04T10:25:29.435Z"
   },
   {
    "duration": 144,
    "start_time": "2023-07-04T10:25:29.657Z"
   },
   {
    "duration": 169,
    "start_time": "2023-07-04T10:25:29.803Z"
   },
   {
    "duration": 243,
    "start_time": "2023-07-04T10:25:29.974Z"
   },
   {
    "duration": 7,
    "start_time": "2023-07-04T10:25:30.218Z"
   },
   {
    "duration": 36,
    "start_time": "2023-07-04T10:25:30.227Z"
   },
   {
    "duration": 104,
    "start_time": "2023-07-04T10:27:32.916Z"
   },
   {
    "duration": 20,
    "start_time": "2023-07-04T10:27:38.966Z"
   },
   {
    "duration": 18,
    "start_time": "2023-07-04T10:27:51.254Z"
   },
   {
    "duration": 29,
    "start_time": "2023-07-04T10:28:49.018Z"
   },
   {
    "duration": 14,
    "start_time": "2023-07-04T10:30:16.768Z"
   },
   {
    "duration": 13,
    "start_time": "2023-07-04T10:30:24.127Z"
   },
   {
    "duration": 11,
    "start_time": "2023-07-04T10:30:30.687Z"
   },
   {
    "duration": 8,
    "start_time": "2023-07-04T10:33:31.314Z"
   },
   {
    "duration": 11,
    "start_time": "2023-07-04T10:33:40.176Z"
   },
   {
    "duration": 7,
    "start_time": "2023-07-04T10:33:53.320Z"
   },
   {
    "duration": 27,
    "start_time": "2023-07-04T10:33:59.910Z"
   },
   {
    "duration": 9,
    "start_time": "2023-07-04T10:34:41.118Z"
   },
   {
    "duration": 11,
    "start_time": "2023-07-04T10:34:48.312Z"
   },
   {
    "duration": 1214,
    "start_time": "2023-07-04T10:35:07.075Z"
   },
   {
    "duration": 60,
    "start_time": "2023-07-04T10:35:08.292Z"
   },
   {
    "duration": 24,
    "start_time": "2023-07-04T10:35:08.353Z"
   },
   {
    "duration": 28,
    "start_time": "2023-07-04T10:35:08.380Z"
   },
   {
    "duration": 16,
    "start_time": "2023-07-04T10:35:08.409Z"
   },
   {
    "duration": 5,
    "start_time": "2023-07-04T10:35:08.427Z"
   },
   {
    "duration": 16,
    "start_time": "2023-07-04T10:35:08.434Z"
   },
   {
    "duration": 23,
    "start_time": "2023-07-04T10:35:08.452Z"
   },
   {
    "duration": 16,
    "start_time": "2023-07-04T10:35:08.477Z"
   },
   {
    "duration": 19,
    "start_time": "2023-07-04T10:35:08.496Z"
   },
   {
    "duration": 75,
    "start_time": "2023-07-04T10:35:08.517Z"
   },
   {
    "duration": 20,
    "start_time": "2023-07-04T10:35:08.595Z"
   },
   {
    "duration": 53,
    "start_time": "2023-07-04T10:35:08.617Z"
   },
   {
    "duration": 4,
    "start_time": "2023-07-04T10:35:08.672Z"
   },
   {
    "duration": 17,
    "start_time": "2023-07-04T10:35:08.678Z"
   },
   {
    "duration": 13,
    "start_time": "2023-07-04T10:35:08.697Z"
   },
   {
    "duration": 7,
    "start_time": "2023-07-04T10:35:08.711Z"
   },
   {
    "duration": 6,
    "start_time": "2023-07-04T10:35:08.720Z"
   },
   {
    "duration": 6,
    "start_time": "2023-07-04T10:35:08.727Z"
   },
   {
    "duration": 5,
    "start_time": "2023-07-04T10:35:08.735Z"
   },
   {
    "duration": 31,
    "start_time": "2023-07-04T10:35:08.742Z"
   },
   {
    "duration": 35,
    "start_time": "2023-07-04T10:35:08.775Z"
   },
   {
    "duration": 8,
    "start_time": "2023-07-04T10:35:08.812Z"
   },
   {
    "duration": 4,
    "start_time": "2023-07-04T10:35:08.822Z"
   },
   {
    "duration": 11,
    "start_time": "2023-07-04T10:35:08.827Z"
   },
   {
    "duration": 34,
    "start_time": "2023-07-04T10:35:08.840Z"
   },
   {
    "duration": 154,
    "start_time": "2023-07-04T10:35:08.876Z"
   },
   {
    "duration": 19,
    "start_time": "2023-07-04T10:35:09.035Z"
   },
   {
    "duration": 17,
    "start_time": "2023-07-04T10:35:09.055Z"
   },
   {
    "duration": 197,
    "start_time": "2023-07-04T10:35:09.074Z"
   },
   {
    "duration": 185,
    "start_time": "2023-07-04T10:35:09.274Z"
   },
   {
    "duration": 197,
    "start_time": "2023-07-04T10:35:09.461Z"
   },
   {
    "duration": 187,
    "start_time": "2023-07-04T10:35:09.660Z"
   },
   {
    "duration": 173,
    "start_time": "2023-07-04T10:35:09.848Z"
   },
   {
    "duration": 193,
    "start_time": "2023-07-04T10:35:10.022Z"
   },
   {
    "duration": 176,
    "start_time": "2023-07-04T10:35:10.217Z"
   },
   {
    "duration": 307,
    "start_time": "2023-07-04T10:35:10.396Z"
   },
   {
    "duration": 206,
    "start_time": "2023-07-04T10:35:10.706Z"
   },
   {
    "duration": 198,
    "start_time": "2023-07-04T10:35:10.914Z"
   },
   {
    "duration": 311,
    "start_time": "2023-07-04T10:35:11.113Z"
   },
   {
    "duration": 8,
    "start_time": "2023-07-04T10:35:11.426Z"
   },
   {
    "duration": 9,
    "start_time": "2023-07-04T10:35:11.436Z"
   },
   {
    "duration": 8,
    "start_time": "2023-07-04T10:35:29.615Z"
   },
   {
    "duration": 8,
    "start_time": "2023-07-04T10:35:45.388Z"
   },
   {
    "duration": 10,
    "start_time": "2023-07-04T10:35:46.221Z"
   },
   {
    "duration": 4,
    "start_time": "2023-07-04T11:13:05.839Z"
   },
   {
    "duration": 55,
    "start_time": "2023-07-04T11:13:05.892Z"
   },
   {
    "duration": 15,
    "start_time": "2023-07-04T11:13:05.948Z"
   },
   {
    "duration": 22,
    "start_time": "2023-07-04T11:13:05.964Z"
   },
   {
    "duration": 19,
    "start_time": "2023-07-04T11:13:05.988Z"
   },
   {
    "duration": 3,
    "start_time": "2023-07-04T11:13:06.011Z"
   },
   {
    "duration": 17,
    "start_time": "2023-07-04T11:13:06.016Z"
   },
   {
    "duration": 18,
    "start_time": "2023-07-04T11:13:06.035Z"
   },
   {
    "duration": 15,
    "start_time": "2023-07-04T11:13:06.056Z"
   },
   {
    "duration": 27,
    "start_time": "2023-07-04T11:13:06.073Z"
   },
   {
    "duration": 15,
    "start_time": "2023-07-04T11:13:06.101Z"
   },
   {
    "duration": 12,
    "start_time": "2023-07-04T11:13:06.118Z"
   },
   {
    "duration": 44,
    "start_time": "2023-07-04T11:13:06.132Z"
   },
   {
    "duration": 4,
    "start_time": "2023-07-04T11:13:06.178Z"
   },
   {
    "duration": 6,
    "start_time": "2023-07-04T11:13:06.184Z"
   },
   {
    "duration": 11,
    "start_time": "2023-07-04T11:13:06.191Z"
   },
   {
    "duration": 11,
    "start_time": "2023-07-04T11:13:06.205Z"
   },
   {
    "duration": 23,
    "start_time": "2023-07-04T11:13:06.217Z"
   },
   {
    "duration": 5,
    "start_time": "2023-07-04T11:13:06.242Z"
   },
   {
    "duration": 20,
    "start_time": "2023-07-04T11:13:06.248Z"
   },
   {
    "duration": 15,
    "start_time": "2023-07-04T11:13:06.270Z"
   },
   {
    "duration": 18,
    "start_time": "2023-07-04T11:13:06.286Z"
   },
   {
    "duration": 8,
    "start_time": "2023-07-04T11:13:06.306Z"
   },
   {
    "duration": 16,
    "start_time": "2023-07-04T11:13:06.315Z"
   },
   {
    "duration": 13,
    "start_time": "2023-07-04T11:13:06.332Z"
   },
   {
    "duration": 33,
    "start_time": "2023-07-04T11:13:06.347Z"
   },
   {
    "duration": 137,
    "start_time": "2023-07-04T11:13:06.381Z"
   },
   {
    "duration": 20,
    "start_time": "2023-07-04T11:13:06.519Z"
   },
   {
    "duration": 13,
    "start_time": "2023-07-04T11:13:06.541Z"
   },
   {
    "duration": 187,
    "start_time": "2023-07-04T11:13:06.555Z"
   },
   {
    "duration": 169,
    "start_time": "2023-07-04T11:13:06.744Z"
   },
   {
    "duration": 202,
    "start_time": "2023-07-04T11:13:06.914Z"
   },
   {
    "duration": 171,
    "start_time": "2023-07-04T11:13:07.119Z"
   },
   {
    "duration": 181,
    "start_time": "2023-07-04T11:13:07.293Z"
   },
   {
    "duration": 178,
    "start_time": "2023-07-04T11:13:07.476Z"
   },
   {
    "duration": 258,
    "start_time": "2023-07-04T11:13:07.656Z"
   },
   {
    "duration": 189,
    "start_time": "2023-07-04T11:13:07.916Z"
   },
   {
    "duration": 138,
    "start_time": "2023-07-04T11:13:08.107Z"
   },
   {
    "duration": 197,
    "start_time": "2023-07-04T11:13:08.247Z"
   },
   {
    "duration": 238,
    "start_time": "2023-07-04T11:13:08.445Z"
   },
   {
    "duration": 7,
    "start_time": "2023-07-04T11:13:08.685Z"
   },
   {
    "duration": 23,
    "start_time": "2023-07-04T11:13:08.694Z"
   },
   {
    "duration": 14,
    "start_time": "2023-07-04T11:13:08.719Z"
   },
   {
    "duration": 7,
    "start_time": "2023-07-04T11:13:16.336Z"
   },
   {
    "duration": 23,
    "start_time": "2023-07-04T11:13:18.407Z"
   },
   {
    "duration": 105,
    "start_time": "2023-07-04T11:15:00.323Z"
   },
   {
    "duration": 31,
    "start_time": "2023-07-04T11:15:10.424Z"
   },
   {
    "duration": 14,
    "start_time": "2023-07-04T11:15:55.089Z"
   },
   {
    "duration": 19,
    "start_time": "2023-07-04T11:16:50.228Z"
   },
   {
    "duration": 35,
    "start_time": "2023-07-04T11:17:22.536Z"
   },
   {
    "duration": 356,
    "start_time": "2023-07-04T11:18:16.567Z"
   },
   {
    "duration": 3,
    "start_time": "2023-07-04T11:28:17.843Z"
   },
   {
    "duration": 55,
    "start_time": "2023-07-04T11:28:17.851Z"
   },
   {
    "duration": 15,
    "start_time": "2023-07-04T11:28:17.908Z"
   },
   {
    "duration": 21,
    "start_time": "2023-07-04T11:28:17.924Z"
   },
   {
    "duration": 28,
    "start_time": "2023-07-04T11:28:17.948Z"
   },
   {
    "duration": 3,
    "start_time": "2023-07-04T11:28:17.979Z"
   },
   {
    "duration": 15,
    "start_time": "2023-07-04T11:28:17.984Z"
   },
   {
    "duration": 4,
    "start_time": "2023-07-04T11:28:18.001Z"
   },
   {
    "duration": 5,
    "start_time": "2023-07-04T11:28:18.006Z"
   },
   {
    "duration": 14,
    "start_time": "2023-07-04T11:28:18.012Z"
   },
   {
    "duration": 43,
    "start_time": "2023-07-04T11:28:18.028Z"
   },
   {
    "duration": 11,
    "start_time": "2023-07-04T11:28:18.072Z"
   },
   {
    "duration": 17,
    "start_time": "2023-07-04T11:28:18.084Z"
   },
   {
    "duration": 3,
    "start_time": "2023-07-04T11:28:18.103Z"
   },
   {
    "duration": 6,
    "start_time": "2023-07-04T11:28:18.108Z"
   },
   {
    "duration": 5,
    "start_time": "2023-07-04T11:28:18.116Z"
   },
   {
    "duration": 5,
    "start_time": "2023-07-04T11:28:18.123Z"
   },
   {
    "duration": 41,
    "start_time": "2023-07-04T11:28:18.130Z"
   },
   {
    "duration": 7,
    "start_time": "2023-07-04T11:28:18.172Z"
   },
   {
    "duration": 5,
    "start_time": "2023-07-04T11:28:18.181Z"
   },
   {
    "duration": 13,
    "start_time": "2023-07-04T11:28:18.188Z"
   },
   {
    "duration": 17,
    "start_time": "2023-07-04T11:28:18.203Z"
   },
   {
    "duration": 6,
    "start_time": "2023-07-04T11:28:18.221Z"
   },
   {
    "duration": 3,
    "start_time": "2023-07-04T11:28:18.229Z"
   },
   {
    "duration": 40,
    "start_time": "2023-07-04T11:28:18.234Z"
   },
   {
    "duration": 17,
    "start_time": "2023-07-04T11:28:18.276Z"
   },
   {
    "duration": 128,
    "start_time": "2023-07-04T11:28:18.294Z"
   },
   {
    "duration": 16,
    "start_time": "2023-07-04T11:28:18.424Z"
   },
   {
    "duration": 4,
    "start_time": "2023-07-04T11:28:18.443Z"
   },
   {
    "duration": 177,
    "start_time": "2023-07-04T11:28:18.448Z"
   },
   {
    "duration": 161,
    "start_time": "2023-07-04T11:28:18.627Z"
   },
   {
    "duration": 170,
    "start_time": "2023-07-04T11:28:18.789Z"
   },
   {
    "duration": 153,
    "start_time": "2023-07-04T11:28:18.961Z"
   },
   {
    "duration": 157,
    "start_time": "2023-07-04T11:28:19.116Z"
   },
   {
    "duration": 262,
    "start_time": "2023-07-04T11:28:19.275Z"
   },
   {
    "duration": 176,
    "start_time": "2023-07-04T11:28:19.539Z"
   },
   {
    "duration": 178,
    "start_time": "2023-07-04T11:28:19.717Z"
   },
   {
    "duration": 154,
    "start_time": "2023-07-04T11:28:19.898Z"
   },
   {
    "duration": 186,
    "start_time": "2023-07-04T11:28:20.054Z"
   },
   {
    "duration": 277,
    "start_time": "2023-07-04T11:28:20.241Z"
   },
   {
    "duration": 7,
    "start_time": "2023-07-04T11:28:20.520Z"
   },
   {
    "duration": 362,
    "start_time": "2023-07-04T11:28:20.528Z"
   },
   {
    "duration": 324,
    "start_time": "2023-07-04T11:30:54.492Z"
   },
   {
    "duration": 306,
    "start_time": "2023-07-04T11:32:13.213Z"
   },
   {
    "duration": 413,
    "start_time": "2023-07-04T11:42:07.543Z"
   },
   {
    "duration": 8,
    "start_time": "2023-07-04T12:01:14.021Z"
   },
   {
    "duration": 124,
    "start_time": "2023-07-04T12:03:30.693Z"
   },
   {
    "duration": 174,
    "start_time": "2023-07-04T12:06:36.623Z"
   },
   {
    "duration": 113,
    "start_time": "2023-07-04T12:06:40.912Z"
   },
   {
    "duration": 2025,
    "start_time": "2023-07-04T12:07:06.098Z"
   },
   {
    "duration": 4,
    "start_time": "2023-07-04T12:07:25.005Z"
   },
   {
    "duration": 9,
    "start_time": "2023-07-04T12:07:39.844Z"
   },
   {
    "duration": 10,
    "start_time": "2023-07-04T12:12:48.003Z"
   },
   {
    "duration": 11,
    "start_time": "2023-07-04T12:13:02.199Z"
   },
   {
    "duration": 3,
    "start_time": "2023-07-04T12:13:11.915Z"
   },
   {
    "duration": 69,
    "start_time": "2023-07-04T12:13:11.922Z"
   },
   {
    "duration": 16,
    "start_time": "2023-07-04T12:13:11.993Z"
   },
   {
    "duration": 23,
    "start_time": "2023-07-04T12:13:12.011Z"
   },
   {
    "duration": 41,
    "start_time": "2023-07-04T12:13:12.037Z"
   },
   {
    "duration": 40,
    "start_time": "2023-07-04T12:13:12.080Z"
   },
   {
    "duration": 32,
    "start_time": "2023-07-04T12:13:12.122Z"
   },
   {
    "duration": 10,
    "start_time": "2023-07-04T12:13:12.155Z"
   },
   {
    "duration": 16,
    "start_time": "2023-07-04T12:13:12.167Z"
   },
   {
    "duration": 22,
    "start_time": "2023-07-04T12:13:12.185Z"
   },
   {
    "duration": 17,
    "start_time": "2023-07-04T12:13:12.209Z"
   },
   {
    "duration": 24,
    "start_time": "2023-07-04T12:13:12.227Z"
   },
   {
    "duration": 20,
    "start_time": "2023-07-04T12:13:12.253Z"
   },
   {
    "duration": 7,
    "start_time": "2023-07-04T12:13:12.275Z"
   },
   {
    "duration": 21,
    "start_time": "2023-07-04T12:13:12.283Z"
   },
   {
    "duration": 24,
    "start_time": "2023-07-04T12:13:12.306Z"
   },
   {
    "duration": 24,
    "start_time": "2023-07-04T12:13:12.332Z"
   },
   {
    "duration": 14,
    "start_time": "2023-07-04T12:13:12.357Z"
   },
   {
    "duration": 25,
    "start_time": "2023-07-04T12:13:12.372Z"
   },
   {
    "duration": 14,
    "start_time": "2023-07-04T12:13:12.399Z"
   },
   {
    "duration": 27,
    "start_time": "2023-07-04T12:13:12.416Z"
   },
   {
    "duration": 37,
    "start_time": "2023-07-04T12:13:12.445Z"
   },
   {
    "duration": 8,
    "start_time": "2023-07-04T12:13:12.484Z"
   },
   {
    "duration": 19,
    "start_time": "2023-07-04T12:13:12.494Z"
   },
   {
    "duration": 17,
    "start_time": "2023-07-04T12:13:12.515Z"
   },
   {
    "duration": 21,
    "start_time": "2023-07-04T12:13:12.534Z"
   },
   {
    "duration": 123,
    "start_time": "2023-07-04T12:13:12.557Z"
   },
   {
    "duration": 16,
    "start_time": "2023-07-04T12:13:12.682Z"
   },
   {
    "duration": 4,
    "start_time": "2023-07-04T12:13:12.702Z"
   },
   {
    "duration": 173,
    "start_time": "2023-07-04T12:13:12.707Z"
   },
   {
    "duration": 157,
    "start_time": "2023-07-04T12:13:12.881Z"
   },
   {
    "duration": 187,
    "start_time": "2023-07-04T12:13:13.040Z"
   },
   {
    "duration": 148,
    "start_time": "2023-07-04T12:13:13.229Z"
   },
   {
    "duration": 157,
    "start_time": "2023-07-04T12:13:13.379Z"
   },
   {
    "duration": 152,
    "start_time": "2023-07-04T12:13:13.537Z"
   },
   {
    "duration": 148,
    "start_time": "2023-07-04T12:13:13.690Z"
   },
   {
    "duration": 194,
    "start_time": "2023-07-04T12:13:13.840Z"
   },
   {
    "duration": 173,
    "start_time": "2023-07-04T12:13:14.039Z"
   },
   {
    "duration": 160,
    "start_time": "2023-07-04T12:13:14.213Z"
   },
   {
    "duration": 236,
    "start_time": "2023-07-04T12:13:14.375Z"
   },
   {
    "duration": 7,
    "start_time": "2023-07-04T12:13:14.613Z"
   },
   {
    "duration": 304,
    "start_time": "2023-07-04T12:13:14.622Z"
   },
   {
    "duration": 288,
    "start_time": "2023-07-04T12:13:14.927Z"
   },
   {
    "duration": 6,
    "start_time": "2023-07-04T12:13:15.217Z"
   },
   {
    "duration": 126,
    "start_time": "2023-07-04T12:13:15.225Z"
   },
   {
    "duration": 5,
    "start_time": "2023-07-04T12:13:15.353Z"
   },
   {
    "duration": 17,
    "start_time": "2023-07-04T12:13:15.368Z"
   },
   {
    "duration": 11,
    "start_time": "2023-07-04T12:13:15.386Z"
   },
   {
    "duration": 4,
    "start_time": "2023-07-04T12:13:27.601Z"
   },
   {
    "duration": 9,
    "start_time": "2023-07-04T12:13:32.804Z"
   },
   {
    "duration": 9,
    "start_time": "2023-07-04T12:14:23.914Z"
   },
   {
    "duration": 3,
    "start_time": "2023-07-04T12:14:58.610Z"
   },
   {
    "duration": 63,
    "start_time": "2023-07-04T12:14:58.616Z"
   },
   {
    "duration": 14,
    "start_time": "2023-07-04T12:14:58.681Z"
   },
   {
    "duration": 16,
    "start_time": "2023-07-04T12:14:58.697Z"
   },
   {
    "duration": 14,
    "start_time": "2023-07-04T12:14:58.715Z"
   },
   {
    "duration": 3,
    "start_time": "2023-07-04T12:14:58.731Z"
   },
   {
    "duration": 39,
    "start_time": "2023-07-04T12:14:58.736Z"
   },
   {
    "duration": 5,
    "start_time": "2023-07-04T12:14:58.776Z"
   },
   {
    "duration": 5,
    "start_time": "2023-07-04T12:14:58.782Z"
   },
   {
    "duration": 14,
    "start_time": "2023-07-04T12:14:58.789Z"
   },
   {
    "duration": 182,
    "start_time": "2023-07-04T12:14:58.804Z"
   },
   {
    "duration": 9,
    "start_time": "2023-07-04T12:14:58.988Z"
   },
   {
    "duration": 24,
    "start_time": "2023-07-04T12:14:58.999Z"
   },
   {
    "duration": 4,
    "start_time": "2023-07-04T12:14:59.027Z"
   },
   {
    "duration": 5,
    "start_time": "2023-07-04T12:14:59.033Z"
   },
   {
    "duration": 5,
    "start_time": "2023-07-04T12:14:59.071Z"
   },
   {
    "duration": 7,
    "start_time": "2023-07-04T12:14:59.077Z"
   },
   {
    "duration": 5,
    "start_time": "2023-07-04T12:14:59.085Z"
   },
   {
    "duration": 7,
    "start_time": "2023-07-04T12:14:59.092Z"
   },
   {
    "duration": 6,
    "start_time": "2023-07-04T12:14:59.100Z"
   },
   {
    "duration": 19,
    "start_time": "2023-07-04T12:14:59.108Z"
   },
   {
    "duration": 17,
    "start_time": "2023-07-04T12:14:59.129Z"
   },
   {
    "duration": 26,
    "start_time": "2023-07-04T12:14:59.147Z"
   },
   {
    "duration": 5,
    "start_time": "2023-07-04T12:14:59.175Z"
   },
   {
    "duration": 10,
    "start_time": "2023-07-04T12:14:59.181Z"
   },
   {
    "duration": 14,
    "start_time": "2023-07-04T12:14:59.193Z"
   },
   {
    "duration": 134,
    "start_time": "2023-07-04T12:14:59.208Z"
   },
   {
    "duration": 25,
    "start_time": "2023-07-04T12:14:59.344Z"
   },
   {
    "duration": 5,
    "start_time": "2023-07-04T12:14:59.370Z"
   },
   {
    "duration": 174,
    "start_time": "2023-07-04T12:14:59.377Z"
   },
   {
    "duration": 169,
    "start_time": "2023-07-04T12:14:59.553Z"
   },
   {
    "duration": 172,
    "start_time": "2023-07-04T12:14:59.724Z"
   },
   {
    "duration": 193,
    "start_time": "2023-07-04T12:14:59.898Z"
   },
   {
    "duration": 168,
    "start_time": "2023-07-04T12:15:00.093Z"
   },
   {
    "duration": 169,
    "start_time": "2023-07-04T12:15:00.263Z"
   },
   {
    "duration": 155,
    "start_time": "2023-07-04T12:15:00.434Z"
   },
   {
    "duration": 165,
    "start_time": "2023-07-04T12:15:00.591Z"
   },
   {
    "duration": 154,
    "start_time": "2023-07-04T12:15:00.758Z"
   },
   {
    "duration": 173,
    "start_time": "2023-07-04T12:15:00.913Z"
   },
   {
    "duration": 238,
    "start_time": "2023-07-04T12:15:01.088Z"
   },
   {
    "duration": 8,
    "start_time": "2023-07-04T12:15:01.329Z"
   },
   {
    "duration": 382,
    "start_time": "2023-07-04T12:15:01.338Z"
   },
   {
    "duration": 303,
    "start_time": "2023-07-04T12:15:01.722Z"
   },
   {
    "duration": 205,
    "start_time": "2023-07-04T12:15:02.027Z"
   },
   {
    "duration": 172,
    "start_time": "2023-07-04T12:15:02.234Z"
   },
   {
    "duration": 5,
    "start_time": "2023-07-04T12:15:02.408Z"
   },
   {
    "duration": 54,
    "start_time": "2023-07-04T12:15:02.414Z"
   },
   {
    "duration": 55,
    "start_time": "2023-07-04T12:15:02.470Z"
   },
   {
    "duration": 10,
    "start_time": "2023-07-04T12:16:04.148Z"
   },
   {
    "duration": 4,
    "start_time": "2023-07-04T12:16:20.210Z"
   },
   {
    "duration": 9,
    "start_time": "2023-07-04T12:16:20.739Z"
   },
   {
    "duration": 10,
    "start_time": "2023-07-04T12:16:21.694Z"
   },
   {
    "duration": 9,
    "start_time": "2023-07-04T12:16:37.480Z"
   },
   {
    "duration": 8,
    "start_time": "2023-07-04T12:16:44.557Z"
   },
   {
    "duration": 4,
    "start_time": "2023-07-04T12:17:09.601Z"
   },
   {
    "duration": 8,
    "start_time": "2023-07-04T12:17:11.355Z"
   },
   {
    "duration": 6,
    "start_time": "2023-07-04T12:17:54.406Z"
   },
   {
    "duration": 3,
    "start_time": "2023-07-04T12:19:00.103Z"
   },
   {
    "duration": 95,
    "start_time": "2023-07-04T12:19:00.109Z"
   },
   {
    "duration": 29,
    "start_time": "2023-07-04T12:19:00.205Z"
   },
   {
    "duration": 42,
    "start_time": "2023-07-04T12:19:00.236Z"
   },
   {
    "duration": 50,
    "start_time": "2023-07-04T12:19:00.281Z"
   },
   {
    "duration": 48,
    "start_time": "2023-07-04T12:19:00.333Z"
   },
   {
    "duration": 49,
    "start_time": "2023-07-04T12:19:00.382Z"
   },
   {
    "duration": 11,
    "start_time": "2023-07-04T12:19:00.433Z"
   },
   {
    "duration": 27,
    "start_time": "2023-07-04T12:19:00.446Z"
   },
   {
    "duration": 44,
    "start_time": "2023-07-04T12:19:00.475Z"
   },
   {
    "duration": 22,
    "start_time": "2023-07-04T12:19:00.521Z"
   },
   {
    "duration": 43,
    "start_time": "2023-07-04T12:19:00.545Z"
   },
   {
    "duration": 41,
    "start_time": "2023-07-04T12:19:00.589Z"
   },
   {
    "duration": 15,
    "start_time": "2023-07-04T12:19:00.633Z"
   },
   {
    "duration": 29,
    "start_time": "2023-07-04T12:19:00.650Z"
   },
   {
    "duration": 54,
    "start_time": "2023-07-04T12:19:00.680Z"
   },
   {
    "duration": 31,
    "start_time": "2023-07-04T12:19:00.736Z"
   },
   {
    "duration": 20,
    "start_time": "2023-07-04T12:19:00.768Z"
   },
   {
    "duration": 30,
    "start_time": "2023-07-04T12:19:00.790Z"
   },
   {
    "duration": 13,
    "start_time": "2023-07-04T12:19:00.821Z"
   },
   {
    "duration": 64,
    "start_time": "2023-07-04T12:19:00.836Z"
   },
   {
    "duration": 42,
    "start_time": "2023-07-04T12:19:00.902Z"
   },
   {
    "duration": 24,
    "start_time": "2023-07-04T12:19:00.946Z"
   },
   {
    "duration": 173,
    "start_time": "2023-07-04T12:19:00.971Z"
   },
   {
    "duration": 296,
    "start_time": "2023-07-04T12:19:01.146Z"
   },
   {
    "duration": 156,
    "start_time": "2023-07-04T12:19:01.444Z"
   },
   {
    "duration": 183,
    "start_time": "2023-07-04T12:19:01.603Z"
   },
   {
    "duration": 19,
    "start_time": "2023-07-04T12:19:01.788Z"
   },
   {
    "duration": 46,
    "start_time": "2023-07-04T12:19:01.808Z"
   },
   {
    "duration": 181,
    "start_time": "2023-07-04T12:19:01.856Z"
   },
   {
    "duration": 161,
    "start_time": "2023-07-04T12:19:02.040Z"
   },
   {
    "duration": 195,
    "start_time": "2023-07-04T12:19:02.203Z"
   },
   {
    "duration": 162,
    "start_time": "2023-07-04T12:19:02.400Z"
   },
   {
    "duration": 157,
    "start_time": "2023-07-04T12:19:02.567Z"
   },
   {
    "duration": 330,
    "start_time": "2023-07-04T12:19:02.726Z"
   },
   {
    "duration": 156,
    "start_time": "2023-07-04T12:19:03.058Z"
   },
   {
    "duration": 160,
    "start_time": "2023-07-04T12:19:03.215Z"
   },
   {
    "duration": 141,
    "start_time": "2023-07-04T12:19:03.377Z"
   },
   {
    "duration": 171,
    "start_time": "2023-07-04T12:19:03.519Z"
   },
   {
    "duration": 232,
    "start_time": "2023-07-04T12:19:03.692Z"
   },
   {
    "duration": 11,
    "start_time": "2023-07-04T12:19:03.929Z"
   },
   {
    "duration": 387,
    "start_time": "2023-07-04T12:19:03.942Z"
   },
   {
    "duration": 301,
    "start_time": "2023-07-04T12:19:04.331Z"
   },
   {
    "duration": 7,
    "start_time": "2023-07-04T12:19:04.634Z"
   },
   {
    "duration": 141,
    "start_time": "2023-07-04T12:19:04.642Z"
   },
   {
    "duration": 4,
    "start_time": "2023-07-04T12:19:04.784Z"
   },
   {
    "duration": 30,
    "start_time": "2023-07-04T12:19:04.789Z"
   },
   {
    "duration": 14,
    "start_time": "2023-07-04T12:19:04.820Z"
   },
   {
    "duration": 25,
    "start_time": "2023-07-04T12:19:04.836Z"
   },
   {
    "duration": 26,
    "start_time": "2023-07-04T12:19:04.863Z"
   },
   {
    "duration": 6,
    "start_time": "2023-07-04T12:19:43.103Z"
   },
   {
    "duration": 5,
    "start_time": "2023-07-04T12:20:04.120Z"
   },
   {
    "duration": 9,
    "start_time": "2023-07-04T12:20:13.108Z"
   },
   {
    "duration": 16,
    "start_time": "2023-07-04T12:23:25.352Z"
   },
   {
    "duration": 16,
    "start_time": "2023-07-04T12:24:23.532Z"
   },
   {
    "duration": 13,
    "start_time": "2023-07-04T12:24:31.898Z"
   },
   {
    "duration": 16,
    "start_time": "2023-07-04T12:24:55.119Z"
   },
   {
    "duration": 175,
    "start_time": "2023-07-04T12:25:24.250Z"
   },
   {
    "duration": 165,
    "start_time": "2023-07-04T12:25:35.414Z"
   },
   {
    "duration": 303,
    "start_time": "2023-07-04T12:41:28.728Z"
   },
   {
    "duration": 379,
    "start_time": "2023-07-04T12:42:04.100Z"
   },
   {
    "duration": 429,
    "start_time": "2023-07-04T12:42:13.925Z"
   },
   {
    "duration": 189,
    "start_time": "2023-07-04T12:43:24.401Z"
   },
   {
    "duration": 16,
    "start_time": "2023-07-04T12:44:05.630Z"
   },
   {
    "duration": 203,
    "start_time": "2023-07-04T12:45:00.902Z"
   },
   {
    "duration": 17,
    "start_time": "2023-07-04T12:46:50.713Z"
   },
   {
    "duration": 11,
    "start_time": "2023-07-04T12:51:13.113Z"
   },
   {
    "duration": 9,
    "start_time": "2023-07-04T12:51:18.129Z"
   },
   {
    "duration": 15,
    "start_time": "2023-07-04T12:51:32.612Z"
   },
   {
    "duration": 192,
    "start_time": "2023-07-04T12:52:02.040Z"
   },
   {
    "duration": 188,
    "start_time": "2023-07-04T12:52:26.236Z"
   },
   {
    "duration": 15,
    "start_time": "2023-07-04T12:55:43.702Z"
   },
   {
    "duration": 186,
    "start_time": "2023-07-04T12:56:17.306Z"
   },
   {
    "duration": 214,
    "start_time": "2023-07-04T12:59:50.454Z"
   },
   {
    "duration": 201,
    "start_time": "2023-07-04T13:00:00.692Z"
   },
   {
    "duration": 192,
    "start_time": "2023-07-04T13:00:08.920Z"
   },
   {
    "duration": 193,
    "start_time": "2023-07-04T13:00:48.505Z"
   },
   {
    "duration": 213,
    "start_time": "2023-07-04T13:02:37.205Z"
   },
   {
    "duration": 124,
    "start_time": "2023-07-04T13:03:07.626Z"
   },
   {
    "duration": 394,
    "start_time": "2023-07-04T13:03:37.522Z"
   },
   {
    "duration": 208,
    "start_time": "2023-07-04T13:03:48.656Z"
   },
   {
    "duration": 15,
    "start_time": "2023-07-04T13:09:18.057Z"
   },
   {
    "duration": 5,
    "start_time": "2023-07-04T13:11:40.707Z"
   },
   {
    "duration": 16,
    "start_time": "2023-07-04T13:15:00.448Z"
   },
   {
    "duration": 3,
    "start_time": "2023-07-04T13:15:50.337Z"
   },
   {
    "duration": 4,
    "start_time": "2023-07-04T13:16:02.752Z"
   },
   {
    "duration": 13,
    "start_time": "2023-07-04T13:17:36.227Z"
   },
   {
    "duration": 2163,
    "start_time": "2023-07-04T13:17:59.553Z"
   },
   {
    "duration": 13,
    "start_time": "2023-07-04T13:18:15.133Z"
   },
   {
    "duration": 13,
    "start_time": "2023-07-04T13:18:26.814Z"
   },
   {
    "duration": 5,
    "start_time": "2023-07-04T13:20:39.156Z"
   },
   {
    "duration": 17,
    "start_time": "2023-07-04T13:21:52.602Z"
   },
   {
    "duration": 5,
    "start_time": "2023-07-04T13:22:03.302Z"
   },
   {
    "duration": 3,
    "start_time": "2023-07-04T13:22:08.714Z"
   },
   {
    "duration": 55,
    "start_time": "2023-07-04T13:22:08.719Z"
   },
   {
    "duration": 15,
    "start_time": "2023-07-04T13:22:08.775Z"
   },
   {
    "duration": 18,
    "start_time": "2023-07-04T13:22:08.791Z"
   },
   {
    "duration": 14,
    "start_time": "2023-07-04T13:22:08.811Z"
   },
   {
    "duration": 2,
    "start_time": "2023-07-04T13:22:08.827Z"
   },
   {
    "duration": 41,
    "start_time": "2023-07-04T13:22:08.831Z"
   },
   {
    "duration": 5,
    "start_time": "2023-07-04T13:22:08.874Z"
   },
   {
    "duration": 5,
    "start_time": "2023-07-04T13:22:08.881Z"
   },
   {
    "duration": 15,
    "start_time": "2023-07-04T13:22:08.887Z"
   },
   {
    "duration": 13,
    "start_time": "2023-07-04T13:22:08.903Z"
   },
   {
    "duration": 9,
    "start_time": "2023-07-04T13:22:08.918Z"
   },
   {
    "duration": 49,
    "start_time": "2023-07-04T13:22:08.929Z"
   },
   {
    "duration": 3,
    "start_time": "2023-07-04T13:22:08.980Z"
   },
   {
    "duration": 7,
    "start_time": "2023-07-04T13:22:08.985Z"
   },
   {
    "duration": 5,
    "start_time": "2023-07-04T13:22:08.994Z"
   },
   {
    "duration": 6,
    "start_time": "2023-07-04T13:22:09.000Z"
   },
   {
    "duration": 4,
    "start_time": "2023-07-04T13:22:09.007Z"
   },
   {
    "duration": 10,
    "start_time": "2023-07-04T13:22:09.012Z"
   },
   {
    "duration": 27,
    "start_time": "2023-07-04T13:22:09.024Z"
   },
   {
    "duration": 28,
    "start_time": "2023-07-04T13:22:09.053Z"
   },
   {
    "duration": 22,
    "start_time": "2023-07-04T13:22:09.083Z"
   },
   {
    "duration": 7,
    "start_time": "2023-07-04T13:22:09.107Z"
   },
   {
    "duration": 3,
    "start_time": "2023-07-04T13:22:09.115Z"
   },
   {
    "duration": 10,
    "start_time": "2023-07-04T13:22:09.120Z"
   },
   {
    "duration": 17,
    "start_time": "2023-07-04T13:22:09.131Z"
   },
   {
    "duration": 128,
    "start_time": "2023-07-04T13:22:09.168Z"
   },
   {
    "duration": 18,
    "start_time": "2023-07-04T13:22:09.298Z"
   },
   {
    "duration": 5,
    "start_time": "2023-07-04T13:22:09.317Z"
   },
   {
    "duration": 183,
    "start_time": "2023-07-04T13:22:09.323Z"
   },
   {
    "duration": 173,
    "start_time": "2023-07-04T13:22:09.508Z"
   },
   {
    "duration": 178,
    "start_time": "2023-07-04T13:22:09.682Z"
   },
   {
    "duration": 151,
    "start_time": "2023-07-04T13:22:09.868Z"
   },
   {
    "duration": 192,
    "start_time": "2023-07-04T13:22:10.021Z"
   },
   {
    "duration": 167,
    "start_time": "2023-07-04T13:22:10.215Z"
   },
   {
    "duration": 149,
    "start_time": "2023-07-04T13:22:10.383Z"
   },
   {
    "duration": 149,
    "start_time": "2023-07-04T13:22:10.537Z"
   },
   {
    "duration": 142,
    "start_time": "2023-07-04T13:22:10.688Z"
   },
   {
    "duration": 170,
    "start_time": "2023-07-04T13:22:10.832Z"
   },
   {
    "duration": 241,
    "start_time": "2023-07-04T13:22:11.004Z"
   },
   {
    "duration": 7,
    "start_time": "2023-07-04T13:22:11.246Z"
   },
   {
    "duration": 317,
    "start_time": "2023-07-04T13:22:11.254Z"
   },
   {
    "duration": 338,
    "start_time": "2023-07-04T13:22:11.573Z"
   },
   {
    "duration": 7,
    "start_time": "2023-07-04T13:22:11.914Z"
   },
   {
    "duration": 126,
    "start_time": "2023-07-04T13:22:11.923Z"
   },
   {
    "duration": 4,
    "start_time": "2023-07-04T13:22:12.051Z"
   },
   {
    "duration": 10,
    "start_time": "2023-07-04T13:22:12.067Z"
   },
   {
    "duration": 15,
    "start_time": "2023-07-04T13:22:12.079Z"
   },
   {
    "duration": 3,
    "start_time": "2023-07-04T13:22:12.096Z"
   },
   {
    "duration": 12,
    "start_time": "2023-07-04T13:22:12.101Z"
   },
   {
    "duration": 208,
    "start_time": "2023-07-04T13:22:12.114Z"
   },
   {
    "duration": 15,
    "start_time": "2023-07-04T13:22:12.323Z"
   },
   {
    "duration": 230,
    "start_time": "2023-07-04T13:22:12.340Z"
   },
   {
    "duration": 16,
    "start_time": "2023-07-04T13:22:12.571Z"
   },
   {
    "duration": 225,
    "start_time": "2023-07-04T13:22:12.588Z"
   },
   {
    "duration": 17,
    "start_time": "2023-07-04T13:22:12.814Z"
   },
   {
    "duration": 229,
    "start_time": "2023-07-04T13:22:12.832Z"
   },
   {
    "duration": 202,
    "start_time": "2023-07-04T13:22:13.070Z"
   },
   {
    "duration": 211,
    "start_time": "2023-07-04T13:22:13.274Z"
   },
   {
    "duration": 209,
    "start_time": "2023-07-04T13:22:13.487Z"
   },
   {
    "duration": 16,
    "start_time": "2023-07-04T13:22:13.698Z"
   },
   {
    "duration": 5,
    "start_time": "2023-07-04T13:22:13.716Z"
   },
   {
    "duration": 15,
    "start_time": "2023-07-04T13:24:36.706Z"
   },
   {
    "duration": 198,
    "start_time": "2023-07-04T13:25:13.638Z"
   },
   {
    "duration": 177,
    "start_time": "2023-07-04T13:26:25.518Z"
   },
   {
    "duration": 6,
    "start_time": "2023-07-04T14:06:38.816Z"
   },
   {
    "duration": 3,
    "start_time": "2023-07-04T14:11:05.523Z"
   },
   {
    "duration": 4,
    "start_time": "2023-07-04T14:11:13.623Z"
   },
   {
    "duration": 6,
    "start_time": "2023-07-04T14:11:47.070Z"
   },
   {
    "duration": 6,
    "start_time": "2023-07-04T14:11:54.754Z"
   },
   {
    "duration": 6,
    "start_time": "2023-07-04T14:15:19.884Z"
   },
   {
    "duration": 6,
    "start_time": "2023-07-04T14:15:57.183Z"
   },
   {
    "duration": 4,
    "start_time": "2023-07-04T14:16:01.882Z"
   },
   {
    "duration": 4,
    "start_time": "2023-07-04T14:16:04.303Z"
   },
   {
    "duration": 7,
    "start_time": "2023-07-04T14:19:40.058Z"
   },
   {
    "duration": 4,
    "start_time": "2023-07-04T14:19:54.299Z"
   },
   {
    "duration": 5,
    "start_time": "2023-07-04T14:20:03.220Z"
   },
   {
    "duration": 6,
    "start_time": "2023-07-04T14:22:44.816Z"
   },
   {
    "duration": 8,
    "start_time": "2023-07-04T14:22:53.288Z"
   },
   {
    "duration": 5,
    "start_time": "2023-07-04T14:22:53.736Z"
   },
   {
    "duration": 4,
    "start_time": "2023-07-04T14:22:54.347Z"
   },
   {
    "duration": 6,
    "start_time": "2023-07-04T14:23:00.101Z"
   },
   {
    "duration": 5,
    "start_time": "2023-07-04T14:23:04.611Z"
   },
   {
    "duration": 4,
    "start_time": "2023-07-04T14:23:05.292Z"
   },
   {
    "duration": 4,
    "start_time": "2023-07-04T14:23:05.602Z"
   },
   {
    "duration": 4,
    "start_time": "2023-07-04T14:24:06.398Z"
   },
   {
    "duration": 6,
    "start_time": "2023-07-04T14:24:12.612Z"
   },
   {
    "duration": 5,
    "start_time": "2023-07-04T14:24:33.833Z"
   },
   {
    "duration": 6,
    "start_time": "2023-07-04T14:24:49.618Z"
   },
   {
    "duration": 10,
    "start_time": "2023-07-04T14:25:01.606Z"
   },
   {
    "duration": 5,
    "start_time": "2023-07-04T14:25:05.409Z"
   },
   {
    "duration": 3,
    "start_time": "2023-07-04T14:26:29.999Z"
   },
   {
    "duration": 96,
    "start_time": "2023-07-04T14:26:30.004Z"
   },
   {
    "duration": 15,
    "start_time": "2023-07-04T14:26:30.102Z"
   },
   {
    "duration": 103,
    "start_time": "2023-07-04T14:26:30.119Z"
   },
   {
    "duration": 48,
    "start_time": "2023-07-04T14:26:30.224Z"
   },
   {
    "duration": 32,
    "start_time": "2023-07-04T14:26:30.274Z"
   },
   {
    "duration": 33,
    "start_time": "2023-07-04T14:26:30.308Z"
   },
   {
    "duration": 24,
    "start_time": "2023-07-04T14:26:30.343Z"
   },
   {
    "duration": 19,
    "start_time": "2023-07-04T14:26:30.368Z"
   },
   {
    "duration": 64,
    "start_time": "2023-07-04T14:26:30.389Z"
   },
   {
    "duration": 48,
    "start_time": "2023-07-04T14:26:30.455Z"
   },
   {
    "duration": 39,
    "start_time": "2023-07-04T14:26:30.505Z"
   },
   {
    "duration": 47,
    "start_time": "2023-07-04T14:26:30.545Z"
   },
   {
    "duration": 37,
    "start_time": "2023-07-04T14:26:30.595Z"
   },
   {
    "duration": 58,
    "start_time": "2023-07-04T14:26:30.633Z"
   },
   {
    "duration": 44,
    "start_time": "2023-07-04T14:26:30.692Z"
   },
   {
    "duration": 44,
    "start_time": "2023-07-04T14:26:30.738Z"
   },
   {
    "duration": 41,
    "start_time": "2023-07-04T14:26:30.784Z"
   },
   {
    "duration": 38,
    "start_time": "2023-07-04T14:26:30.827Z"
   },
   {
    "duration": 70,
    "start_time": "2023-07-04T14:26:30.867Z"
   },
   {
    "duration": 64,
    "start_time": "2023-07-04T14:26:30.939Z"
   },
   {
    "duration": 69,
    "start_time": "2023-07-04T14:26:31.005Z"
   },
   {
    "duration": 47,
    "start_time": "2023-07-04T14:26:31.076Z"
   },
   {
    "duration": 44,
    "start_time": "2023-07-04T14:26:31.124Z"
   },
   {
    "duration": 57,
    "start_time": "2023-07-04T14:26:31.170Z"
   },
   {
    "duration": 96,
    "start_time": "2023-07-04T14:26:31.229Z"
   },
   {
    "duration": 230,
    "start_time": "2023-07-04T14:26:31.326Z"
   },
   {
    "duration": 25,
    "start_time": "2023-07-04T14:26:31.557Z"
   },
   {
    "duration": 4,
    "start_time": "2023-07-04T14:26:31.583Z"
   },
   {
    "duration": 178,
    "start_time": "2023-07-04T14:26:31.589Z"
   },
   {
    "duration": 157,
    "start_time": "2023-07-04T14:26:31.768Z"
   },
   {
    "duration": 169,
    "start_time": "2023-07-04T14:26:31.926Z"
   },
   {
    "duration": 147,
    "start_time": "2023-07-04T14:26:32.097Z"
   },
   {
    "duration": 169,
    "start_time": "2023-07-04T14:26:32.246Z"
   },
   {
    "duration": 421,
    "start_time": "2023-07-04T14:26:32.417Z"
   },
   {
    "duration": 149,
    "start_time": "2023-07-04T14:26:32.840Z"
   },
   {
    "duration": 152,
    "start_time": "2023-07-04T14:26:32.991Z"
   },
   {
    "duration": 142,
    "start_time": "2023-07-04T14:26:33.144Z"
   },
   {
    "duration": 173,
    "start_time": "2023-07-04T14:26:33.287Z"
   },
   {
    "duration": 229,
    "start_time": "2023-07-04T14:26:33.462Z"
   },
   {
    "duration": 7,
    "start_time": "2023-07-04T14:26:33.695Z"
   },
   {
    "duration": 360,
    "start_time": "2023-07-04T14:26:33.703Z"
   },
   {
    "duration": 321,
    "start_time": "2023-07-04T14:26:34.065Z"
   },
   {
    "duration": 6,
    "start_time": "2023-07-04T14:26:34.387Z"
   },
   {
    "duration": 131,
    "start_time": "2023-07-04T14:26:34.395Z"
   },
   {
    "duration": 4,
    "start_time": "2023-07-04T14:26:34.527Z"
   },
   {
    "duration": 15,
    "start_time": "2023-07-04T14:26:34.533Z"
   },
   {
    "duration": 6,
    "start_time": "2023-07-04T14:26:34.550Z"
   },
   {
    "duration": 12,
    "start_time": "2023-07-04T14:26:34.557Z"
   },
   {
    "duration": 11,
    "start_time": "2023-07-04T14:26:34.570Z"
   },
   {
    "duration": 188,
    "start_time": "2023-07-04T14:26:34.583Z"
   },
   {
    "duration": 15,
    "start_time": "2023-07-04T14:26:34.773Z"
   },
   {
    "duration": 195,
    "start_time": "2023-07-04T14:26:34.789Z"
   },
   {
    "duration": 14,
    "start_time": "2023-07-04T14:26:34.986Z"
   },
   {
    "duration": 212,
    "start_time": "2023-07-04T14:26:35.001Z"
   },
   {
    "duration": 14,
    "start_time": "2023-07-04T14:26:35.215Z"
   },
   {
    "duration": 209,
    "start_time": "2023-07-04T14:26:35.230Z"
   },
   {
    "duration": 182,
    "start_time": "2023-07-04T14:26:35.441Z"
   },
   {
    "duration": 192,
    "start_time": "2023-07-04T14:26:35.625Z"
   },
   {
    "duration": 200,
    "start_time": "2023-07-04T14:26:35.819Z"
   },
   {
    "duration": 179,
    "start_time": "2023-07-04T14:26:36.021Z"
   },
   {
    "duration": 10,
    "start_time": "2023-07-04T14:26:36.201Z"
   },
   {
    "duration": 10,
    "start_time": "2023-07-04T14:27:01.698Z"
   },
   {
    "duration": 12,
    "start_time": "2023-07-04T14:27:47.743Z"
   },
   {
    "duration": 10,
    "start_time": "2023-07-04T14:31:25.870Z"
   },
   {
    "duration": 11,
    "start_time": "2023-07-04T14:35:12.445Z"
   },
   {
    "duration": 10,
    "start_time": "2023-07-04T14:36:46.193Z"
   },
   {
    "duration": 4,
    "start_time": "2023-07-04T14:37:00.698Z"
   },
   {
    "duration": 3,
    "start_time": "2023-07-04T14:37:08.026Z"
   },
   {
    "duration": 9,
    "start_time": "2023-07-04T14:37:31.231Z"
   },
   {
    "duration": 4,
    "start_time": "2023-07-04T14:37:31.753Z"
   },
   {
    "duration": 4,
    "start_time": "2023-07-04T14:37:32.225Z"
   },
   {
    "duration": 5,
    "start_time": "2023-07-04T14:37:35.793Z"
   },
   {
    "duration": 11,
    "start_time": "2023-07-04T14:38:23.527Z"
   },
   {
    "duration": 3,
    "start_time": "2023-07-04T14:57:30.207Z"
   },
   {
    "duration": 73,
    "start_time": "2023-07-04T14:57:30.212Z"
   },
   {
    "duration": 18,
    "start_time": "2023-07-04T14:57:30.288Z"
   },
   {
    "duration": 42,
    "start_time": "2023-07-04T14:57:30.307Z"
   },
   {
    "duration": 36,
    "start_time": "2023-07-04T14:57:30.351Z"
   },
   {
    "duration": 12,
    "start_time": "2023-07-04T14:57:30.390Z"
   },
   {
    "duration": 38,
    "start_time": "2023-07-04T14:57:30.404Z"
   },
   {
    "duration": 27,
    "start_time": "2023-07-04T14:57:30.443Z"
   },
   {
    "duration": 22,
    "start_time": "2023-07-04T14:57:30.472Z"
   },
   {
    "duration": 55,
    "start_time": "2023-07-04T14:57:30.496Z"
   },
   {
    "duration": 54,
    "start_time": "2023-07-04T14:57:30.555Z"
   },
   {
    "duration": 39,
    "start_time": "2023-07-04T14:57:30.611Z"
   },
   {
    "duration": 66,
    "start_time": "2023-07-04T14:57:30.651Z"
   },
   {
    "duration": 16,
    "start_time": "2023-07-04T14:57:30.720Z"
   },
   {
    "duration": 27,
    "start_time": "2023-07-04T14:57:30.737Z"
   },
   {
    "duration": 24,
    "start_time": "2023-07-04T14:57:30.766Z"
   },
   {
    "duration": 44,
    "start_time": "2023-07-04T14:57:30.792Z"
   },
   {
    "duration": 49,
    "start_time": "2023-07-04T14:57:30.837Z"
   },
   {
    "duration": 31,
    "start_time": "2023-07-04T14:57:30.888Z"
   },
   {
    "duration": 51,
    "start_time": "2023-07-04T14:57:30.921Z"
   },
   {
    "duration": 39,
    "start_time": "2023-07-04T14:57:30.974Z"
   },
   {
    "duration": 44,
    "start_time": "2023-07-04T14:57:31.015Z"
   },
   {
    "duration": 109,
    "start_time": "2023-07-04T14:57:31.061Z"
   },
   {
    "duration": 111,
    "start_time": "2023-07-04T14:57:31.172Z"
   },
   {
    "duration": 32,
    "start_time": "2023-07-04T14:57:31.285Z"
   },
   {
    "duration": 42,
    "start_time": "2023-07-04T14:57:31.319Z"
   },
   {
    "duration": 159,
    "start_time": "2023-07-04T14:57:31.363Z"
   },
   {
    "duration": 18,
    "start_time": "2023-07-04T14:57:31.524Z"
   },
   {
    "duration": 29,
    "start_time": "2023-07-04T14:57:31.545Z"
   },
   {
    "duration": 203,
    "start_time": "2023-07-04T14:57:31.576Z"
   },
   {
    "duration": 164,
    "start_time": "2023-07-04T14:57:31.781Z"
   },
   {
    "duration": 172,
    "start_time": "2023-07-04T14:57:31.947Z"
   },
   {
    "duration": 156,
    "start_time": "2023-07-04T14:57:32.120Z"
   },
   {
    "duration": 161,
    "start_time": "2023-07-04T14:57:32.277Z"
   },
   {
    "duration": 182,
    "start_time": "2023-07-04T14:57:32.440Z"
   },
   {
    "duration": 163,
    "start_time": "2023-07-04T14:57:32.624Z"
   },
   {
    "duration": 156,
    "start_time": "2023-07-04T14:57:32.789Z"
   },
   {
    "duration": 152,
    "start_time": "2023-07-04T14:57:32.947Z"
   },
   {
    "duration": 195,
    "start_time": "2023-07-04T14:57:33.100Z"
   },
   {
    "duration": 234,
    "start_time": "2023-07-04T14:57:33.296Z"
   },
   {
    "duration": 9,
    "start_time": "2023-07-04T14:57:33.533Z"
   },
   {
    "duration": 356,
    "start_time": "2023-07-04T14:57:33.544Z"
   },
   {
    "duration": 371,
    "start_time": "2023-07-04T14:57:33.902Z"
   },
   {
    "duration": 7,
    "start_time": "2023-07-04T14:57:34.277Z"
   },
   {
    "duration": 138,
    "start_time": "2023-07-04T14:57:34.285Z"
   },
   {
    "duration": 4,
    "start_time": "2023-07-04T14:57:34.424Z"
   },
   {
    "duration": 11,
    "start_time": "2023-07-04T14:57:34.430Z"
   },
   {
    "duration": 8,
    "start_time": "2023-07-04T14:57:34.442Z"
   },
   {
    "duration": 5,
    "start_time": "2023-07-04T14:57:34.467Z"
   },
   {
    "duration": 11,
    "start_time": "2023-07-04T14:57:34.473Z"
   },
   {
    "duration": 194,
    "start_time": "2023-07-04T14:57:34.486Z"
   },
   {
    "duration": 15,
    "start_time": "2023-07-04T14:57:34.682Z"
   },
   {
    "duration": 209,
    "start_time": "2023-07-04T14:57:34.698Z"
   },
   {
    "duration": 16,
    "start_time": "2023-07-04T14:57:34.908Z"
   },
   {
    "duration": 240,
    "start_time": "2023-07-04T14:57:34.925Z"
   },
   {
    "duration": 14,
    "start_time": "2023-07-04T14:57:35.168Z"
   },
   {
    "duration": 207,
    "start_time": "2023-07-04T14:57:35.184Z"
   },
   {
    "duration": 190,
    "start_time": "2023-07-04T14:57:35.393Z"
   },
   {
    "duration": 533,
    "start_time": "2023-07-04T14:57:35.584Z"
   },
   {
    "duration": 195,
    "start_time": "2023-07-04T14:57:36.119Z"
   },
   {
    "duration": 182,
    "start_time": "2023-07-04T14:57:36.316Z"
   },
   {
    "duration": 11,
    "start_time": "2023-07-04T14:57:36.500Z"
   },
   {
    "duration": 10,
    "start_time": "2023-07-04T14:57:36.513Z"
   },
   {
    "duration": 1282,
    "start_time": "2023-07-04T15:02:02.925Z"
   },
   {
    "duration": 192,
    "start_time": "2023-07-04T15:02:04.210Z"
   },
   {
    "duration": 21,
    "start_time": "2023-07-04T15:02:04.403Z"
   },
   {
    "duration": 16,
    "start_time": "2023-07-04T15:02:04.425Z"
   },
   {
    "duration": 21,
    "start_time": "2023-07-04T15:02:04.443Z"
   },
   {
    "duration": 4,
    "start_time": "2023-07-04T15:02:04.466Z"
   },
   {
    "duration": 16,
    "start_time": "2023-07-04T15:02:04.471Z"
   },
   {
    "duration": 4,
    "start_time": "2023-07-04T15:02:04.488Z"
   },
   {
    "duration": 5,
    "start_time": "2023-07-04T15:02:04.494Z"
   },
   {
    "duration": 13,
    "start_time": "2023-07-04T15:02:04.501Z"
   },
   {
    "duration": 13,
    "start_time": "2023-07-04T15:02:04.516Z"
   },
   {
    "duration": 38,
    "start_time": "2023-07-04T15:02:04.530Z"
   },
   {
    "duration": 50,
    "start_time": "2023-07-04T15:02:04.570Z"
   },
   {
    "duration": 4,
    "start_time": "2023-07-04T15:02:04.621Z"
   },
   {
    "duration": 9,
    "start_time": "2023-07-04T15:02:04.626Z"
   },
   {
    "duration": 6,
    "start_time": "2023-07-04T15:02:04.636Z"
   },
   {
    "duration": 5,
    "start_time": "2023-07-04T15:02:04.644Z"
   },
   {
    "duration": 3,
    "start_time": "2023-07-04T15:02:04.669Z"
   },
   {
    "duration": 6,
    "start_time": "2023-07-04T15:02:04.674Z"
   },
   {
    "duration": 7,
    "start_time": "2023-07-04T15:02:04.681Z"
   },
   {
    "duration": 15,
    "start_time": "2023-07-04T15:02:04.689Z"
   },
   {
    "duration": 16,
    "start_time": "2023-07-04T15:02:04.705Z"
   },
   {
    "duration": 6,
    "start_time": "2023-07-04T15:02:04.723Z"
   },
   {
    "duration": 38,
    "start_time": "2023-07-04T15:02:04.730Z"
   },
   {
    "duration": 11,
    "start_time": "2023-07-04T15:02:04.770Z"
   },
   {
    "duration": 14,
    "start_time": "2023-07-04T15:02:04.782Z"
   },
   {
    "duration": 141,
    "start_time": "2023-07-04T15:02:04.797Z"
   },
   {
    "duration": 27,
    "start_time": "2023-07-04T15:02:04.942Z"
   },
   {
    "duration": 4,
    "start_time": "2023-07-04T15:02:04.971Z"
   },
   {
    "duration": 172,
    "start_time": "2023-07-04T15:02:04.977Z"
   },
   {
    "duration": 155,
    "start_time": "2023-07-04T15:02:05.151Z"
   },
   {
    "duration": 174,
    "start_time": "2023-07-04T15:02:05.308Z"
   },
   {
    "duration": 144,
    "start_time": "2023-07-04T15:02:05.484Z"
   },
   {
    "duration": 156,
    "start_time": "2023-07-04T15:02:05.630Z"
   },
   {
    "duration": 173,
    "start_time": "2023-07-04T15:02:05.788Z"
   },
   {
    "duration": 151,
    "start_time": "2023-07-04T15:02:05.962Z"
   },
   {
    "duration": 217,
    "start_time": "2023-07-04T15:02:06.115Z"
   },
   {
    "duration": 143,
    "start_time": "2023-07-04T15:02:06.333Z"
   },
   {
    "duration": 168,
    "start_time": "2023-07-04T15:02:06.477Z"
   },
   {
    "duration": 241,
    "start_time": "2023-07-04T15:02:06.647Z"
   },
   {
    "duration": 7,
    "start_time": "2023-07-04T15:02:06.890Z"
   },
   {
    "duration": 374,
    "start_time": "2023-07-04T15:02:06.898Z"
   },
   {
    "duration": 296,
    "start_time": "2023-07-04T15:02:07.275Z"
   },
   {
    "duration": 6,
    "start_time": "2023-07-04T15:02:07.572Z"
   },
   {
    "duration": 134,
    "start_time": "2023-07-04T15:02:07.579Z"
   },
   {
    "duration": 4,
    "start_time": "2023-07-04T15:02:07.715Z"
   },
   {
    "duration": 39,
    "start_time": "2023-07-04T15:02:07.720Z"
   },
   {
    "duration": 8,
    "start_time": "2023-07-04T15:02:07.760Z"
   },
   {
    "duration": 12,
    "start_time": "2023-07-04T15:02:07.770Z"
   },
   {
    "duration": 13,
    "start_time": "2023-07-04T15:02:07.784Z"
   },
   {
    "duration": 180,
    "start_time": "2023-07-04T15:02:07.798Z"
   },
   {
    "duration": 13,
    "start_time": "2023-07-04T15:02:07.979Z"
   },
   {
    "duration": 202,
    "start_time": "2023-07-04T15:02:07.994Z"
   },
   {
    "duration": 13,
    "start_time": "2023-07-04T15:02:08.198Z"
   },
   {
    "duration": 250,
    "start_time": "2023-07-04T15:02:08.213Z"
   },
   {
    "duration": 14,
    "start_time": "2023-07-04T15:02:08.465Z"
   },
   {
    "duration": 309,
    "start_time": "2023-07-04T15:02:08.481Z"
   },
   {
    "duration": 201,
    "start_time": "2023-07-04T15:02:08.792Z"
   },
   {
    "duration": 203,
    "start_time": "2023-07-04T15:02:08.994Z"
   },
   {
    "duration": 193,
    "start_time": "2023-07-04T15:02:09.199Z"
   },
   {
    "duration": 187,
    "start_time": "2023-07-04T15:02:09.393Z"
   },
   {
    "duration": 10,
    "start_time": "2023-07-04T15:02:09.582Z"
   },
   {
    "duration": 9,
    "start_time": "2023-07-04T15:02:09.594Z"
   },
   {
    "duration": 49,
    "start_time": "2023-07-06T14:42:52.872Z"
   },
   {
    "duration": 1447,
    "start_time": "2023-07-06T14:42:59.572Z"
   },
   {
    "duration": 453,
    "start_time": "2023-07-06T14:43:01.022Z"
   },
   {
    "duration": 34,
    "start_time": "2023-07-06T14:43:01.477Z"
   },
   {
    "duration": 44,
    "start_time": "2023-07-06T14:43:01.514Z"
   },
   {
    "duration": 54,
    "start_time": "2023-07-06T14:43:01.560Z"
   },
   {
    "duration": 31,
    "start_time": "2023-07-06T14:43:01.616Z"
   },
   {
    "duration": 36,
    "start_time": "2023-07-06T14:43:01.649Z"
   },
   {
    "duration": 39,
    "start_time": "2023-07-06T14:43:01.687Z"
   },
   {
    "duration": 57,
    "start_time": "2023-07-06T14:43:01.728Z"
   },
   {
    "duration": 42,
    "start_time": "2023-07-06T14:43:01.789Z"
   },
   {
    "duration": 44,
    "start_time": "2023-07-06T14:43:01.833Z"
   },
   {
    "duration": 48,
    "start_time": "2023-07-06T14:43:01.879Z"
   },
   {
    "duration": 119,
    "start_time": "2023-07-06T14:43:01.930Z"
   },
   {
    "duration": 4,
    "start_time": "2023-07-06T14:43:02.050Z"
   },
   {
    "duration": 31,
    "start_time": "2023-07-06T14:43:02.056Z"
   },
   {
    "duration": 48,
    "start_time": "2023-07-06T14:43:02.089Z"
   },
   {
    "duration": 46,
    "start_time": "2023-07-06T14:43:02.139Z"
   },
   {
    "duration": 29,
    "start_time": "2023-07-06T14:43:02.187Z"
   },
   {
    "duration": 27,
    "start_time": "2023-07-06T14:43:02.218Z"
   },
   {
    "duration": 25,
    "start_time": "2023-07-06T14:43:02.247Z"
   },
   {
    "duration": 51,
    "start_time": "2023-07-06T14:43:02.274Z"
   },
   {
    "duration": 36,
    "start_time": "2023-07-06T14:43:02.327Z"
   },
   {
    "duration": 117,
    "start_time": "2023-07-06T14:43:02.366Z"
   },
   {
    "duration": 0,
    "start_time": "2023-07-06T14:43:02.487Z"
   },
   {
    "duration": 0,
    "start_time": "2023-07-06T14:43:02.488Z"
   },
   {
    "duration": 0,
    "start_time": "2023-07-06T14:43:02.489Z"
   },
   {
    "duration": 0,
    "start_time": "2023-07-06T14:43:02.491Z"
   },
   {
    "duration": 0,
    "start_time": "2023-07-06T14:43:02.492Z"
   },
   {
    "duration": 0,
    "start_time": "2023-07-06T14:43:02.493Z"
   },
   {
    "duration": 0,
    "start_time": "2023-07-06T14:43:02.494Z"
   },
   {
    "duration": 0,
    "start_time": "2023-07-06T14:43:02.496Z"
   },
   {
    "duration": 0,
    "start_time": "2023-07-06T14:43:02.497Z"
   },
   {
    "duration": 0,
    "start_time": "2023-07-06T14:43:02.498Z"
   },
   {
    "duration": 0,
    "start_time": "2023-07-06T14:43:02.499Z"
   },
   {
    "duration": 0,
    "start_time": "2023-07-06T14:43:02.500Z"
   },
   {
    "duration": 0,
    "start_time": "2023-07-06T14:43:02.501Z"
   },
   {
    "duration": 0,
    "start_time": "2023-07-06T14:43:02.503Z"
   },
   {
    "duration": 0,
    "start_time": "2023-07-06T14:43:02.504Z"
   },
   {
    "duration": 0,
    "start_time": "2023-07-06T14:43:02.505Z"
   },
   {
    "duration": 0,
    "start_time": "2023-07-06T14:43:02.506Z"
   },
   {
    "duration": 1,
    "start_time": "2023-07-06T14:43:02.507Z"
   },
   {
    "duration": 0,
    "start_time": "2023-07-06T14:43:02.508Z"
   },
   {
    "duration": 0,
    "start_time": "2023-07-06T14:43:02.509Z"
   },
   {
    "duration": 0,
    "start_time": "2023-07-06T14:43:02.510Z"
   },
   {
    "duration": 0,
    "start_time": "2023-07-06T14:43:02.512Z"
   },
   {
    "duration": 0,
    "start_time": "2023-07-06T14:43:02.513Z"
   },
   {
    "duration": 0,
    "start_time": "2023-07-06T14:43:02.514Z"
   },
   {
    "duration": 0,
    "start_time": "2023-07-06T14:43:02.561Z"
   },
   {
    "duration": 0,
    "start_time": "2023-07-06T14:43:02.563Z"
   },
   {
    "duration": 0,
    "start_time": "2023-07-06T14:43:02.564Z"
   },
   {
    "duration": 0,
    "start_time": "2023-07-06T14:43:02.565Z"
   },
   {
    "duration": 0,
    "start_time": "2023-07-06T14:43:02.567Z"
   },
   {
    "duration": 0,
    "start_time": "2023-07-06T14:43:02.569Z"
   },
   {
    "duration": 0,
    "start_time": "2023-07-06T14:43:02.570Z"
   },
   {
    "duration": 0,
    "start_time": "2023-07-06T14:43:02.572Z"
   },
   {
    "duration": 0,
    "start_time": "2023-07-06T14:43:02.573Z"
   },
   {
    "duration": 0,
    "start_time": "2023-07-06T14:43:02.574Z"
   },
   {
    "duration": 0,
    "start_time": "2023-07-06T14:43:02.576Z"
   },
   {
    "duration": 0,
    "start_time": "2023-07-06T14:43:02.578Z"
   },
   {
    "duration": 0,
    "start_time": "2023-07-06T14:43:02.579Z"
   },
   {
    "duration": 0,
    "start_time": "2023-07-06T14:43:02.580Z"
   },
   {
    "duration": 0,
    "start_time": "2023-07-06T14:43:02.582Z"
   },
   {
    "duration": 0,
    "start_time": "2023-07-06T14:43:02.583Z"
   },
   {
    "duration": 0,
    "start_time": "2023-07-06T14:43:02.584Z"
   },
   {
    "duration": 23,
    "start_time": "2023-07-06T14:43:43.058Z"
   },
   {
    "duration": 2416,
    "start_time": "2023-07-06T15:32:04.729Z"
   },
   {
    "duration": 2483,
    "start_time": "2023-07-06T15:32:48.467Z"
   },
   {
    "duration": 1902,
    "start_time": "2023-07-06T15:36:03.557Z"
   },
   {
    "duration": 1956,
    "start_time": "2023-07-06T15:36:20.532Z"
   },
   {
    "duration": 1908,
    "start_time": "2023-07-06T15:40:55.735Z"
   },
   {
    "duration": 8,
    "start_time": "2023-07-06T15:44:33.687Z"
   },
   {
    "duration": 4,
    "start_time": "2023-07-06T15:44:43.856Z"
   },
   {
    "duration": 3,
    "start_time": "2023-07-06T15:45:07.140Z"
   },
   {
    "duration": 4,
    "start_time": "2023-07-06T15:45:55.737Z"
   },
   {
    "duration": 3,
    "start_time": "2023-07-06T15:48:36.923Z"
   },
   {
    "duration": 21,
    "start_time": "2023-07-06T15:48:55.019Z"
   },
   {
    "duration": 19,
    "start_time": "2023-07-06T15:50:17.025Z"
   },
   {
    "duration": 23,
    "start_time": "2023-07-06T15:50:28.850Z"
   },
   {
    "duration": 17,
    "start_time": "2023-07-06T15:52:37.169Z"
   },
   {
    "duration": 18,
    "start_time": "2023-07-06T15:52:38.183Z"
   },
   {
    "duration": 4,
    "start_time": "2023-07-06T15:53:01.816Z"
   },
   {
    "duration": 104,
    "start_time": "2023-07-06T15:53:01.824Z"
   },
   {
    "duration": 23,
    "start_time": "2023-07-06T15:53:01.931Z"
   },
   {
    "duration": 81,
    "start_time": "2023-07-06T15:53:01.957Z"
   },
   {
    "duration": 43,
    "start_time": "2023-07-06T15:53:02.041Z"
   },
   {
    "duration": 32,
    "start_time": "2023-07-06T15:53:02.086Z"
   },
   {
    "duration": 74,
    "start_time": "2023-07-06T15:53:02.120Z"
   },
   {
    "duration": 33,
    "start_time": "2023-07-06T15:53:02.196Z"
   },
   {
    "duration": 20,
    "start_time": "2023-07-06T15:53:02.231Z"
   },
   {
    "duration": 41,
    "start_time": "2023-07-06T15:53:02.253Z"
   },
   {
    "duration": 31,
    "start_time": "2023-07-06T15:53:02.297Z"
   },
   {
    "duration": 27,
    "start_time": "2023-07-06T15:53:02.331Z"
   },
   {
    "duration": 42,
    "start_time": "2023-07-06T15:53:02.360Z"
   },
   {
    "duration": 4,
    "start_time": "2023-07-06T15:53:02.405Z"
   },
   {
    "duration": 25,
    "start_time": "2023-07-06T15:53:02.412Z"
   },
   {
    "duration": 33,
    "start_time": "2023-07-06T15:53:02.439Z"
   },
   {
    "duration": 15,
    "start_time": "2023-07-06T15:53:02.475Z"
   },
   {
    "duration": 17,
    "start_time": "2023-07-06T15:53:02.495Z"
   },
   {
    "duration": 28,
    "start_time": "2023-07-06T15:53:02.515Z"
   },
   {
    "duration": 9,
    "start_time": "2023-07-06T15:53:02.545Z"
   },
   {
    "duration": 32,
    "start_time": "2023-07-06T15:53:02.556Z"
   },
   {
    "duration": 19,
    "start_time": "2023-07-06T15:53:02.590Z"
   },
   {
    "duration": 27,
    "start_time": "2023-07-06T15:53:02.612Z"
   },
   {
    "duration": 9,
    "start_time": "2023-07-06T15:53:02.641Z"
   },
   {
    "duration": 29,
    "start_time": "2023-07-06T15:53:02.658Z"
   },
   {
    "duration": 9,
    "start_time": "2023-07-06T15:53:02.689Z"
   },
   {
    "duration": 21,
    "start_time": "2023-07-06T15:53:02.700Z"
   },
   {
    "duration": 58,
    "start_time": "2023-07-06T15:53:02.723Z"
   },
   {
    "duration": 22,
    "start_time": "2023-07-06T15:53:02.785Z"
   },
   {
    "duration": 158,
    "start_time": "2023-07-06T15:53:02.808Z"
   },
   {
    "duration": 24,
    "start_time": "2023-07-06T15:53:02.968Z"
   },
   {
    "duration": 5,
    "start_time": "2023-07-06T15:53:02.994Z"
   },
   {
    "duration": 207,
    "start_time": "2023-07-06T15:53:03.001Z"
   },
   {
    "duration": 195,
    "start_time": "2023-07-06T15:53:03.210Z"
   },
   {
    "duration": 245,
    "start_time": "2023-07-06T15:53:03.407Z"
   },
   {
    "duration": 204,
    "start_time": "2023-07-06T15:53:03.658Z"
   },
   {
    "duration": 207,
    "start_time": "2023-07-06T15:53:03.863Z"
   },
   {
    "duration": 192,
    "start_time": "2023-07-06T15:53:04.072Z"
   },
   {
    "duration": 215,
    "start_time": "2023-07-06T15:53:04.266Z"
   },
   {
    "duration": 303,
    "start_time": "2023-07-06T15:53:04.484Z"
   },
   {
    "duration": 158,
    "start_time": "2023-07-06T15:53:04.789Z"
   },
   {
    "duration": 197,
    "start_time": "2023-07-06T15:53:04.949Z"
   },
   {
    "duration": 292,
    "start_time": "2023-07-06T15:53:05.148Z"
   },
   {
    "duration": 17,
    "start_time": "2023-07-06T15:53:05.442Z"
   },
   {
    "duration": 423,
    "start_time": "2023-07-06T15:53:05.462Z"
   },
   {
    "duration": 340,
    "start_time": "2023-07-06T15:53:05.886Z"
   },
   {
    "duration": 6,
    "start_time": "2023-07-06T15:53:06.228Z"
   },
   {
    "duration": 161,
    "start_time": "2023-07-06T15:53:06.236Z"
   },
   {
    "duration": 5,
    "start_time": "2023-07-06T15:53:06.398Z"
   },
   {
    "duration": 16,
    "start_time": "2023-07-06T15:53:06.404Z"
   },
   {
    "duration": 12,
    "start_time": "2023-07-06T15:53:06.422Z"
   },
   {
    "duration": 6,
    "start_time": "2023-07-06T15:53:06.436Z"
   },
   {
    "duration": 21,
    "start_time": "2023-07-06T15:53:06.444Z"
   },
   {
    "duration": 226,
    "start_time": "2023-07-06T15:53:06.468Z"
   },
   {
    "duration": 15,
    "start_time": "2023-07-06T15:53:06.696Z"
   },
   {
    "duration": 244,
    "start_time": "2023-07-06T15:53:06.713Z"
   },
   {
    "duration": 20,
    "start_time": "2023-07-06T15:53:06.959Z"
   },
   {
    "duration": 247,
    "start_time": "2023-07-06T15:53:06.981Z"
   },
   {
    "duration": 16,
    "start_time": "2023-07-06T15:53:07.230Z"
   },
   {
    "duration": 342,
    "start_time": "2023-07-06T15:53:07.259Z"
   },
   {
    "duration": 220,
    "start_time": "2023-07-06T15:53:07.603Z"
   },
   {
    "duration": 229,
    "start_time": "2023-07-06T15:53:07.825Z"
   },
   {
    "duration": 223,
    "start_time": "2023-07-06T15:53:08.059Z"
   },
   {
    "duration": 212,
    "start_time": "2023-07-06T15:53:08.284Z"
   },
   {
    "duration": 12,
    "start_time": "2023-07-06T15:53:08.498Z"
   },
   {
    "duration": 12,
    "start_time": "2023-07-06T15:53:08.512Z"
   },
   {
    "duration": 8,
    "start_time": "2023-07-06T15:58:38.528Z"
   },
   {
    "duration": 353,
    "start_time": "2023-07-06T15:58:40.943Z"
   },
   {
    "duration": 257,
    "start_time": "2023-07-06T15:58:44.761Z"
   },
   {
    "duration": 7,
    "start_time": "2023-07-06T15:58:48.306Z"
   },
   {
    "duration": 142,
    "start_time": "2023-07-06T15:58:49.209Z"
   },
   {
    "duration": 12,
    "start_time": "2023-07-06T15:58:49.756Z"
   },
   {
    "duration": 10,
    "start_time": "2023-07-06T15:58:50.446Z"
   },
   {
    "duration": 6,
    "start_time": "2023-07-06T15:58:51.113Z"
   },
   {
    "duration": 4,
    "start_time": "2023-07-06T15:58:51.675Z"
   },
   {
    "duration": 9,
    "start_time": "2023-07-06T15:58:52.133Z"
   },
   {
    "duration": 208,
    "start_time": "2023-07-06T15:58:54.803Z"
   },
   {
    "duration": 13,
    "start_time": "2023-07-06T16:16:34.925Z"
   },
   {
    "duration": 13,
    "start_time": "2023-07-06T16:16:51.316Z"
   },
   {
    "duration": 219,
    "start_time": "2023-07-06T16:17:13.813Z"
   },
   {
    "duration": 356,
    "start_time": "2023-07-06T16:17:37.954Z"
   },
   {
    "duration": 239,
    "start_time": "2023-07-06T16:19:34.761Z"
   },
   {
    "duration": 232,
    "start_time": "2023-07-06T16:19:40.724Z"
   },
   {
    "duration": 122,
    "start_time": "2023-07-06T16:35:55.070Z"
   },
   {
    "duration": 127,
    "start_time": "2023-07-06T16:36:34.419Z"
   },
   {
    "duration": 134,
    "start_time": "2023-07-06T16:36:40.351Z"
   },
   {
    "duration": 130,
    "start_time": "2023-07-06T16:36:46.199Z"
   },
   {
    "duration": 127,
    "start_time": "2023-07-06T16:37:26.015Z"
   },
   {
    "duration": 128,
    "start_time": "2023-07-06T16:39:51.519Z"
   },
   {
    "duration": 140,
    "start_time": "2023-07-06T17:04:44.034Z"
   },
   {
    "duration": 131,
    "start_time": "2023-07-06T17:05:47.401Z"
   },
   {
    "duration": 122,
    "start_time": "2023-07-06T17:07:50.529Z"
   },
   {
    "duration": 1371,
    "start_time": "2023-07-06T18:43:35.551Z"
   },
   {
    "duration": 153,
    "start_time": "2023-07-06T18:43:36.924Z"
   },
   {
    "duration": 33,
    "start_time": "2023-07-06T18:43:37.079Z"
   },
   {
    "duration": 16,
    "start_time": "2023-07-06T18:43:37.120Z"
   },
   {
    "duration": 21,
    "start_time": "2023-07-06T18:43:37.138Z"
   },
   {
    "duration": 4,
    "start_time": "2023-07-06T18:43:37.161Z"
   },
   {
    "duration": 25,
    "start_time": "2023-07-06T18:43:37.166Z"
   },
   {
    "duration": 12,
    "start_time": "2023-07-06T18:43:37.194Z"
   },
   {
    "duration": 19,
    "start_time": "2023-07-06T18:43:37.209Z"
   },
   {
    "duration": 23,
    "start_time": "2023-07-06T18:43:37.230Z"
   },
   {
    "duration": 15,
    "start_time": "2023-07-06T18:43:37.255Z"
   },
   {
    "duration": 13,
    "start_time": "2023-07-06T18:43:37.272Z"
   },
   {
    "duration": 76,
    "start_time": "2023-07-06T18:43:37.286Z"
   },
   {
    "duration": 3,
    "start_time": "2023-07-06T18:43:37.364Z"
   },
   {
    "duration": 15,
    "start_time": "2023-07-06T18:43:37.369Z"
   },
   {
    "duration": 21,
    "start_time": "2023-07-06T18:43:37.386Z"
   },
   {
    "duration": 16,
    "start_time": "2023-07-06T18:43:37.409Z"
   },
   {
    "duration": 10,
    "start_time": "2023-07-06T18:43:37.428Z"
   },
   {
    "duration": 9,
    "start_time": "2023-07-06T18:43:37.440Z"
   },
   {
    "duration": 12,
    "start_time": "2023-07-06T18:43:37.451Z"
   },
   {
    "duration": 18,
    "start_time": "2023-07-06T18:43:37.465Z"
   },
   {
    "duration": 24,
    "start_time": "2023-07-06T18:43:37.485Z"
   },
   {
    "duration": 37,
    "start_time": "2023-07-06T18:43:37.511Z"
   },
   {
    "duration": 3,
    "start_time": "2023-07-06T18:43:37.550Z"
   },
   {
    "duration": 15,
    "start_time": "2023-07-06T18:43:37.555Z"
   },
   {
    "duration": 9,
    "start_time": "2023-07-06T18:43:37.572Z"
   },
   {
    "duration": 24,
    "start_time": "2023-07-06T18:43:37.583Z"
   },
   {
    "duration": 31,
    "start_time": "2023-07-06T18:43:37.617Z"
   },
   {
    "duration": 23,
    "start_time": "2023-07-06T18:43:37.650Z"
   },
   {
    "duration": 158,
    "start_time": "2023-07-06T18:43:37.675Z"
   },
   {
    "duration": 19,
    "start_time": "2023-07-06T18:43:37.834Z"
   },
   {
    "duration": 5,
    "start_time": "2023-07-06T18:43:37.854Z"
   },
   {
    "duration": 209,
    "start_time": "2023-07-06T18:43:37.861Z"
   },
   {
    "duration": 180,
    "start_time": "2023-07-06T18:43:38.072Z"
   },
   {
    "duration": 197,
    "start_time": "2023-07-06T18:43:38.254Z"
   },
   {
    "duration": 171,
    "start_time": "2023-07-06T18:43:38.454Z"
   },
   {
    "duration": 193,
    "start_time": "2023-07-06T18:43:38.627Z"
   },
   {
    "duration": 175,
    "start_time": "2023-07-06T18:43:38.821Z"
   },
   {
    "duration": 171,
    "start_time": "2023-07-06T18:43:39.001Z"
   },
   {
    "duration": 278,
    "start_time": "2023-07-06T18:43:39.174Z"
   },
   {
    "duration": 166,
    "start_time": "2023-07-06T18:43:39.454Z"
   },
   {
    "duration": 196,
    "start_time": "2023-07-06T18:43:39.622Z"
   },
   {
    "duration": 269,
    "start_time": "2023-07-06T18:43:39.820Z"
   },
   {
    "duration": 21,
    "start_time": "2023-07-06T18:43:40.091Z"
   },
   {
    "duration": 413,
    "start_time": "2023-07-06T18:43:40.114Z"
   },
   {
    "duration": 295,
    "start_time": "2023-07-06T18:43:40.530Z"
   },
   {
    "duration": 260,
    "start_time": "2023-07-06T18:43:40.827Z"
   },
   {
    "duration": 6,
    "start_time": "2023-07-06T18:43:41.089Z"
   },
   {
    "duration": 156,
    "start_time": "2023-07-06T18:43:41.101Z"
   },
   {
    "duration": 142,
    "start_time": "2023-07-06T18:43:41.259Z"
   },
   {
    "duration": 246,
    "start_time": "2023-07-06T18:43:41.410Z"
   },
   {
    "duration": 149,
    "start_time": "2023-07-06T18:43:41.658Z"
   },
   {
    "duration": 143,
    "start_time": "2023-07-06T18:43:41.810Z"
   },
   {
    "duration": 5,
    "start_time": "2023-07-06T18:43:41.955Z"
   },
   {
    "duration": 25,
    "start_time": "2023-07-06T18:43:41.962Z"
   },
   {
    "duration": 25,
    "start_time": "2023-07-06T18:43:41.990Z"
   },
   {
    "duration": 12,
    "start_time": "2023-07-06T18:43:42.018Z"
   },
   {
    "duration": 11,
    "start_time": "2023-07-06T18:43:42.032Z"
   },
   {
    "duration": 199,
    "start_time": "2023-07-06T18:43:42.045Z"
   },
   {
    "duration": 15,
    "start_time": "2023-07-06T18:43:42.246Z"
   },
   {
    "duration": 242,
    "start_time": "2023-07-06T18:43:42.263Z"
   },
   {
    "duration": 22,
    "start_time": "2023-07-06T18:43:42.510Z"
   },
   {
    "duration": 204,
    "start_time": "2023-07-06T18:43:42.534Z"
   },
   {
    "duration": 15,
    "start_time": "2023-07-06T18:43:42.740Z"
   },
   {
    "duration": 214,
    "start_time": "2023-07-06T18:43:42.757Z"
   },
   {
    "duration": 241,
    "start_time": "2023-07-06T18:43:42.973Z"
   },
   {
    "duration": 226,
    "start_time": "2023-07-06T18:43:43.216Z"
   },
   {
    "duration": 260,
    "start_time": "2023-07-06T18:43:43.444Z"
   },
   {
    "duration": 211,
    "start_time": "2023-07-06T18:43:43.708Z"
   },
   {
    "duration": 11,
    "start_time": "2023-07-06T18:43:43.921Z"
   },
   {
    "duration": 16,
    "start_time": "2023-07-06T18:43:43.934Z"
   },
   {
    "duration": 6,
    "start_time": "2023-07-06T18:49:11.342Z"
   },
   {
    "duration": 4,
    "start_time": "2023-07-06T18:49:14.498Z"
   },
   {
    "duration": 9,
    "start_time": "2023-07-06T18:49:14.986Z"
   },
   {
    "duration": 15,
    "start_time": "2023-07-06T18:50:13.830Z"
   },
   {
    "duration": 21,
    "start_time": "2023-07-06T18:50:52.494Z"
   },
   {
    "duration": 14,
    "start_time": "2023-07-06T18:51:33.211Z"
   },
   {
    "duration": 14,
    "start_time": "2023-07-06T18:52:33.732Z"
   },
   {
    "duration": 16,
    "start_time": "2023-07-06T18:53:35.152Z"
   },
   {
    "duration": 244,
    "start_time": "2023-07-06T19:10:33.286Z"
   },
   {
    "duration": 227,
    "start_time": "2023-07-06T19:10:50.710Z"
   },
   {
    "duration": 368,
    "start_time": "2023-07-06T19:11:17.334Z"
   },
   {
    "duration": 132,
    "start_time": "2023-07-06T19:12:35.031Z"
   },
   {
    "duration": 3,
    "start_time": "2023-07-06T19:20:43.096Z"
   },
   {
    "duration": 105,
    "start_time": "2023-07-06T19:20:43.102Z"
   },
   {
    "duration": 18,
    "start_time": "2023-07-06T19:20:43.210Z"
   },
   {
    "duration": 37,
    "start_time": "2023-07-06T19:20:43.231Z"
   },
   {
    "duration": 37,
    "start_time": "2023-07-06T19:20:43.271Z"
   },
   {
    "duration": 4,
    "start_time": "2023-07-06T19:20:43.310Z"
   },
   {
    "duration": 27,
    "start_time": "2023-07-06T19:20:43.316Z"
   },
   {
    "duration": 13,
    "start_time": "2023-07-06T19:20:43.345Z"
   },
   {
    "duration": 15,
    "start_time": "2023-07-06T19:20:43.359Z"
   },
   {
    "duration": 34,
    "start_time": "2023-07-06T19:20:43.376Z"
   },
   {
    "duration": 16,
    "start_time": "2023-07-06T19:20:43.414Z"
   },
   {
    "duration": 19,
    "start_time": "2023-07-06T19:20:43.433Z"
   },
   {
    "duration": 52,
    "start_time": "2023-07-06T19:20:43.454Z"
   },
   {
    "duration": 5,
    "start_time": "2023-07-06T19:20:43.508Z"
   },
   {
    "duration": 18,
    "start_time": "2023-07-06T19:20:43.515Z"
   },
   {
    "duration": 37,
    "start_time": "2023-07-06T19:20:43.535Z"
   },
   {
    "duration": 18,
    "start_time": "2023-07-06T19:20:43.574Z"
   },
   {
    "duration": 12,
    "start_time": "2023-07-06T19:20:43.594Z"
   },
   {
    "duration": 9,
    "start_time": "2023-07-06T19:20:43.608Z"
   },
   {
    "duration": 9,
    "start_time": "2023-07-06T19:20:43.618Z"
   },
   {
    "duration": 29,
    "start_time": "2023-07-06T19:20:43.629Z"
   },
   {
    "duration": 39,
    "start_time": "2023-07-06T19:20:43.660Z"
   },
   {
    "duration": 28,
    "start_time": "2023-07-06T19:20:43.702Z"
   },
   {
    "duration": 8,
    "start_time": "2023-07-06T19:20:43.733Z"
   },
   {
    "duration": 17,
    "start_time": "2023-07-06T19:20:43.743Z"
   },
   {
    "duration": 18,
    "start_time": "2023-07-06T19:20:43.763Z"
   },
   {
    "duration": 20,
    "start_time": "2023-07-06T19:20:43.783Z"
   },
   {
    "duration": 18,
    "start_time": "2023-07-06T19:20:43.806Z"
   },
   {
    "duration": 19,
    "start_time": "2023-07-06T19:20:43.829Z"
   },
   {
    "duration": 235,
    "start_time": "2023-07-06T19:20:43.850Z"
   },
   {
    "duration": 36,
    "start_time": "2023-07-06T19:20:44.088Z"
   },
   {
    "duration": 5,
    "start_time": "2023-07-06T19:20:44.127Z"
   },
   {
    "duration": 197,
    "start_time": "2023-07-06T19:20:44.134Z"
   },
   {
    "duration": 180,
    "start_time": "2023-07-06T19:20:44.333Z"
   },
   {
    "duration": 210,
    "start_time": "2023-07-06T19:20:44.515Z"
   },
   {
    "duration": 230,
    "start_time": "2023-07-06T19:20:44.727Z"
   },
   {
    "duration": 211,
    "start_time": "2023-07-06T19:20:44.959Z"
   },
   {
    "duration": 200,
    "start_time": "2023-07-06T19:20:45.171Z"
   },
   {
    "duration": 209,
    "start_time": "2023-07-06T19:20:45.372Z"
   },
   {
    "duration": 178,
    "start_time": "2023-07-06T19:20:45.583Z"
   },
   {
    "duration": 196,
    "start_time": "2023-07-06T19:20:45.763Z"
   },
   {
    "duration": 201,
    "start_time": "2023-07-06T19:20:45.961Z"
   },
   {
    "duration": 279,
    "start_time": "2023-07-06T19:20:46.165Z"
   },
   {
    "duration": 8,
    "start_time": "2023-07-06T19:20:46.446Z"
   },
   {
    "duration": 346,
    "start_time": "2023-07-06T19:20:46.456Z"
   },
   {
    "duration": 463,
    "start_time": "2023-07-06T19:20:46.804Z"
   },
   {
    "duration": 279,
    "start_time": "2023-07-06T19:20:47.269Z"
   },
   {
    "duration": 10,
    "start_time": "2023-07-06T19:20:47.551Z"
   },
   {
    "duration": 155,
    "start_time": "2023-07-06T19:20:47.563Z"
   },
   {
    "duration": 15,
    "start_time": "2023-07-06T19:20:47.720Z"
   },
   {
    "duration": 170,
    "start_time": "2023-07-06T19:20:47.737Z"
   },
   {
    "duration": 18,
    "start_time": "2023-07-06T19:20:47.910Z"
   },
   {
    "duration": 156,
    "start_time": "2023-07-06T19:20:47.930Z"
   },
   {
    "duration": 21,
    "start_time": "2023-07-06T19:20:48.089Z"
   },
   {
    "duration": 155,
    "start_time": "2023-07-06T19:20:48.112Z"
   },
   {
    "duration": 17,
    "start_time": "2023-07-06T19:20:48.269Z"
   },
   {
    "duration": 162,
    "start_time": "2023-07-06T19:20:48.301Z"
   },
   {
    "duration": 16,
    "start_time": "2023-07-06T19:20:48.466Z"
   },
   {
    "duration": 242,
    "start_time": "2023-07-06T19:20:48.484Z"
   },
   {
    "duration": 137,
    "start_time": "2023-07-06T19:20:48.731Z"
   },
   {
    "duration": 0,
    "start_time": "2023-07-06T19:20:48.870Z"
   },
   {
    "duration": 0,
    "start_time": "2023-07-06T19:20:48.872Z"
   },
   {
    "duration": 0,
    "start_time": "2023-07-06T19:20:48.873Z"
   },
   {
    "duration": 0,
    "start_time": "2023-07-06T19:20:48.875Z"
   },
   {
    "duration": 0,
    "start_time": "2023-07-06T19:20:48.876Z"
   },
   {
    "duration": 0,
    "start_time": "2023-07-06T19:20:48.877Z"
   },
   {
    "duration": 0,
    "start_time": "2023-07-06T19:20:48.879Z"
   },
   {
    "duration": 0,
    "start_time": "2023-07-06T19:20:48.880Z"
   },
   {
    "duration": 0,
    "start_time": "2023-07-06T19:20:48.903Z"
   },
   {
    "duration": 0,
    "start_time": "2023-07-06T19:20:48.905Z"
   },
   {
    "duration": 0,
    "start_time": "2023-07-06T19:20:48.907Z"
   },
   {
    "duration": 0,
    "start_time": "2023-07-06T19:20:48.909Z"
   },
   {
    "duration": 19,
    "start_time": "2023-07-06T19:24:27.439Z"
   },
   {
    "duration": 132,
    "start_time": "2023-07-06T19:24:36.148Z"
   },
   {
    "duration": 135,
    "start_time": "2023-07-06T19:26:40.950Z"
   },
   {
    "duration": 238,
    "start_time": "2023-07-06T19:27:12.988Z"
   },
   {
    "duration": 250,
    "start_time": "2023-07-06T19:27:52.346Z"
   },
   {
    "duration": 240,
    "start_time": "2023-07-06T19:28:14.917Z"
   },
   {
    "duration": 443,
    "start_time": "2023-07-06T19:28:25.701Z"
   },
   {
    "duration": 274,
    "start_time": "2023-07-06T19:28:34.497Z"
   },
   {
    "duration": 265,
    "start_time": "2023-07-06T19:28:38.864Z"
   },
   {
    "duration": 7,
    "start_time": "2023-07-06T19:28:42.767Z"
   },
   {
    "duration": 321,
    "start_time": "2023-07-06T19:28:47.157Z"
   },
   {
    "duration": 258,
    "start_time": "2023-07-06T19:29:08.244Z"
   },
   {
    "duration": 310,
    "start_time": "2023-07-06T19:29:14.819Z"
   },
   {
    "duration": 375,
    "start_time": "2023-07-06T19:29:20.477Z"
   },
   {
    "duration": 383,
    "start_time": "2023-07-06T19:29:26.442Z"
   },
   {
    "duration": 321,
    "start_time": "2023-07-06T19:29:30.699Z"
   },
   {
    "duration": 523,
    "start_time": "2023-07-06T19:30:32.594Z"
   },
   {
    "duration": 260,
    "start_time": "2023-07-06T19:32:56.651Z"
   },
   {
    "duration": 17,
    "start_time": "2023-07-06T19:38:14.259Z"
   },
   {
    "duration": 268,
    "start_time": "2023-07-06T19:38:17.747Z"
   },
   {
    "duration": 18,
    "start_time": "2023-07-06T19:38:20.844Z"
   },
   {
    "duration": 282,
    "start_time": "2023-07-06T19:38:21.984Z"
   },
   {
    "duration": 19,
    "start_time": "2023-07-06T19:38:23.200Z"
   },
   {
    "duration": 205,
    "start_time": "2023-07-06T19:38:23.861Z"
   },
   {
    "duration": 220,
    "start_time": "2023-07-06T19:38:26.034Z"
   },
   {
    "duration": 246,
    "start_time": "2023-07-06T19:38:29.770Z"
   },
   {
    "duration": 198,
    "start_time": "2023-07-06T19:38:33.241Z"
   },
   {
    "duration": 169,
    "start_time": "2023-07-06T19:38:37.118Z"
   },
   {
    "duration": 5,
    "start_time": "2023-07-06T19:54:27.843Z"
   },
   {
    "duration": 6,
    "start_time": "2023-07-06T19:54:47.037Z"
   },
   {
    "duration": 4,
    "start_time": "2023-07-06T19:55:17.590Z"
   },
   {
    "duration": 6,
    "start_time": "2023-07-06T19:55:18.190Z"
   },
   {
    "duration": 3,
    "start_time": "2023-07-06T19:55:25.467Z"
   },
   {
    "duration": 71,
    "start_time": "2023-07-06T19:55:25.478Z"
   },
   {
    "duration": 18,
    "start_time": "2023-07-06T19:55:25.551Z"
   },
   {
    "duration": 21,
    "start_time": "2023-07-06T19:55:25.570Z"
   },
   {
    "duration": 14,
    "start_time": "2023-07-06T19:55:25.594Z"
   },
   {
    "duration": 7,
    "start_time": "2023-07-06T19:55:25.610Z"
   },
   {
    "duration": 25,
    "start_time": "2023-07-06T19:55:25.619Z"
   },
   {
    "duration": 16,
    "start_time": "2023-07-06T19:55:25.646Z"
   },
   {
    "duration": 17,
    "start_time": "2023-07-06T19:55:25.664Z"
   },
   {
    "duration": 15,
    "start_time": "2023-07-06T19:55:25.683Z"
   },
   {
    "duration": 14,
    "start_time": "2023-07-06T19:55:25.701Z"
   },
   {
    "duration": 12,
    "start_time": "2023-07-06T19:55:25.717Z"
   },
   {
    "duration": 20,
    "start_time": "2023-07-06T19:55:25.730Z"
   },
   {
    "duration": 3,
    "start_time": "2023-07-06T19:55:25.752Z"
   },
   {
    "duration": 8,
    "start_time": "2023-07-06T19:55:25.757Z"
   },
   {
    "duration": 37,
    "start_time": "2023-07-06T19:55:25.767Z"
   },
   {
    "duration": 6,
    "start_time": "2023-07-06T19:55:25.807Z"
   },
   {
    "duration": 8,
    "start_time": "2023-07-06T19:55:25.815Z"
   },
   {
    "duration": 9,
    "start_time": "2023-07-06T19:55:25.824Z"
   },
   {
    "duration": 10,
    "start_time": "2023-07-06T19:55:25.834Z"
   },
   {
    "duration": 7,
    "start_time": "2023-07-06T19:55:25.846Z"
   },
   {
    "duration": 6,
    "start_time": "2023-07-06T19:55:25.854Z"
   },
   {
    "duration": 49,
    "start_time": "2023-07-06T19:55:25.862Z"
   },
   {
    "duration": 30,
    "start_time": "2023-07-06T19:55:25.913Z"
   },
   {
    "duration": 25,
    "start_time": "2023-07-06T19:55:25.945Z"
   },
   {
    "duration": 4,
    "start_time": "2023-07-06T19:55:25.971Z"
   },
   {
    "duration": 16,
    "start_time": "2023-07-06T19:55:26.003Z"
   },
   {
    "duration": 11,
    "start_time": "2023-07-06T19:55:26.020Z"
   },
   {
    "duration": 12,
    "start_time": "2023-07-06T19:55:26.032Z"
   },
   {
    "duration": 25,
    "start_time": "2023-07-06T19:55:26.047Z"
   },
   {
    "duration": 18,
    "start_time": "2023-07-06T19:55:26.074Z"
   },
   {
    "duration": 142,
    "start_time": "2023-07-06T19:55:26.102Z"
   },
   {
    "duration": 19,
    "start_time": "2023-07-06T19:55:26.246Z"
   },
   {
    "duration": 5,
    "start_time": "2023-07-06T19:55:26.267Z"
   },
   {
    "duration": 205,
    "start_time": "2023-07-06T19:55:26.273Z"
   },
   {
    "duration": 184,
    "start_time": "2023-07-06T19:55:26.480Z"
   },
   {
    "duration": 186,
    "start_time": "2023-07-06T19:55:26.666Z"
   },
   {
    "duration": 170,
    "start_time": "2023-07-06T19:55:26.854Z"
   },
   {
    "duration": 178,
    "start_time": "2023-07-06T19:55:27.026Z"
   },
   {
    "duration": 170,
    "start_time": "2023-07-06T19:55:27.206Z"
   },
   {
    "duration": 163,
    "start_time": "2023-07-06T19:55:27.378Z"
   },
   {
    "duration": 174,
    "start_time": "2023-07-06T19:55:27.544Z"
   },
   {
    "duration": 151,
    "start_time": "2023-07-06T19:55:27.720Z"
   },
   {
    "duration": 185,
    "start_time": "2023-07-06T19:55:27.873Z"
   },
   {
    "duration": 254,
    "start_time": "2023-07-06T19:55:28.060Z"
   },
   {
    "duration": 8,
    "start_time": "2023-07-06T19:55:28.316Z"
   },
   {
    "duration": 531,
    "start_time": "2023-07-06T19:55:28.326Z"
   },
   {
    "duration": 255,
    "start_time": "2023-07-06T19:55:28.859Z"
   },
   {
    "duration": 248,
    "start_time": "2023-07-06T19:55:29.115Z"
   },
   {
    "duration": 7,
    "start_time": "2023-07-06T19:55:29.364Z"
   },
   {
    "duration": 139,
    "start_time": "2023-07-06T19:55:29.372Z"
   },
   {
    "duration": 14,
    "start_time": "2023-07-06T19:55:29.513Z"
   },
   {
    "duration": 153,
    "start_time": "2023-07-06T19:55:29.528Z"
   },
   {
    "duration": 27,
    "start_time": "2023-07-06T19:55:29.683Z"
   },
   {
    "duration": 145,
    "start_time": "2023-07-06T19:55:29.716Z"
   },
   {
    "duration": 14,
    "start_time": "2023-07-06T19:55:29.863Z"
   },
   {
    "duration": 157,
    "start_time": "2023-07-06T19:55:29.879Z"
   },
   {
    "duration": 13,
    "start_time": "2023-07-06T19:55:30.038Z"
   },
   {
    "duration": 178,
    "start_time": "2023-07-06T19:55:30.052Z"
   },
   {
    "duration": 13,
    "start_time": "2023-07-06T19:55:30.231Z"
   },
   {
    "duration": 226,
    "start_time": "2023-07-06T19:55:30.246Z"
   },
   {
    "duration": 334,
    "start_time": "2023-07-06T19:55:30.475Z"
   },
   {
    "duration": 16,
    "start_time": "2023-07-06T19:55:30.811Z"
   },
   {
    "duration": 251,
    "start_time": "2023-07-06T19:55:30.828Z"
   },
   {
    "duration": 23,
    "start_time": "2023-07-06T19:55:31.081Z"
   },
   {
    "duration": 233,
    "start_time": "2023-07-06T19:55:31.106Z"
   },
   {
    "duration": 15,
    "start_time": "2023-07-06T19:55:31.341Z"
   },
   {
    "duration": 227,
    "start_time": "2023-07-06T19:55:31.358Z"
   },
   {
    "duration": 223,
    "start_time": "2023-07-06T19:55:31.588Z"
   },
   {
    "duration": 239,
    "start_time": "2023-07-06T19:55:31.814Z"
   },
   {
    "duration": 221,
    "start_time": "2023-07-06T19:55:32.055Z"
   },
   {
    "duration": 198,
    "start_time": "2023-07-06T19:55:32.279Z"
   },
   {
    "duration": 10,
    "start_time": "2023-07-06T19:55:32.478Z"
   },
   {
    "duration": 24,
    "start_time": "2023-07-06T19:55:32.490Z"
   },
   {
    "duration": 5,
    "start_time": "2023-07-06T19:58:01.943Z"
   },
   {
    "duration": 6,
    "start_time": "2023-07-06T19:58:02.788Z"
   },
   {
    "duration": 3,
    "start_time": "2023-07-06T19:58:08.608Z"
   },
   {
    "duration": 111,
    "start_time": "2023-07-06T19:58:08.617Z"
   },
   {
    "duration": 17,
    "start_time": "2023-07-06T19:58:08.730Z"
   },
   {
    "duration": 22,
    "start_time": "2023-07-06T19:58:08.749Z"
   },
   {
    "duration": 19,
    "start_time": "2023-07-06T19:58:08.773Z"
   },
   {
    "duration": 15,
    "start_time": "2023-07-06T19:58:08.803Z"
   },
   {
    "duration": 21,
    "start_time": "2023-07-06T19:58:08.820Z"
   },
   {
    "duration": 5,
    "start_time": "2023-07-06T19:58:08.843Z"
   },
   {
    "duration": 6,
    "start_time": "2023-07-06T19:58:08.850Z"
   },
   {
    "duration": 18,
    "start_time": "2023-07-06T19:58:08.858Z"
   },
   {
    "duration": 27,
    "start_time": "2023-07-06T19:58:08.878Z"
   },
   {
    "duration": 11,
    "start_time": "2023-07-06T19:58:08.909Z"
   },
   {
    "duration": 17,
    "start_time": "2023-07-06T19:58:08.922Z"
   },
   {
    "duration": 6,
    "start_time": "2023-07-06T19:58:08.941Z"
   },
   {
    "duration": 15,
    "start_time": "2023-07-06T19:58:08.948Z"
   },
   {
    "duration": 37,
    "start_time": "2023-07-06T19:58:08.965Z"
   },
   {
    "duration": 7,
    "start_time": "2023-07-06T19:58:09.003Z"
   },
   {
    "duration": 7,
    "start_time": "2023-07-06T19:58:09.012Z"
   },
   {
    "duration": 8,
    "start_time": "2023-07-06T19:58:09.021Z"
   },
   {
    "duration": 21,
    "start_time": "2023-07-06T19:58:09.031Z"
   },
   {
    "duration": 8,
    "start_time": "2023-07-06T19:58:09.054Z"
   },
   {
    "duration": 21,
    "start_time": "2023-07-06T19:58:09.064Z"
   },
   {
    "duration": 28,
    "start_time": "2023-07-06T19:58:09.087Z"
   },
   {
    "duration": 32,
    "start_time": "2023-07-06T19:58:09.117Z"
   },
   {
    "duration": 22,
    "start_time": "2023-07-06T19:58:09.151Z"
   },
   {
    "duration": 4,
    "start_time": "2023-07-06T19:58:09.203Z"
   },
   {
    "duration": 31,
    "start_time": "2023-07-06T19:58:09.208Z"
   },
   {
    "duration": 8,
    "start_time": "2023-07-06T19:58:09.241Z"
   },
   {
    "duration": 9,
    "start_time": "2023-07-06T19:58:09.251Z"
   },
   {
    "duration": 19,
    "start_time": "2023-07-06T19:58:09.264Z"
   },
   {
    "duration": 36,
    "start_time": "2023-07-06T19:58:09.285Z"
   },
   {
    "duration": 140,
    "start_time": "2023-07-06T19:58:09.323Z"
   },
   {
    "duration": 18,
    "start_time": "2023-07-06T19:58:09.465Z"
   },
   {
    "duration": 20,
    "start_time": "2023-07-06T19:58:09.485Z"
   },
   {
    "duration": 199,
    "start_time": "2023-07-06T19:58:09.507Z"
   },
   {
    "duration": 176,
    "start_time": "2023-07-06T19:58:09.708Z"
   },
   {
    "duration": 201,
    "start_time": "2023-07-06T19:58:09.886Z"
   },
   {
    "duration": 173,
    "start_time": "2023-07-06T19:58:10.088Z"
   },
   {
    "duration": 223,
    "start_time": "2023-07-06T19:58:10.262Z"
   },
   {
    "duration": 464,
    "start_time": "2023-07-06T19:58:10.487Z"
   },
   {
    "duration": 181,
    "start_time": "2023-07-06T19:58:10.954Z"
   },
   {
    "duration": 186,
    "start_time": "2023-07-06T19:58:11.137Z"
   },
   {
    "duration": 166,
    "start_time": "2023-07-06T19:58:11.325Z"
   },
   {
    "duration": 187,
    "start_time": "2023-07-06T19:58:11.492Z"
   },
   {
    "duration": 253,
    "start_time": "2023-07-06T19:58:11.681Z"
   },
   {
    "duration": 8,
    "start_time": "2023-07-06T19:58:11.936Z"
   },
   {
    "duration": 335,
    "start_time": "2023-07-06T19:58:11.946Z"
   },
   {
    "duration": 255,
    "start_time": "2023-07-06T19:58:12.283Z"
   },
   {
    "duration": 254,
    "start_time": "2023-07-06T19:58:12.540Z"
   },
   {
    "duration": 10,
    "start_time": "2023-07-06T19:58:12.797Z"
   },
   {
    "duration": 143,
    "start_time": "2023-07-06T19:58:12.809Z"
   },
   {
    "duration": 14,
    "start_time": "2023-07-06T19:58:12.954Z"
   },
   {
    "duration": 158,
    "start_time": "2023-07-06T19:58:12.970Z"
   },
   {
    "duration": 14,
    "start_time": "2023-07-06T19:58:13.130Z"
   },
   {
    "duration": 164,
    "start_time": "2023-07-06T19:58:13.146Z"
   },
   {
    "duration": 14,
    "start_time": "2023-07-06T19:58:13.312Z"
   },
   {
    "duration": 148,
    "start_time": "2023-07-06T19:58:13.328Z"
   },
   {
    "duration": 14,
    "start_time": "2023-07-06T19:58:13.478Z"
   },
   {
    "duration": 159,
    "start_time": "2023-07-06T19:58:13.502Z"
   },
   {
    "duration": 14,
    "start_time": "2023-07-06T19:58:13.663Z"
   },
   {
    "duration": 226,
    "start_time": "2023-07-06T19:58:13.678Z"
   },
   {
    "duration": 315,
    "start_time": "2023-07-06T19:58:13.906Z"
   },
   {
    "duration": 21,
    "start_time": "2023-07-06T19:58:14.223Z"
   },
   {
    "duration": 216,
    "start_time": "2023-07-06T19:58:14.247Z"
   },
   {
    "duration": 15,
    "start_time": "2023-07-06T19:58:14.464Z"
   },
   {
    "duration": 212,
    "start_time": "2023-07-06T19:58:14.484Z"
   },
   {
    "duration": 21,
    "start_time": "2023-07-06T19:58:14.697Z"
   },
   {
    "duration": 192,
    "start_time": "2023-07-06T19:58:14.720Z"
   },
   {
    "duration": 222,
    "start_time": "2023-07-06T19:58:14.914Z"
   },
   {
    "duration": 235,
    "start_time": "2023-07-06T19:58:15.138Z"
   },
   {
    "duration": 221,
    "start_time": "2023-07-06T19:58:15.375Z"
   },
   {
    "duration": 193,
    "start_time": "2023-07-06T19:58:15.598Z"
   },
   {
    "duration": 14,
    "start_time": "2023-07-06T19:58:15.792Z"
   },
   {
    "duration": 9,
    "start_time": "2023-07-06T19:58:15.808Z"
   },
   {
    "duration": 3,
    "start_time": "2023-07-06T20:06:35.063Z"
   },
   {
    "duration": 68,
    "start_time": "2023-07-06T20:06:35.084Z"
   },
   {
    "duration": 18,
    "start_time": "2023-07-06T20:06:35.154Z"
   },
   {
    "duration": 20,
    "start_time": "2023-07-06T20:06:35.174Z"
   },
   {
    "duration": 20,
    "start_time": "2023-07-06T20:06:35.196Z"
   },
   {
    "duration": 3,
    "start_time": "2023-07-06T20:06:35.218Z"
   },
   {
    "duration": 28,
    "start_time": "2023-07-06T20:06:35.223Z"
   },
   {
    "duration": 4,
    "start_time": "2023-07-06T20:06:35.253Z"
   },
   {
    "duration": 16,
    "start_time": "2023-07-06T20:06:35.258Z"
   },
   {
    "duration": 35,
    "start_time": "2023-07-06T20:06:35.276Z"
   },
   {
    "duration": 15,
    "start_time": "2023-07-06T20:06:35.314Z"
   },
   {
    "duration": 10,
    "start_time": "2023-07-06T20:06:35.331Z"
   },
   {
    "duration": 32,
    "start_time": "2023-07-06T20:06:35.343Z"
   },
   {
    "duration": 4,
    "start_time": "2023-07-06T20:06:35.377Z"
   },
   {
    "duration": 8,
    "start_time": "2023-07-06T20:06:35.402Z"
   },
   {
    "duration": 16,
    "start_time": "2023-07-06T20:06:35.412Z"
   },
   {
    "duration": 20,
    "start_time": "2023-07-06T20:06:35.430Z"
   },
   {
    "duration": 10,
    "start_time": "2023-07-06T20:06:35.452Z"
   },
   {
    "duration": 14,
    "start_time": "2023-07-06T20:06:35.464Z"
   },
   {
    "duration": 17,
    "start_time": "2023-07-06T20:06:35.480Z"
   },
   {
    "duration": 8,
    "start_time": "2023-07-06T20:06:35.499Z"
   },
   {
    "duration": 6,
    "start_time": "2023-07-06T20:06:35.509Z"
   },
   {
    "duration": 19,
    "start_time": "2023-07-06T20:06:35.517Z"
   },
   {
    "duration": 20,
    "start_time": "2023-07-06T20:06:35.538Z"
   },
   {
    "duration": 49,
    "start_time": "2023-07-06T20:06:35.561Z"
   },
   {
    "duration": 4,
    "start_time": "2023-07-06T20:06:35.614Z"
   },
   {
    "duration": 22,
    "start_time": "2023-07-06T20:06:35.620Z"
   },
   {
    "duration": 10,
    "start_time": "2023-07-06T20:06:35.644Z"
   },
   {
    "duration": 26,
    "start_time": "2023-07-06T20:06:35.656Z"
   },
   {
    "duration": 21,
    "start_time": "2023-07-06T20:06:35.684Z"
   },
   {
    "duration": 20,
    "start_time": "2023-07-06T20:06:35.706Z"
   },
   {
    "duration": 146,
    "start_time": "2023-07-06T20:06:35.728Z"
   },
   {
    "duration": 28,
    "start_time": "2023-07-06T20:06:35.875Z"
   },
   {
    "duration": 7,
    "start_time": "2023-07-06T20:06:35.905Z"
   },
   {
    "duration": 194,
    "start_time": "2023-07-06T20:06:35.914Z"
   },
   {
    "duration": 178,
    "start_time": "2023-07-06T20:06:36.110Z"
   },
   {
    "duration": 212,
    "start_time": "2023-07-06T20:06:36.290Z"
   },
   {
    "duration": 166,
    "start_time": "2023-07-06T20:06:36.504Z"
   },
   {
    "duration": 432,
    "start_time": "2023-07-06T20:06:36.672Z"
   },
   {
    "duration": 176,
    "start_time": "2023-07-06T20:06:37.106Z"
   },
   {
    "duration": 165,
    "start_time": "2023-07-06T20:06:37.284Z"
   },
   {
    "duration": 163,
    "start_time": "2023-07-06T20:06:37.451Z"
   },
   {
    "duration": 148,
    "start_time": "2023-07-06T20:06:37.616Z"
   },
   {
    "duration": 172,
    "start_time": "2023-07-06T20:06:37.766Z"
   },
   {
    "duration": 249,
    "start_time": "2023-07-06T20:06:37.940Z"
   },
   {
    "duration": 13,
    "start_time": "2023-07-06T20:06:38.191Z"
   },
   {
    "duration": 326,
    "start_time": "2023-07-06T20:06:38.208Z"
   },
   {
    "duration": 238,
    "start_time": "2023-07-06T20:06:38.536Z"
   },
   {
    "duration": 251,
    "start_time": "2023-07-06T20:06:38.775Z"
   },
   {
    "duration": 7,
    "start_time": "2023-07-06T20:06:39.028Z"
   },
   {
    "duration": 146,
    "start_time": "2023-07-06T20:06:39.036Z"
   },
   {
    "duration": 24,
    "start_time": "2023-07-06T20:06:39.184Z"
   },
   {
    "duration": 140,
    "start_time": "2023-07-06T20:06:39.210Z"
   },
   {
    "duration": 13,
    "start_time": "2023-07-06T20:06:39.352Z"
   },
   {
    "duration": 148,
    "start_time": "2023-07-06T20:06:39.367Z"
   },
   {
    "duration": 15,
    "start_time": "2023-07-06T20:06:39.516Z"
   },
   {
    "duration": 141,
    "start_time": "2023-07-06T20:06:39.533Z"
   },
   {
    "duration": 27,
    "start_time": "2023-07-06T20:06:39.676Z"
   },
   {
    "duration": 128,
    "start_time": "2023-07-06T20:06:39.704Z"
   },
   {
    "duration": 13,
    "start_time": "2023-07-06T20:06:39.834Z"
   },
   {
    "duration": 206,
    "start_time": "2023-07-06T20:06:39.849Z"
   },
   {
    "duration": 260,
    "start_time": "2023-07-06T20:06:40.058Z"
   },
   {
    "duration": 16,
    "start_time": "2023-07-06T20:06:40.320Z"
   },
   {
    "duration": 256,
    "start_time": "2023-07-06T20:06:40.339Z"
   },
   {
    "duration": 16,
    "start_time": "2023-07-06T20:06:40.601Z"
   },
   {
    "duration": 203,
    "start_time": "2023-07-06T20:06:40.620Z"
   },
   {
    "duration": 16,
    "start_time": "2023-07-06T20:06:40.826Z"
   },
   {
    "duration": 188,
    "start_time": "2023-07-06T20:06:40.844Z"
   },
   {
    "duration": 239,
    "start_time": "2023-07-06T20:06:41.034Z"
   },
   {
    "duration": 212,
    "start_time": "2023-07-06T20:06:41.275Z"
   },
   {
    "duration": 212,
    "start_time": "2023-07-06T20:06:41.489Z"
   },
   {
    "duration": 181,
    "start_time": "2023-07-06T20:06:41.703Z"
   },
   {
    "duration": 17,
    "start_time": "2023-07-06T20:06:41.886Z"
   },
   {
    "duration": 12,
    "start_time": "2023-07-06T20:06:41.905Z"
   },
   {
    "duration": 10,
    "start_time": "2023-07-06T20:09:21.506Z"
   },
   {
    "duration": 11,
    "start_time": "2023-07-06T20:09:27.584Z"
   },
   {
    "duration": 1167,
    "start_time": "2023-07-06T20:13:24.451Z"
   },
   {
    "duration": 71,
    "start_time": "2023-07-06T20:13:25.620Z"
   },
   {
    "duration": 23,
    "start_time": "2023-07-06T20:13:25.692Z"
   },
   {
    "duration": 16,
    "start_time": "2023-07-06T20:13:25.717Z"
   },
   {
    "duration": 22,
    "start_time": "2023-07-06T20:13:25.736Z"
   },
   {
    "duration": 15,
    "start_time": "2023-07-06T20:13:25.761Z"
   },
   {
    "duration": 32,
    "start_time": "2023-07-06T20:13:25.778Z"
   },
   {
    "duration": 5,
    "start_time": "2023-07-06T20:13:25.812Z"
   },
   {
    "duration": 9,
    "start_time": "2023-07-06T20:13:25.819Z"
   },
   {
    "duration": 21,
    "start_time": "2023-07-06T20:13:25.832Z"
   },
   {
    "duration": 16,
    "start_time": "2023-07-06T20:13:25.855Z"
   },
   {
    "duration": 41,
    "start_time": "2023-07-06T20:13:25.873Z"
   },
   {
    "duration": 64,
    "start_time": "2023-07-06T20:13:25.916Z"
   },
   {
    "duration": 22,
    "start_time": "2023-07-06T20:13:25.982Z"
   },
   {
    "duration": 6,
    "start_time": "2023-07-06T20:13:26.007Z"
   },
   {
    "duration": 15,
    "start_time": "2023-07-06T20:13:26.015Z"
   },
   {
    "duration": 15,
    "start_time": "2023-07-06T20:13:26.033Z"
   },
   {
    "duration": 11,
    "start_time": "2023-07-06T20:13:26.049Z"
   },
   {
    "duration": 18,
    "start_time": "2023-07-06T20:13:26.063Z"
   },
   {
    "duration": 10,
    "start_time": "2023-07-06T20:13:26.083Z"
   },
   {
    "duration": 8,
    "start_time": "2023-07-06T20:13:26.095Z"
   },
   {
    "duration": 25,
    "start_time": "2023-07-06T20:13:26.104Z"
   },
   {
    "duration": 55,
    "start_time": "2023-07-06T20:13:26.131Z"
   },
   {
    "duration": 40,
    "start_time": "2023-07-06T20:13:26.187Z"
   },
   {
    "duration": 21,
    "start_time": "2023-07-06T20:13:26.229Z"
   },
   {
    "duration": 4,
    "start_time": "2023-07-06T20:13:26.252Z"
   },
   {
    "duration": 30,
    "start_time": "2023-07-06T20:13:26.257Z"
   },
   {
    "duration": 14,
    "start_time": "2023-07-06T20:13:26.292Z"
   },
   {
    "duration": 9,
    "start_time": "2023-07-06T20:13:26.308Z"
   },
   {
    "duration": 28,
    "start_time": "2023-07-06T20:13:26.318Z"
   },
   {
    "duration": 28,
    "start_time": "2023-07-06T20:13:26.347Z"
   },
   {
    "duration": 164,
    "start_time": "2023-07-06T20:13:26.377Z"
   },
   {
    "duration": 22,
    "start_time": "2023-07-06T20:13:26.543Z"
   },
   {
    "duration": 4,
    "start_time": "2023-07-06T20:13:26.567Z"
   },
   {
    "duration": 192,
    "start_time": "2023-07-06T20:13:26.573Z"
   },
   {
    "duration": 192,
    "start_time": "2023-07-06T20:13:26.767Z"
   },
   {
    "duration": 183,
    "start_time": "2023-07-06T20:13:26.961Z"
   },
   {
    "duration": 182,
    "start_time": "2023-07-06T20:13:27.146Z"
   },
   {
    "duration": 176,
    "start_time": "2023-07-06T20:13:27.330Z"
   },
   {
    "duration": 175,
    "start_time": "2023-07-06T20:13:27.507Z"
   },
   {
    "duration": 166,
    "start_time": "2023-07-06T20:13:27.684Z"
   },
   {
    "duration": 247,
    "start_time": "2023-07-06T20:13:27.852Z"
   },
   {
    "duration": 155,
    "start_time": "2023-07-06T20:13:28.102Z"
   },
   {
    "duration": 231,
    "start_time": "2023-07-06T20:13:28.259Z"
   },
   {
    "duration": 274,
    "start_time": "2023-07-06T20:13:28.493Z"
   },
   {
    "duration": 7,
    "start_time": "2023-07-06T20:13:28.769Z"
   },
   {
    "duration": 482,
    "start_time": "2023-07-06T20:13:28.777Z"
   },
   {
    "duration": 275,
    "start_time": "2023-07-06T20:13:29.261Z"
   },
   {
    "duration": 253,
    "start_time": "2023-07-06T20:13:29.538Z"
   },
   {
    "duration": 10,
    "start_time": "2023-07-06T20:13:29.792Z"
   },
   {
    "duration": 141,
    "start_time": "2023-07-06T20:13:29.803Z"
   },
   {
    "duration": 14,
    "start_time": "2023-07-06T20:13:29.945Z"
   },
   {
    "duration": 155,
    "start_time": "2023-07-06T20:13:29.960Z"
   },
   {
    "duration": 15,
    "start_time": "2023-07-06T20:13:30.117Z"
   },
   {
    "duration": 256,
    "start_time": "2023-07-06T20:13:30.134Z"
   },
   {
    "duration": 19,
    "start_time": "2023-07-06T20:13:30.392Z"
   },
   {
    "duration": 171,
    "start_time": "2023-07-06T20:13:30.413Z"
   },
   {
    "duration": 18,
    "start_time": "2023-07-06T20:13:30.586Z"
   },
   {
    "duration": 209,
    "start_time": "2023-07-06T20:13:30.606Z"
   },
   {
    "duration": 17,
    "start_time": "2023-07-06T20:13:30.817Z"
   },
   {
    "duration": 241,
    "start_time": "2023-07-06T20:13:30.836Z"
   },
   {
    "duration": 290,
    "start_time": "2023-07-06T20:13:31.079Z"
   },
   {
    "duration": 32,
    "start_time": "2023-07-06T20:13:31.370Z"
   },
   {
    "duration": 214,
    "start_time": "2023-07-06T20:13:31.404Z"
   },
   {
    "duration": 16,
    "start_time": "2023-07-06T20:13:31.620Z"
   },
   {
    "duration": 229,
    "start_time": "2023-07-06T20:13:31.638Z"
   },
   {
    "duration": 15,
    "start_time": "2023-07-06T20:13:31.869Z"
   },
   {
    "duration": 204,
    "start_time": "2023-07-06T20:13:31.885Z"
   },
   {
    "duration": 248,
    "start_time": "2023-07-06T20:13:32.091Z"
   },
   {
    "duration": 272,
    "start_time": "2023-07-06T20:13:32.341Z"
   },
   {
    "duration": 229,
    "start_time": "2023-07-06T20:13:32.616Z"
   },
   {
    "duration": 200,
    "start_time": "2023-07-06T20:13:32.847Z"
   },
   {
    "duration": 12,
    "start_time": "2023-07-06T20:13:33.048Z"
   },
   {
    "duration": 40,
    "start_time": "2023-07-06T20:13:33.062Z"
   },
   {
    "duration": 5,
    "start_time": "2023-07-06T20:17:19.853Z"
   },
   {
    "duration": 7,
    "start_time": "2023-07-06T20:17:20.619Z"
   },
   {
    "duration": 5,
    "start_time": "2023-07-06T20:17:25.512Z"
   },
   {
    "duration": 3,
    "start_time": "2023-07-06T20:17:33.102Z"
   },
   {
    "duration": 74,
    "start_time": "2023-07-06T20:17:33.113Z"
   },
   {
    "duration": 34,
    "start_time": "2023-07-06T20:17:33.189Z"
   },
   {
    "duration": 30,
    "start_time": "2023-07-06T20:17:33.226Z"
   },
   {
    "duration": 28,
    "start_time": "2023-07-06T20:17:33.259Z"
   },
   {
    "duration": 5,
    "start_time": "2023-07-06T20:17:33.289Z"
   },
   {
    "duration": 30,
    "start_time": "2023-07-06T20:17:33.302Z"
   },
   {
    "duration": 5,
    "start_time": "2023-07-06T20:17:33.334Z"
   },
   {
    "duration": 6,
    "start_time": "2023-07-06T20:17:33.341Z"
   },
   {
    "duration": 16,
    "start_time": "2023-07-06T20:17:33.349Z"
   },
   {
    "duration": 44,
    "start_time": "2023-07-06T20:17:33.368Z"
   },
   {
    "duration": 14,
    "start_time": "2023-07-06T20:17:33.414Z"
   },
   {
    "duration": 17,
    "start_time": "2023-07-06T20:17:33.429Z"
   },
   {
    "duration": 5,
    "start_time": "2023-07-06T20:17:33.447Z"
   },
   {
    "duration": 11,
    "start_time": "2023-07-06T20:17:33.454Z"
   },
   {
    "duration": 7,
    "start_time": "2023-07-06T20:17:33.502Z"
   },
   {
    "duration": 7,
    "start_time": "2023-07-06T20:17:33.511Z"
   },
   {
    "duration": 12,
    "start_time": "2023-07-06T20:17:33.520Z"
   },
   {
    "duration": 18,
    "start_time": "2023-07-06T20:17:33.534Z"
   },
   {
    "duration": 13,
    "start_time": "2023-07-06T20:17:33.554Z"
   },
   {
    "duration": 36,
    "start_time": "2023-07-06T20:17:33.568Z"
   },
   {
    "duration": 12,
    "start_time": "2023-07-06T20:17:33.606Z"
   },
   {
    "duration": 27,
    "start_time": "2023-07-06T20:17:33.620Z"
   },
   {
    "duration": 39,
    "start_time": "2023-07-06T20:17:33.649Z"
   },
   {
    "duration": 60,
    "start_time": "2023-07-06T20:17:33.690Z"
   },
   {
    "duration": 4,
    "start_time": "2023-07-06T20:17:33.752Z"
   },
   {
    "duration": 21,
    "start_time": "2023-07-06T20:17:33.758Z"
   },
   {
    "duration": 16,
    "start_time": "2023-07-06T20:17:33.781Z"
   },
   {
    "duration": 7,
    "start_time": "2023-07-06T20:17:33.801Z"
   },
   {
    "duration": 15,
    "start_time": "2023-07-06T20:17:33.810Z"
   },
   {
    "duration": 20,
    "start_time": "2023-07-06T20:17:33.830Z"
   },
   {
    "duration": 186,
    "start_time": "2023-07-06T20:17:33.852Z"
   },
   {
    "duration": 23,
    "start_time": "2023-07-06T20:17:34.042Z"
   },
   {
    "duration": 6,
    "start_time": "2023-07-06T20:17:34.067Z"
   },
   {
    "duration": 340,
    "start_time": "2023-07-06T20:17:34.075Z"
   },
   {
    "duration": 186,
    "start_time": "2023-07-06T20:17:34.418Z"
   },
   {
    "duration": 202,
    "start_time": "2023-07-06T20:17:34.606Z"
   },
   {
    "duration": 202,
    "start_time": "2023-07-06T20:17:34.810Z"
   },
   {
    "duration": 192,
    "start_time": "2023-07-06T20:17:35.014Z"
   },
   {
    "duration": 174,
    "start_time": "2023-07-06T20:17:35.208Z"
   },
   {
    "duration": 178,
    "start_time": "2023-07-06T20:17:35.384Z"
   },
   {
    "duration": 186,
    "start_time": "2023-07-06T20:17:35.565Z"
   },
   {
    "duration": 162,
    "start_time": "2023-07-06T20:17:35.753Z"
   },
   {
    "duration": 195,
    "start_time": "2023-07-06T20:17:35.917Z"
   },
   {
    "duration": 267,
    "start_time": "2023-07-06T20:17:36.114Z"
   },
   {
    "duration": 8,
    "start_time": "2023-07-06T20:17:36.383Z"
   },
   {
    "duration": 361,
    "start_time": "2023-07-06T20:17:36.392Z"
   },
   {
    "duration": 249,
    "start_time": "2023-07-06T20:17:36.755Z"
   },
   {
    "duration": 407,
    "start_time": "2023-07-06T20:17:37.006Z"
   },
   {
    "duration": 7,
    "start_time": "2023-07-06T20:17:37.415Z"
   },
   {
    "duration": 166,
    "start_time": "2023-07-06T20:17:37.425Z"
   },
   {
    "duration": 17,
    "start_time": "2023-07-06T20:17:37.593Z"
   },
   {
    "duration": 150,
    "start_time": "2023-07-06T20:17:37.612Z"
   },
   {
    "duration": 13,
    "start_time": "2023-07-06T20:17:37.764Z"
   },
   {
    "duration": 154,
    "start_time": "2023-07-06T20:17:37.779Z"
   },
   {
    "duration": 12,
    "start_time": "2023-07-06T20:17:37.935Z"
   },
   {
    "duration": 156,
    "start_time": "2023-07-06T20:17:37.949Z"
   },
   {
    "duration": 13,
    "start_time": "2023-07-06T20:17:38.107Z"
   },
   {
    "duration": 165,
    "start_time": "2023-07-06T20:17:38.122Z"
   },
   {
    "duration": 17,
    "start_time": "2023-07-06T20:17:38.289Z"
   },
   {
    "duration": 200,
    "start_time": "2023-07-06T20:17:38.308Z"
   },
   {
    "duration": 267,
    "start_time": "2023-07-06T20:17:38.510Z"
   },
   {
    "duration": 24,
    "start_time": "2023-07-06T20:17:38.779Z"
   },
   {
    "duration": 214,
    "start_time": "2023-07-06T20:17:38.804Z"
   },
   {
    "duration": 16,
    "start_time": "2023-07-06T20:17:39.019Z"
   },
   {
    "duration": 221,
    "start_time": "2023-07-06T20:17:39.037Z"
   },
   {
    "duration": 16,
    "start_time": "2023-07-06T20:17:39.259Z"
   },
   {
    "duration": 199,
    "start_time": "2023-07-06T20:17:39.277Z"
   },
   {
    "duration": 228,
    "start_time": "2023-07-06T20:17:39.478Z"
   },
   {
    "duration": 235,
    "start_time": "2023-07-06T20:17:39.707Z"
   },
   {
    "duration": 219,
    "start_time": "2023-07-06T20:17:39.943Z"
   },
   {
    "duration": 211,
    "start_time": "2023-07-06T20:17:40.164Z"
   },
   {
    "duration": 14,
    "start_time": "2023-07-06T20:17:40.387Z"
   },
   {
    "duration": 55,
    "start_time": "2023-07-06T20:17:40.403Z"
   },
   {
    "duration": 1275,
    "start_time": "2023-07-07T04:14:46.512Z"
   },
   {
    "duration": 55,
    "start_time": "2023-07-07T04:14:47.789Z"
   },
   {
    "duration": 21,
    "start_time": "2023-07-07T04:14:47.846Z"
   },
   {
    "duration": 14,
    "start_time": "2023-07-07T04:14:47.868Z"
   },
   {
    "duration": 21,
    "start_time": "2023-07-07T04:14:47.884Z"
   },
   {
    "duration": 28,
    "start_time": "2023-07-07T04:14:47.907Z"
   },
   {
    "duration": 17,
    "start_time": "2023-07-07T04:14:47.937Z"
   },
   {
    "duration": 4,
    "start_time": "2023-07-07T04:14:47.955Z"
   },
   {
    "duration": 12,
    "start_time": "2023-07-07T04:14:47.960Z"
   },
   {
    "duration": 14,
    "start_time": "2023-07-07T04:14:47.973Z"
   },
   {
    "duration": 13,
    "start_time": "2023-07-07T04:14:47.988Z"
   },
   {
    "duration": 32,
    "start_time": "2023-07-07T04:14:48.002Z"
   },
   {
    "duration": 49,
    "start_time": "2023-07-07T04:14:48.036Z"
   },
   {
    "duration": 4,
    "start_time": "2023-07-07T04:14:48.087Z"
   },
   {
    "duration": 8,
    "start_time": "2023-07-07T04:14:48.092Z"
   },
   {
    "duration": 30,
    "start_time": "2023-07-07T04:14:48.102Z"
   },
   {
    "duration": 10,
    "start_time": "2023-07-07T04:14:48.134Z"
   },
   {
    "duration": 7,
    "start_time": "2023-07-07T04:14:48.145Z"
   },
   {
    "duration": 14,
    "start_time": "2023-07-07T04:14:48.154Z"
   },
   {
    "duration": 5,
    "start_time": "2023-07-07T04:14:48.170Z"
   },
   {
    "duration": 8,
    "start_time": "2023-07-07T04:14:48.176Z"
   },
   {
    "duration": 5,
    "start_time": "2023-07-07T04:14:48.186Z"
   },
   {
    "duration": 14,
    "start_time": "2023-07-07T04:14:48.193Z"
   },
   {
    "duration": 37,
    "start_time": "2023-07-07T04:14:48.209Z"
   },
   {
    "duration": 20,
    "start_time": "2023-07-07T04:14:48.248Z"
   },
   {
    "duration": 4,
    "start_time": "2023-07-07T04:14:48.269Z"
   },
   {
    "duration": 15,
    "start_time": "2023-07-07T04:14:48.275Z"
   },
   {
    "duration": 6,
    "start_time": "2023-07-07T04:14:48.292Z"
   },
   {
    "duration": 9,
    "start_time": "2023-07-07T04:14:48.299Z"
   },
   {
    "duration": 8,
    "start_time": "2023-07-07T04:14:48.332Z"
   },
   {
    "duration": 17,
    "start_time": "2023-07-07T04:14:48.342Z"
   },
   {
    "duration": 137,
    "start_time": "2023-07-07T04:14:48.361Z"
   },
   {
    "duration": 19,
    "start_time": "2023-07-07T04:14:48.499Z"
   },
   {
    "duration": 5,
    "start_time": "2023-07-07T04:14:48.531Z"
   },
   {
    "duration": 172,
    "start_time": "2023-07-07T04:14:48.537Z"
   },
   {
    "duration": 162,
    "start_time": "2023-07-07T04:14:48.711Z"
   },
   {
    "duration": 164,
    "start_time": "2023-07-07T04:14:48.875Z"
   },
   {
    "duration": 147,
    "start_time": "2023-07-07T04:14:49.041Z"
   },
   {
    "duration": 156,
    "start_time": "2023-07-07T04:14:49.190Z"
   },
   {
    "duration": 163,
    "start_time": "2023-07-07T04:14:49.347Z"
   },
   {
    "duration": 159,
    "start_time": "2023-07-07T04:14:49.514Z"
   },
   {
    "duration": 221,
    "start_time": "2023-07-07T04:14:49.675Z"
   },
   {
    "duration": 141,
    "start_time": "2023-07-07T04:14:49.897Z"
   },
   {
    "duration": 162,
    "start_time": "2023-07-07T04:14:50.039Z"
   },
   {
    "duration": 238,
    "start_time": "2023-07-07T04:14:50.203Z"
   },
   {
    "duration": 6,
    "start_time": "2023-07-07T04:14:50.442Z"
   },
   {
    "duration": 323,
    "start_time": "2023-07-07T04:14:50.450Z"
   },
   {
    "duration": 223,
    "start_time": "2023-07-07T04:14:50.774Z"
   },
   {
    "duration": 224,
    "start_time": "2023-07-07T04:14:50.999Z"
   },
   {
    "duration": 9,
    "start_time": "2023-07-07T04:14:51.225Z"
   },
   {
    "duration": 131,
    "start_time": "2023-07-07T04:14:51.235Z"
   },
   {
    "duration": 11,
    "start_time": "2023-07-07T04:14:51.367Z"
   },
   {
    "duration": 152,
    "start_time": "2023-07-07T04:14:51.379Z"
   },
   {
    "duration": 10,
    "start_time": "2023-07-07T04:14:51.533Z"
   },
   {
    "duration": 211,
    "start_time": "2023-07-07T04:14:51.545Z"
   },
   {
    "duration": 13,
    "start_time": "2023-07-07T04:14:51.757Z"
   },
   {
    "duration": 132,
    "start_time": "2023-07-07T04:14:51.771Z"
   },
   {
    "duration": 11,
    "start_time": "2023-07-07T04:14:51.905Z"
   },
   {
    "duration": 134,
    "start_time": "2023-07-07T04:14:51.917Z"
   },
   {
    "duration": 12,
    "start_time": "2023-07-07T04:14:52.052Z"
   },
   {
    "duration": 190,
    "start_time": "2023-07-07T04:14:52.065Z"
   },
   {
    "duration": 240,
    "start_time": "2023-07-07T04:14:52.256Z"
   },
   {
    "duration": 14,
    "start_time": "2023-07-07T04:14:52.497Z"
   },
   {
    "duration": 183,
    "start_time": "2023-07-07T04:14:52.513Z"
   },
   {
    "duration": 15,
    "start_time": "2023-07-07T04:14:52.698Z"
   },
   {
    "duration": 187,
    "start_time": "2023-07-07T04:14:52.715Z"
   },
   {
    "duration": 14,
    "start_time": "2023-07-07T04:14:52.904Z"
   },
   {
    "duration": 167,
    "start_time": "2023-07-07T04:14:52.919Z"
   },
   {
    "duration": 195,
    "start_time": "2023-07-07T04:14:53.089Z"
   },
   {
    "duration": 202,
    "start_time": "2023-07-07T04:14:53.285Z"
   },
   {
    "duration": 185,
    "start_time": "2023-07-07T04:14:53.489Z"
   },
   {
    "duration": 171,
    "start_time": "2023-07-07T04:14:53.676Z"
   },
   {
    "duration": 9,
    "start_time": "2023-07-07T04:14:53.849Z"
   },
   {
    "duration": 29,
    "start_time": "2023-07-07T04:14:53.859Z"
   },
   {
    "duration": 45,
    "start_time": "2023-07-07T07:18:38.363Z"
   },
   {
    "duration": 1258,
    "start_time": "2023-07-07T07:18:49.017Z"
   },
   {
    "duration": 94,
    "start_time": "2023-07-07T07:18:50.276Z"
   },
   {
    "duration": 19,
    "start_time": "2023-07-07T07:18:50.371Z"
   },
   {
    "duration": 14,
    "start_time": "2023-07-07T07:18:50.392Z"
   },
   {
    "duration": 48,
    "start_time": "2023-07-07T07:18:50.408Z"
   },
   {
    "duration": 20,
    "start_time": "2023-07-07T07:18:50.457Z"
   },
   {
    "duration": 24,
    "start_time": "2023-07-07T07:18:50.478Z"
   },
   {
    "duration": 16,
    "start_time": "2023-07-07T07:18:50.503Z"
   },
   {
    "duration": 6,
    "start_time": "2023-07-07T07:18:50.520Z"
   },
   {
    "duration": 16,
    "start_time": "2023-07-07T07:18:50.528Z"
   },
   {
    "duration": 20,
    "start_time": "2023-07-07T07:18:50.546Z"
   },
   {
    "duration": 38,
    "start_time": "2023-07-07T07:18:50.567Z"
   },
   {
    "duration": 80,
    "start_time": "2023-07-07T07:18:50.606Z"
   },
   {
    "duration": 4,
    "start_time": "2023-07-07T07:18:50.688Z"
   },
   {
    "duration": 12,
    "start_time": "2023-07-07T07:18:50.693Z"
   },
   {
    "duration": 7,
    "start_time": "2023-07-07T07:18:50.706Z"
   },
   {
    "duration": 10,
    "start_time": "2023-07-07T07:18:50.715Z"
   },
   {
    "duration": 9,
    "start_time": "2023-07-07T07:18:50.726Z"
   },
   {
    "duration": 8,
    "start_time": "2023-07-07T07:18:50.737Z"
   },
   {
    "duration": 20,
    "start_time": "2023-07-07T07:18:50.746Z"
   },
   {
    "duration": 19,
    "start_time": "2023-07-07T07:18:50.767Z"
   },
   {
    "duration": 10,
    "start_time": "2023-07-07T07:18:50.788Z"
   },
   {
    "duration": 21,
    "start_time": "2023-07-07T07:18:50.800Z"
   },
   {
    "duration": 42,
    "start_time": "2023-07-07T07:18:50.822Z"
   },
   {
    "duration": 33,
    "start_time": "2023-07-07T07:18:50.865Z"
   },
   {
    "duration": 4,
    "start_time": "2023-07-07T07:18:50.899Z"
   },
   {
    "duration": 20,
    "start_time": "2023-07-07T07:18:50.904Z"
   },
   {
    "duration": 6,
    "start_time": "2023-07-07T07:18:50.928Z"
   },
   {
    "duration": 16,
    "start_time": "2023-07-07T07:18:50.936Z"
   },
   {
    "duration": 24,
    "start_time": "2023-07-07T07:18:50.953Z"
   },
   {
    "duration": 18,
    "start_time": "2023-07-07T07:18:50.979Z"
   },
   {
    "duration": 128,
    "start_time": "2023-07-07T07:18:50.998Z"
   },
   {
    "duration": 17,
    "start_time": "2023-07-07T07:18:51.128Z"
   },
   {
    "duration": 20,
    "start_time": "2023-07-07T07:18:51.146Z"
   },
   {
    "duration": 149,
    "start_time": "2023-07-07T07:18:51.167Z"
   },
   {
    "duration": 145,
    "start_time": "2023-07-07T07:18:51.318Z"
   },
   {
    "duration": 159,
    "start_time": "2023-07-07T07:18:51.465Z"
   },
   {
    "duration": 151,
    "start_time": "2023-07-07T07:18:51.631Z"
   },
   {
    "duration": 150,
    "start_time": "2023-07-07T07:18:51.783Z"
   },
   {
    "duration": 146,
    "start_time": "2023-07-07T07:18:51.935Z"
   },
   {
    "duration": 148,
    "start_time": "2023-07-07T07:18:52.083Z"
   },
   {
    "duration": 205,
    "start_time": "2023-07-07T07:18:52.233Z"
   },
   {
    "duration": 136,
    "start_time": "2023-07-07T07:18:52.440Z"
   },
   {
    "duration": 160,
    "start_time": "2023-07-07T07:18:52.578Z"
   },
   {
    "duration": 225,
    "start_time": "2023-07-07T07:18:52.740Z"
   },
   {
    "duration": 7,
    "start_time": "2023-07-07T07:18:52.967Z"
   },
   {
    "duration": 305,
    "start_time": "2023-07-07T07:18:52.975Z"
   },
   {
    "duration": 217,
    "start_time": "2023-07-07T07:18:53.282Z"
   },
   {
    "duration": 218,
    "start_time": "2023-07-07T07:18:53.502Z"
   },
   {
    "duration": 14,
    "start_time": "2023-07-07T07:18:53.722Z"
   },
   {
    "duration": 120,
    "start_time": "2023-07-07T07:18:53.737Z"
   },
   {
    "duration": 12,
    "start_time": "2023-07-07T07:18:53.858Z"
   },
   {
    "duration": 148,
    "start_time": "2023-07-07T07:18:53.872Z"
   },
   {
    "duration": 18,
    "start_time": "2023-07-07T07:18:54.022Z"
   },
   {
    "duration": 208,
    "start_time": "2023-07-07T07:18:54.042Z"
   },
   {
    "duration": 12,
    "start_time": "2023-07-07T07:18:54.251Z"
   },
   {
    "duration": 132,
    "start_time": "2023-07-07T07:18:54.264Z"
   },
   {
    "duration": 12,
    "start_time": "2023-07-07T07:18:54.397Z"
   },
   {
    "duration": 126,
    "start_time": "2023-07-07T07:18:54.410Z"
   },
   {
    "duration": 11,
    "start_time": "2023-07-07T07:18:54.537Z"
   },
   {
    "duration": 192,
    "start_time": "2023-07-07T07:18:54.550Z"
   },
   {
    "duration": 290,
    "start_time": "2023-07-07T07:18:54.743Z"
   },
   {
    "duration": 14,
    "start_time": "2023-07-07T07:18:55.035Z"
   },
   {
    "duration": 342,
    "start_time": "2023-07-07T07:18:55.050Z"
   },
   {
    "duration": 13,
    "start_time": "2023-07-07T07:18:55.394Z"
   },
   {
    "duration": 187,
    "start_time": "2023-07-07T07:18:55.409Z"
   },
   {
    "duration": 14,
    "start_time": "2023-07-07T07:18:55.597Z"
   },
   {
    "duration": 185,
    "start_time": "2023-07-07T07:18:55.613Z"
   },
   {
    "duration": 191,
    "start_time": "2023-07-07T07:18:55.799Z"
   },
   {
    "duration": 188,
    "start_time": "2023-07-07T07:18:55.991Z"
   },
   {
    "duration": 185,
    "start_time": "2023-07-07T07:18:56.181Z"
   },
   {
    "duration": 165,
    "start_time": "2023-07-07T07:18:56.368Z"
   },
   {
    "duration": 8,
    "start_time": "2023-07-07T07:18:56.535Z"
   },
   {
    "duration": 24,
    "start_time": "2023-07-07T07:18:56.545Z"
   },
   {
    "duration": 123,
    "start_time": "2023-07-07T07:19:48.112Z"
   },
   {
    "duration": 206,
    "start_time": "2023-07-07T07:21:39.196Z"
   },
   {
    "duration": 142,
    "start_time": "2023-07-07T07:23:54.969Z"
   },
   {
    "duration": 115,
    "start_time": "2023-07-07T07:24:09.750Z"
   },
   {
    "duration": 147,
    "start_time": "2023-07-07T07:25:53.287Z"
   },
   {
    "duration": 123,
    "start_time": "2023-07-07T07:27:32.391Z"
   },
   {
    "duration": 115,
    "start_time": "2023-07-07T07:28:47.876Z"
   },
   {
    "duration": 118,
    "start_time": "2023-07-07T07:30:52.515Z"
   },
   {
    "duration": 247,
    "start_time": "2023-07-07T07:32:05.215Z"
   },
   {
    "duration": 152,
    "start_time": "2023-07-07T07:33:04.299Z"
   },
   {
    "duration": 195,
    "start_time": "2023-07-07T07:33:24.156Z"
   },
   {
    "duration": 133,
    "start_time": "2023-07-07T07:33:36.395Z"
   },
   {
    "duration": 165,
    "start_time": "2023-07-07T07:34:33.270Z"
   },
   {
    "duration": 3,
    "start_time": "2023-07-07T07:34:51.216Z"
   },
   {
    "duration": 136,
    "start_time": "2023-07-07T07:34:51.222Z"
   },
   {
    "duration": 17,
    "start_time": "2023-07-07T07:34:51.360Z"
   },
   {
    "duration": 18,
    "start_time": "2023-07-07T07:34:51.379Z"
   },
   {
    "duration": 19,
    "start_time": "2023-07-07T07:34:51.399Z"
   },
   {
    "duration": 16,
    "start_time": "2023-07-07T07:34:51.419Z"
   },
   {
    "duration": 46,
    "start_time": "2023-07-07T07:34:51.437Z"
   },
   {
    "duration": 24,
    "start_time": "2023-07-07T07:34:51.485Z"
   },
   {
    "duration": 9,
    "start_time": "2023-07-07T07:34:51.510Z"
   },
   {
    "duration": 54,
    "start_time": "2023-07-07T07:34:51.520Z"
   },
   {
    "duration": 23,
    "start_time": "2023-07-07T07:34:51.577Z"
   },
   {
    "duration": 20,
    "start_time": "2023-07-07T07:34:51.602Z"
   },
   {
    "duration": 56,
    "start_time": "2023-07-07T07:34:51.623Z"
   },
   {
    "duration": 16,
    "start_time": "2023-07-07T07:34:51.681Z"
   },
   {
    "duration": 24,
    "start_time": "2023-07-07T07:34:51.699Z"
   },
   {
    "duration": 49,
    "start_time": "2023-07-07T07:34:51.724Z"
   },
   {
    "duration": 23,
    "start_time": "2023-07-07T07:34:51.775Z"
   },
   {
    "duration": 54,
    "start_time": "2023-07-07T07:34:51.800Z"
   },
   {
    "duration": 33,
    "start_time": "2023-07-07T07:34:51.855Z"
   },
   {
    "duration": 18,
    "start_time": "2023-07-07T07:34:51.890Z"
   },
   {
    "duration": 35,
    "start_time": "2023-07-07T07:34:51.909Z"
   },
   {
    "duration": 32,
    "start_time": "2023-07-07T07:34:51.945Z"
   },
   {
    "duration": 27,
    "start_time": "2023-07-07T07:34:51.979Z"
   },
   {
    "duration": 65,
    "start_time": "2023-07-07T07:34:52.008Z"
   },
   {
    "duration": 20,
    "start_time": "2023-07-07T07:34:52.074Z"
   },
   {
    "duration": 7,
    "start_time": "2023-07-07T07:34:52.096Z"
   },
   {
    "duration": 56,
    "start_time": "2023-07-07T07:34:52.105Z"
   },
   {
    "duration": 27,
    "start_time": "2023-07-07T07:34:52.163Z"
   },
   {
    "duration": 17,
    "start_time": "2023-07-07T07:34:52.195Z"
   },
   {
    "duration": 63,
    "start_time": "2023-07-07T07:34:52.213Z"
   },
   {
    "duration": 28,
    "start_time": "2023-07-07T07:34:52.278Z"
   },
   {
    "duration": 148,
    "start_time": "2023-07-07T07:34:52.308Z"
   },
   {
    "duration": 18,
    "start_time": "2023-07-07T07:34:52.458Z"
   },
   {
    "duration": 39,
    "start_time": "2023-07-07T07:34:52.478Z"
   },
   {
    "duration": 205,
    "start_time": "2023-07-07T07:34:52.519Z"
   },
   {
    "duration": 163,
    "start_time": "2023-07-07T07:34:52.727Z"
   },
   {
    "duration": 198,
    "start_time": "2023-07-07T07:34:52.892Z"
   },
   {
    "duration": 298,
    "start_time": "2023-07-07T07:34:53.092Z"
   },
   {
    "duration": 193,
    "start_time": "2023-07-07T07:34:53.391Z"
   },
   {
    "duration": 172,
    "start_time": "2023-07-07T07:34:53.585Z"
   },
   {
    "duration": 184,
    "start_time": "2023-07-07T07:34:53.759Z"
   },
   {
    "duration": 170,
    "start_time": "2023-07-07T07:34:53.952Z"
   },
   {
    "duration": 175,
    "start_time": "2023-07-07T07:34:54.124Z"
   },
   {
    "duration": 179,
    "start_time": "2023-07-07T07:34:54.301Z"
   },
   {
    "duration": 284,
    "start_time": "2023-07-07T07:34:54.482Z"
   },
   {
    "duration": 7,
    "start_time": "2023-07-07T07:34:54.768Z"
   },
   {
    "duration": 474,
    "start_time": "2023-07-07T07:34:54.777Z"
   },
   {
    "duration": 259,
    "start_time": "2023-07-07T07:34:55.253Z"
   },
   {
    "duration": 275,
    "start_time": "2023-07-07T07:34:55.514Z"
   },
   {
    "duration": 164,
    "start_time": "2023-07-07T07:34:55.791Z"
   },
   {
    "duration": 13,
    "start_time": "2023-07-07T07:34:55.958Z"
   },
   {
    "duration": 153,
    "start_time": "2023-07-07T07:34:55.972Z"
   },
   {
    "duration": 26,
    "start_time": "2023-07-07T07:34:56.127Z"
   },
   {
    "duration": 161,
    "start_time": "2023-07-07T07:34:56.155Z"
   },
   {
    "duration": 30,
    "start_time": "2023-07-07T07:34:56.318Z"
   },
   {
    "duration": 304,
    "start_time": "2023-07-07T07:34:56.350Z"
   },
   {
    "duration": 17,
    "start_time": "2023-07-07T07:34:56.657Z"
   },
   {
    "duration": 149,
    "start_time": "2023-07-07T07:34:56.676Z"
   },
   {
    "duration": 25,
    "start_time": "2023-07-07T07:34:56.826Z"
   },
   {
    "duration": 260,
    "start_time": "2023-07-07T07:34:56.853Z"
   },
   {
    "duration": 308,
    "start_time": "2023-07-07T07:34:57.115Z"
   },
   {
    "duration": 28,
    "start_time": "2023-07-07T07:34:57.431Z"
   },
   {
    "duration": 260,
    "start_time": "2023-07-07T07:34:57.461Z"
   },
   {
    "duration": 26,
    "start_time": "2023-07-07T07:34:57.723Z"
   },
   {
    "duration": 238,
    "start_time": "2023-07-07T07:34:57.751Z"
   },
   {
    "duration": 16,
    "start_time": "2023-07-07T07:34:57.990Z"
   },
   {
    "duration": 222,
    "start_time": "2023-07-07T07:34:58.008Z"
   },
   {
    "duration": 244,
    "start_time": "2023-07-07T07:34:58.240Z"
   },
   {
    "duration": 279,
    "start_time": "2023-07-07T07:34:58.485Z"
   },
   {
    "duration": 239,
    "start_time": "2023-07-07T07:34:58.766Z"
   },
   {
    "duration": 208,
    "start_time": "2023-07-07T07:34:59.007Z"
   },
   {
    "duration": 23,
    "start_time": "2023-07-07T07:34:59.216Z"
   },
   {
    "duration": 16,
    "start_time": "2023-07-07T07:34:59.249Z"
   },
   {
    "duration": 1252,
    "start_time": "2023-07-07T08:44:14.642Z"
   },
   {
    "duration": 97,
    "start_time": "2023-07-07T08:44:15.896Z"
   },
   {
    "duration": 20,
    "start_time": "2023-07-07T08:44:15.994Z"
   },
   {
    "duration": 37,
    "start_time": "2023-07-07T08:44:16.016Z"
   },
   {
    "duration": 36,
    "start_time": "2023-07-07T08:44:16.055Z"
   },
   {
    "duration": 8,
    "start_time": "2023-07-07T08:44:16.093Z"
   },
   {
    "duration": 34,
    "start_time": "2023-07-07T08:44:16.102Z"
   },
   {
    "duration": 8,
    "start_time": "2023-07-07T08:44:16.137Z"
   },
   {
    "duration": 16,
    "start_time": "2023-07-07T08:44:16.147Z"
   },
   {
    "duration": 31,
    "start_time": "2023-07-07T08:44:16.165Z"
   },
   {
    "duration": 30,
    "start_time": "2023-07-07T08:44:16.197Z"
   },
   {
    "duration": 16,
    "start_time": "2023-07-07T08:44:16.228Z"
   },
   {
    "duration": 70,
    "start_time": "2023-07-07T08:44:16.245Z"
   },
   {
    "duration": 4,
    "start_time": "2023-07-07T08:44:16.316Z"
   },
   {
    "duration": 25,
    "start_time": "2023-07-07T08:44:16.321Z"
   },
   {
    "duration": 34,
    "start_time": "2023-07-07T08:44:16.347Z"
   },
   {
    "duration": 29,
    "start_time": "2023-07-07T08:44:16.383Z"
   },
   {
    "duration": 33,
    "start_time": "2023-07-07T08:44:16.414Z"
   },
   {
    "duration": 18,
    "start_time": "2023-07-07T08:44:16.449Z"
   },
   {
    "duration": 32,
    "start_time": "2023-07-07T08:44:16.469Z"
   },
   {
    "duration": 35,
    "start_time": "2023-07-07T08:44:16.503Z"
   },
   {
    "duration": 61,
    "start_time": "2023-07-07T08:44:16.540Z"
   },
   {
    "duration": 29,
    "start_time": "2023-07-07T08:44:16.603Z"
   },
   {
    "duration": 70,
    "start_time": "2023-07-07T08:44:16.633Z"
   },
   {
    "duration": 32,
    "start_time": "2023-07-07T08:44:16.704Z"
   },
   {
    "duration": 4,
    "start_time": "2023-07-07T08:44:16.738Z"
   },
   {
    "duration": 34,
    "start_time": "2023-07-07T08:44:16.744Z"
   },
   {
    "duration": 25,
    "start_time": "2023-07-07T08:44:16.782Z"
   },
   {
    "duration": 17,
    "start_time": "2023-07-07T08:44:16.809Z"
   },
   {
    "duration": 38,
    "start_time": "2023-07-07T08:44:16.828Z"
   },
   {
    "duration": 29,
    "start_time": "2023-07-07T08:44:16.867Z"
   },
   {
    "duration": 137,
    "start_time": "2023-07-07T08:44:16.898Z"
   },
   {
    "duration": 18,
    "start_time": "2023-07-07T08:44:17.037Z"
   },
   {
    "duration": 6,
    "start_time": "2023-07-07T08:44:17.057Z"
   },
   {
    "duration": 175,
    "start_time": "2023-07-07T08:44:17.064Z"
   },
   {
    "duration": 156,
    "start_time": "2023-07-07T08:44:17.241Z"
   },
   {
    "duration": 195,
    "start_time": "2023-07-07T08:44:17.399Z"
   },
   {
    "duration": 176,
    "start_time": "2023-07-07T08:44:17.596Z"
   },
   {
    "duration": 184,
    "start_time": "2023-07-07T08:44:17.774Z"
   },
   {
    "duration": 154,
    "start_time": "2023-07-07T08:44:17.959Z"
   },
   {
    "duration": 155,
    "start_time": "2023-07-07T08:44:18.114Z"
   },
   {
    "duration": 221,
    "start_time": "2023-07-07T08:44:18.271Z"
   },
   {
    "duration": 131,
    "start_time": "2023-07-07T08:44:18.494Z"
   },
   {
    "duration": 167,
    "start_time": "2023-07-07T08:44:18.631Z"
   },
   {
    "duration": 232,
    "start_time": "2023-07-07T08:44:18.800Z"
   },
   {
    "duration": 7,
    "start_time": "2023-07-07T08:44:19.033Z"
   },
   {
    "duration": 383,
    "start_time": "2023-07-07T08:44:19.042Z"
   },
   {
    "duration": 239,
    "start_time": "2023-07-07T08:44:19.427Z"
   },
   {
    "duration": 240,
    "start_time": "2023-07-07T08:44:19.668Z"
   },
   {
    "duration": 176,
    "start_time": "2023-07-07T08:44:19.910Z"
   },
   {
    "duration": 16,
    "start_time": "2023-07-07T08:44:20.087Z"
   },
   {
    "duration": 184,
    "start_time": "2023-07-07T08:44:20.105Z"
   },
   {
    "duration": 15,
    "start_time": "2023-07-07T08:44:20.291Z"
   },
   {
    "duration": 260,
    "start_time": "2023-07-07T08:44:20.308Z"
   },
   {
    "duration": 13,
    "start_time": "2023-07-07T08:44:20.570Z"
   },
   {
    "duration": 177,
    "start_time": "2023-07-07T08:44:20.584Z"
   },
   {
    "duration": 13,
    "start_time": "2023-07-07T08:44:20.763Z"
   },
   {
    "duration": 154,
    "start_time": "2023-07-07T08:44:20.778Z"
   },
   {
    "duration": 12,
    "start_time": "2023-07-07T08:44:20.934Z"
   },
   {
    "duration": 213,
    "start_time": "2023-07-07T08:44:20.948Z"
   },
   {
    "duration": 231,
    "start_time": "2023-07-07T08:44:21.164Z"
   },
   {
    "duration": 13,
    "start_time": "2023-07-07T08:44:21.396Z"
   },
   {
    "duration": 190,
    "start_time": "2023-07-07T08:44:21.411Z"
   },
   {
    "duration": 15,
    "start_time": "2023-07-07T08:44:21.603Z"
   },
   {
    "duration": 190,
    "start_time": "2023-07-07T08:44:21.620Z"
   },
   {
    "duration": 21,
    "start_time": "2023-07-07T08:44:21.812Z"
   },
   {
    "duration": 160,
    "start_time": "2023-07-07T08:44:21.835Z"
   },
   {
    "duration": 193,
    "start_time": "2023-07-07T08:44:21.997Z"
   },
   {
    "duration": 191,
    "start_time": "2023-07-07T08:44:22.192Z"
   },
   {
    "duration": 198,
    "start_time": "2023-07-07T08:44:22.385Z"
   },
   {
    "duration": 178,
    "start_time": "2023-07-07T08:44:22.585Z"
   },
   {
    "duration": 9,
    "start_time": "2023-07-07T08:44:22.765Z"
   },
   {
    "duration": 18,
    "start_time": "2023-07-07T08:44:22.775Z"
   }
  ],
  "kernelspec": {
   "display_name": "Python 3 (ipykernel)",
   "language": "python",
   "name": "python3"
  },
  "language_info": {
   "codemirror_mode": {
    "name": "ipython",
    "version": 3
   },
   "file_extension": ".py",
   "mimetype": "text/x-python",
   "name": "python",
   "nbconvert_exporter": "python",
   "pygments_lexer": "ipython3",
   "version": "3.9.5"
  },
  "toc": {
   "base_numbering": 1,
   "nav_menu": {},
   "number_sections": true,
   "sideBar": true,
   "skip_h1_title": true,
   "title_cell": "Table of Contents",
   "title_sidebar": "Contents",
   "toc_cell": false,
   "toc_position": {},
   "toc_section_display": true,
   "toc_window_display": false
  }
 },
 "nbformat": 4,
 "nbformat_minor": 2
}
